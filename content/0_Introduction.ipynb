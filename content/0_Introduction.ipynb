{
 "metadata": {
  "language_info": {
   "codemirror_mode": {
    "name": "python",
    "version": 3
   },
   "file_extension": ".py",
   "mimetype": "text/x-python",
   "name": "python",
   "nbconvert_exporter": "python",
   "pygments_lexer": "ipython3",
   "version": "3.8"
  },
  "kernelspec": {
   "name": "python",
   "display_name": "Python (Pyodide)",
   "language": "python"
  }
 },
 "nbformat_minor": 4,
 "nbformat": 4,
 "cells": [
  {
   "cell_type": "code",
   "source": [
    "print('hi')"
   ],
   "metadata": {
    "trusted": true
   },
   "execution_count": 1,
   "outputs": [
    {
     "name": "stdout",
     "text": "hi\n",
     "output_type": "stream"
    }
   ]
  },
  {
   "cell_type": "code",
   "source": [
    "print('bye')"
   ],
   "metadata": {
    "trusted": true
   },
   "execution_count": 2,
   "outputs": [
    {
     "name": "stdout",
     "text": "bye\n",
     "output_type": "stream"
    }
   ]
  },
  {
   "cell_type": "code",
   "source": [
    "import os\n",
    "\n",
    "os.getcwd()"
   ],
   "metadata": {
    "trusted": true
   },
   "execution_count": 4,
   "outputs": [
    {
     "execution_count": 4,
     "output_type": "execute_result",
     "data": {
      "text/plain": "'/drive'"
     },
     "metadata": {}
    }
   ]
  },
  {
   "cell_type": "code",
   "source": [
    "from pyodide.ffi import to_js\n",
    "from IPython.display import JSON\n",
    "from js import Object\n",
    "import json"
   ],
   "metadata": {
    "trusted": true
   },
   "execution_count": null,
   "outputs": []
  },
  {
   "cell_type": "code",
   "source": [
    "import sys\n",
    "#sys.path.append('/drive/helper.py')\n",
    "\n",
    "from helper import jlite_post "
   ],
   "metadata": {
    "trusted": true
   },
   "execution_count": null,
   "outputs": []
  },
  {
   "cell_type": "code",
   "source": [
    "import glob\n",
    "\n",
    "g = glob.glob('./*')\n",
    "g"
   ],
   "metadata": {
    "trusted": true
   },
   "execution_count": 6,
   "outputs": [
    {
     "execution_count": 6,
     "output_type": "execute_result",
     "data": {
      "text/plain": "['./Test.ipynb',\n './Untitled.ipynb',\n './Untitled1.ipynb',\n './Untitled2.ipynb',\n './Untitled4.ipynb',\n './Untitled5.ipynb',\n './Untitled6.ipynb',\n './__init__.py',\n './dna',\n './README.md',\n './protein',\n './helpers']"
     },
     "metadata": {}
    }
   ]
  },
  {
   "cell_type": "code",
   "source": [
    "os.path.abspath(g[0])"
   ],
   "metadata": {
    "trusted": true
   },
   "execution_count": 8,
   "outputs": [
    {
     "execution_count": 8,
     "output_type": "execute_result",
     "data": {
      "text/plain": "'/drive/Test.ipynb'"
     },
     "metadata": {}
    }
   ]
  },
  {
   "cell_type": "code",
   "execution_count": null,
   "outputs": [],
   "source": [
    "from helpers import jlite_post as jlite_post2"
   ],
   "metadata": {
    "collapsed": false
   }
  },
  {
   "cell_type": "code",
   "source": [
    "async def jlite_post(model_slug, action, data, api_token):\n",
    "    from pyodide.ffi import to_js\n",
    "    from IPython.display import JSON\n",
    "    import js\n",
    "    from js import Object\n",
    "    import json\n",
    "\n",
    "    action = action.strip().lower()\n",
    "    model_slug = model_slug.strip()\n",
    "    api_token = api_token.strip()\n",
    "    assert isinstance(data, dict)\n",
    "    data_str = json.dumps(data)\n",
    "\n",
    "    resp = await js.fetch(f'https://biolm.ai/api/v1/models/{model_slug}/{action}/', to_js({\n",
    "        \"method\": \"POST\",\n",
    "        \"body\": data_str,\n",
    "        \"credentials\": \"same-origin\",\n",
    "        \"headers\": {\"Content-Type\": \"application/json\",\n",
    "                    \"Authorization\": f\"Token {api_token}\"}\n",
    "    }, dict_converter=Object.fromEntries))\n",
    "\n",
    "    res = await resp.text()\n",
    "    json_resp = JSON(json.loads(res))\n",
    "    return json_resp"
   ],
   "metadata": {
    "trusted": true
   },
   "execution_count": 14,
   "outputs": []
  },
  {
   "cell_type": "code",
   "source": [
    "data = {\n",
    "  \"instances\": [{\n",
    "    \"data\": {\"text\": \"EVQ\",\n",
    "             \"t\": 0.7,\n",
    "             \"p\": 0.6,\n",
    "             \"max_length\": 170,\n",
    "             \"num_samples\": 2}\n",
    "  }]\n",
    "}"
   ],
   "metadata": {
    "trusted": true
   },
   "execution_count": 15,
   "outputs": []
  },
  {
   "cell_type": "code",
   "source": [
    "await jlite_post(\n",
    "    'progen2-medium',\n",
    "    'generate',\n",
    "    data,\n",
    "    token\n",
    ")"
   ],
   "metadata": {
    "trusted": true
   },
   "execution_count": 16,
   "outputs": [
    {
     "execution_count": 16,
     "output_type": "execute_result",
     "data": {
      "text/plain": "<IPython.core.display.JSON object>",
      "application/json": {
       "predictions": {
        "generated": [
         {
          "text": "EVQLADVLAALRRLDAAGLLEPAGDGAVVRPAAGAAGAGAAAAAAAAAAAAAAAAAAAAAAAAAAAAAAAAAAAAAAAAAAAAAAAAAAAAAAAAAAAAAAAAAAAAAAAAAAAAAAAAAAAAAAAAAAAAAAAAAAAAAAAAAAAAAAAAAAAAAAAAAAAAAAAAAAA",
          "ll_sum": -232.65427017211914,
          "ll_mean": -1.3766524493694305
         },
         {
          "text": "EVQSGSLTALERAIALGLGSGGGGRDRSADVRYFREFVRPLHEAAIGAGTDAVELVARGDREGLRVTVRGGAPTHRLANDLLNNLIQALRDPDARVTLPAPPLEATLEVGAAAARPAFADVAARALAALDVERRELRLAGADARALDQLDAVLRALRLTEAHLSALTEPD",
          "ll_sum": -174.5125732421875,
          "ll_mean": -1.0326187908649445
         }
        ]
       }
      }
     },
     "metadata": {
      "application/json": {
       "expanded": false,
       "root": "root"
      }
     }
    }
   ]
  },
  {
   "cell_type": "code",
   "source": [
    "jlite_post(\n",
    "    'progen2-medium',\n",
    "    'generate',\n",
    "    data,\n",
    "    token\n",
    ")"
   ],
   "metadata": {
    "trusted": true
   },
   "execution_count": 17,
   "outputs": [
    {
     "execution_count": 17,
     "output_type": "execute_result",
     "data": {
      "text/plain": "<coroutine object jlite_post at 0x27b81b0>"
     },
     "metadata": {}
    }
   ]
  },
  {
   "cell_type": "code",
   "source": [
    "result = await jlite_post(\n",
    "    'progen2-medium',\n",
    "    'generate',\n",
    "    data,\n",
    "    token\n",
    ")"
   ],
   "metadata": {
    "trusted": true
   },
   "execution_count": 18,
   "outputs": []
  },
  {
   "cell_type": "code",
   "source": [
    "result"
   ],
   "metadata": {
    "trusted": true
   },
   "execution_count": 19,
   "outputs": [
    {
     "execution_count": 19,
     "output_type": "execute_result",
     "data": {
      "text/plain": "<IPython.core.display.JSON object>",
      "application/json": {
       "predictions": {
        "generated": [
         {
          "text": "EVQLRLRLARAAGLLARGRRLLLLARAAGLLARGRRLLLLARAAGLLARGRRLLLLARAAGLLARGRRLLLLARAAGLLARGRRLLLLARAAGLLARGRRLLLLARAAGLLARGRRLLLLARAAGLLARGRRLLLLARAAGLLARGRRLLLLARAAGLLARGRRLLLLAR",
          "ll_sum": -64.18296813964844,
          "ll_mean": -0.3797808736562729
         },
         {
          "text": "EVQLLRERLEQLEAELAAKDREAAERERALAEAEREREAAEAAAREREAAEAAAREREAAEAAAREREAAEAAAREREAAEAAAREREAAEAAAREREAAEAAAREREAAEAAAREREAAEAAAREREAAEAAAREREAAEAAAREREAAEAAAREREAAEAAAREREAA",
          "ll_sum": -88.07245635986328,
          "ll_mean": -0.5211387872695923
         }
        ]
       }
      }
     },
     "metadata": {
      "application/json": {
       "expanded": false,
       "root": "root"
      }
     }
    }
   ]
  },
  {
   "cell_type": "code",
   "source": [
    "type(result)"
   ],
   "metadata": {
    "trusted": true
   },
   "execution_count": 20,
   "outputs": [
    {
     "execution_count": 20,
     "output_type": "execute_result",
     "data": {
      "text/plain": "IPython.core.display.JSON"
     },
     "metadata": {}
    }
   ]
  },
  {
   "cell_type": "code",
   "source": [],
   "metadata": {},
   "execution_count": null,
   "outputs": []
  }
 ]
}
