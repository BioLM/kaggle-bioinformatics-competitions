{
  "metadata": {
    "kernelspec": {
      "name": "python",
      "display_name": "Python (Pyodide)",
      "language": "python"
    },
    "language_info": {
      "codemirror_mode": {
        "name": "python",
        "version": 3
      },
      "file_extension": ".py",
      "mimetype": "text/x-python",
      "name": "python",
      "nbconvert_exporter": "python",
      "pygments_lexer": "ipython3",
      "version": "3.8"
    }
  },
  "nbformat_minor": 4,
  "nbformat": 4,
  "cells": [
    {
      "cell_type": "markdown",
      "source": "<img style=\"float: left; padding-right: 10px; height: 60px\" src=\"https://d31e6ufxekikrt.cloudfront.net/static/ui/images/logo.png\">\n\n<br>\n<br>\n<br>\n\n# **Introduction**\n\nIntroduction to the BioLM.ai API and programmatic access to the platform\n\n<br>\n\n<table style=\"width: 100%; border-collapse: collapse; background-color: white; float: left;\">\n    <tr>\n        <td style=\"text-align: left; vertical-align: middle; background-color: white;\">\n            <img src=\"https://www.svgrepo.com/show/354202/postman-icon.svg\" style=\"height: 20px; float: left; padding-right: 10px;\"><a href=\"https://api.biolm.ai/\">  <h4 style=\"margin: 0;\"><b>Postman API Docs</b></h4></a>\n        </td>\n        <td style=\"text-align: left; vertical-align: middle; background-color: white;\">\n            <img src=\"https://upload.wikimedia.org/wikipedia/commons/thumb/c/c3/Python-logo-notext.svg/1869px-Python-logo-notext.svg.png\" style=\"height: 20px; float: left; padding-right: 10px;\"><a href=\"https://docs.biolm.ai/en/latest/index.html\"><h4 style=\"margin: 0;\"><b>Python SDK Docs</b></h4></a>\n        </td>\n        <td style=\"text-align: left; vertical-align: middle; background-color: white;\">\n        </td>\n        <td style=\"text-align: left; vertical-align: middle; background-color: white;\">\n        </td>\n    </tr>\n</table>\n\n<br>\n\n---",
      "metadata": {
        "tags": []
      }
    },
    {
      "cell_type": "markdown",
      "source": "# Set your API Token\n\nIn order to test the BioLM API, you need to have a token. You can get one from\nthe [User API Tokens](https://biolm.ai/ui/accounts/user-api-tokens/) page.\n\nPaste the API token you generated in the cell below, as the value\nof the variable `BIOLMAI_TOKEN `.",
      "metadata": {}
    },
    {
      "cell_type": "code",
      "source": "BIOLMAI_TOKEN  = \" \"  # !!! YOUR API TOKEN HERE !!!",
      "metadata": {
        "collapsed": false,
        "ExecuteTime": {
          "end_time": "2023-11-03T01:47:37.067167Z",
          "start_time": "2023-11-03T01:47:37.063144Z"
        },
        "jupyter": {
          "outputs_hidden": false
        },
        "trusted": true
      },
      "execution_count": 1,
      "outputs": []
    },
    {
      "cell_type": "markdown",
      "source": "When running notebooks on [jupyter.biolm.ai](https://jupyter.biolm.ai), the files and\nexecution environment are local. This uses an in-browser JupyterLite kernel, and any\nchanges remain on your machine only.\n\n## Example API Call\n\nWe'll quickly demonstrate an API call to the\n[ProteInfer-GO prediction](https://docs.biolm.ai/en/latest/model-docs/ProteInfer_GO.html) endpoint.\n\nWe construct a payload matching the [documentation](https://docs.biolm.ai/en/latest/model-docs/ProteInfer_GO.html)\nand then POST to the API with Python `requests`.\n\n",
      "metadata": {}
    },
    {
      "cell_type": "code",
      "source": "GFP_SEQ = \"\"\"\nMSKGEELFTGVVPILVELDGDVNGHKFSVSGEGEGDATYGKLTLKFICTTGKLPVPWPTL\nVTTFSYGVQCFSRYPDHMKQHDFFKSAMPEGYVQERTIFFKDDGNYKTRAEVKFEGDTLV\nNRIELKGIDFKEDGNILGHKLEYNYNSHNVYIMADKQKNGIKVNFKIRHNIEDGSVQLAD\nHYQQNTPIGDGPVLLPDNHYLSTQSALSKDPNEKRDHMVLLEFVTAAGITHGMDELYK\n\"\"\".replace('\\n', '').strip().upper()\n",
      "metadata": {
        "collapsed": false,
        "ExecuteTime": {
          "end_time": "2023-11-03T02:03:46.808223Z",
          "start_time": "2023-11-03T02:03:46.803304Z"
        },
        "jupyter": {
          "outputs_hidden": false
        },
        "trusted": true
      },
      "execution_count": 2,
      "outputs": []
    },
    {
      "cell_type": "code",
      "source": "data = {\n    \"items\": [\n        {\n            \"sequence\": GFP_SEQ\n        }\n    ]\n}\n\nurl = \"https://biolm.ai/api/v2/proteinfer-go/predict/\"\n\nheaders = {\n    \"Content-Type\": \"application/json\",\n    \"Authorization\": f\"Token {BIOLMAI_TOKEN.strip()}\",\n}",
      "metadata": {
        "trusted": true
      },
      "execution_count": 3,
      "outputs": []
    },
    {
      "cell_type": "markdown",
      "source": "Let's install `requests` if running on [jupyter.biolm.ai](https://jupyter.biolm.ai). If running this notebook locally or elsewhere, please make sure `requests` is already installed in your Python environment.",
      "metadata": {}
    },
    {
      "cell_type": "code",
      "source": "from IPython.display import JSON  # Helpful UI for JSON display\n\ntry:\n    # Install packages to make API requests in JLite\n    import micropip\n    await micropip.install('requests')\n    await micropip.install('pyodide-http')\n    # Patch requests for in-browser support\n    import pyodide_http\n    pyodide_http.patch_all()\nexcept ModuleNotFoundError:\n    pass  # Won't be using micropip outside of JLite\n\nimport requests  # Will use to make calls to BioLM.ai",
      "metadata": {
        "trusted": true
      },
      "execution_count": 4,
      "outputs": []
    },
    {
      "cell_type": "code",
      "source": "# Make the POST request\nresponse = requests.post(\n    url=url,\n    headers=headers,\n    json=data,\n)\n\nresult = response.json()\nresult",
      "metadata": {
        "collapsed": false,
        "ExecuteTime": {
          "end_time": "2023-11-03T02:03:47.371779Z",
          "start_time": "2023-11-03T02:03:47.033159Z"
        },
        "jupyter": {
          "outputs_hidden": false
        },
        "scrolled": true,
        "tags": [],
        "trusted": true
      },
      "execution_count": 5,
      "outputs": [
        {
          "execution_count": 5,
          "output_type": "execute_result",
          "data": {
            "text/plain": "{'results': [{'sequence_id': '0',\n   'predictions': [{'label': 'GO:0044237',\n     'confidence': 1.0,\n     'description': 'cellular metabolic process'},\n    {'label': 'GO:0008152',\n     'confidence': 1.0,\n     'description': 'metabolic process'},\n    {'label': 'GO:0044260',\n     'confidence': 0.9999998807907104,\n     'description': 'cellular macromolecule metabolic process'},\n    {'label': 'GO:0043170',\n     'confidence': 0.9999998807907104,\n     'description': 'macromolecule metabolic process'},\n    {'label': 'GO:0071704',\n     'confidence': 0.9999966621398926,\n     'description': 'organic substance metabolic process'},\n    {'label': 'GO:0044267',\n     'confidence': 0.9999923706054688,\n     'description': 'cellular protein metabolic process'},\n    {'label': 'GO:0019538',\n     'confidence': 0.9999901056289673,\n     'description': 'protein metabolic process'},\n    {'label': 'GO:1901564',\n     'confidence': 0.9999841451644897,\n     'description': 'organonitrogen compound metabolic process'},\n    {'label': 'GO:0018298',\n     'confidence': 0.9999812841415405,\n     'description': 'protein-chromophore linkage'},\n    {'label': 'GO:0006807',\n     'confidence': 0.9999734163284302,\n     'description': 'nitrogen compound metabolic process'},\n    {'label': 'GO:0008218',\n     'confidence': 0.9998859167098999,\n     'description': 'bioluminescence'},\n    {'label': 'GO:0008150',\n     'confidence': 0.9998503923416138,\n     'description': 'biological_process'},\n    {'label': 'GO:0006091',\n     'confidence': 0.9998190999031067,\n     'description': 'generation of precursor metabolites and energy'},\n    {'label': 'GO:0009987',\n     'confidence': 0.9994938373565674,\n     'description': 'cellular process'},\n    {'label': 'GO:0043412',\n     'confidence': 0.9994738698005676,\n     'description': 'macromolecule modification'},\n    {'label': 'GO:0044238',\n     'confidence': 0.9982783794403076,\n     'description': 'primary metabolic process'},\n    {'label': 'GO:0006464',\n     'confidence': 0.9978099465370178,\n     'description': 'cellular protein modification process'},\n    {'label': 'GO:0036211',\n     'confidence': 0.997657060623169,\n     'description': 'protein modification process'},\n    {'label': 'GO:0009056',\n     'confidence': 0.2060231864452362,\n     'description': 'catabolic process'}]}]}"
          },
          "metadata": {}
        }
      ]
    },
    {
      "cell_type": "markdown",
      "source": "You can print these JSON results in an interactive format using iPython:",
      "metadata": {}
    },
    {
      "cell_type": "code",
      "source": "JSON(result)",
      "metadata": {
        "ExecuteTime": {
          "end_time": "2023-11-03T02:03:48.601288Z",
          "start_time": "2023-11-03T02:03:48.596026Z"
        },
        "trusted": true
      },
      "execution_count": 6,
      "outputs": [
        {
          "execution_count": 6,
          "output_type": "execute_result",
          "data": {
            "text/plain": "<IPython.core.display.JSON object>",
            "application/json": {
              "results": [
                {
                  "sequence_id": "0",
                  "predictions": [
                    {
                      "label": "GO:0044237",
                      "confidence": 1,
                      "description": "cellular metabolic process"
                    },
                    {
                      "label": "GO:0008152",
                      "confidence": 1,
                      "description": "metabolic process"
                    },
                    {
                      "label": "GO:0044260",
                      "confidence": 0.9999998807907104,
                      "description": "cellular macromolecule metabolic process"
                    },
                    {
                      "label": "GO:0043170",
                      "confidence": 0.9999998807907104,
                      "description": "macromolecule metabolic process"
                    },
                    {
                      "label": "GO:0071704",
                      "confidence": 0.9999966621398926,
                      "description": "organic substance metabolic process"
                    },
                    {
                      "label": "GO:0044267",
                      "confidence": 0.9999923706054688,
                      "description": "cellular protein metabolic process"
                    },
                    {
                      "label": "GO:0019538",
                      "confidence": 0.9999901056289673,
                      "description": "protein metabolic process"
                    },
                    {
                      "label": "GO:1901564",
                      "confidence": 0.9999841451644897,
                      "description": "organonitrogen compound metabolic process"
                    },
                    {
                      "label": "GO:0018298",
                      "confidence": 0.9999812841415405,
                      "description": "protein-chromophore linkage"
                    },
                    {
                      "label": "GO:0006807",
                      "confidence": 0.9999734163284302,
                      "description": "nitrogen compound metabolic process"
                    },
                    {
                      "label": "GO:0008218",
                      "confidence": 0.9998859167098999,
                      "description": "bioluminescence"
                    },
                    {
                      "label": "GO:0008150",
                      "confidence": 0.9998503923416138,
                      "description": "biological_process"
                    },
                    {
                      "label": "GO:0006091",
                      "confidence": 0.9998190999031067,
                      "description": "generation of precursor metabolites and energy"
                    },
                    {
                      "label": "GO:0009987",
                      "confidence": 0.9994938373565674,
                      "description": "cellular process"
                    },
                    {
                      "label": "GO:0043412",
                      "confidence": 0.9994738698005676,
                      "description": "macromolecule modification"
                    },
                    {
                      "label": "GO:0044238",
                      "confidence": 0.9982783794403076,
                      "description": "primary metabolic process"
                    },
                    {
                      "label": "GO:0006464",
                      "confidence": 0.9978099465370178,
                      "description": "cellular protein modification process"
                    },
                    {
                      "label": "GO:0036211",
                      "confidence": 0.997657060623169,
                      "description": "protein modification process"
                    },
                    {
                      "label": "GO:0009056",
                      "confidence": 0.2060231864452362,
                      "description": "catabolic process"
                    }
                  ]
                }
              ]
            }
          },
          "metadata": {
            "application/json": {
              "expanded": false,
              "root": "root"
            }
          }
        }
      ]
    },
    {
      "cell_type": "markdown",
      "source": "## Next Steps\n\nCheck out additional tutorials at [jupyter.biolm.ai](https://jupyter.biolm.ai),\nor head over to our [BioLM Documentation](https://docs.biolm.ai) to explore\nadditional models and functionality.",
      "metadata": {}
    },
    {
      "cell_type": "markdown",
      "source": "### See more examples, use-cases, and APIs on your [BioLM Console Catalog](https://biolm.ai/console/catalog/).\n<br>\n\n#### BioLM hosts deep learning models and runs inference at scale. You do the science.\n<br>\n\n#### Let us help model your data. We offers professional services in these domains, and more:\n<br>\n\n#### <img src=\"https://d31e6ufxekikrt.cloudfront.net/static/ui/images/console-overview/enzyme_engineering_icon.png\"  style=\"height: 40px; float: left; padding-right: 10px;\"> Enzyme Engineering\n<br>\n\n#### <img src=\"https://d31e6ufxekikrt.cloudfront.net/static/ui/images/console-overview/antibody_engineering_icon.png\"  style=\"height: 40px; float: left; padding-right: 10px;\"> Antibody Engineering\n<br>\n\n#### <img src=\"https://d31e6ufxekikrt.cloudfront.net/static/ui/images/console-overview/biosecurity_icon.png\"  style=\"height: 40px; float: left; padding-right: 10px;\"> Biosecurity\n<br>\n\n#### <img src=\"https://d31e6ufxekikrt.cloudfront.net/static/ui/images/console-overview/single_cell_genomics_icon.png\"  style=\"height: 40px; float: left; padding-right: 10px;\"> Single-Cell Genomics\n<br>\n\n#### <img src=\"https://d31e6ufxekikrt.cloudfront.net/static/ui/images/console-overview/dna_seq_modeling_icon.png\"  style=\"height: 40px; float: left; padding-right: 10px;\"> DNA Sequence Modelling\n<br>\n\n### [**Contact us**](https://biolm.ai/ui/contact-us/) to learn more.\n",
      "metadata": {
        "jp-MarkdownHeadingCollapsed": true,
        "tags": []
      }
    }
  ]
}