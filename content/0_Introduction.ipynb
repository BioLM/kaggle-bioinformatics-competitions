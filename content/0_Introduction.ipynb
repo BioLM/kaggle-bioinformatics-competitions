{
 "cells": [
  {
   "cell_type": "code",
   "execution_count": null,
   "metadata": {},
   "outputs": [],
   "source": [
    "# <img style=\"float: left; padding-right: 10px; width: 45px\" src=\"content/data/BioLM_Logo.png\"> Introduction to BioLM.ai APIs.\n",
    "\n",
    "##Introduction to ProteInfer GO\n",
    "\n",
    "**BioLM.ai: https://biolm.ai/ui/home/ **<br/>\n",
    "**2023**<br/>\n",
    "**Authors**: Nikhil Haas (CEO)\n",
    "\n",
    "---"
   ]
  },
  {
   "cell_type": "markdown",
   "metadata": {
    "collapsed": false
   },
   "source": [
    "# Introduction\n",
    "\n",
    "In order to test the BioLM API, you need to have a token. You can get one from\n",
    "the [User API Tokens](https://biolm.ai/ui/accounts/user-api-tokens/) page.\n",
    "\n",
    "Paste the API token you generated in the cell below, as the value\n",
    "of the variable `TOKEN`."
   ]
  },
  {
   "cell_type": "code",
   "execution_count": 12,
   "metadata": {
    "ExecuteTime": {
     "end_time": "2023-11-03T01:47:37.067167Z",
     "start_time": "2023-11-03T01:47:37.063144Z"
    },
    "collapsed": false
   },
   "outputs": [],
   "source": [
    "from helpers import api_caller  # Helper to make API calls to BioLM\n",
    "from IPython.display import JSON\n",
    "\n",
    "TOKEN = ''  # !!! YOUR API TOKEN HERE !!!"
   ]
  },
  {
   "cell_type": "markdown",
   "metadata": {
    "collapsed": false
   },
   "source": [
    "When running notebooks on [jupyter.biolm.ai](https://jupyter.biolm.ai), the files and\n",
    "execution environment are local. This uses an in-browser JupyterLite kernel, and any\n",
    "changes remain on your machine only.\n",
    "\n",
    "## Example API Call\n",
    "\n",
    "We'll quickly demonstrate an API call to the\n",
    "[ProteInfer-GO prediction](https://docs.biolm.ai/en/latest/model-docs/ProteInfer_GO.html) endpoint.\n",
    "\n",
    "We construct a payload matching the [documentation](https://docs.biolm.ai/en/latest/model-docs/ProteInfer_GO.html)\n",
    "and then call our helper function to construct the URL with our model slug, `data`, and API `TOKEN`.\n",
    "\n"
   ]
  },
  {
   "cell_type": "code",
   "execution_count": 26,
   "metadata": {
    "ExecuteTime": {
     "end_time": "2023-11-03T02:03:46.808223Z",
     "start_time": "2023-11-03T02:03:46.803304Z"
    },
    "collapsed": false
   },
   "outputs": [],
   "source": [
    "GFP_SEQ = \"\"\"\n",
    "MSKGEELFTGVVPILVELDGDVNGHKFSVSGEGEGDATYGKLTLKFICTTGKLPVPWPTL\n",
    "VTTFSYGVQCFSRYPDHMKQHDFFKSAMPEGYVQERTIFFKDDGNYKTRAEVKFEGDTLV\n",
    "NRIELKGIDFKEDGNILGHKLEYNYNSHNVYIMADKQKNGIKVNFKIRHNIEDGSVQLAD\n",
    "HYQQNTPIGDGPVLLPDNHYLSTQSALSKDPNEKRDHMVLLEFVTAAGITHGMDELYK\n",
    "\"\"\".replace('\\n', '').strip().upper()\n",
    "\n",
    "data = {\n",
    "    \"instances\": [{\n",
    "        \"data\": {\"text\": GFP_SEQ}\n",
    "    }]\n",
    "}"
   ]
  },
  {
   "cell_type": "code",
   "execution_count": 27,
   "metadata": {
    "ExecuteTime": {
     "end_time": "2023-11-03T02:03:47.371779Z",
     "start_time": "2023-11-03T02:03:47.033159Z"
    },
    "collapsed": false
   },
   "outputs": [],
   "source": [
    "# Call function to construct URL and POST to API. In this case,\n",
    "# https://biolm.ai/api/v1/models/protein_go_function/predict/ is\n",
    "# the URL that will be constructed.\n",
    "result = await api_caller(\n",
    "    model_slug='protein_go_function',\n",
    "    action='predict',\n",
    "    data=data,\n",
    "    api_token=TOKEN\n",
    ")"
   ]
  },
  {
   "cell_type": "code",
   "execution_count": 28,
   "metadata": {
    "ExecuteTime": {
     "end_time": "2023-11-03T02:03:47.451732Z",
     "start_time": "2023-11-03T02:03:47.446834Z"
    }
   },
   "outputs": [
    {
     "data": {
      "text/plain": [
       "{'predictions': [{'sequence_name': 'seq_0',\n",
       "   'predicted_label': 'GO:0044237',\n",
       "   'confidence': 1.0,\n",
       "   'description': 'cellular metabolic process'},\n",
       "  {'sequence_name': 'seq_0',\n",
       "   'predicted_label': 'GO:0008152',\n",
       "   'confidence': 1.0,\n",
       "   'description': 'metabolic process'},\n",
       "  {'sequence_name': 'seq_0',\n",
       "   'predicted_label': 'GO:0044260',\n",
       "   'confidence': 0.9999998807907104,\n",
       "   'description': 'cellular macromolecule metabolic process'},\n",
       "  {'sequence_name': 'seq_0',\n",
       "   'predicted_label': 'GO:0043170',\n",
       "   'confidence': 0.9999998807907104,\n",
       "   'description': 'macromolecule metabolic process'},\n",
       "  {'sequence_name': 'seq_0',\n",
       "   'predicted_label': 'GO:0071704',\n",
       "   'confidence': 0.9999966621398926,\n",
       "   'description': 'organic substance metabolic process'},\n",
       "  {'sequence_name': 'seq_0',\n",
       "   'predicted_label': 'GO:0044267',\n",
       "   'confidence': 0.9999924302101135,\n",
       "   'description': 'cellular protein metabolic process'},\n",
       "  {'sequence_name': 'seq_0',\n",
       "   'predicted_label': 'GO:0019538',\n",
       "   'confidence': 0.9999900460243225,\n",
       "   'description': 'protein metabolic process'},\n",
       "  {'sequence_name': 'seq_0',\n",
       "   'predicted_label': 'GO:1901564',\n",
       "   'confidence': 0.9999841451644897,\n",
       "   'description': 'organonitrogen compound metabolic process'},\n",
       "  {'sequence_name': 'seq_0',\n",
       "   'predicted_label': 'GO:0018298',\n",
       "   'confidence': 0.9999812841415405,\n",
       "   'description': 'protein-chromophore linkage'},\n",
       "  {'sequence_name': 'seq_0',\n",
       "   'predicted_label': 'GO:0006807',\n",
       "   'confidence': 0.9999734163284302,\n",
       "   'description': 'nitrogen compound metabolic process'}]}"
      ]
     },
     "execution_count": 28,
     "metadata": {},
     "output_type": "execute_result"
    }
   ],
   "source": [
    "result"
   ]
  },
  {
   "cell_type": "markdown",
   "metadata": {
    "collapsed": false
   },
   "source": [
    "You can print these JSON results in an interactive format using iPython:"
   ]
  },
  {
   "cell_type": "code",
   "execution_count": 29,
   "metadata": {
    "ExecuteTime": {
     "end_time": "2023-11-03T02:03:48.601288Z",
     "start_time": "2023-11-03T02:03:48.596026Z"
    }
   },
   "outputs": [
    {
     "data": {
      "application/json": {
       "predictions": [
        {
         "confidence": 1,
         "description": "cellular metabolic process",
         "predicted_label": "GO:0044237",
         "sequence_name": "seq_0"
        },
        {
         "confidence": 1,
         "description": "metabolic process",
         "predicted_label": "GO:0008152",
         "sequence_name": "seq_0"
        },
        {
         "confidence": 0.9999998807907104,
         "description": "cellular macromolecule metabolic process",
         "predicted_label": "GO:0044260",
         "sequence_name": "seq_0"
        },
        {
         "confidence": 0.9999998807907104,
         "description": "macromolecule metabolic process",
         "predicted_label": "GO:0043170",
         "sequence_name": "seq_0"
        },
        {
         "confidence": 0.9999966621398926,
         "description": "organic substance metabolic process",
         "predicted_label": "GO:0071704",
         "sequence_name": "seq_0"
        },
        {
         "confidence": 0.9999924302101135,
         "description": "cellular protein metabolic process",
         "predicted_label": "GO:0044267",
         "sequence_name": "seq_0"
        },
        {
         "confidence": 0.9999900460243225,
         "description": "protein metabolic process",
         "predicted_label": "GO:0019538",
         "sequence_name": "seq_0"
        },
        {
         "confidence": 0.9999841451644897,
         "description": "organonitrogen compound metabolic process",
         "predicted_label": "GO:1901564",
         "sequence_name": "seq_0"
        },
        {
         "confidence": 0.9999812841415405,
         "description": "protein-chromophore linkage",
         "predicted_label": "GO:0018298",
         "sequence_name": "seq_0"
        },
        {
         "confidence": 0.9999734163284302,
         "description": "nitrogen compound metabolic process",
         "predicted_label": "GO:0006807",
         "sequence_name": "seq_0"
        }
       ]
      },
      "text/plain": [
       "<IPython.core.display.JSON object>"
      ]
     },
     "execution_count": 29,
     "metadata": {
      "application/json": {
       "expanded": false,
       "root": "root"
      }
     },
     "output_type": "execute_result"
    }
   ],
   "source": [
    "JSON(result)"
   ]
  },
  {
   "cell_type": "markdown",
   "metadata": {
    "collapsed": false
   },
   "source": [
    "## Next Steps\n",
    "\n",
    "Sign-in and get your API key at [BioLM User] https://biolm.ai/ui/console/user/ <br/>\n",
    "Check out additional tutorials at [jupyter.biolm.ai](https://jupyter.biolm.ai) <br/>\n",
    "or head over to our [BioLM Documentation](https://docs.biolm.ai) to explore\n",
    "additional models and functionality."
   ]
  },
  {
   "cell_type": "code",
   "execution_count": null,
   "metadata": {
    "collapsed": false
   },
   "outputs": [],
   "source": []
  }
 ],
 "metadata": {
  "kernelspec": {
   "display_name": "Python 3 (ipykernel)",
   "language": "python",
   "name": "python3"
  },
  "language_info": {
   "codemirror_mode": {
    "name": "ipython",
    "version": 3
   },
   "file_extension": ".py",
   "mimetype": "text/x-python",
   "name": "python",
   "nbconvert_exporter": "python",
   "pygments_lexer": "ipython3",
   "version": "3.10.13"
  }
 },
 "nbformat": 4,
 "nbformat_minor": 4
}
