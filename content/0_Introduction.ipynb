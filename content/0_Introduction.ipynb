{
 "cells": [
  {
   "cell_type": "code",
   "execution_count": 1,
   "metadata": {
    "ExecuteTime": {
     "end_time": "2023-11-03T01:11:17.837575Z",
     "start_time": "2023-11-03T01:11:17.775919Z"
    }
   },
   "outputs": [
    {
     "data": {
      "text/plain": "<function helpers.requests_post(model_slug, action, data, api_token)>"
     },
     "execution_count": 1,
     "metadata": {},
     "output_type": "execute_result"
    }
   ],
   "source": [
    "from helpers import get_api_function, requests_post, jlite_post\n",
    "\n",
    "api_caller = await get_api_function()\n",
    "\n",
    "api_caller"
   ]
  },
  {
   "cell_type": "code",
   "execution_count": 2,
   "outputs": [],
   "source": [
    "token = ''  # TODO: put yours here"
   ],
   "metadata": {
    "collapsed": false,
    "ExecuteTime": {
     "end_time": "2023-11-03T01:11:30.680194Z",
     "start_time": "2023-11-03T01:11:30.671414Z"
    }
   }
  },
  {
   "cell_type": "code",
   "execution_count": 3,
   "outputs": [],
   "source": [
    "data = {\n",
    "    \"instances\": [{\n",
    "        \"data\": {\"text\": \"EVQ\",\n",
    "                 \"t\": 0.4,\n",
    "                 \"p\": 0.6,\n",
    "                 \"max_length\": 90,\n",
    "                 \"num_samples\": 1}\n",
    "    }]\n",
    "}\n"
   ],
   "metadata": {
    "collapsed": false,
    "ExecuteTime": {
     "end_time": "2023-11-03T01:11:31.508304Z",
     "start_time": "2023-11-03T01:11:31.501954Z"
    }
   }
  },
  {
   "cell_type": "code",
   "execution_count": 6,
   "outputs": [],
   "source": [
    "result = await api_caller(\n",
    "    'progen2-medium',\n",
    "    'generate',\n",
    "    data,\n",
    "    token\n",
    ")"
   ],
   "metadata": {
    "collapsed": false,
    "ExecuteTime": {
     "end_time": "2023-11-03T01:11:55.475469Z",
     "start_time": "2023-11-03T01:11:51.197274Z"
    }
   }
  },
  {
   "cell_type": "code",
   "execution_count": 7,
   "metadata": {
    "ExecuteTime": {
     "end_time": "2023-11-03T01:11:55.487297Z",
     "start_time": "2023-11-03T01:11:55.480686Z"
    }
   },
   "outputs": [
    {
     "data": {
      "text/plain": "{'predictions': {'generated': [{'text': 'EVQELREAAAALRAAAEAAAAAAAAAAAAAAAAAAAAAAAAAAAAAAAAAAAAAAAAAAAAAAAAAAAAAAAAAAAAAAAAAAAAAAAAA',\n    'll_sum': -121.64142608642578,\n    'll_mean': -1.366757571697235}]}}"
     },
     "execution_count": 7,
     "metadata": {},
     "output_type": "execute_result"
    }
   ],
   "source": [
    "result"
   ]
  },
  {
   "cell_type": "code",
   "execution_count": 7,
   "metadata": {
    "ExecuteTime": {
     "end_time": "2023-11-03T01:07:21.117287Z",
     "start_time": "2023-11-03T01:07:21.107133Z"
    }
   },
   "outputs": [],
   "source": []
  },
  {
   "cell_type": "code",
   "execution_count": 11,
   "outputs": [],
   "source": [
    "result = api_caller(\n",
    "    'progen2-medium',\n",
    "    'generate',\n",
    "    data,\n",
    "    token\n",
    ")"
   ],
   "metadata": {
    "collapsed": false,
    "ExecuteTime": {
     "end_time": "2023-11-03T00:57:13.512263Z",
     "start_time": "2023-11-03T00:53:33.296943Z"
    }
   }
  },
  {
   "cell_type": "code",
   "execution_count": 12,
   "outputs": [
    {
     "data": {
      "text/plain": "{'predictions': {'generated': [{'text': 'EVQDGLSELEKLREELKEITEQLEEVTQEAESARFKYFEESEKIKKEFWAELQSSLHQMKKGTVEVEELKEYKELLKNRTQELQKLRGLLRSENEEAQLKQQQEEELMEEEEEEEEEEEEEEEEEEEEEEEEEEEEEEEEEEEEEEEEEEEEEEEEEEEEEEEEEEEEEE',\n    'll_sum': -283.06163024902344,\n    'll_mean': -1.674920916557312},\n   {'text': 'EVQLGALVRGRLVGGLGALAALGGGGALAGGGALAGGGALAGGGALAGGGALAGGGALAGGGALAGGGALAGGGALAGGGALAGGGALAGGGALAGGGALAGGGALAGGGALAGGGALAGGGALAGGGALAGGGALAGGGALAGGGALAGGGALAGGGALAGGGALAGGG',\n    'll_sum': -79.29587173461914,\n    'll_mean': -0.4692063331604004}]}}"
     },
     "execution_count": 12,
     "metadata": {},
     "output_type": "execute_result"
    }
   ],
   "source": [
    "result"
   ],
   "metadata": {
    "collapsed": false,
    "ExecuteTime": {
     "end_time": "2023-11-03T00:57:13.512664Z",
     "start_time": "2023-11-03T00:57:03.284218Z"
    }
   }
  },
  {
   "cell_type": "code",
   "execution_count": 6,
   "metadata": {},
   "outputs": [
    {
     "ename": "AttributeError",
     "evalue": "module 'js' has no attribute 'fetch'",
     "output_type": "error",
     "traceback": [
      "\u001B[0;31m---------------------------------------------------------------------------\u001B[0m",
      "\u001B[0;31mAttributeError\u001B[0m                            Traceback (most recent call last)",
      "Cell \u001B[0;32mIn[6], line 1\u001B[0m\n\u001B[0;32m----> 1\u001B[0m result \u001B[38;5;241m=\u001B[39m \u001B[38;5;28;01mawait\u001B[39;00m jlite_post(\n\u001B[1;32m      2\u001B[0m     \u001B[38;5;124m'\u001B[39m\u001B[38;5;124mprogen2-medium\u001B[39m\u001B[38;5;124m'\u001B[39m,\n\u001B[1;32m      3\u001B[0m     \u001B[38;5;124m'\u001B[39m\u001B[38;5;124mgenerate\u001B[39m\u001B[38;5;124m'\u001B[39m,\n\u001B[1;32m      4\u001B[0m     data,\n\u001B[1;32m      5\u001B[0m     token\n\u001B[1;32m      6\u001B[0m )\n\u001B[1;32m      8\u001B[0m result\n",
      "File \u001B[0;32m~/Developer/tutorials-and-guides/content/helpers/__init__.py:12\u001B[0m, in \u001B[0;36mjlite_post\u001B[0;34m(model_slug, action, data, api_token)\u001B[0m\n\u001B[1;32m      9\u001B[0m \u001B[38;5;28;01massert\u001B[39;00m \u001B[38;5;28misinstance\u001B[39m(data, \u001B[38;5;28mdict\u001B[39m)\n\u001B[1;32m     10\u001B[0m data_str \u001B[38;5;241m=\u001B[39m json\u001B[38;5;241m.\u001B[39mdumps(data)\n\u001B[0;32m---> 12\u001B[0m resp \u001B[38;5;241m=\u001B[39m \u001B[38;5;28;01mawait\u001B[39;00m \u001B[43mjs\u001B[49m\u001B[38;5;241;43m.\u001B[39;49m\u001B[43mfetch\u001B[49m(\u001B[38;5;124mf\u001B[39m\u001B[38;5;124m'\u001B[39m\u001B[38;5;124mhttps://biolm.ai/api/v1/models/\u001B[39m\u001B[38;5;132;01m{\u001B[39;00mmodel_slug\u001B[38;5;132;01m}\u001B[39;00m\u001B[38;5;124m/\u001B[39m\u001B[38;5;132;01m{\u001B[39;00maction\u001B[38;5;132;01m}\u001B[39;00m\u001B[38;5;124m/\u001B[39m\u001B[38;5;124m'\u001B[39m, to_js({\n\u001B[1;32m     13\u001B[0m     \u001B[38;5;124m\"\u001B[39m\u001B[38;5;124mmethod\u001B[39m\u001B[38;5;124m\"\u001B[39m: \u001B[38;5;124m\"\u001B[39m\u001B[38;5;124mPOST\u001B[39m\u001B[38;5;124m\"\u001B[39m,\n\u001B[1;32m     14\u001B[0m     \u001B[38;5;124m\"\u001B[39m\u001B[38;5;124mbody\u001B[39m\u001B[38;5;124m\"\u001B[39m: data_str,\n\u001B[1;32m     15\u001B[0m     \u001B[38;5;124m\"\u001B[39m\u001B[38;5;124mcredentials\u001B[39m\u001B[38;5;124m\"\u001B[39m: \u001B[38;5;124m\"\u001B[39m\u001B[38;5;124msame-origin\u001B[39m\u001B[38;5;124m\"\u001B[39m,\n\u001B[1;32m     16\u001B[0m     \u001B[38;5;124m\"\u001B[39m\u001B[38;5;124mheaders\u001B[39m\u001B[38;5;124m\"\u001B[39m: {\u001B[38;5;124m\"\u001B[39m\u001B[38;5;124mContent-Type\u001B[39m\u001B[38;5;124m\"\u001B[39m: \u001B[38;5;124m\"\u001B[39m\u001B[38;5;124mapplication/json\u001B[39m\u001B[38;5;124m\"\u001B[39m,\n\u001B[1;32m     17\u001B[0m                 \u001B[38;5;124m\"\u001B[39m\u001B[38;5;124mAuthorization\u001B[39m\u001B[38;5;124m\"\u001B[39m: \u001B[38;5;124mf\u001B[39m\u001B[38;5;124m\"\u001B[39m\u001B[38;5;124mToken \u001B[39m\u001B[38;5;132;01m{\u001B[39;00mapi_token\u001B[38;5;132;01m}\u001B[39;00m\u001B[38;5;124m\"\u001B[39m}\n\u001B[1;32m     18\u001B[0m }, dict_converter\u001B[38;5;241m=\u001B[39mjs\u001B[38;5;241m.\u001B[39mObject\u001B[38;5;241m.\u001B[39mfromEntries))\n\u001B[1;32m     20\u001B[0m res \u001B[38;5;241m=\u001B[39m \u001B[38;5;28;01mawait\u001B[39;00m resp\u001B[38;5;241m.\u001B[39mtext()\n\u001B[1;32m     21\u001B[0m json_resp \u001B[38;5;241m=\u001B[39m json\u001B[38;5;241m.\u001B[39mloads(res)\n",
      "\u001B[0;31mAttributeError\u001B[0m: module 'js' has no attribute 'fetch'"
     ]
    }
   ],
   "source": [
    "result = await jlite_post(\n",
    "    'progen2-medium',\n",
    "    'generate',\n",
    "    data,\n",
    "    token\n",
    ")\n",
    "\n",
    "result"
   ]
  },
  {
   "cell_type": "code",
   "execution_count": null,
   "metadata": {},
   "outputs": [],
   "source": [
    "from IPython.display import JSON\n",
    "\n",
    "JSON(result)"
   ]
  },
  {
   "cell_type": "code",
   "execution_count": null,
   "metadata": {},
   "outputs": [],
   "source": [
    "from pyodide.ffi import to_js\n",
    "from IPython.display import JSON\n",
    "from js import Object\n",
    "import json"
   ]
  },
  {
   "cell_type": "code",
   "execution_count": null,
   "metadata": {},
   "outputs": [],
   "source": [
    "import sys\n",
    "#sys.path.append('/drive/helper.py')\n",
    "\n",
    "from helper import jlite_post "
   ]
  },
  {
   "cell_type": "code",
   "execution_count": 6,
   "metadata": {},
   "outputs": [
    {
     "data": {
      "text/plain": [
       "['./Test.ipynb',\n",
       " './Untitled.ipynb',\n",
       " './Untitled1.ipynb',\n",
       " './Untitled2.ipynb',\n",
       " './Untitled4.ipynb',\n",
       " './Untitled5.ipynb',\n",
       " './Untitled6.ipynb',\n",
       " './__init__.py',\n",
       " './dna',\n",
       " './README.md',\n",
       " './protein',\n",
       " './helpers']"
      ]
     },
     "execution_count": 6,
     "metadata": {},
     "output_type": "execute_result"
    }
   ],
   "source": [
    "import glob\n",
    "\n",
    "g = glob.glob('./*')\n",
    "g"
   ]
  },
  {
   "cell_type": "code",
   "execution_count": 8,
   "metadata": {},
   "outputs": [
    {
     "data": {
      "text/plain": [
       "'/drive/Test.ipynb'"
      ]
     },
     "execution_count": 8,
     "metadata": {},
     "output_type": "execute_result"
    }
   ],
   "source": [
    "os.path.abspath(g[0])"
   ]
  },
  {
   "cell_type": "code",
   "execution_count": null,
   "metadata": {},
   "outputs": [],
   "source": [
    "from helpers import jlite_post as jlite_post2"
   ]
  },
  {
   "cell_type": "code",
   "execution_count": 14,
   "metadata": {},
   "outputs": [],
   "source": [
    "async def jlite_post(model_slug, action, data, api_token):\n",
    "    from pyodide.ffi import to_js\n",
    "    from IPython.display import JSON\n",
    "    import js\n",
    "    from js import Object\n",
    "    import json\n",
    "\n",
    "    action = action.strip().lower()\n",
    "    model_slug = model_slug.strip()\n",
    "    api_token = api_token.strip()\n",
    "    assert isinstance(data, dict)\n",
    "    data_str = json.dumps(data)\n",
    "\n",
    "    resp = await js.fetch(f'https://biolm.ai/api/v1/models/{model_slug}/{action}/', to_js({\n",
    "        \"method\": \"POST\",\n",
    "        \"body\": data_str,\n",
    "        \"credentials\": \"same-origin\",\n",
    "        \"headers\": {\"Content-Type\": \"application/json\",\n",
    "                    \"Authorization\": f\"Token {api_token}\"}\n",
    "    }, dict_converter=Object.fromEntries))\n",
    "\n",
    "    res = await resp.text()\n",
    "    json_resp = JSON(json.loads(res))\n",
    "    return json_resp"
   ]
  },
  {
   "cell_type": "code",
   "execution_count": 15,
   "metadata": {},
   "outputs": [],
   "source": [
    "data = {\n",
    "  \"instances\": [{\n",
    "    \"data\": {\"text\": \"EVQ\",\n",
    "             \"t\": 0.7,\n",
    "             \"p\": 0.6,\n",
    "             \"max_length\": 170,\n",
    "             \"num_samples\": 2}\n",
    "  }]\n",
    "}"
   ]
  },
  {
   "cell_type": "code",
   "execution_count": 16,
   "metadata": {},
   "outputs": [
    {
     "data": {
      "application/json": {
       "predictions": {
        "generated": [
         {
          "ll_mean": -1.3766524493694305,
          "ll_sum": -232.65427017211914,
          "text": "EVQLADVLAALRRLDAAGLLEPAGDGAVVRPAAGAAGAGAAAAAAAAAAAAAAAAAAAAAAAAAAAAAAAAAAAAAAAAAAAAAAAAAAAAAAAAAAAAAAAAAAAAAAAAAAAAAAAAAAAAAAAAAAAAAAAAAAAAAAAAAAAAAAAAAAAAAAAAAAAAAAAAAAA"
         },
         {
          "ll_mean": -1.0326187908649445,
          "ll_sum": -174.5125732421875,
          "text": "EVQSGSLTALERAIALGLGSGGGGRDRSADVRYFREFVRPLHEAAIGAGTDAVELVARGDREGLRVTVRGGAPTHRLANDLLNNLIQALRDPDARVTLPAPPLEATLEVGAAAARPAFADVAARALAALDVERRELRLAGADARALDQLDAVLRALRLTEAHLSALTEPD"
         }
        ]
       }
      },
      "text/plain": [
       "<IPython.core.display.JSON object>"
      ]
     },
     "execution_count": 16,
     "metadata": {
      "application/json": {
       "expanded": false,
       "root": "root"
      }
     },
     "output_type": "execute_result"
    }
   ],
   "source": [
    "await jlite_post(\n",
    "    'progen2-medium',\n",
    "    'generate',\n",
    "    data,\n",
    "    token\n",
    ")"
   ]
  },
  {
   "cell_type": "code",
   "execution_count": 17,
   "metadata": {},
   "outputs": [
    {
     "data": {
      "text/plain": [
       "<coroutine object jlite_post at 0x27b81b0>"
      ]
     },
     "execution_count": 17,
     "metadata": {},
     "output_type": "execute_result"
    }
   ],
   "source": [
    "jlite_post(\n",
    "    'progen2-medium',\n",
    "    'generate',\n",
    "    data,\n",
    "    token\n",
    ")"
   ]
  },
  {
   "cell_type": "code",
   "execution_count": 18,
   "metadata": {},
   "outputs": [],
   "source": [
    "result = await jlite_post(\n",
    "    'progen2-medium',\n",
    "    'generate',\n",
    "    data,\n",
    "    token\n",
    ")"
   ]
  },
  {
   "cell_type": "code",
   "execution_count": 19,
   "metadata": {},
   "outputs": [
    {
     "data": {
      "application/json": {
       "predictions": {
        "generated": [
         {
          "ll_mean": -0.3797808736562729,
          "ll_sum": -64.18296813964844,
          "text": "EVQLRLRLARAAGLLARGRRLLLLARAAGLLARGRRLLLLARAAGLLARGRRLLLLARAAGLLARGRRLLLLARAAGLLARGRRLLLLARAAGLLARGRRLLLLARAAGLLARGRRLLLLARAAGLLARGRRLLLLARAAGLLARGRRLLLLARAAGLLARGRRLLLLAR"
         },
         {
          "ll_mean": -0.5211387872695923,
          "ll_sum": -88.07245635986328,
          "text": "EVQLLRERLEQLEAELAAKDREAAERERALAEAEREREAAEAAAREREAAEAAAREREAAEAAAREREAAEAAAREREAAEAAAREREAAEAAAREREAAEAAAREREAAEAAAREREAAEAAAREREAAEAAAREREAAEAAAREREAAEAAAREREAAEAAAREREAA"
         }
        ]
       }
      },
      "text/plain": [
       "<IPython.core.display.JSON object>"
      ]
     },
     "execution_count": 19,
     "metadata": {
      "application/json": {
       "expanded": false,
       "root": "root"
      }
     },
     "output_type": "execute_result"
    }
   ],
   "source": [
    "result"
   ]
  },
  {
   "cell_type": "code",
   "execution_count": 20,
   "metadata": {},
   "outputs": [
    {
     "data": {
      "text/plain": [
       "IPython.core.display.JSON"
      ]
     },
     "execution_count": 20,
     "metadata": {},
     "output_type": "execute_result"
    }
   ],
   "source": [
    "type(result)"
   ]
  },
  {
   "cell_type": "code",
   "execution_count": null,
   "metadata": {},
   "outputs": [],
   "source": []
  }
 ],
 "metadata": {
  "kernelspec": {
   "display_name": "Python 3 (ipykernel)",
   "language": "python",
   "name": "python3"
  },
  "language_info": {
   "codemirror_mode": {
    "name": "ipython",
    "version": 3
   },
   "file_extension": ".py",
   "mimetype": "text/x-python",
   "name": "python",
   "nbconvert_exporter": "python",
   "pygments_lexer": "ipython3",
   "version": "3.10.13"
  }
 },
 "nbformat": 4,
 "nbformat_minor": 4
}
