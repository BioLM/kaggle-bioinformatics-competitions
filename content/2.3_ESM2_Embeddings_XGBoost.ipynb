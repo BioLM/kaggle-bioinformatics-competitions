{
  "metadata": {
    "kernelspec": {
      "name": "python",
      "display_name": "Python (Pyodide)",
      "language": "python"
    },
    "language_info": {
      "codemirror_mode": {
        "name": "python",
        "version": 3
      },
      "file_extension": ".py",
      "mimetype": "text/x-python",
      "name": "python",
      "nbconvert_exporter": "python",
      "pygments_lexer": "ipython3",
      "version": "3.8"
    }
  },
  "nbformat_minor": 5,
  "nbformat": 4,
  "cells": [
    {
      "cell_type": "markdown",
      "source": "# Protein LM Embeddings and Logits as Features\n\nOne of the best ways you can leverage a large language model is for feature generation. The internal, numeric representations the neural-net uses to make predictions can be output and used for downstream machine learning tasks. The numeric vectors from NLP models often encode additional, powerful information beyond simple one-hot encodings. Usually feature engineering for biology is heavily task-specific, but in this case the embeddings can be used for a variety of classification, regression, and other tasks.\n\nOn the backend, the process involves passing input sequences into the pre-trained model for tokenization and representation of the protein through its neural-net layers. Multiple representations of a protein - numeric vectors and/or matrices, such as attention maps - are created. Here we will quickly demo using ESM2 via GPU-backed REST API in order to quickly transform a sequence into embeddings without installing packages, setting up a GPU, and downloading the model.",
      "metadata": {},
      "id": "34c29fac"
    },
    {
      "cell_type": "code",
      "source": "from helpers import api_caller\n\nBIOLMAI_TOKEN = \" \"  # !!! YOUR API TOKEN HERE !!!",
      "metadata": {
        "collapsed": false,
        "jupyter": {
          "outputs_hidden": false
        },
        "trusted": true
      },
      "execution_count": null,
      "outputs": [],
      "id": "5682ffeec67d73a7"
    },
    {
      "cell_type": "code",
      "source": "# FOR IN-BROWSER JUPYTER-LITE ONLY #\nimport micropip  # Install with `pip install pandas` if running notebook elsewhere\nawait micropip.install('pandas')\nawait micropip.install('xgboost')\nawait micropip.install('scikit-learn')\nawait micropip.install('matplotlib')\nawait micropip.install('seaborn')",
      "metadata": {
        "trusted": true
      },
      "execution_count": 2,
      "outputs": [],
      "id": "1d58e134-0e0c-4f12-992e-5ee0e43dba5a"
    },
    {
      "cell_type": "code",
      "source": "import os\n\nimport pandas as pd\n\nfrom glob import glob",
      "metadata": {
        "trusted": true
      },
      "execution_count": 3,
      "outputs": [],
      "id": "b4642c70-fae5-44ba-9b83-68a9994b9550"
    },
    {
      "cell_type": "code",
      "source": "# Load sequences and fluorescence data\ndf = pd.concat([\n    pd.read_csv(f) for f in\n    glob(os.path.join('.', 'data', 'protein', 'data', 'fluor*.train.csv'))\n])\n\ndf.drop_duplicates('seq', inplace=True)",
      "metadata": {
        "trusted": true
      },
      "execution_count": 4,
      "outputs": [],
      "id": "c37af2a0"
    },
    {
      "cell_type": "code",
      "source": "df.shape",
      "metadata": {
        "trusted": true
      },
      "execution_count": 5,
      "outputs": [
        {
          "execution_count": 5,
          "output_type": "execute_result",
          "data": {
            "text/plain": "(21446, 2)"
          },
          "metadata": {}
        }
      ],
      "id": "56b51dd1-fca5-4526-ad9c-ad0576ecf521"
    },
    {
      "cell_type": "code",
      "source": "# SAMPLE some of the data\ndf_orig = df  # Retain original DF as `df_orig`\ndf = df_orig.copy().sample(50, random_state=42)\n\ndf.head(6)",
      "metadata": {
        "trusted": true
      },
      "execution_count": 6,
      "outputs": [
        {
          "execution_count": 6,
          "output_type": "execute_result",
          "data": {
            "text/plain": "                                                     seq     label\n19035  SKGEELFTGVVPILVELDGDVNGHKFSVSGEGEGDATYGKLTLKFI...  3.603359\n20206  SKGEELFTGVVPILVELDGDVNGHKFSVSGEGEGDATCGKLTLKFI...  3.940364\n7499   SKGEELFTGVVPILVELDGDVNGHKFSVSGEGVGDATYGKLTLKFI...  3.622829\n1077   SKGEELFTGVVPILVELDGDVNGHKFSVSGEGEGDATYGKLTLKFI...  1.594085\n18115  SKGEELFTGVVPILVELDGDVNGHKFSVSGEGEGDATYGKLTLKFI...  1.302041\n4871   SKGEELFTGVVPILVELDGDVNGHKFSVSGEGEGDATYGKLTLKFI...  1.470378",
            "text/html": "<div>\n<style scoped>\n    .dataframe tbody tr th:only-of-type {\n        vertical-align: middle;\n    }\n\n    .dataframe tbody tr th {\n        vertical-align: top;\n    }\n\n    .dataframe thead th {\n        text-align: right;\n    }\n</style>\n<table border=\"1\" class=\"dataframe\">\n  <thead>\n    <tr style=\"text-align: right;\">\n      <th></th>\n      <th>seq</th>\n      <th>label</th>\n    </tr>\n  </thead>\n  <tbody>\n    <tr>\n      <th>19035</th>\n      <td>SKGEELFTGVVPILVELDGDVNGHKFSVSGEGEGDATYGKLTLKFI...</td>\n      <td>3.603359</td>\n    </tr>\n    <tr>\n      <th>20206</th>\n      <td>SKGEELFTGVVPILVELDGDVNGHKFSVSGEGEGDATCGKLTLKFI...</td>\n      <td>3.940364</td>\n    </tr>\n    <tr>\n      <th>7499</th>\n      <td>SKGEELFTGVVPILVELDGDVNGHKFSVSGEGVGDATYGKLTLKFI...</td>\n      <td>3.622829</td>\n    </tr>\n    <tr>\n      <th>1077</th>\n      <td>SKGEELFTGVVPILVELDGDVNGHKFSVSGEGEGDATYGKLTLKFI...</td>\n      <td>1.594085</td>\n    </tr>\n    <tr>\n      <th>18115</th>\n      <td>SKGEELFTGVVPILVELDGDVNGHKFSVSGEGEGDATYGKLTLKFI...</td>\n      <td>1.302041</td>\n    </tr>\n    <tr>\n      <th>4871</th>\n      <td>SKGEELFTGVVPILVELDGDVNGHKFSVSGEGEGDATYGKLTLKFI...</td>\n      <td>1.470378</td>\n    </tr>\n  </tbody>\n</table>\n</div>"
          },
          "metadata": {}
        }
      ],
      "id": "cd888491-6652-474f-b273-22ccdfc44843"
    },
    {
      "cell_type": "markdown",
      "source": "Here we have a DataFrame containing sequences and their measured fluorescence. We can use the ESM2 embeddings as features to perform a quick regression to predict fluorescence values; but first we need to actually generate the embeddings.\n\nLet's write a function that takes a sequence and requests its embeddings via REST API. The [ESM2 encode endpoint documentation](https://api.biolm.ai/#daa50ec7-0da2-4bff-ab4c-3ead7f377154) provides examples of the structure of a response.",
      "metadata": {},
      "id": "5c5e8270"
    },
    {
      "cell_type": "code",
      "source": "SLUG = 'esm2-650m'\nACTION = 'encode'",
      "metadata": {
        "trusted": true
      },
      "execution_count": 7,
      "outputs": [],
      "id": "abed9aa1"
    },
    {
      "cell_type": "markdown",
      "source": "## Single Sequence Embeddings",
      "metadata": {},
      "id": "46df1910-4e53-41e5-b3ee-bd736bacdf13"
    },
    {
      "cell_type": "code",
      "source": "test_protein = df.sample(1).seq.iloc[0]\n\nprint(\"Sequence length: {}\\n{}\".format(len(test_protein), test_protein))",
      "metadata": {
        "trusted": true
      },
      "execution_count": 8,
      "outputs": [
        {
          "name": "stdout",
          "text": "Sequence length: 237\nSKGEELFTGVVPILVELDGDVNGHKFSVSGEGEGDATYGKLTLKFICTTGKLPVPWPTLVTTLSYGVQCFSRYPDHMKQHDFFKSAMPEGYVQERTIFFKDDGNYKTRAEVKFEGDTLVNRIELKGIDFKEDGNILGHKLEYNYNSHNVYIMADKQKNGIKVNFKIRHNIGDGSVQLADHYQQNTPIGDGPVLLPDNHYLSTQSALSKDPNEKRDHMVLLVFVTTAGITHGMDELYK\n",
          "output_type": "stream"
        }
      ],
      "id": "cf0622bf-7e30-418e-b63e-7e0b5fb302e2"
    },
    {
      "cell_type": "markdown",
      "source": "We can POST that sequence:",
      "metadata": {},
      "id": "d6fff5a9-a5d2-4c65-8bcb-edee48bc4e9e"
    },
    {
      "cell_type": "code",
      "source": "# Definition comes from API reference docs linked just above\ndata = {\n        \"params\": {\n            \"include\": [\n                \"mean\",\n                \"contacts\",\n                \"logits\",\n                \"attentions\"\n            ]\n    },\n  \"items\": [\n    {\n      \"sequence\": test_protein\n    }\n  ]\n}\n\n# Async function to get embeddings via REST API\nr = await api_caller(\n    SLUG,\n    ACTION,\n    data,\n    TOKEN\n)",
      "metadata": {
        "trusted": true
      },
      "execution_count": 9,
      "outputs": [],
      "id": "2323422b-61a6-46ea-9467-ac48f4e383d1"
    },
    {
      "cell_type": "code",
      "source": "from IPython.display import JSON\n\nJSON(r)",
      "metadata": {
        "trusted": true
      },
      "execution_count": 10,
      "outputs": [
        {
          "execution_count": 10,
          "output_type": "execute_result",
          "data": {
            "text/plain": "<IPython.core.display.JSON object>",
            "application/json": {
              "embeddings": []
            }
          },
          "metadata": {
            "application/json": {
              "expanded": false,
              "root": "root"
            }
          }
        }
      ],
      "id": "5b28b0da-103a-4909-b6e4-73c3a83d06f3"
    },
    {
      "cell_type": "markdown",
      "source": "We get back a list of dicts. Each dictionary item `mean_representations` contains the mean representations of a layer(s) from ESM2. In this case, we return the embeddings from the the final hidden layer, `33`.\n\nLet's load this representation and look at its shape.",
      "metadata": {},
      "id": "e0b77e7e-175b-440c-a8a0-dc52d9b715d2"
    },
    {
      "cell_type": "code",
      "source": "embed_single = pd.DataFrame(r['results'][0]['mean_representations']['33']).T\n\nembed_single",
      "metadata": {
        "trusted": true
      },
      "execution_count": 11,
      "outputs": [
        {
          "ename": "<class 'KeyError'>",
          "evalue": "'predictions'",
          "traceback": [
            "\u001b[0;31m---------------------------------------------------------------------------\u001b[0m",
            "\u001b[0;31mKeyError\u001b[0m                                  Traceback (most recent call last)",
            "Cell \u001b[0;32mIn[11], line 1\u001b[0m\n\u001b[0;32m----> 1\u001b[0m embed_single \u001b[38;5;241m=\u001b[39m pd\u001b[38;5;241m.\u001b[39mDataFrame(\u001b[43mr\u001b[49m\u001b[43m[\u001b[49m\u001b[38;5;124;43m'\u001b[39;49m\u001b[38;5;124;43mpredictions\u001b[39;49m\u001b[38;5;124;43m'\u001b[39;49m\u001b[43m]\u001b[49m[\u001b[38;5;241m0\u001b[39m][\u001b[38;5;124m'\u001b[39m\u001b[38;5;124mmean_representations\u001b[39m\u001b[38;5;124m'\u001b[39m][\u001b[38;5;124m'\u001b[39m\u001b[38;5;124m33\u001b[39m\u001b[38;5;124m'\u001b[39m])\u001b[38;5;241m.\u001b[39mT\n\u001b[1;32m      3\u001b[0m embed_single\n",
            "\u001b[0;31mKeyError\u001b[0m: 'predictions'"
          ],
          "output_type": "error"
        }
      ],
      "id": "1672a4af-8faf-40ee-ba9f-6b5a16fd3f88"
    },
    {
      "cell_type": "markdown",
      "source": "We can see that while the original sequence is `237` residues, the LLM uses a vector of `1280` to represent sequences. So, anytime we request an embedding for a sequence, we'll get back a representation that is the same size as another sequence. This makes downstream ML, especially with other NNs, nice and easy since we don't have to worry about padding.\n\nLet's get the embeddings for all sequences in the DF, asynchronously, via REST API.",
      "metadata": {},
      "id": "48e698a7-ba13-4be3-9a71-db0ab2d9d218"
    },
    {
      "cell_type": "markdown",
      "source": "## Embeddings for All Seqs in DF",
      "metadata": {},
      "id": "7e3fb0e3-b43c-471d-9c81-9da0fd978d0c"
    },
    {
      "cell_type": "code",
      "source": "import asyncio\nimport random\n\n# Limit concurrency to 3 requests at a time (*not* RPS)\nsem = asyncio.Semaphore(5)\n\n\nresults = []\n\nasync def f(seq):\n    # Add small jitter\n    jitter = random.randint(1, 100) / 100.0  \n    await asyncio.sleep(jitter * 4)\n    # Definition comes from API reference docs linked just above\n    data = {\n        \"params\": {\n            \"include\": [\n                \"mean\",\n                \"contacts\",\n                \"logits\",\n                \"attentions\"\n            ]\n        },\n        \"items\": [\n        {\n          \"sequence\": seq\n\n        }\n      ]\n    }\n    # Request the embeddings\n    async with sem:\n        r = await api_caller(\n            SLUG,\n            ACTION,\n            data,\n            TOKEN\n        )\n        res = r['results'][0]['mean_representations']['33']\n        \n    return res\n\n\nops = [f(seq) for seq in df['seq'].to_list()]\nrets = await asyncio.gather(*ops)",
      "metadata": {
        "trusted": true
      },
      "execution_count": 12,
      "outputs": [
        {
          "ename": "<class 'KeyError'>",
          "evalue": "'predictions'",
          "traceback": [
            "\u001b[0;31m---------------------------------------------------------------------------\u001b[0m",
            "\u001b[0;31mKeyError\u001b[0m                                  Traceback (most recent call last)",
            "Cell \u001b[0;32mIn[12], line 38\u001b[0m\n\u001b[1;32m     34\u001b[0m     \u001b[38;5;28;01mreturn\u001b[39;00m res\n\u001b[1;32m     37\u001b[0m ops \u001b[38;5;241m=\u001b[39m [f(seq) \u001b[38;5;28;01mfor\u001b[39;00m seq \u001b[38;5;129;01min\u001b[39;00m df[\u001b[38;5;124m'\u001b[39m\u001b[38;5;124mseq\u001b[39m\u001b[38;5;124m'\u001b[39m]\u001b[38;5;241m.\u001b[39mto_list()]\n\u001b[0;32m---> 38\u001b[0m rets \u001b[38;5;241m=\u001b[39m \u001b[38;5;28;01mawait\u001b[39;00m asyncio\u001b[38;5;241m.\u001b[39mgather(\u001b[38;5;241m*\u001b[39mops)\n",
            "Cell \u001b[0;32mIn[12], line 32\u001b[0m, in \u001b[0;36mf\u001b[0;34m(seq)\u001b[0m\n\u001b[1;32m     25\u001b[0m \u001b[38;5;28;01masync\u001b[39;00m \u001b[38;5;28;01mwith\u001b[39;00m sem:\n\u001b[1;32m     26\u001b[0m     r \u001b[38;5;241m=\u001b[39m \u001b[38;5;28;01mawait\u001b[39;00m api_caller(\n\u001b[1;32m     27\u001b[0m         SLUG,\n\u001b[1;32m     28\u001b[0m         \u001b[38;5;124m'\u001b[39m\u001b[38;5;124mtransform\u001b[39m\u001b[38;5;124m'\u001b[39m,\n\u001b[1;32m     29\u001b[0m         data,\n\u001b[1;32m     30\u001b[0m         TOKEN\n\u001b[1;32m     31\u001b[0m     )\n\u001b[0;32m---> 32\u001b[0m     res \u001b[38;5;241m=\u001b[39m \u001b[43mr\u001b[49m\u001b[43m[\u001b[49m\u001b[38;5;124;43m'\u001b[39;49m\u001b[38;5;124;43mpredictions\u001b[39;49m\u001b[38;5;124;43m'\u001b[39;49m\u001b[43m]\u001b[49m[\u001b[38;5;241m0\u001b[39m][\u001b[38;5;124m'\u001b[39m\u001b[38;5;124mmean_representations\u001b[39m\u001b[38;5;124m'\u001b[39m][\u001b[38;5;124m'\u001b[39m\u001b[38;5;124m33\u001b[39m\u001b[38;5;124m'\u001b[39m]\n\u001b[1;32m     34\u001b[0m \u001b[38;5;28;01mreturn\u001b[39;00m res\n",
            "\u001b[0;31mKeyError\u001b[0m: 'predictions'"
          ],
          "output_type": "error"
        }
      ],
      "id": "b6baf1e5-fc9c-4b48-b2bc-d4342df75ea2"
    },
    {
      "cell_type": "code",
      "source": "len(rets)",
      "metadata": {
        "trusted": true
      },
      "execution_count": 13,
      "outputs": [
        {
          "ename": "<class 'NameError'>",
          "evalue": "name 'rets' is not defined",
          "traceback": [
            "\u001b[0;31m---------------------------------------------------------------------------\u001b[0m",
            "\u001b[0;31mNameError\u001b[0m                                 Traceback (most recent call last)",
            "Cell \u001b[0;32mIn[13], line 1\u001b[0m\n\u001b[0;32m----> 1\u001b[0m \u001b[38;5;28mlen\u001b[39m(\u001b[43mrets\u001b[49m)\n",
            "\u001b[0;31mNameError\u001b[0m: name 'rets' is not defined"
          ],
          "output_type": "error"
        }
      ],
      "id": "2d2051cb"
    },
    {
      "cell_type": "markdown",
      "source": "Now, instead of getting the embeddings, we could have written a function to retrieve the logits. In fact, they were returned by the same API endpoint - we simply need to use a different key. We can look at the single-sequence API request we made earlier to find them:",
      "metadata": {},
      "id": "6f825277"
    },
    {
      "cell_type": "code",
      "source": "logits_single = pd.DataFrame(r['results'][0]['logits']).T\n\nlogits_single",
      "metadata": {
        "trusted": true
      },
      "execution_count": 14,
      "outputs": [
        {
          "ename": "<class 'KeyError'>",
          "evalue": "'predictions'",
          "traceback": [
            "\u001b[0;31m---------------------------------------------------------------------------\u001b[0m",
            "\u001b[0;31mKeyError\u001b[0m                                  Traceback (most recent call last)",
            "Cell \u001b[0;32mIn[14], line 1\u001b[0m\n\u001b[0;32m----> 1\u001b[0m logits_single \u001b[38;5;241m=\u001b[39m pd\u001b[38;5;241m.\u001b[39mDataFrame(\u001b[43mr\u001b[49m\u001b[43m[\u001b[49m\u001b[38;5;124;43m'\u001b[39;49m\u001b[38;5;124;43mpredictions\u001b[39;49m\u001b[38;5;124;43m'\u001b[39;49m\u001b[43m]\u001b[49m[\u001b[38;5;241m0\u001b[39m][\u001b[38;5;124m'\u001b[39m\u001b[38;5;124mlogits\u001b[39m\u001b[38;5;124m'\u001b[39m])\u001b[38;5;241m.\u001b[39mT\n\u001b[1;32m      3\u001b[0m logits_single\n",
            "\u001b[0;31mKeyError\u001b[0m: 'predictions'"
          ],
          "output_type": "error"
        }
      ],
      "id": "1d2fca1d"
    },
    {
      "cell_type": "markdown",
      "source": "One could also use the sum or mean as a representation of sequence:",
      "metadata": {},
      "id": "1614dc0e"
    },
    {
      "cell_type": "code",
      "source": "logits_single.iloc[0].sum()",
      "metadata": {
        "trusted": true
      },
      "execution_count": 15,
      "outputs": [
        {
          "ename": "<class 'NameError'>",
          "evalue": "name 'logits_single' is not defined",
          "traceback": [
            "\u001b[0;31m---------------------------------------------------------------------------\u001b[0m",
            "\u001b[0;31mNameError\u001b[0m                                 Traceback (most recent call last)",
            "Cell \u001b[0;32mIn[15], line 1\u001b[0m\n\u001b[0;32m----> 1\u001b[0m \u001b[43mlogits_single\u001b[49m\u001b[38;5;241m.\u001b[39miloc[\u001b[38;5;241m0\u001b[39m]\u001b[38;5;241m.\u001b[39msum()\n",
            "\u001b[0;31mNameError\u001b[0m: name 'logits_single' is not defined"
          ],
          "output_type": "error"
        }
      ],
      "id": "fa07618c"
    },
    {
      "cell_type": "code",
      "source": "logits_single.iloc[0].mean()",
      "metadata": {
        "trusted": true
      },
      "execution_count": 16,
      "outputs": [
        {
          "ename": "<class 'NameError'>",
          "evalue": "name 'logits_single' is not defined",
          "traceback": [
            "\u001b[0;31m---------------------------------------------------------------------------\u001b[0m",
            "\u001b[0;31mNameError\u001b[0m                                 Traceback (most recent call last)",
            "Cell \u001b[0;32mIn[16], line 1\u001b[0m\n\u001b[0;32m----> 1\u001b[0m \u001b[43mlogits_single\u001b[49m\u001b[38;5;241m.\u001b[39miloc[\u001b[38;5;241m0\u001b[39m]\u001b[38;5;241m.\u001b[39mmean()\n",
            "\u001b[0;31mNameError\u001b[0m: name 'logits_single' is not defined"
          ],
          "output_type": "error"
        }
      ],
      "id": "69dfc094"
    },
    {
      "cell_type": "markdown",
      "source": "## Modeling with XGBoost\n\nIn order to not require any transformations of the data, let's use a tree-based method to quickly create a regression model using these ESM2 embeddings.\n\nWe'll see how well we can model fluorescence with about 1,000 samples. With so few, we should make sure to uniformly sample our labels as much as possible.\n\nThis will take several minutes, depending on your download speed and connection bandwidth. We've added a slight jitter and limit of 5 concurrent connections above, to prevent thundering herds and overwhelming your connection. You can open your browser's Developer Tools (aka Inspector) and watch the traffic under the Network tab.",
      "metadata": {},
      "id": "90dd79a7-4cf4-439c-b6d3-0e83370ee595"
    },
    {
      "cell_type": "code",
      "source": "df_orig['bins'] = pd.cut(df_orig.label, bins=100)\ndf_orig['bins'] = df_orig['bins'].astype('str')\n\ndf_orig.bins.value_counts()",
      "metadata": {
        "trusted": true
      },
      "execution_count": 17,
      "outputs": [
        {
          "execution_count": 17,
          "output_type": "execute_result",
          "data": {
            "text/plain": "(1.281, 1.312]    1861\n(3.669, 3.697]    1494\n(3.612, 3.64]     1330\n(3.697, 3.726]    1255\n(3.64, 3.669]     1248\n                  ... \n(2.448, 2.476]       2\n(2.646, 2.675]       2\n(2.05, 2.079]        2\n(2.419, 2.448]       1\n(4.066, 4.095]       1\nName: bins, Length: 97, dtype: int64"
          },
          "metadata": {}
        }
      ],
      "id": "4f2181d6-a4fa-4866-8076-c1ae48ec0d2d"
    },
    {
      "cell_type": "code",
      "source": "sampled = []\n\ndf_orig = df_orig.sample(df_orig.shape[0], random_state=42)\n\nfor n, grp in df_orig.groupby('bins'):\n    # At most 15 rows from each bin\n    samp = grp.head(10).reset_index(drop=True)\n    sampled.append(samp)\n    \nsampled_rows = pd.concat(sampled, axis=0).reset_index(drop=True)\n\ndf_xgboost = sampled_rows\n\ndf_xgboost.shape",
      "metadata": {
        "trusted": true
      },
      "execution_count": 18,
      "outputs": [
        {
          "execution_count": 18,
          "output_type": "execute_result",
          "data": {
            "text/plain": "(810, 3)"
          },
          "metadata": {}
        }
      ],
      "id": "0b1d1016-ac75-4f9b-bdf7-42084ed80924"
    },
    {
      "cell_type": "code",
      "source": "ops = [f(seq) for seq in df_xgboost['seq'].to_list()]\nxgboost_embeddings = await asyncio.gather(*ops)",
      "metadata": {
        "trusted": true
      },
      "execution_count": 19,
      "outputs": [
        {
          "ename": "<class 'KeyError'>",
          "evalue": "'predictions'",
          "traceback": [
            "\u001b[0;31m---------------------------------------------------------------------------\u001b[0m",
            "\u001b[0;31mKeyError\u001b[0m                                  Traceback (most recent call last)",
            "Cell \u001b[0;32mIn[19], line 2\u001b[0m\n\u001b[1;32m      1\u001b[0m ops \u001b[38;5;241m=\u001b[39m [f(seq) \u001b[38;5;28;01mfor\u001b[39;00m seq \u001b[38;5;129;01min\u001b[39;00m df_xgboost[\u001b[38;5;124m'\u001b[39m\u001b[38;5;124mseq\u001b[39m\u001b[38;5;124m'\u001b[39m]\u001b[38;5;241m.\u001b[39mto_list()]\n\u001b[0;32m----> 2\u001b[0m xgboost_embeddings \u001b[38;5;241m=\u001b[39m \u001b[38;5;28;01mawait\u001b[39;00m asyncio\u001b[38;5;241m.\u001b[39mgather(\u001b[38;5;241m*\u001b[39mops)\n",
            "Cell \u001b[0;32mIn[12], line 32\u001b[0m, in \u001b[0;36mf\u001b[0;34m(seq)\u001b[0m\n\u001b[1;32m     25\u001b[0m \u001b[38;5;28;01masync\u001b[39;00m \u001b[38;5;28;01mwith\u001b[39;00m sem:\n\u001b[1;32m     26\u001b[0m     r \u001b[38;5;241m=\u001b[39m \u001b[38;5;28;01mawait\u001b[39;00m api_caller(\n\u001b[1;32m     27\u001b[0m         SLUG,\n\u001b[1;32m     28\u001b[0m         \u001b[38;5;124m'\u001b[39m\u001b[38;5;124mtransform\u001b[39m\u001b[38;5;124m'\u001b[39m,\n\u001b[1;32m     29\u001b[0m         data,\n\u001b[1;32m     30\u001b[0m         TOKEN\n\u001b[1;32m     31\u001b[0m     )\n\u001b[0;32m---> 32\u001b[0m     res \u001b[38;5;241m=\u001b[39m \u001b[43mr\u001b[49m\u001b[43m[\u001b[49m\u001b[38;5;124;43m'\u001b[39;49m\u001b[38;5;124;43mpredictions\u001b[39;49m\u001b[38;5;124;43m'\u001b[39;49m\u001b[43m]\u001b[49m[\u001b[38;5;241m0\u001b[39m][\u001b[38;5;124m'\u001b[39m\u001b[38;5;124mmean_representations\u001b[39m\u001b[38;5;124m'\u001b[39m][\u001b[38;5;124m'\u001b[39m\u001b[38;5;124m33\u001b[39m\u001b[38;5;124m'\u001b[39m]\n\u001b[1;32m     34\u001b[0m \u001b[38;5;28;01mreturn\u001b[39;00m res\n",
            "\u001b[0;31mKeyError\u001b[0m: 'predictions'"
          ],
          "output_type": "error"
        }
      ],
      "id": "be22e091-3a49-425e-9e22-97154658c4ab"
    },
    {
      "cell_type": "code",
      "source": "embeddings = pd.DataFrame(xgboost_embeddings)\n\nembeddings.shape",
      "metadata": {
        "trusted": true
      },
      "execution_count": 20,
      "outputs": [
        {
          "ename": "<class 'NameError'>",
          "evalue": "name 'xgboost_embeddings' is not defined",
          "traceback": [
            "\u001b[0;31m---------------------------------------------------------------------------\u001b[0m",
            "\u001b[0;31mNameError\u001b[0m                                 Traceback (most recent call last)",
            "Cell \u001b[0;32mIn[20], line 1\u001b[0m\n\u001b[0;32m----> 1\u001b[0m embeddings \u001b[38;5;241m=\u001b[39m pd\u001b[38;5;241m.\u001b[39mDataFrame(\u001b[43mxgboost_embeddings\u001b[49m)\n\u001b[1;32m      3\u001b[0m embeddings\u001b[38;5;241m.\u001b[39mshape\n",
            "\u001b[0;31mNameError\u001b[0m: name 'xgboost_embeddings' is not defined"
          ],
          "output_type": "error"
        }
      ],
      "id": "9ce879ff-a051-4df6-8097-ea189ab3c3ac"
    },
    {
      "cell_type": "code",
      "source": "await micropip.install('seaborn')",
      "metadata": {
        "trusted": true
      },
      "execution_count": 21,
      "outputs": [],
      "id": "a703a73a-c5a8-4ac0-8432-aa4f7b53be27"
    },
    {
      "cell_type": "code",
      "source": "from sklearn import model_selection\n\n# Create 80:20 train:test split\ntrain_x, test_x, train_y, test_y = model_selection.train_test_split(\n    embeddings,\n    df_xgboost.label,\n    test_size=0.2,\n    random_state=54\n)\n\nprint(\"X Train size: {}\\nX Test size: {}\".format(train_x.shape, test_x.shape))\nprint(\"Y Train size: {}\\nY Test size: {}\".format(train_y.shape, test_y.shape))",
      "metadata": {
        "trusted": true
      },
      "execution_count": 22,
      "outputs": [
        {
          "ename": "<class 'NameError'>",
          "evalue": "name 'embeddings' is not defined",
          "traceback": [
            "\u001b[0;31m---------------------------------------------------------------------------\u001b[0m",
            "\u001b[0;31mNameError\u001b[0m                                 Traceback (most recent call last)",
            "Cell \u001b[0;32mIn[22], line 5\u001b[0m\n\u001b[1;32m      1\u001b[0m \u001b[38;5;28;01mfrom\u001b[39;00m \u001b[38;5;21;01msklearn\u001b[39;00m \u001b[38;5;28;01mimport\u001b[39;00m model_selection\n\u001b[1;32m      3\u001b[0m \u001b[38;5;66;03m# Create 80:20 train:test split\u001b[39;00m\n\u001b[1;32m      4\u001b[0m train_x, test_x, train_y, test_y \u001b[38;5;241m=\u001b[39m model_selection\u001b[38;5;241m.\u001b[39mtrain_test_split(\n\u001b[0;32m----> 5\u001b[0m     \u001b[43membeddings\u001b[49m,\n\u001b[1;32m      6\u001b[0m     df_xgboost\u001b[38;5;241m.\u001b[39mlabel,\n\u001b[1;32m      7\u001b[0m     test_size\u001b[38;5;241m=\u001b[39m\u001b[38;5;241m0.2\u001b[39m,\n\u001b[1;32m      8\u001b[0m     random_state\u001b[38;5;241m=\u001b[39m\u001b[38;5;241m54\u001b[39m\n\u001b[1;32m      9\u001b[0m )\n\u001b[1;32m     11\u001b[0m \u001b[38;5;28mprint\u001b[39m(\u001b[38;5;124m\"\u001b[39m\u001b[38;5;124mX Train size: \u001b[39m\u001b[38;5;132;01m{}\u001b[39;00m\u001b[38;5;130;01m\\n\u001b[39;00m\u001b[38;5;124mX Test size: \u001b[39m\u001b[38;5;132;01m{}\u001b[39;00m\u001b[38;5;124m\"\u001b[39m\u001b[38;5;241m.\u001b[39mformat(train_x\u001b[38;5;241m.\u001b[39mshape, test_x\u001b[38;5;241m.\u001b[39mshape))\n\u001b[1;32m     12\u001b[0m \u001b[38;5;28mprint\u001b[39m(\u001b[38;5;124m\"\u001b[39m\u001b[38;5;124mY Train size: \u001b[39m\u001b[38;5;132;01m{}\u001b[39;00m\u001b[38;5;130;01m\\n\u001b[39;00m\u001b[38;5;124mY Test size: \u001b[39m\u001b[38;5;132;01m{}\u001b[39;00m\u001b[38;5;124m\"\u001b[39m\u001b[38;5;241m.\u001b[39mformat(train_y\u001b[38;5;241m.\u001b[39mshape, test_y\u001b[38;5;241m.\u001b[39mshape))\n",
            "\u001b[0;31mNameError\u001b[0m: name 'embeddings' is not defined"
          ],
          "output_type": "error"
        }
      ],
      "id": "d871e251-ed63-444b-937e-79e0307723a3"
    },
    {
      "cell_type": "code",
      "source": "embeddings.head(3)",
      "metadata": {
        "trusted": true
      },
      "execution_count": 23,
      "outputs": [
        {
          "ename": "<class 'NameError'>",
          "evalue": "name 'embeddings' is not defined",
          "traceback": [
            "\u001b[0;31m---------------------------------------------------------------------------\u001b[0m",
            "\u001b[0;31mNameError\u001b[0m                                 Traceback (most recent call last)",
            "Cell \u001b[0;32mIn[23], line 1\u001b[0m\n\u001b[0;32m----> 1\u001b[0m \u001b[43membeddings\u001b[49m\u001b[38;5;241m.\u001b[39mhead(\u001b[38;5;241m3\u001b[39m)\n",
            "\u001b[0;31mNameError\u001b[0m: name 'embeddings' is not defined"
          ],
          "output_type": "error"
        }
      ],
      "id": "3ca083ac-c281-494d-b4e0-765e27e58f22"
    },
    {
      "cell_type": "code",
      "source": "import xgboost as xgb\n\n#Set up cross-validation modeling objective\ndata_dmatrix = xgb.DMatrix(data=train_x, label=train_y)\n\nparams = {\n    'booster': 'gbtree',\n    \"objective\": \"reg:squarederror\",\n    'colsample_bytree': 0.40,\n    'learning_rate': 0.2,\n    'max_depth': 40,\n    'eval_metric': 'rmse',\n    'alpha': 0.8,\n}\n\n# Run CV\ncv_results = xgb.cv(\n    dtrain=data_dmatrix,\n    params=params,\n    nfold=5,\n    num_boost_round=100,\n    early_stopping_rounds=6,\n    metrics=\"rmse\",\n    as_pandas=True,\n    seed=42\n)",
      "metadata": {
        "trusted": true
      },
      "execution_count": 24,
      "outputs": [
        {
          "ename": "<class 'NameError'>",
          "evalue": "name 'train_x' is not defined",
          "traceback": [
            "\u001b[0;31m---------------------------------------------------------------------------\u001b[0m",
            "\u001b[0;31mNameError\u001b[0m                                 Traceback (most recent call last)",
            "Cell \u001b[0;32mIn[24], line 4\u001b[0m\n\u001b[1;32m      1\u001b[0m \u001b[38;5;28;01mimport\u001b[39;00m \u001b[38;5;21;01mxgboost\u001b[39;00m \u001b[38;5;28;01mas\u001b[39;00m \u001b[38;5;21;01mxgb\u001b[39;00m\n\u001b[1;32m      3\u001b[0m \u001b[38;5;66;03m#Set up cross-validation modeling objective\u001b[39;00m\n\u001b[0;32m----> 4\u001b[0m data_dmatrix \u001b[38;5;241m=\u001b[39m xgb\u001b[38;5;241m.\u001b[39mDMatrix(data\u001b[38;5;241m=\u001b[39m\u001b[43mtrain_x\u001b[49m, label\u001b[38;5;241m=\u001b[39mtrain_y)\n\u001b[1;32m      6\u001b[0m params \u001b[38;5;241m=\u001b[39m {\n\u001b[1;32m      7\u001b[0m     \u001b[38;5;124m'\u001b[39m\u001b[38;5;124mbooster\u001b[39m\u001b[38;5;124m'\u001b[39m: \u001b[38;5;124m'\u001b[39m\u001b[38;5;124mgbtree\u001b[39m\u001b[38;5;124m'\u001b[39m,\n\u001b[1;32m      8\u001b[0m     \u001b[38;5;124m\"\u001b[39m\u001b[38;5;124mobjective\u001b[39m\u001b[38;5;124m\"\u001b[39m: \u001b[38;5;124m\"\u001b[39m\u001b[38;5;124mreg:squarederror\u001b[39m\u001b[38;5;124m\"\u001b[39m,\n\u001b[0;32m   (...)\u001b[0m\n\u001b[1;32m     13\u001b[0m     \u001b[38;5;124m'\u001b[39m\u001b[38;5;124malpha\u001b[39m\u001b[38;5;124m'\u001b[39m: \u001b[38;5;241m0.8\u001b[39m,\n\u001b[1;32m     14\u001b[0m }\n\u001b[1;32m     16\u001b[0m \u001b[38;5;66;03m# Run CV\u001b[39;00m\n",
            "\u001b[0;31mNameError\u001b[0m: name 'train_x' is not defined"
          ],
          "output_type": "error"
        }
      ],
      "id": "8f39eef5-3fe3-4b7a-8aae-6211849b3b58"
    },
    {
      "cell_type": "markdown",
      "source": "We can see how the performance of the model training started...",
      "metadata": {},
      "id": "492d4d80-c5c8-4006-be1c-752fb2d05727"
    },
    {
      "cell_type": "code",
      "source": "cv_results.head()",
      "metadata": {
        "trusted": true
      },
      "execution_count": 25,
      "outputs": [
        {
          "ename": "<class 'NameError'>",
          "evalue": "name 'cv_results' is not defined",
          "traceback": [
            "\u001b[0;31m---------------------------------------------------------------------------\u001b[0m",
            "\u001b[0;31mNameError\u001b[0m                                 Traceback (most recent call last)",
            "Cell \u001b[0;32mIn[25], line 1\u001b[0m\n\u001b[0;32m----> 1\u001b[0m \u001b[43mcv_results\u001b[49m\u001b[38;5;241m.\u001b[39mhead()\n",
            "\u001b[0;31mNameError\u001b[0m: name 'cv_results' is not defined"
          ],
          "output_type": "error"
        }
      ],
      "id": "b0bacdad-bc90-4d89-bdb2-22f07a4c4057"
    },
    {
      "cell_type": "code",
      "source": "cv_results.tail(10)",
      "metadata": {
        "trusted": true
      },
      "execution_count": 26,
      "outputs": [
        {
          "ename": "<class 'NameError'>",
          "evalue": "name 'cv_results' is not defined",
          "traceback": [
            "\u001b[0;31m---------------------------------------------------------------------------\u001b[0m",
            "\u001b[0;31mNameError\u001b[0m                                 Traceback (most recent call last)",
            "Cell \u001b[0;32mIn[26], line 1\u001b[0m\n\u001b[0;32m----> 1\u001b[0m \u001b[43mcv_results\u001b[49m\u001b[38;5;241m.\u001b[39mtail(\u001b[38;5;241m10\u001b[39m)\n",
            "\u001b[0;31mNameError\u001b[0m: name 'cv_results' is not defined"
          ],
          "output_type": "error"
        }
      ],
      "id": "b0bbd4af-abcf-447b-9ce3-01f0d5b86944"
    },
    {
      "cell_type": "code",
      "source": "# Final RMSE on test set\nprint((cv_results[\"test-rmse-mean\"]).tail(1))",
      "metadata": {
        "trusted": true
      },
      "execution_count": 27,
      "outputs": [
        {
          "ename": "<class 'NameError'>",
          "evalue": "name 'cv_results' is not defined",
          "traceback": [
            "\u001b[0;31m---------------------------------------------------------------------------\u001b[0m",
            "\u001b[0;31mNameError\u001b[0m                                 Traceback (most recent call last)",
            "Cell \u001b[0;32mIn[27], line 2\u001b[0m\n\u001b[1;32m      1\u001b[0m \u001b[38;5;66;03m# Final RMSE on test set\u001b[39;00m\n\u001b[0;32m----> 2\u001b[0m \u001b[38;5;28mprint\u001b[39m((\u001b[43mcv_results\u001b[49m[\u001b[38;5;124m\"\u001b[39m\u001b[38;5;124mtest-rmse-mean\u001b[39m\u001b[38;5;124m\"\u001b[39m])\u001b[38;5;241m.\u001b[39mtail(\u001b[38;5;241m1\u001b[39m))\n",
            "\u001b[0;31mNameError\u001b[0m: name 'cv_results' is not defined"
          ],
          "output_type": "error"
        }
      ],
      "id": "b976f922-80e5-45a2-9ae1-470004803699"
    },
    {
      "cell_type": "code",
      "source": "# Final SD on test set\nprint((cv_results[\"test-rmse-std\"]).tail(1))",
      "metadata": {
        "trusted": true
      },
      "execution_count": 28,
      "outputs": [
        {
          "ename": "<class 'NameError'>",
          "evalue": "name 'cv_results' is not defined",
          "traceback": [
            "\u001b[0;31m---------------------------------------------------------------------------\u001b[0m",
            "\u001b[0;31mNameError\u001b[0m                                 Traceback (most recent call last)",
            "Cell \u001b[0;32mIn[28], line 2\u001b[0m\n\u001b[1;32m      1\u001b[0m \u001b[38;5;66;03m# Final SD on test set\u001b[39;00m\n\u001b[0;32m----> 2\u001b[0m \u001b[38;5;28mprint\u001b[39m((\u001b[43mcv_results\u001b[49m[\u001b[38;5;124m\"\u001b[39m\u001b[38;5;124mtest-rmse-std\u001b[39m\u001b[38;5;124m\"\u001b[39m])\u001b[38;5;241m.\u001b[39mtail(\u001b[38;5;241m1\u001b[39m))\n",
            "\u001b[0;31mNameError\u001b[0m: name 'cv_results' is not defined"
          ],
          "output_type": "error"
        }
      ],
      "id": "9ed546d3-d20c-4b4d-8cf6-d37655caffa8"
    },
    {
      "cell_type": "markdown",
      "source": "We can get context for these values by looking at the `Y` values that were used in this cross-validation experiment.",
      "metadata": {},
      "id": "b5e9a7f0-655b-4875-b9f0-b7df2e44e313"
    },
    {
      "cell_type": "code",
      "source": "from matplotlib import pyplot as plt\n\nplt.figure(figsize=(6, 5))\n\ntrain_y.hist()",
      "metadata": {
        "trusted": true
      },
      "execution_count": 29,
      "outputs": [
        {
          "output_type": "display_data",
          "data": {
            "text/plain": "<Figure size 600x500 with 0 Axes>"
          },
          "metadata": {}
        },
        {
          "ename": "<class 'NameError'>",
          "evalue": "name 'train_y' is not defined",
          "traceback": [
            "\u001b[0;31m---------------------------------------------------------------------------\u001b[0m",
            "\u001b[0;31mNameError\u001b[0m                                 Traceback (most recent call last)",
            "Cell \u001b[0;32mIn[29], line 5\u001b[0m\n\u001b[1;32m      1\u001b[0m \u001b[38;5;28;01mfrom\u001b[39;00m \u001b[38;5;21;01mmatplotlib\u001b[39;00m \u001b[38;5;28;01mimport\u001b[39;00m pyplot \u001b[38;5;28;01mas\u001b[39;00m plt\n\u001b[1;32m      3\u001b[0m plt\u001b[38;5;241m.\u001b[39mfigure(figsize\u001b[38;5;241m=\u001b[39m(\u001b[38;5;241m6\u001b[39m, \u001b[38;5;241m5\u001b[39m))\n\u001b[0;32m----> 5\u001b[0m \u001b[43mtrain_y\u001b[49m\u001b[38;5;241m.\u001b[39mhist()\n",
            "\u001b[0;31mNameError\u001b[0m: name 'train_y' is not defined"
          ],
          "output_type": "error"
        }
      ],
      "id": "13b578e9-e8f5-4bf6-9535-2e01d9c72157"
    },
    {
      "cell_type": "markdown",
      "source": "Now we can train a model with the cross-validated parameters, using our full training dataset.",
      "metadata": {},
      "id": "f1be161b-0e2c-41bc-b512-e43ada3c4356"
    },
    {
      "cell_type": "code",
      "source": "xg_reg = xgb.train(params=params, dtrain=data_dmatrix, num_boost_round=80)",
      "metadata": {
        "trusted": true
      },
      "execution_count": 30,
      "outputs": [
        {
          "ename": "<class 'NameError'>",
          "evalue": "name 'params' is not defined",
          "traceback": [
            "\u001b[0;31m---------------------------------------------------------------------------\u001b[0m",
            "\u001b[0;31mNameError\u001b[0m                                 Traceback (most recent call last)",
            "Cell \u001b[0;32mIn[30], line 1\u001b[0m\n\u001b[0;32m----> 1\u001b[0m xg_reg \u001b[38;5;241m=\u001b[39m xgb\u001b[38;5;241m.\u001b[39mtrain(params\u001b[38;5;241m=\u001b[39m\u001b[43mparams\u001b[49m, dtrain\u001b[38;5;241m=\u001b[39mdata_dmatrix, num_boost_round\u001b[38;5;241m=\u001b[39m\u001b[38;5;241m80\u001b[39m)\n",
            "\u001b[0;31mNameError\u001b[0m: name 'params' is not defined"
          ],
          "output_type": "error"
        }
      ],
      "id": "9b7df1b0-91b5-40b5-bc35-8643b905b172"
    },
    {
      "cell_type": "markdown",
      "source": "Measuring the predicted values against our test set, let's see how well the model did using just the sequence embeddings features.",
      "metadata": {},
      "id": "5a6e6056-aa05-4e22-aa2a-2705519b9ad5"
    },
    {
      "cell_type": "code",
      "source": "y_pred = xg_reg.predict(xgb.DMatrix(data=test_x, label=test_y))",
      "metadata": {
        "trusted": true
      },
      "execution_count": 31,
      "outputs": [
        {
          "ename": "<class 'NameError'>",
          "evalue": "name 'xg_reg' is not defined",
          "traceback": [
            "\u001b[0;31m---------------------------------------------------------------------------\u001b[0m",
            "\u001b[0;31mNameError\u001b[0m                                 Traceback (most recent call last)",
            "Cell \u001b[0;32mIn[31], line 1\u001b[0m\n\u001b[0;32m----> 1\u001b[0m y_pred \u001b[38;5;241m=\u001b[39m \u001b[43mxg_reg\u001b[49m\u001b[38;5;241m.\u001b[39mpredict(xgb\u001b[38;5;241m.\u001b[39mDMatrix(data\u001b[38;5;241m=\u001b[39mtest_x, label\u001b[38;5;241m=\u001b[39mtest_y))\n",
            "\u001b[0;31mNameError\u001b[0m: name 'xg_reg' is not defined"
          ],
          "output_type": "error"
        }
      ],
      "id": "1a4e8a18-cbbe-4e9a-811b-8149a9eb1c97"
    },
    {
      "cell_type": "code",
      "source": "import seaborn as sns\n\nsns.regplot(x=test_y, y=y_pred)",
      "metadata": {
        "trusted": true
      },
      "execution_count": 32,
      "outputs": [
        {
          "ename": "<class 'NameError'>",
          "evalue": "name 'test_y' is not defined",
          "traceback": [
            "\u001b[0;31m---------------------------------------------------------------------------\u001b[0m",
            "\u001b[0;31mNameError\u001b[0m                                 Traceback (most recent call last)",
            "Cell \u001b[0;32mIn[32], line 3\u001b[0m\n\u001b[1;32m      1\u001b[0m \u001b[38;5;28;01mimport\u001b[39;00m \u001b[38;5;21;01mseaborn\u001b[39;00m \u001b[38;5;28;01mas\u001b[39;00m \u001b[38;5;21;01msns\u001b[39;00m\n\u001b[0;32m----> 3\u001b[0m sns\u001b[38;5;241m.\u001b[39mregplot(x\u001b[38;5;241m=\u001b[39m\u001b[43mtest_y\u001b[49m, y\u001b[38;5;241m=\u001b[39my_pred)\n",
            "\u001b[0;31mNameError\u001b[0m: name 'test_y' is not defined"
          ],
          "output_type": "error"
        }
      ],
      "id": "77471249-8dfa-4539-a660-63d4730589e8"
    },
    {
      "cell_type": "markdown",
      "source": "Lastly, we can attempt to inspect the model and learn a bit more about it, its fit, and our data.",
      "metadata": {},
      "id": "990f2277-16f3-4e99-94b3-7c61acdd48e6"
    },
    {
      "cell_type": "code",
      "source": "xgb.plot_importance(xg_reg, max_num_features=20, grid=False)\nplt.rcParams['figure.figsize'] = [10, 8]\nplt.show()",
      "metadata": {
        "trusted": true
      },
      "execution_count": 33,
      "outputs": [
        {
          "ename": "<class 'NameError'>",
          "evalue": "name 'xg_reg' is not defined",
          "traceback": [
            "\u001b[0;31m---------------------------------------------------------------------------\u001b[0m",
            "\u001b[0;31mNameError\u001b[0m                                 Traceback (most recent call last)",
            "Cell \u001b[0;32mIn[33], line 1\u001b[0m\n\u001b[0;32m----> 1\u001b[0m xgb\u001b[38;5;241m.\u001b[39mplot_importance(\u001b[43mxg_reg\u001b[49m, max_num_features\u001b[38;5;241m=\u001b[39m\u001b[38;5;241m20\u001b[39m, grid\u001b[38;5;241m=\u001b[39m\u001b[38;5;28;01mFalse\u001b[39;00m)\n\u001b[1;32m      2\u001b[0m plt\u001b[38;5;241m.\u001b[39mrcParams[\u001b[38;5;124m'\u001b[39m\u001b[38;5;124mfigure.figsize\u001b[39m\u001b[38;5;124m'\u001b[39m] \u001b[38;5;241m=\u001b[39m [\u001b[38;5;241m10\u001b[39m, \u001b[38;5;241m8\u001b[39m]\n\u001b[1;32m      3\u001b[0m plt\u001b[38;5;241m.\u001b[39mshow()\n",
            "\u001b[0;31mNameError\u001b[0m: name 'xg_reg' is not defined"
          ],
          "output_type": "error"
        }
      ],
      "id": "e984d5b6-d957-48fa-9294-0348c8df79b1"
    },
    {
      "cell_type": "code",
      "source": "",
      "metadata": {},
      "execution_count": null,
      "outputs": [],
      "id": "962b48f8-6bf5-48d8-bd55-16a18cf0664e"
    },
    {
      "cell_type": "code",
      "source": "",
      "metadata": {},
      "execution_count": null,
      "outputs": [],
      "id": "221a9935-84e8-45f5-bf59-61818ceef39f"
    }
  ]
}