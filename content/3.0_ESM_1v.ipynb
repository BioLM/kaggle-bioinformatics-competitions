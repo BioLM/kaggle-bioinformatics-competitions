{
  "metadata": {
    "kernelspec": {
      "name": "python",
      "display_name": "Python (Pyodide)",
      "language": "python"
    },
    "language_info": {
      "codemirror_mode": {
        "name": "python",
        "version": 3
      },
      "file_extension": ".py",
      "mimetype": "text/x-python",
      "name": "python",
      "nbconvert_exporter": "python",
      "pygments_lexer": "ipython3",
      "version": "3.8"
    }
  },
  "nbformat_minor": 5,
  "nbformat": 4,
  "cells": [
    {
      "cell_type": "markdown",
      "source": "<div class=\"jupyter-biolm-header\">\n    <img style=\"float: left; padding-right: 10px; height: 60px\" src=\"https://d31e6ufxekikrt.cloudfront.net/static/ui/images/logo.png\">\n    <p>\n    <br>\n    <br>\n    <br>\n    </p>\n</div>\n\n# ESM-1v API\n\nLanguage model specialized for prediction of variant effects. Enables SOTA zero-shot prediction of the functional effects of sequence variations.<sup>*</sup>\n\n<br>\n\n<table class=\"jupyter-biolm-header-table\" style=\"width: 100%; border-collapse: collapse; background-color: white; float: left;\">\n    <tr>\n        <td style=\"text-align: left; vertical-align: middle; background-color: white;\">\n            <img src=\"https://www.svgrepo.com/show/354202/postman-icon.svg\" style=\"height: 15px; float: left; padding-right: 10px;\"><a href=\"https://api.biolm.ai/#67f77d96-c4d8-4a1f-953a-d26330c27315\">  <h5 style=\"margin: 0;\"><b>Postman API Docs</b></h5></a>\n        </td>\n        <td style=\"text-align: left; vertical-align: middle; background-color: white;\">\n            <img src=\"https://upload.wikimedia.org/wikipedia/commons/thumb/c/c3/Python-logo-notext.svg/1869px-Python-logo-notext.svg.png\" style=\"height: 15px; float: left; padding-right: 10px;\"><a href=\"https://docs.biolm.ai/en/latest/model-docs/esm1v/ESM-1v_API.html\"><h5 style=\"margin: 0;\"><b>Python SDK Docs</b></h5></a>\n        </td>\n        <td style=\"text-align: left; vertical-align: middle; background-color: white;\">\n            <img src=\"https://github.githubassets.com/assets/GitHub-Mark-ea2971cee799.png\" style=\"height: 15px; float: left; padding-right: 10px;\"><a href=\"https://github.com/facebookresearch/esm?tab=readme-ov-file#zs_variant\"><h5 style=\"margin: 0;\"><b><sup>*</sup>Github Link</b></h5></a>\n        </td>\n        <td style=\"text-align: left; vertical-align: middle; background-color: white;\">\n            <img src=\"https://info.arxiv.org/brand/images/brand-logomark-primary-large.jpg\" style=\"height: 15px; float: left; padding-right: 10px;\"><a href=\"https://www.biorxiv.org/content/10.1101/2021.07.09.450648v2.full.pdf\"><h5 style=\"margin: 0;\"><b>Paper Link</b></h5></a>\n        </td>\n    </tr>\n</table>\n\n<br>\n\n---",
      "metadata": {},
      "id": "8d1e11b2"
    },
    {
      "cell_type": "markdown",
      "source": "## Set Your API Token\n\nIn order to use the BioLM API, you need to have a token. You can get one from\nthe [User API Tokens](https://biolm.ai/ui/accounts/user-api-tokens/) page.\n\nPaste the API token you generated in the cell below, as the value\nof the variable `BIOLMAI_TOKEN `.",
      "metadata": {},
      "id": "6b7a87ff"
    },
    {
      "cell_type": "code",
      "source": "BIOLMAI_TOKEN = \" \"  # !!! YOUR API TOKEN HERE !!!",
      "metadata": {
        "trusted": true
      },
      "execution_count": 1,
      "outputs": [],
      "id": "047d4592"
    },
    {
      "cell_type": "markdown",
      "source": "## API Call with Python requests",
      "metadata": {},
      "id": "0e37d82c"
    },
    {
      "cell_type": "code",
      "source": "try:\n    # Install packages to make API requests in JLite\n    import micropip\n    await micropip.install('requests')\n    await micropip.install('pyodide-http')\n    # Patch requests for in-browser support\n    import pyodide_http\n    pyodide_http.patch_all()\nexcept ModuleNotFoundError:\n    pass  # Won't be using micropip outside of JLite\n\nimport requests  # Will use to make calls to BioLM.ai\nimport time\nfrom IPython.display import JSON  # Helpful UI for JSON display",
      "metadata": {
        "trusted": true
      },
      "execution_count": 2,
      "outputs": [],
      "id": "25723de0-fa6b-4d41-9ab3-439a36ec5c33"
    },
    {
      "cell_type": "code",
      "source": "# Construct the API endpoint to use. See https://api.biolm.ai\nSLUG = 'esm1v-n3'\nACTION = 'predict'\n\nurl = f\"https://biolm.ai/api/v2/{SLUG}/{ACTION}/\"\n\nheaders = {\n    \"Content-Type\": \"application/json\",\n    \"Authorization\": f\"Token {BIOLMAI_TOKEN.strip()}\",\n}",
      "metadata": {
        "trusted": true
      },
      "execution_count": 5,
      "outputs": [],
      "id": "710a98a3-733e-4a4a-8be6-c2365f8267dd"
    },
    {
      "cell_type": "code",
      "source": "data = {\n    \"items\": [\n        {\n            \"sequence\": \"QERLEUTGR<mask>SLYNIVAT\"\n        }\n    ]\n}\n\n# Make the request!\nresponse = requests.post(\n    url=url,\n    headers=headers,\n    json=data,\n)\n\nresult = response.json()\nresult",
      "metadata": {
        "scrolled": true,
        "trusted": true
      },
      "execution_count": 6,
      "outputs": [
        {
          "execution_count": 6,
          "output_type": "execute_result",
          "data": {
            "text/plain": "{'results': [[{'token': 4,\n    'token_str': 'L',\n    'score': 0.09340453892946243,\n    'sequence': 'Q E R L E U T G R L S L Y N I V A T'},\n   {'token': 8,\n    'token_str': 'S',\n    'score': 0.07898478955030441,\n    'sequence': 'Q E R L E U T G R S S L Y N I V A T'},\n   {'token': 7,\n    'token_str': 'V',\n    'score': 0.07508690655231476,\n    'sequence': 'Q E R L E U T G R V S L Y N I V A T'},\n   {'token': 12,\n    'token_str': 'I',\n    'score': 0.07162979990243912,\n    'sequence': 'Q E R L E U T G R I S L Y N I V A T'},\n   {'token': 10,\n    'token_str': 'R',\n    'score': 0.06852644681930542,\n    'sequence': 'Q E R L E U T G R R S L Y N I V A T'},\n   {'token': 6,\n    'token_str': 'G',\n    'score': 0.06607537716627121,\n    'sequence': 'Q E R L E U T G R G S L Y N I V A T'},\n   {'token': 15,\n    'token_str': 'K',\n    'score': 0.06140719726681709,\n    'sequence': 'Q E R L E U T G R K S L Y N I V A T'},\n   {'token': 5,\n    'token_str': 'A',\n    'score': 0.055858004838228226,\n    'sequence': 'Q E R L E U T G R A S L Y N I V A T'},\n   {'token': 11,\n    'token_str': 'T',\n    'score': 0.05352523550391197,\n    'sequence': 'Q E R L E U T G R T S L Y N I V A T'},\n   {'token': 9,\n    'token_str': 'E',\n    'score': 0.05168083310127258,\n    'sequence': 'Q E R L E U T G R E S L Y N I V A T'},\n   {'token': 18,\n    'token_str': 'F',\n    'score': 0.04500032216310501,\n    'sequence': 'Q E R L E U T G R F S L Y N I V A T'},\n   {'token': 17,\n    'token_str': 'N',\n    'score': 0.04389749467372894,\n    'sequence': 'Q E R L E U T G R N S L Y N I V A T'},\n   {'token': 14,\n    'token_str': 'P',\n    'score': 0.04316297918558121,\n    'sequence': 'Q E R L E U T G R P S L Y N I V A T'},\n   {'token': 13,\n    'token_str': 'D',\n    'score': 0.04274963587522507,\n    'sequence': 'Q E R L E U T G R D S L Y N I V A T'},\n   {'token': 16,\n    'token_str': 'Q',\n    'score': 0.03726824373006821,\n    'sequence': 'Q E R L E U T G R Q S L Y N I V A T'},\n   {'token': 19,\n    'token_str': 'Y',\n    'score': 0.03164747357368469,\n    'sequence': 'Q E R L E U T G R Y S L Y N I V A T'},\n   {'token': 21,\n    'token_str': 'H',\n    'score': 0.02442392334342003,\n    'sequence': 'Q E R L E U T G R H S L Y N I V A T'},\n   {'token': 23,\n    'token_str': 'C',\n    'score': 0.020940976217389107,\n    'sequence': 'Q E R L E U T G R C S L Y N I V A T'},\n   {'token': 20,\n    'token_str': 'M',\n    'score': 0.02027340792119503,\n    'sequence': 'Q E R L E U T G R M S L Y N I V A T'},\n   {'token': 22,\n    'token_str': 'W',\n    'score': 0.013751133345067501,\n    'sequence': 'Q E R L E U T G R W S L Y N I V A T'}]]}"
          },
          "metadata": {}
        }
      ],
      "id": "a98e00ce"
    },
    {
      "cell_type": "markdown",
      "source": "## Next Steps\n\nCheck out additional tutorials at [jupyter.biolm.ai](https://jupyter.biolm.ai),\nor head over to our [BioLM Documentation](https://docs.biolm.ai) to explore\nadditional models and functionality.\n\n#### See more use-cases and APIs on your [BioLM Console Catalog](https://biolm.ai/console/catalog/).\n<br>\n\n##### BioLM hosts deep learning models and runs inference at scale. You do the science.\n<br>\n\n<table class=\"jupyter-biolm-header-table\" style=\"width: 100%; border-collapse: collapse; background-color: white; float: left;\">\n    <tr>\n        <td style=\"text-align: left; vertical-align: middle; background-color: white;\">\n            <img src=\"https://d31e6ufxekikrt.cloudfront.net/static/ui/images/console-overview/enzyme_engineering_icon.png\"  style=\"height: 40px; float: left; padding-right: 10px;\"> Enzyme Engineering\n        </td>\n        <td style=\"text-align: left; vertical-align: middle; background-color: white;\">\n            <img src=\"https://d31e6ufxekikrt.cloudfront.net/static/ui/images/console-overview/antibody_engineering_icon.png\"  style=\"height: 40px; float: left; padding-right: 10px;\"> Antibody Engineering\n        </td>\n        <td style=\"text-align: left; vertical-align: middle; background-color: white;\">\n            <img src=\"https://d31e6ufxekikrt.cloudfront.net/static/ui/images/console-overview/biosecurity_icon.png\"  style=\"height: 40px; float: left; padding-right: 10px;\"> Biosecurity\n        </td>\n    </tr>\n    <tr>\n        <td style=\"text-align: left; vertical-align: middle; background-color: white;\">\n            <img src=\"https://d31e6ufxekikrt.cloudfront.net/static/ui/images/console-overview/single_cell_genomics_icon.png\"  style=\"height: 40px; float: left; padding-right: 10px;\"> Single-Cell Genomics\n        </td>\n        <td style=\"text-align: left; vertical-align: middle; background-color: white;\">\n            <img src=\"https://d31e6ufxekikrt.cloudfront.net/static/ui/images/console-overview/dna_seq_modeling_icon.png\"  style=\"height: 40px; float: left; padding-right: 10px;\"> DNA Sequence Modelling\n        </td>\n        <td style=\"text-align: left; vertical-align: middle; background-color: white;\">\n            <img src=\"https://d31e6ufxekikrt.cloudfront.net/static/ui/images/console-overview/finetuning_icon.png\"  style=\"height: 40px; float: left; padding-right: 10px;\"> Finetuning\n        </td>\n    </tr>\n</table>\n\n#### [**Contact us**](https://biolm.ai/ui/contact-us/) to learn more.\n",
      "metadata": {},
      "id": "a04f63cb"
    },
    {
      "cell_type": "code",
      "source": "",
      "metadata": {},
      "execution_count": null,
      "outputs": [],
      "id": "8a88fa58-290c-4e96-bfdd-4869285c0e1a"
    }
  ]
}