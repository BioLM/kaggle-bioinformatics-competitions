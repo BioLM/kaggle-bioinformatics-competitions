{
 "metadata": {
  "kernelspec": {
   "name": "python",
   "display_name": "Python (Pyodide)",
   "language": "python"
  },
  "language_info": {
   "codemirror_mode": {
    "name": "python",
    "version": 3
   },
   "file_extension": ".py",
   "mimetype": "text/x-python",
   "name": "python",
   "nbconvert_exporter": "python",
   "pygments_lexer": "ipython3",
   "version": "3.8"
  }
 },
 "nbformat_minor": 5,
 "nbformat": 4,
 "cells": [
  {
   "cell_type": "markdown",
   "source": [
    "# Predict Stabilizing Variants via Deep Mutational Scan\n",
    "\n",
    "While ESM2 has similar performance to ESM-1v, the latter is still a great option for performing an _in silico_ deep mutational scan. ESM-1v is a collection of five models, trained on sequences from UniRef, each with different seeds. Ensembling these five models' scores can produce better results than a single ESM-1v model, for such broad topics like identifying stabilizing mutations.\n",
    "\n",
    "Since these models were _only_ trained on functional molecules, they are capable of assessing whether a new molecule might also be functional, or whether it has a disastrous mutation.\n",
    "\n",
    "Imagine only learning and speaking English your whole life - could you identify whether a new English word is English? Probably. What about whether a Korean word is Korean? Or whether a French word is French? You might not be able to identify a Korean word as *specifically* Korean since you were only exposed to English; but you can tell that some foreign words are at least *not-English*. The idea is similar with this zero-shot model, ESM-1v: how likely is a sequence *functional*, since the model was only exposed to functional sequences."
   ],
   "metadata": {},
   "id": "a4bfff69"
  },
  {
   "cell_type": "code",
   "source": [
    "from helpers import api_caller\n",
    "\n",
    "TOKEN = ''"
   ],
   "metadata": {
    "collapsed": false,
    "trusted": true
   },
   "execution_count": 1,
   "outputs": [],
   "id": "ace09aea9024dd3f"
  },
  {
   "cell_type": "markdown",
   "source": [
    "We do this by masking each position and requesting the scores for each residue at that position. For a sequence of even a couple hundred residues, this is thousands of predictions from each of the 5 GPU-based models. [BioLM has APIs](https://api.biolm.ai/#54d3367a-b5d1-4f18-aa44-23ae3914a446) to get these results at scale much faster than it would take to spin up these models on multiple GPUs alone."
   ],
   "metadata": {},
   "id": "0da6dfe3"
  },
  {
   "cell_type": "code",
   "source": [
    "# Let's use the sequence from the paper\n",
    "# https://www.biorxiv.org/content/10.1101/2021.07.09.450648v2.full.pdf\n",
    "WILDTYPE = \"ASKGEELFTGVVPILVELDGDVNGHKFSVSGEGEGDATYGKLTLKFICTTGKLPVPWPTLVTTFSYGVQCFSRYPDHMKRHDFFKSAMPEGYVQERTIFFKDDGNYKTRAEVKFEGDTLVNRIELKGIDFKEDGNILGHKLEYNYNSHNVYIMADKQKNGIKVNFKIRHNIEDGSVQLADHYQQNTPIGDGPVLLPDNHYLSTQSALSKDPNEKRDHMVLLEFVTAAGITHGMDELYK\"\n",
    "\n",
    "print(\"Sequence length: {}\".format(len(WILDTYPE)))"
   ],
   "metadata": {
    "trusted": true
   },
   "execution_count": 2,
   "outputs": [
    {
     "name": "stdout",
     "text": "Sequence length: 238\n",
     "output_type": "stream"
    }
   ],
   "id": "7d1b3fb3"
  },
  {
   "cell_type": "markdown",
   "source": [
    "We can copy working Python code for making a request to BioLM.ai's ESM-1v API:"
   ],
   "metadata": {},
   "id": "e3593097"
  },
  {
   "cell_type": "code",
   "source": [
    "async def esm1v_pred(seq, model_num=1):\n",
    "    \"\"\"Get un-masking predictions from any of the 5 ESM-1v models via REST API.\n",
    "    \n",
    "    From API docs: https://api.biolm.ai/#54d3367a-b5d1-4f18-aa44-23ae3914a446\n",
    "    \"\"\"\n",
    "    slug = f'esm1v_t33_650M_UR90S_{model_num}'\n",
    "    \n",
    "    assert '<mask>' in seq\n",
    "    assert 5 >= model_num >= 1\n",
    "\n",
    "    data = {\n",
    "      \"instances\": [\n",
    "        {\n",
    "          \"data\": {\n",
    "            \"text\": seq\n",
    "          }\n",
    "        }\n",
    "      ]\n",
    "    }\n",
    "    \n",
    "    response = await api_caller(\n",
    "        slug,\n",
    "        'predict',\n",
    "        data,\n",
    "        TOKEN\n",
    "    )\n",
    "    \n",
    "    return response"
   ],
   "metadata": {
    "trusted": true
   },
   "execution_count": 3,
   "outputs": [],
   "id": "5e55f5a0"
  },
  {
   "cell_type": "markdown",
   "source": [
    "Now test our function on the first residue and first model."
   ],
   "metadata": {},
   "id": "a19d999f"
  },
  {
   "cell_type": "code",
   "source": [
    "pred = await esm1v_pred('<mask>' + WILDTYPE[1:], model_num=1)  # First ESM-1v model"
   ],
   "metadata": {
    "trusted": true
   },
   "execution_count": 4,
   "outputs": [],
   "id": "8b4d0904"
  },
  {
   "cell_type": "code",
   "source": [
    "from IPython.display import JSON\n",
    "\n",
    "\n",
    "JSON(pred)"
   ],
   "metadata": {
    "trusted": true
   },
   "execution_count": 5,
   "outputs": [
    {
     "execution_count": 5,
     "output_type": "execute_result",
     "data": {
      "text/plain": "<IPython.core.display.JSON object>",
      "application/json": {
       "predictions": [
        [
         {
          "score": 0.9092302322387695,
          "token": 20,
          "token_str": "M",
          "sequence": "M S K G E E L F T G V V P I L V E L D G D V N G H K F S V S G E G E G D A T Y G K L T L K F I C T T G K L P V P W P T L V T T F S Y G V Q C F S R Y P D H M K R H D F F K S A M P E G Y V Q E R T I F F K D D G N Y K T R A E V K F E G D T L V N R I E L K G I D F K E D G N I L G H K L E Y N Y N S H N V Y I M A D K Q K N G I K V N F K I R H N I E D G S V Q L A D H Y Q Q N T P I G D G P V L L P D N H Y L S T Q S A L S K D P N E K R D H M V L L E F V T A A G I T H G M D E L Y K"
         },
         {
          "score": 0.008935132995247841,
          "token": 4,
          "token_str": "L",
          "sequence": "L S K G E E L F T G V V P I L V E L D G D V N G H K F S V S G E G E G D A T Y G K L T L K F I C T T G K L P V P W P T L V T T F S Y G V Q C F S R Y P D H M K R H D F F K S A M P E G Y V Q E R T I F F K D D G N Y K T R A E V K F E G D T L V N R I E L K G I D F K E D G N I L G H K L E Y N Y N S H N V Y I M A D K Q K N G I K V N F K I R H N I E D G S V Q L A D H Y Q Q N T P I G D G P V L L P D N H Y L S T Q S A L S K D P N E K R D H M V L L E F V T A A G I T H G M D E L Y K"
         },
         {
          "score": 0.007254281546920538,
          "token": 7,
          "token_str": "V",
          "sequence": "V S K G E E L F T G V V P I L V E L D G D V N G H K F S V S G E G E G D A T Y G K L T L K F I C T T G K L P V P W P T L V T T F S Y G V Q C F S R Y P D H M K R H D F F K S A M P E G Y V Q E R T I F F K D D G N Y K T R A E V K F E G D T L V N R I E L K G I D F K E D G N I L G H K L E Y N Y N S H N V Y I M A D K Q K N G I K V N F K I R H N I E D G S V Q L A D H Y Q Q N T P I G D G P V L L P D N H Y L S T Q S A L S K D P N E K R D H M V L L E F V T A A G I T H G M D E L Y K"
         },
         {
          "score": 0.007158062886446714,
          "token": 6,
          "token_str": "G",
          "sequence": "G S K G E E L F T G V V P I L V E L D G D V N G H K F S V S G E G E G D A T Y G K L T L K F I C T T G K L P V P W P T L V T T F S Y G V Q C F S R Y P D H M K R H D F F K S A M P E G Y V Q E R T I F F K D D G N Y K T R A E V K F E G D T L V N R I E L K G I D F K E D G N I L G H K L E Y N Y N S H N V Y I M A D K Q K N G I K V N F K I R H N I E D G S V Q L A D H Y Q Q N T P I G D G P V L L P D N H Y L S T Q S A L S K D P N E K R D H M V L L E F V T A A G I T H G M D E L Y K"
         },
         {
          "score": 0.006673572584986687,
          "token": 12,
          "token_str": "I",
          "sequence": "I S K G E E L F T G V V P I L V E L D G D V N G H K F S V S G E G E G D A T Y G K L T L K F I C T T G K L P V P W P T L V T T F S Y G V Q C F S R Y P D H M K R H D F F K S A M P E G Y V Q E R T I F F K D D G N Y K T R A E V K F E G D T L V N R I E L K G I D F K E D G N I L G H K L E Y N Y N S H N V Y I M A D K Q K N G I K V N F K I R H N I E D G S V Q L A D H Y Q Q N T P I G D G P V L L P D N H Y L S T Q S A L S K D P N E K R D H M V L L E F V T A A G I T H G M D E L Y K"
         },
         {
          "score": 0.006055179052054882,
          "token": 8,
          "token_str": "S",
          "sequence": "S S K G E E L F T G V V P I L V E L D G D V N G H K F S V S G E G E G D A T Y G K L T L K F I C T T G K L P V P W P T L V T T F S Y G V Q C F S R Y P D H M K R H D F F K S A M P E G Y V Q E R T I F F K D D G N Y K T R A E V K F E G D T L V N R I E L K G I D F K E D G N I L G H K L E Y N Y N S H N V Y I M A D K Q K N G I K V N F K I R H N I E D G S V Q L A D H Y Q Q N T P I G D G P V L L P D N H Y L S T Q S A L S K D P N E K R D H M V L L E F V T A A G I T H G M D E L Y K"
         },
         {
          "score": 0.005998390261083841,
          "token": 15,
          "token_str": "K",
          "sequence": "K S K G E E L F T G V V P I L V E L D G D V N G H K F S V S G E G E G D A T Y G K L T L K F I C T T G K L P V P W P T L V T T F S Y G V Q C F S R Y P D H M K R H D F F K S A M P E G Y V Q E R T I F F K D D G N Y K T R A E V K F E G D T L V N R I E L K G I D F K E D G N I L G H K L E Y N Y N S H N V Y I M A D K Q K N G I K V N F K I R H N I E D G S V Q L A D H Y Q Q N T P I G D G P V L L P D N H Y L S T Q S A L S K D P N E K R D H M V L L E F V T A A G I T H G M D E L Y K"
         },
         {
          "score": 0.005335806868970394,
          "token": 11,
          "token_str": "T",
          "sequence": "T S K G E E L F T G V V P I L V E L D G D V N G H K F S V S G E G E G D A T Y G K L T L K F I C T T G K L P V P W P T L V T T F S Y G V Q C F S R Y P D H M K R H D F F K S A M P E G Y V Q E R T I F F K D D G N Y K T R A E V K F E G D T L V N R I E L K G I D F K E D G N I L G H K L E Y N Y N S H N V Y I M A D K Q K N G I K V N F K I R H N I E D G S V Q L A D H Y Q Q N T P I G D G P V L L P D N H Y L S T Q S A L S K D P N E K R D H M V L L E F V T A A G I T H G M D E L Y K"
         },
         {
          "score": 0.005291942972689867,
          "token": 5,
          "token_str": "A",
          "sequence": "A S K G E E L F T G V V P I L V E L D G D V N G H K F S V S G E G E G D A T Y G K L T L K F I C T T G K L P V P W P T L V T T F S Y G V Q C F S R Y P D H M K R H D F F K S A M P E G Y V Q E R T I F F K D D G N Y K T R A E V K F E G D T L V N R I E L K G I D F K E D G N I L G H K L E Y N Y N S H N V Y I M A D K Q K N G I K V N F K I R H N I E D G S V Q L A D H Y Q Q N T P I G D G P V L L P D N H Y L S T Q S A L S K D P N E K R D H M V L L E F V T A A G I T H G M D E L Y K"
         },
         {
          "score": 0.00508855190128088,
          "token": 18,
          "token_str": "F",
          "sequence": "F S K G E E L F T G V V P I L V E L D G D V N G H K F S V S G E G E G D A T Y G K L T L K F I C T T G K L P V P W P T L V T T F S Y G V Q C F S R Y P D H M K R H D F F K S A M P E G Y V Q E R T I F F K D D G N Y K T R A E V K F E G D T L V N R I E L K G I D F K E D G N I L G H K L E Y N Y N S H N V Y I M A D K Q K N G I K V N F K I R H N I E D G S V Q L A D H Y Q Q N T P I G D G P V L L P D N H Y L S T Q S A L S K D P N E K R D H M V L L E F V T A A G I T H G M D E L Y K"
         },
         {
          "score": 0.005014354828745127,
          "token": 13,
          "token_str": "D",
          "sequence": "D S K G E E L F T G V V P I L V E L D G D V N G H K F S V S G E G E G D A T Y G K L T L K F I C T T G K L P V P W P T L V T T F S Y G V Q C F S R Y P D H M K R H D F F K S A M P E G Y V Q E R T I F F K D D G N Y K T R A E V K F E G D T L V N R I E L K G I D F K E D G N I L G H K L E Y N Y N S H N V Y I M A D K Q K N G I K V N F K I R H N I E D G S V Q L A D H Y Q Q N T P I G D G P V L L P D N H Y L S T Q S A L S K D P N E K R D H M V L L E F V T A A G I T H G M D E L Y K"
         },
         {
          "score": 0.004764886107295752,
          "token": 9,
          "token_str": "E",
          "sequence": "E S K G E E L F T G V V P I L V E L D G D V N G H K F S V S G E G E G D A T Y G K L T L K F I C T T G K L P V P W P T L V T T F S Y G V Q C F S R Y P D H M K R H D F F K S A M P E G Y V Q E R T I F F K D D G N Y K T R A E V K F E G D T L V N R I E L K G I D F K E D G N I L G H K L E Y N Y N S H N V Y I M A D K Q K N G I K V N F K I R H N I E D G S V Q L A D H Y Q Q N T P I G D G P V L L P D N H Y L S T Q S A L S K D P N E K R D H M V L L E F V T A A G I T H G M D E L Y K"
         },
         {
          "score": 0.004458802752196789,
          "token": 17,
          "token_str": "N",
          "sequence": "N S K G E E L F T G V V P I L V E L D G D V N G H K F S V S G E G E G D A T Y G K L T L K F I C T T G K L P V P W P T L V T T F S Y G V Q C F S R Y P D H M K R H D F F K S A M P E G Y V Q E R T I F F K D D G N Y K T R A E V K F E G D T L V N R I E L K G I D F K E D G N I L G H K L E Y N Y N S H N V Y I M A D K Q K N G I K V N F K I R H N I E D G S V Q L A D H Y Q Q N T P I G D G P V L L P D N H Y L S T Q S A L S K D P N E K R D H M V L L E F V T A A G I T H G M D E L Y K"
         },
         {
          "score": 0.004456233233213425,
          "token": 19,
          "token_str": "Y",
          "sequence": "Y S K G E E L F T G V V P I L V E L D G D V N G H K F S V S G E G E G D A T Y G K L T L K F I C T T G K L P V P W P T L V T T F S Y G V Q C F S R Y P D H M K R H D F F K S A M P E G Y V Q E R T I F F K D D G N Y K T R A E V K F E G D T L V N R I E L K G I D F K E D G N I L G H K L E Y N Y N S H N V Y I M A D K Q K N G I K V N F K I R H N I E D G S V Q L A D H Y Q Q N T P I G D G P V L L P D N H Y L S T Q S A L S K D P N E K R D H M V L L E F V T A A G I T H G M D E L Y K"
         },
         {
          "score": 0.0035370527766644955,
          "token": 14,
          "token_str": "P",
          "sequence": "P S K G E E L F T G V V P I L V E L D G D V N G H K F S V S G E G E G D A T Y G K L T L K F I C T T G K L P V P W P T L V T T F S Y G V Q C F S R Y P D H M K R H D F F K S A M P E G Y V Q E R T I F F K D D G N Y K T R A E V K F E G D T L V N R I E L K G I D F K E D G N I L G H K L E Y N Y N S H N V Y I M A D K Q K N G I K V N F K I R H N I E D G S V Q L A D H Y Q Q N T P I G D G P V L L P D N H Y L S T Q S A L S K D P N E K R D H M V L L E F V T A A G I T H G M D E L Y K"
         },
         {
          "score": 0.003234523581340909,
          "token": 10,
          "token_str": "R",
          "sequence": "R S K G E E L F T G V V P I L V E L D G D V N G H K F S V S G E G E G D A T Y G K L T L K F I C T T G K L P V P W P T L V T T F S Y G V Q C F S R Y P D H M K R H D F F K S A M P E G Y V Q E R T I F F K D D G N Y K T R A E V K F E G D T L V N R I E L K G I D F K E D G N I L G H K L E Y N Y N S H N V Y I M A D K Q K N G I K V N F K I R H N I E D G S V Q L A D H Y Q Q N T P I G D G P V L L P D N H Y L S T Q S A L S K D P N E K R D H M V L L E F V T A A G I T H G M D E L Y K"
         },
         {
          "score": 0.002700389362871647,
          "token": 16,
          "token_str": "Q",
          "sequence": "Q S K G E E L F T G V V P I L V E L D G D V N G H K F S V S G E G E G D A T Y G K L T L K F I C T T G K L P V P W P T L V T T F S Y G V Q C F S R Y P D H M K R H D F F K S A M P E G Y V Q E R T I F F K D D G N Y K T R A E V K F E G D T L V N R I E L K G I D F K E D G N I L G H K L E Y N Y N S H N V Y I M A D K Q K N G I K V N F K I R H N I E D G S V Q L A D H Y Q Q N T P I G D G P V L L P D N H Y L S T Q S A L S K D P N E K R D H M V L L E F V T A A G I T H G M D E L Y K"
         },
         {
          "score": 0.0017103719292208552,
          "token": 21,
          "token_str": "H",
          "sequence": "H S K G E E L F T G V V P I L V E L D G D V N G H K F S V S G E G E G D A T Y G K L T L K F I C T T G K L P V P W P T L V T T F S Y G V Q C F S R Y P D H M K R H D F F K S A M P E G Y V Q E R T I F F K D D G N Y K T R A E V K F E G D T L V N R I E L K G I D F K E D G N I L G H K L E Y N Y N S H N V Y I M A D K Q K N G I K V N F K I R H N I E D G S V Q L A D H Y Q Q N T P I G D G P V L L P D N H Y L S T Q S A L S K D P N E K R D H M V L L E F V T A A G I T H G M D E L Y K"
         },
         {
          "score": 0.0015011715004220605,
          "token": 22,
          "token_str": "W",
          "sequence": "W S K G E E L F T G V V P I L V E L D G D V N G H K F S V S G E G E G D A T Y G K L T L K F I C T T G K L P V P W P T L V T T F S Y G V Q C F S R Y P D H M K R H D F F K S A M P E G Y V Q E R T I F F K D D G N Y K T R A E V K F E G D T L V N R I E L K G I D F K E D G N I L G H K L E Y N Y N S H N V Y I M A D K Q K N G I K V N F K I R H N I E D G S V Q L A D H Y Q Q N T P I G D G P V L L P D N H Y L S T Q S A L S K D P N E K R D H M V L L E F V T A A G I T H G M D E L Y K"
         },
         {
          "score": 0.0014352112775668502,
          "token": 23,
          "token_str": "C",
          "sequence": "C S K G E E L F T G V V P I L V E L D G D V N G H K F S V S G E G E G D A T Y G K L T L K F I C T T G K L P V P W P T L V T T F S Y G V Q C F S R Y P D H M K R H D F F K S A M P E G Y V Q E R T I F F K D D G N Y K T R A E V K F E G D T L V N R I E L K G I D F K E D G N I L G H K L E Y N Y N S H N V Y I M A D K Q K N G I K V N F K I R H N I E D G S V Q L A D H Y Q Q N T P I G D G P V L L P D N H Y L S T Q S A L S K D P N E K R D H M V L L E F V T A A G I T H G M D E L Y K"
         }
        ]
       ]
      }
     },
     "metadata": {
      "application/json": {
       "expanded": false,
       "root": "root"
      }
     }
    }
   ],
   "id": "99f58dae-f74e-4f23-938a-fa7ad5ad2a6d"
  },
  {
   "cell_type": "markdown",
   "source": [
    "We can see that `\"M\"`, or Methionine is the most likely starting AA. Methionine is a common starting AA amongst many organisms. \n",
    "\n",
    "Next, We can get predictions from the other ESM-1v models, then ensemble the likelihood scores for best results."
   ],
   "metadata": {},
   "id": "5d0c847c"
  },
  {
   "cell_type": "code",
   "source": [
    "res = await esm1v_pred('<mask>' + WILDTYPE[1:], model_num=2)  # Second ESM-1v model\n",
    "\n",
    "JSON(res)"
   ],
   "metadata": {
    "trusted": true
   },
   "execution_count": 6,
   "outputs": [
    {
     "execution_count": 6,
     "output_type": "execute_result",
     "data": {
      "text/plain": "<IPython.core.display.JSON object>",
      "application/json": {
       "predictions": [
        [
         {
          "score": 0.9457131624221802,
          "token": 20,
          "token_str": "M",
          "sequence": "M S K G E E L F T G V V P I L V E L D G D V N G H K F S V S G E G E G D A T Y G K L T L K F I C T T G K L P V P W P T L V T T F S Y G V Q C F S R Y P D H M K R H D F F K S A M P E G Y V Q E R T I F F K D D G N Y K T R A E V K F E G D T L V N R I E L K G I D F K E D G N I L G H K L E Y N Y N S H N V Y I M A D K Q K N G I K V N F K I R H N I E D G S V Q L A D H Y Q Q N T P I G D G P V L L P D N H Y L S T Q S A L S K D P N E K R D H M V L L E F V T A A G I T H G M D E L Y K"
         },
         {
          "score": 0.0047309743240475655,
          "token": 4,
          "token_str": "L",
          "sequence": "L S K G E E L F T G V V P I L V E L D G D V N G H K F S V S G E G E G D A T Y G K L T L K F I C T T G K L P V P W P T L V T T F S Y G V Q C F S R Y P D H M K R H D F F K S A M P E G Y V Q E R T I F F K D D G N Y K T R A E V K F E G D T L V N R I E L K G I D F K E D G N I L G H K L E Y N Y N S H N V Y I M A D K Q K N G I K V N F K I R H N I E D G S V Q L A D H Y Q Q N T P I G D G P V L L P D N H Y L S T Q S A L S K D P N E K R D H M V L L E F V T A A G I T H G M D E L Y K"
         },
         {
          "score": 0.004624352790415287,
          "token": 6,
          "token_str": "G",
          "sequence": "G S K G E E L F T G V V P I L V E L D G D V N G H K F S V S G E G E G D A T Y G K L T L K F I C T T G K L P V P W P T L V T T F S Y G V Q C F S R Y P D H M K R H D F F K S A M P E G Y V Q E R T I F F K D D G N Y K T R A E V K F E G D T L V N R I E L K G I D F K E D G N I L G H K L E Y N Y N S H N V Y I M A D K Q K N G I K V N F K I R H N I E D G S V Q L A D H Y Q Q N T P I G D G P V L L P D N H Y L S T Q S A L S K D P N E K R D H M V L L E F V T A A G I T H G M D E L Y K"
         },
         {
          "score": 0.004320112057030201,
          "token": 8,
          "token_str": "S",
          "sequence": "S S K G E E L F T G V V P I L V E L D G D V N G H K F S V S G E G E G D A T Y G K L T L K F I C T T G K L P V P W P T L V T T F S Y G V Q C F S R Y P D H M K R H D F F K S A M P E G Y V Q E R T I F F K D D G N Y K T R A E V K F E G D T L V N R I E L K G I D F K E D G N I L G H K L E Y N Y N S H N V Y I M A D K Q K N G I K V N F K I R H N I E D G S V Q L A D H Y Q Q N T P I G D G P V L L P D N H Y L S T Q S A L S K D P N E K R D H M V L L E F V T A A G I T H G M D E L Y K"
         },
         {
          "score": 0.003869191510602832,
          "token": 15,
          "token_str": "K",
          "sequence": "K S K G E E L F T G V V P I L V E L D G D V N G H K F S V S G E G E G D A T Y G K L T L K F I C T T G K L P V P W P T L V T T F S Y G V Q C F S R Y P D H M K R H D F F K S A M P E G Y V Q E R T I F F K D D G N Y K T R A E V K F E G D T L V N R I E L K G I D F K E D G N I L G H K L E Y N Y N S H N V Y I M A D K Q K N G I K V N F K I R H N I E D G S V Q L A D H Y Q Q N T P I G D G P V L L P D N H Y L S T Q S A L S K D P N E K R D H M V L L E F V T A A G I T H G M D E L Y K"
         },
         {
          "score": 0.003801638726145029,
          "token": 7,
          "token_str": "V",
          "sequence": "V S K G E E L F T G V V P I L V E L D G D V N G H K F S V S G E G E G D A T Y G K L T L K F I C T T G K L P V P W P T L V T T F S Y G V Q C F S R Y P D H M K R H D F F K S A M P E G Y V Q E R T I F F K D D G N Y K T R A E V K F E G D T L V N R I E L K G I D F K E D G N I L G H K L E Y N Y N S H N V Y I M A D K Q K N G I K V N F K I R H N I E D G S V Q L A D H Y Q Q N T P I G D G P V L L P D N H Y L S T Q S A L S K D P N E K R D H M V L L E F V T A A G I T H G M D E L Y K"
         },
         {
          "score": 0.0035270671360194683,
          "token": 12,
          "token_str": "I",
          "sequence": "I S K G E E L F T G V V P I L V E L D G D V N G H K F S V S G E G E G D A T Y G K L T L K F I C T T G K L P V P W P T L V T T F S Y G V Q C F S R Y P D H M K R H D F F K S A M P E G Y V Q E R T I F F K D D G N Y K T R A E V K F E G D T L V N R I E L K G I D F K E D G N I L G H K L E Y N Y N S H N V Y I M A D K Q K N G I K V N F K I R H N I E D G S V Q L A D H Y Q Q N T P I G D G P V L L P D N H Y L S T Q S A L S K D P N E K R D H M V L L E F V T A A G I T H G M D E L Y K"
         },
         {
          "score": 0.0034885811619460583,
          "token": 5,
          "token_str": "A",
          "sequence": "A S K G E E L F T G V V P I L V E L D G D V N G H K F S V S G E G E G D A T Y G K L T L K F I C T T G K L P V P W P T L V T T F S Y G V Q C F S R Y P D H M K R H D F F K S A M P E G Y V Q E R T I F F K D D G N Y K T R A E V K F E G D T L V N R I E L K G I D F K E D G N I L G H K L E Y N Y N S H N V Y I M A D K Q K N G I K V N F K I R H N I E D G S V Q L A D H Y Q Q N T P I G D G P V L L P D N H Y L S T Q S A L S K D P N E K R D H M V L L E F V T A A G I T H G M D E L Y K"
         },
         {
          "score": 0.0031877874862402678,
          "token": 9,
          "token_str": "E",
          "sequence": "E S K G E E L F T G V V P I L V E L D G D V N G H K F S V S G E G E G D A T Y G K L T L K F I C T T G K L P V P W P T L V T T F S Y G V Q C F S R Y P D H M K R H D F F K S A M P E G Y V Q E R T I F F K D D G N Y K T R A E V K F E G D T L V N R I E L K G I D F K E D G N I L G H K L E Y N Y N S H N V Y I M A D K Q K N G I K V N F K I R H N I E D G S V Q L A D H Y Q Q N T P I G D G P V L L P D N H Y L S T Q S A L S K D P N E K R D H M V L L E F V T A A G I T H G M D E L Y K"
         },
         {
          "score": 0.0031661340035498142,
          "token": 11,
          "token_str": "T",
          "sequence": "T S K G E E L F T G V V P I L V E L D G D V N G H K F S V S G E G E G D A T Y G K L T L K F I C T T G K L P V P W P T L V T T F S Y G V Q C F S R Y P D H M K R H D F F K S A M P E G Y V Q E R T I F F K D D G N Y K T R A E V K F E G D T L V N R I E L K G I D F K E D G N I L G H K L E Y N Y N S H N V Y I M A D K Q K N G I K V N F K I R H N I E D G S V Q L A D H Y Q Q N T P I G D G P V L L P D N H Y L S T Q S A L S K D P N E K R D H M V L L E F V T A A G I T H G M D E L Y K"
         },
         {
          "score": 0.0029082242399454117,
          "token": 13,
          "token_str": "D",
          "sequence": "D S K G E E L F T G V V P I L V E L D G D V N G H K F S V S G E G E G D A T Y G K L T L K F I C T T G K L P V P W P T L V T T F S Y G V Q C F S R Y P D H M K R H D F F K S A M P E G Y V Q E R T I F F K D D G N Y K T R A E V K F E G D T L V N R I E L K G I D F K E D G N I L G H K L E Y N Y N S H N V Y I M A D K Q K N G I K V N F K I R H N I E D G S V Q L A D H Y Q Q N T P I G D G P V L L P D N H Y L S T Q S A L S K D P N E K R D H M V L L E F V T A A G I T H G M D E L Y K"
         },
         {
          "score": 0.0027789610903710127,
          "token": 18,
          "token_str": "F",
          "sequence": "F S K G E E L F T G V V P I L V E L D G D V N G H K F S V S G E G E G D A T Y G K L T L K F I C T T G K L P V P W P T L V T T F S Y G V Q C F S R Y P D H M K R H D F F K S A M P E G Y V Q E R T I F F K D D G N Y K T R A E V K F E G D T L V N R I E L K G I D F K E D G N I L G H K L E Y N Y N S H N V Y I M A D K Q K N G I K V N F K I R H N I E D G S V Q L A D H Y Q Q N T P I G D G P V L L P D N H Y L S T Q S A L S K D P N E K R D H M V L L E F V T A A G I T H G M D E L Y K"
         },
         {
          "score": 0.0027077735867351294,
          "token": 14,
          "token_str": "P",
          "sequence": "P S K G E E L F T G V V P I L V E L D G D V N G H K F S V S G E G E G D A T Y G K L T L K F I C T T G K L P V P W P T L V T T F S Y G V Q C F S R Y P D H M K R H D F F K S A M P E G Y V Q E R T I F F K D D G N Y K T R A E V K F E G D T L V N R I E L K G I D F K E D G N I L G H K L E Y N Y N S H N V Y I M A D K Q K N G I K V N F K I R H N I E D G S V Q L A D H Y Q Q N T P I G D G P V L L P D N H Y L S T Q S A L S K D P N E K R D H M V L L E F V T A A G I T H G M D E L Y K"
         },
         {
          "score": 0.002593240002170205,
          "token": 17,
          "token_str": "N",
          "sequence": "N S K G E E L F T G V V P I L V E L D G D V N G H K F S V S G E G E G D A T Y G K L T L K F I C T T G K L P V P W P T L V T T F S Y G V Q C F S R Y P D H M K R H D F F K S A M P E G Y V Q E R T I F F K D D G N Y K T R A E V K F E G D T L V N R I E L K G I D F K E D G N I L G H K L E Y N Y N S H N V Y I M A D K Q K N G I K V N F K I R H N I E D G S V Q L A D H Y Q Q N T P I G D G P V L L P D N H Y L S T Q S A L S K D P N E K R D H M V L L E F V T A A G I T H G M D E L Y K"
         },
         {
          "score": 0.002212227089330554,
          "token": 10,
          "token_str": "R",
          "sequence": "R S K G E E L F T G V V P I L V E L D G D V N G H K F S V S G E G E G D A T Y G K L T L K F I C T T G K L P V P W P T L V T T F S Y G V Q C F S R Y P D H M K R H D F F K S A M P E G Y V Q E R T I F F K D D G N Y K T R A E V K F E G D T L V N R I E L K G I D F K E D G N I L G H K L E Y N Y N S H N V Y I M A D K Q K N G I K V N F K I R H N I E D G S V Q L A D H Y Q Q N T P I G D G P V L L P D N H Y L S T Q S A L S K D P N E K R D H M V L L E F V T A A G I T H G M D E L Y K"
         },
         {
          "score": 0.0020821685902774334,
          "token": 19,
          "token_str": "Y",
          "sequence": "Y S K G E E L F T G V V P I L V E L D G D V N G H K F S V S G E G E G D A T Y G K L T L K F I C T T G K L P V P W P T L V T T F S Y G V Q C F S R Y P D H M K R H D F F K S A M P E G Y V Q E R T I F F K D D G N Y K T R A E V K F E G D T L V N R I E L K G I D F K E D G N I L G H K L E Y N Y N S H N V Y I M A D K Q K N G I K V N F K I R H N I E D G S V Q L A D H Y Q Q N T P I G D G P V L L P D N H Y L S T Q S A L S K D P N E K R D H M V L L E F V T A A G I T H G M D E L Y K"
         },
         {
          "score": 0.00159800099208951,
          "token": 16,
          "token_str": "Q",
          "sequence": "Q S K G E E L F T G V V P I L V E L D G D V N G H K F S V S G E G E G D A T Y G K L T L K F I C T T G K L P V P W P T L V T T F S Y G V Q C F S R Y P D H M K R H D F F K S A M P E G Y V Q E R T I F F K D D G N Y K T R A E V K F E G D T L V N R I E L K G I D F K E D G N I L G H K L E Y N Y N S H N V Y I M A D K Q K N G I K V N F K I R H N I E D G S V Q L A D H Y Q Q N T P I G D G P V L L P D N H Y L S T Q S A L S K D P N E K R D H M V L L E F V T A A G I T H G M D E L Y K"
         },
         {
          "score": 0.001130649703554809,
          "token": 21,
          "token_str": "H",
          "sequence": "H S K G E E L F T G V V P I L V E L D G D V N G H K F S V S G E G E G D A T Y G K L T L K F I C T T G K L P V P W P T L V T T F S Y G V Q C F S R Y P D H M K R H D F F K S A M P E G Y V Q E R T I F F K D D G N Y K T R A E V K F E G D T L V N R I E L K G I D F K E D G N I L G H K L E Y N Y N S H N V Y I M A D K Q K N G I K V N F K I R H N I E D G S V Q L A D H Y Q Q N T P I G D G P V L L P D N H Y L S T Q S A L S K D P N E K R D H M V L L E F V T A A G I T H G M D E L Y K"
         },
         {
          "score": 8.310386328957975E-4,
          "token": 22,
          "token_str": "W",
          "sequence": "W S K G E E L F T G V V P I L V E L D G D V N G H K F S V S G E G E G D A T Y G K L T L K F I C T T G K L P V P W P T L V T T F S Y G V Q C F S R Y P D H M K R H D F F K S A M P E G Y V Q E R T I F F K D D G N Y K T R A E V K F E G D T L V N R I E L K G I D F K E D G N I L G H K L E Y N Y N S H N V Y I M A D K Q K N G I K V N F K I R H N I E D G S V Q L A D H Y Q Q N T P I G D G P V L L P D N H Y L S T Q S A L S K D P N E K R D H M V L L E F V T A A G I T H G M D E L Y K"
         },
         {
          "score": 6.154285511001945E-4,
          "token": 23,
          "token_str": "C",
          "sequence": "C S K G E E L F T G V V P I L V E L D G D V N G H K F S V S G E G E G D A T Y G K L T L K F I C T T G K L P V P W P T L V T T F S Y G V Q C F S R Y P D H M K R H D F F K S A M P E G Y V Q E R T I F F K D D G N Y K T R A E V K F E G D T L V N R I E L K G I D F K E D G N I L G H K L E Y N Y N S H N V Y I M A D K Q K N G I K V N F K I R H N I E D G S V Q L A D H Y Q Q N T P I G D G P V L L P D N H Y L S T Q S A L S K D P N E K R D H M V L L E F V T A A G I T H G M D E L Y K"
         }
        ]
       ]
      }
     },
     "metadata": {
      "application/json": {
       "expanded": false,
       "root": "root"
      }
     }
    }
   ],
   "id": "1a0ea32c"
  },
  {
   "cell_type": "markdown",
   "source": [
    "You can observe the probabilities for each token (amino acid residue) differing between the two models.\n",
    "\n",
    "Loading the data into a DF is simple."
   ],
   "metadata": {},
   "id": "3eb44b3c"
  },
  {
   "cell_type": "code",
   "source": [
    "# FOR IN-BROWSER JUPYTER-LITE ONLY #\n",
    "import micropip  # Install with `pip install matplotlib` if running notebook elsewhere\n",
    "await micropip.install('pandas')"
   ],
   "metadata": {
    "trusted": true
   },
   "execution_count": 7,
   "outputs": [],
   "id": "e409c4ec-5728-4d8e-af70-5a3ba6cdf02d"
  },
  {
   "cell_type": "code",
   "source": [
    "import pandas as pd"
   ],
   "metadata": {
    "trusted": true
   },
   "execution_count": 8,
   "outputs": [],
   "id": "1db763ab-f0d3-4bbe-b224-fc11b6ab1188"
  },
  {
   "cell_type": "code",
   "source": [
    "pd.DataFrame.from_dict(res['predictions'][0], orient='columns')"
   ],
   "metadata": {
    "trusted": true
   },
   "execution_count": 9,
   "outputs": [
    {
     "execution_count": 9,
     "output_type": "execute_result",
     "data": {
      "text/plain": "       score  token token_str  \\\n0   0.945713     20         M   \n1   0.004731      4         L   \n2   0.004624      6         G   \n3   0.004320      8         S   \n4   0.003869     15         K   \n5   0.003802      7         V   \n6   0.003527     12         I   \n7   0.003489      5         A   \n8   0.003188      9         E   \n9   0.003166     11         T   \n10  0.002908     13         D   \n11  0.002779     18         F   \n12  0.002708     14         P   \n13  0.002593     17         N   \n14  0.002212     10         R   \n15  0.002082     19         Y   \n16  0.001598     16         Q   \n17  0.001131     21         H   \n18  0.000831     22         W   \n19  0.000615     23         C   \n\n                                             sequence  \n0   M S K G E E L F T G V V P I L V E L D G D V N ...  \n1   L S K G E E L F T G V V P I L V E L D G D V N ...  \n2   G S K G E E L F T G V V P I L V E L D G D V N ...  \n3   S S K G E E L F T G V V P I L V E L D G D V N ...  \n4   K S K G E E L F T G V V P I L V E L D G D V N ...  \n5   V S K G E E L F T G V V P I L V E L D G D V N ...  \n6   I S K G E E L F T G V V P I L V E L D G D V N ...  \n7   A S K G E E L F T G V V P I L V E L D G D V N ...  \n8   E S K G E E L F T G V V P I L V E L D G D V N ...  \n9   T S K G E E L F T G V V P I L V E L D G D V N ...  \n10  D S K G E E L F T G V V P I L V E L D G D V N ...  \n11  F S K G E E L F T G V V P I L V E L D G D V N ...  \n12  P S K G E E L F T G V V P I L V E L D G D V N ...  \n13  N S K G E E L F T G V V P I L V E L D G D V N ...  \n14  R S K G E E L F T G V V P I L V E L D G D V N ...  \n15  Y S K G E E L F T G V V P I L V E L D G D V N ...  \n16  Q S K G E E L F T G V V P I L V E L D G D V N ...  \n17  H S K G E E L F T G V V P I L V E L D G D V N ...  \n18  W S K G E E L F T G V V P I L V E L D G D V N ...  \n19  C S K G E E L F T G V V P I L V E L D G D V N ...  ",
      "text/html": "<div>\n<style scoped>\n    .dataframe tbody tr th:only-of-type {\n        vertical-align: middle;\n    }\n\n    .dataframe tbody tr th {\n        vertical-align: top;\n    }\n\n    .dataframe thead th {\n        text-align: right;\n    }\n</style>\n<table border=\"1\" class=\"dataframe\">\n  <thead>\n    <tr style=\"text-align: right;\">\n      <th></th>\n      <th>score</th>\n      <th>token</th>\n      <th>token_str</th>\n      <th>sequence</th>\n    </tr>\n  </thead>\n  <tbody>\n    <tr>\n      <th>0</th>\n      <td>0.945713</td>\n      <td>20</td>\n      <td>M</td>\n      <td>M S K G E E L F T G V V P I L V E L D G D V N ...</td>\n    </tr>\n    <tr>\n      <th>1</th>\n      <td>0.004731</td>\n      <td>4</td>\n      <td>L</td>\n      <td>L S K G E E L F T G V V P I L V E L D G D V N ...</td>\n    </tr>\n    <tr>\n      <th>2</th>\n      <td>0.004624</td>\n      <td>6</td>\n      <td>G</td>\n      <td>G S K G E E L F T G V V P I L V E L D G D V N ...</td>\n    </tr>\n    <tr>\n      <th>3</th>\n      <td>0.004320</td>\n      <td>8</td>\n      <td>S</td>\n      <td>S S K G E E L F T G V V P I L V E L D G D V N ...</td>\n    </tr>\n    <tr>\n      <th>4</th>\n      <td>0.003869</td>\n      <td>15</td>\n      <td>K</td>\n      <td>K S K G E E L F T G V V P I L V E L D G D V N ...</td>\n    </tr>\n    <tr>\n      <th>5</th>\n      <td>0.003802</td>\n      <td>7</td>\n      <td>V</td>\n      <td>V S K G E E L F T G V V P I L V E L D G D V N ...</td>\n    </tr>\n    <tr>\n      <th>6</th>\n      <td>0.003527</td>\n      <td>12</td>\n      <td>I</td>\n      <td>I S K G E E L F T G V V P I L V E L D G D V N ...</td>\n    </tr>\n    <tr>\n      <th>7</th>\n      <td>0.003489</td>\n      <td>5</td>\n      <td>A</td>\n      <td>A S K G E E L F T G V V P I L V E L D G D V N ...</td>\n    </tr>\n    <tr>\n      <th>8</th>\n      <td>0.003188</td>\n      <td>9</td>\n      <td>E</td>\n      <td>E S K G E E L F T G V V P I L V E L D G D V N ...</td>\n    </tr>\n    <tr>\n      <th>9</th>\n      <td>0.003166</td>\n      <td>11</td>\n      <td>T</td>\n      <td>T S K G E E L F T G V V P I L V E L D G D V N ...</td>\n    </tr>\n    <tr>\n      <th>10</th>\n      <td>0.002908</td>\n      <td>13</td>\n      <td>D</td>\n      <td>D S K G E E L F T G V V P I L V E L D G D V N ...</td>\n    </tr>\n    <tr>\n      <th>11</th>\n      <td>0.002779</td>\n      <td>18</td>\n      <td>F</td>\n      <td>F S K G E E L F T G V V P I L V E L D G D V N ...</td>\n    </tr>\n    <tr>\n      <th>12</th>\n      <td>0.002708</td>\n      <td>14</td>\n      <td>P</td>\n      <td>P S K G E E L F T G V V P I L V E L D G D V N ...</td>\n    </tr>\n    <tr>\n      <th>13</th>\n      <td>0.002593</td>\n      <td>17</td>\n      <td>N</td>\n      <td>N S K G E E L F T G V V P I L V E L D G D V N ...</td>\n    </tr>\n    <tr>\n      <th>14</th>\n      <td>0.002212</td>\n      <td>10</td>\n      <td>R</td>\n      <td>R S K G E E L F T G V V P I L V E L D G D V N ...</td>\n    </tr>\n    <tr>\n      <th>15</th>\n      <td>0.002082</td>\n      <td>19</td>\n      <td>Y</td>\n      <td>Y S K G E E L F T G V V P I L V E L D G D V N ...</td>\n    </tr>\n    <tr>\n      <th>16</th>\n      <td>0.001598</td>\n      <td>16</td>\n      <td>Q</td>\n      <td>Q S K G E E L F T G V V P I L V E L D G D V N ...</td>\n    </tr>\n    <tr>\n      <th>17</th>\n      <td>0.001131</td>\n      <td>21</td>\n      <td>H</td>\n      <td>H S K G E E L F T G V V P I L V E L D G D V N ...</td>\n    </tr>\n    <tr>\n      <th>18</th>\n      <td>0.000831</td>\n      <td>22</td>\n      <td>W</td>\n      <td>W S K G E E L F T G V V P I L V E L D G D V N ...</td>\n    </tr>\n    <tr>\n      <th>19</th>\n      <td>0.000615</td>\n      <td>23</td>\n      <td>C</td>\n      <td>C S K G E E L F T G V V P I L V E L D G D V N ...</td>\n    </tr>\n  </tbody>\n</table>\n</div>"
     },
     "metadata": {}
    }
   ],
   "id": "5734c644"
  },
  {
   "cell_type": "markdown",
   "source": [
    "Let's scan the whole sequence now, using all five models. This should be fairly fast sequentially. Let's simply loop through each model and position."
   ],
   "metadata": {},
   "id": "7bbb8a00"
  },
  {
   "cell_type": "code",
   "source": [
    "import asyncio\n",
    "import copy\n",
    "import random\n",
    "\n",
    "# Limit concurrency to 3 requests at a time (*not* RPS)\n",
    "sem = asyncio.Semaphore(3)\n",
    "\n",
    "\n",
    "results = []\n",
    "\n",
    "async def f(idx, seq, mdl):\n",
    "    # Add small jitter\n",
    "    jitter = random.randint(1, 100) / 100.0  \n",
    "    await asyncio.sleep(jitter * 5)\n",
    "    if idx % 20 == 0:\n",
    "        print(\"Submitting position {}/{} with ESM-1v Model {}\".format(idx, len(seq), mdl))\n",
    "    # Mask that position\n",
    "    seq_masked = list(copy.copy(seq))\n",
    "    seq_masked[idx] = '<mask>'\n",
    "    seq_masked = ''.join(seq_masked)\n",
    "\n",
    "    # Request the probabilities of each AA at that mask\n",
    "    async with sem:\n",
    "        r = await esm1v_pred(seq_masked, model_num=mdl)\n",
    "    r_df = pd.DataFrame.from_dict(r['predictions'][0], orient='columns')\n",
    "    r_df['model_num'] = mdl\n",
    "    r_df['mask_pos'] = idx\n",
    "    \n",
    "    return r_df\n",
    "\n",
    "\n",
    "# We'll just query the first 4 models for now, that's enough\n",
    "for mdl in range(1, 5):\n",
    "    ops = [f(i, WILDTYPE, mdl) for i in range(len(WILDTYPE))]\n",
    "    rets = await asyncio.gather(*ops)\n",
    "    \n",
    "    results.extend(rets)"
   ],
   "metadata": {
    "trusted": true
   },
   "execution_count": 10,
   "outputs": [
    {
     "name": "stdout",
     "text": "Submitting position 120/238 with ESM-1v Model 1\nSubmitting position 60/238 with ESM-1v Model 1\nSubmitting position 180/238 with ESM-1v Model 1\nSubmitting position 160/238 with ESM-1v Model 1\nSubmitting position 100/238 with ESM-1v Model 1\nSubmitting position 220/238 with ESM-1v Model 1\nSubmitting position 80/238 with ESM-1v Model 1\nSubmitting position 40/238 with ESM-1v Model 1\nSubmitting position 140/238 with ESM-1v Model 1\nSubmitting position 20/238 with ESM-1v Model 1\nSubmitting position 0/238 with ESM-1v Model 1\nSubmitting position 200/238 with ESM-1v Model 1\nSubmitting position 120/238 with ESM-1v Model 2\nSubmitting position 100/238 with ESM-1v Model 2\nSubmitting position 0/238 with ESM-1v Model 2\nSubmitting position 80/238 with ESM-1v Model 2\nSubmitting position 220/238 with ESM-1v Model 2\nSubmitting position 40/238 with ESM-1v Model 2\nSubmitting position 200/238 with ESM-1v Model 2\nSubmitting position 60/238 with ESM-1v Model 2\nSubmitting position 160/238 with ESM-1v Model 2\nSubmitting position 180/238 with ESM-1v Model 2\nSubmitting position 140/238 with ESM-1v Model 2\nSubmitting position 20/238 with ESM-1v Model 2\nSubmitting position 80/238 with ESM-1v Model 3\nSubmitting position 180/238 with ESM-1v Model 3\nSubmitting position 120/238 with ESM-1v Model 3\nSubmitting position 100/238 with ESM-1v Model 3\nSubmitting position 0/238 with ESM-1v Model 3\nSubmitting position 200/238 with ESM-1v Model 3\nSubmitting position 160/238 with ESM-1v Model 3\nSubmitting position 220/238 with ESM-1v Model 3\nSubmitting position 20/238 with ESM-1v Model 3\nSubmitting position 60/238 with ESM-1v Model 3\nSubmitting position 140/238 with ESM-1v Model 3\nSubmitting position 40/238 with ESM-1v Model 3\nSubmitting position 20/238 with ESM-1v Model 4\nSubmitting position 80/238 with ESM-1v Model 4\nSubmitting position 140/238 with ESM-1v Model 4\nSubmitting position 60/238 with ESM-1v Model 4\nSubmitting position 220/238 with ESM-1v Model 4\nSubmitting position 0/238 with ESM-1v Model 4\nSubmitting position 40/238 with ESM-1v Model 4\nSubmitting position 200/238 with ESM-1v Model 4\nSubmitting position 120/238 with ESM-1v Model 4\nSubmitting position 160/238 with ESM-1v Model 4\nSubmitting position 180/238 with ESM-1v Model 4\nSubmitting position 100/238 with ESM-1v Model 4\n",
     "output_type": "stream"
    }
   ],
   "id": "b0f6821e-e733-4734-a796-a8819a93492f"
  },
  {
   "cell_type": "code",
   "source": [
    "results[0]  # Look at the first result DF we made"
   ],
   "metadata": {
    "trusted": true
   },
   "execution_count": 11,
   "outputs": [
    {
     "execution_count": 11,
     "output_type": "execute_result",
     "data": {
      "text/plain": "       score  token token_str  \\\n0   0.909230     20         M   \n1   0.008935      4         L   \n2   0.007254      7         V   \n3   0.007158      6         G   \n4   0.006674     12         I   \n5   0.006055      8         S   \n6   0.005998     15         K   \n7   0.005336     11         T   \n8   0.005292      5         A   \n9   0.005089     18         F   \n10  0.005014     13         D   \n11  0.004765      9         E   \n12  0.004459     17         N   \n13  0.004456     19         Y   \n14  0.003537     14         P   \n15  0.003235     10         R   \n16  0.002700     16         Q   \n17  0.001710     21         H   \n18  0.001501     22         W   \n19  0.001435     23         C   \n\n                                             sequence  model_num  mask_pos  \n0   M S K G E E L F T G V V P I L V E L D G D V N ...          1         0  \n1   L S K G E E L F T G V V P I L V E L D G D V N ...          1         0  \n2   V S K G E E L F T G V V P I L V E L D G D V N ...          1         0  \n3   G S K G E E L F T G V V P I L V E L D G D V N ...          1         0  \n4   I S K G E E L F T G V V P I L V E L D G D V N ...          1         0  \n5   S S K G E E L F T G V V P I L V E L D G D V N ...          1         0  \n6   K S K G E E L F T G V V P I L V E L D G D V N ...          1         0  \n7   T S K G E E L F T G V V P I L V E L D G D V N ...          1         0  \n8   A S K G E E L F T G V V P I L V E L D G D V N ...          1         0  \n9   F S K G E E L F T G V V P I L V E L D G D V N ...          1         0  \n10  D S K G E E L F T G V V P I L V E L D G D V N ...          1         0  \n11  E S K G E E L F T G V V P I L V E L D G D V N ...          1         0  \n12  N S K G E E L F T G V V P I L V E L D G D V N ...          1         0  \n13  Y S K G E E L F T G V V P I L V E L D G D V N ...          1         0  \n14  P S K G E E L F T G V V P I L V E L D G D V N ...          1         0  \n15  R S K G E E L F T G V V P I L V E L D G D V N ...          1         0  \n16  Q S K G E E L F T G V V P I L V E L D G D V N ...          1         0  \n17  H S K G E E L F T G V V P I L V E L D G D V N ...          1         0  \n18  W S K G E E L F T G V V P I L V E L D G D V N ...          1         0  \n19  C S K G E E L F T G V V P I L V E L D G D V N ...          1         0  ",
      "text/html": "<div>\n<style scoped>\n    .dataframe tbody tr th:only-of-type {\n        vertical-align: middle;\n    }\n\n    .dataframe tbody tr th {\n        vertical-align: top;\n    }\n\n    .dataframe thead th {\n        text-align: right;\n    }\n</style>\n<table border=\"1\" class=\"dataframe\">\n  <thead>\n    <tr style=\"text-align: right;\">\n      <th></th>\n      <th>score</th>\n      <th>token</th>\n      <th>token_str</th>\n      <th>sequence</th>\n      <th>model_num</th>\n      <th>mask_pos</th>\n    </tr>\n  </thead>\n  <tbody>\n    <tr>\n      <th>0</th>\n      <td>0.909230</td>\n      <td>20</td>\n      <td>M</td>\n      <td>M S K G E E L F T G V V P I L V E L D G D V N ...</td>\n      <td>1</td>\n      <td>0</td>\n    </tr>\n    <tr>\n      <th>1</th>\n      <td>0.008935</td>\n      <td>4</td>\n      <td>L</td>\n      <td>L S K G E E L F T G V V P I L V E L D G D V N ...</td>\n      <td>1</td>\n      <td>0</td>\n    </tr>\n    <tr>\n      <th>2</th>\n      <td>0.007254</td>\n      <td>7</td>\n      <td>V</td>\n      <td>V S K G E E L F T G V V P I L V E L D G D V N ...</td>\n      <td>1</td>\n      <td>0</td>\n    </tr>\n    <tr>\n      <th>3</th>\n      <td>0.007158</td>\n      <td>6</td>\n      <td>G</td>\n      <td>G S K G E E L F T G V V P I L V E L D G D V N ...</td>\n      <td>1</td>\n      <td>0</td>\n    </tr>\n    <tr>\n      <th>4</th>\n      <td>0.006674</td>\n      <td>12</td>\n      <td>I</td>\n      <td>I S K G E E L F T G V V P I L V E L D G D V N ...</td>\n      <td>1</td>\n      <td>0</td>\n    </tr>\n    <tr>\n      <th>5</th>\n      <td>0.006055</td>\n      <td>8</td>\n      <td>S</td>\n      <td>S S K G E E L F T G V V P I L V E L D G D V N ...</td>\n      <td>1</td>\n      <td>0</td>\n    </tr>\n    <tr>\n      <th>6</th>\n      <td>0.005998</td>\n      <td>15</td>\n      <td>K</td>\n      <td>K S K G E E L F T G V V P I L V E L D G D V N ...</td>\n      <td>1</td>\n      <td>0</td>\n    </tr>\n    <tr>\n      <th>7</th>\n      <td>0.005336</td>\n      <td>11</td>\n      <td>T</td>\n      <td>T S K G E E L F T G V V P I L V E L D G D V N ...</td>\n      <td>1</td>\n      <td>0</td>\n    </tr>\n    <tr>\n      <th>8</th>\n      <td>0.005292</td>\n      <td>5</td>\n      <td>A</td>\n      <td>A S K G E E L F T G V V P I L V E L D G D V N ...</td>\n      <td>1</td>\n      <td>0</td>\n    </tr>\n    <tr>\n      <th>9</th>\n      <td>0.005089</td>\n      <td>18</td>\n      <td>F</td>\n      <td>F S K G E E L F T G V V P I L V E L D G D V N ...</td>\n      <td>1</td>\n      <td>0</td>\n    </tr>\n    <tr>\n      <th>10</th>\n      <td>0.005014</td>\n      <td>13</td>\n      <td>D</td>\n      <td>D S K G E E L F T G V V P I L V E L D G D V N ...</td>\n      <td>1</td>\n      <td>0</td>\n    </tr>\n    <tr>\n      <th>11</th>\n      <td>0.004765</td>\n      <td>9</td>\n      <td>E</td>\n      <td>E S K G E E L F T G V V P I L V E L D G D V N ...</td>\n      <td>1</td>\n      <td>0</td>\n    </tr>\n    <tr>\n      <th>12</th>\n      <td>0.004459</td>\n      <td>17</td>\n      <td>N</td>\n      <td>N S K G E E L F T G V V P I L V E L D G D V N ...</td>\n      <td>1</td>\n      <td>0</td>\n    </tr>\n    <tr>\n      <th>13</th>\n      <td>0.004456</td>\n      <td>19</td>\n      <td>Y</td>\n      <td>Y S K G E E L F T G V V P I L V E L D G D V N ...</td>\n      <td>1</td>\n      <td>0</td>\n    </tr>\n    <tr>\n      <th>14</th>\n      <td>0.003537</td>\n      <td>14</td>\n      <td>P</td>\n      <td>P S K G E E L F T G V V P I L V E L D G D V N ...</td>\n      <td>1</td>\n      <td>0</td>\n    </tr>\n    <tr>\n      <th>15</th>\n      <td>0.003235</td>\n      <td>10</td>\n      <td>R</td>\n      <td>R S K G E E L F T G V V P I L V E L D G D V N ...</td>\n      <td>1</td>\n      <td>0</td>\n    </tr>\n    <tr>\n      <th>16</th>\n      <td>0.002700</td>\n      <td>16</td>\n      <td>Q</td>\n      <td>Q S K G E E L F T G V V P I L V E L D G D V N ...</td>\n      <td>1</td>\n      <td>0</td>\n    </tr>\n    <tr>\n      <th>17</th>\n      <td>0.001710</td>\n      <td>21</td>\n      <td>H</td>\n      <td>H S K G E E L F T G V V P I L V E L D G D V N ...</td>\n      <td>1</td>\n      <td>0</td>\n    </tr>\n    <tr>\n      <th>18</th>\n      <td>0.001501</td>\n      <td>22</td>\n      <td>W</td>\n      <td>W S K G E E L F T G V V P I L V E L D G D V N ...</td>\n      <td>1</td>\n      <td>0</td>\n    </tr>\n    <tr>\n      <th>19</th>\n      <td>0.001435</td>\n      <td>23</td>\n      <td>C</td>\n      <td>C S K G E E L F T G V V P I L V E L D G D V N ...</td>\n      <td>1</td>\n      <td>0</td>\n    </tr>\n  </tbody>\n</table>\n</div>"
     },
     "metadata": {}
    }
   ],
   "id": "474e4f6f-56dc-411a-9621-374fafd06d4b"
  },
  {
   "cell_type": "markdown",
   "source": [
    "Concatenate the resulting DFs together, horizontally."
   ],
   "metadata": {},
   "id": "6a43db95-39e8-44cd-90ca-64e1f3519164"
  },
  {
   "cell_type": "code",
   "source": [
    "results_df = pd.concat(results, axis=0)\n",
    "\n",
    "results_df.shape"
   ],
   "metadata": {
    "trusted": true
   },
   "execution_count": 12,
   "outputs": [
    {
     "execution_count": 12,
     "output_type": "execute_result",
     "data": {
      "text/plain": "(19040, 6)"
     },
     "metadata": {}
    }
   ],
   "id": "7a9879f2-d501-4621-96fd-74d78c5dae0f"
  },
  {
   "cell_type": "code",
   "source": [
    "results_df.sample(5)  # Sample some of the results to get a preview"
   ],
   "metadata": {
    "trusted": true
   },
   "execution_count": 13,
   "outputs": [
    {
     "execution_count": 13,
     "output_type": "execute_result",
     "data": {
      "text/plain": "       score  token token_str  \\\n17  0.012230     22         W   \n16  0.017972     18         F   \n17  0.013468     20         M   \n18  0.025137     21         H   \n13  0.027776     19         Y   \n\n                                             sequence  model_num  mask_pos  \n17  A S K G E E L F T G V V P I L V E L D G D V N ...          4       111  \n16  A S K G E E L F T G V V P I L V E L D G D V N ...          4        40  \n17  A S K G E E L F T G V V P I L V E L D G D V N ...          1       119  \n18  A S K G E E L F T G V V P I L V E L D G D V N ...          3       204  \n13  A S K G E E L F T G V V P I L V E L D G D V N ...          4       221  ",
      "text/html": "<div>\n<style scoped>\n    .dataframe tbody tr th:only-of-type {\n        vertical-align: middle;\n    }\n\n    .dataframe tbody tr th {\n        vertical-align: top;\n    }\n\n    .dataframe thead th {\n        text-align: right;\n    }\n</style>\n<table border=\"1\" class=\"dataframe\">\n  <thead>\n    <tr style=\"text-align: right;\">\n      <th></th>\n      <th>score</th>\n      <th>token</th>\n      <th>token_str</th>\n      <th>sequence</th>\n      <th>model_num</th>\n      <th>mask_pos</th>\n    </tr>\n  </thead>\n  <tbody>\n    <tr>\n      <th>17</th>\n      <td>0.012230</td>\n      <td>22</td>\n      <td>W</td>\n      <td>A S K G E E L F T G V V P I L V E L D G D V N ...</td>\n      <td>4</td>\n      <td>111</td>\n    </tr>\n    <tr>\n      <th>16</th>\n      <td>0.017972</td>\n      <td>18</td>\n      <td>F</td>\n      <td>A S K G E E L F T G V V P I L V E L D G D V N ...</td>\n      <td>4</td>\n      <td>40</td>\n    </tr>\n    <tr>\n      <th>17</th>\n      <td>0.013468</td>\n      <td>20</td>\n      <td>M</td>\n      <td>A S K G E E L F T G V V P I L V E L D G D V N ...</td>\n      <td>1</td>\n      <td>119</td>\n    </tr>\n    <tr>\n      <th>18</th>\n      <td>0.025137</td>\n      <td>21</td>\n      <td>H</td>\n      <td>A S K G E E L F T G V V P I L V E L D G D V N ...</td>\n      <td>3</td>\n      <td>204</td>\n    </tr>\n    <tr>\n      <th>13</th>\n      <td>0.027776</td>\n      <td>19</td>\n      <td>Y</td>\n      <td>A S K G E E L F T G V V P I L V E L D G D V N ...</td>\n      <td>4</td>\n      <td>221</td>\n    </tr>\n  </tbody>\n</table>\n</div>"
     },
     "metadata": {}
    }
   ],
   "id": "6606950b"
  },
  {
   "cell_type": "markdown",
   "source": [
    "Let's quickly fill in the WT character for each row so we can plot the results."
   ],
   "metadata": {},
   "id": "06dd5906"
  },
  {
   "cell_type": "code",
   "source": [
    "results_df['wt_token_str'] = results_df.mask_pos.apply(lambda x: WILDTYPE[x])\n",
    "\n",
    "results_df.sample(3)"
   ],
   "metadata": {
    "trusted": true
   },
   "execution_count": 14,
   "outputs": [
    {
     "execution_count": 14,
     "output_type": "execute_result",
     "data": {
      "text/plain": "       score  token token_str  \\\n1   0.011308      4         L   \n0   0.085240      4         L   \n12  0.032508     13         D   \n\n                                             sequence  model_num  mask_pos  \\\n1   L S K G E E L F T G V V P I L V E L D G D V N ...          4         0   \n0   A S K G E E L F T G V V P I L V E L D G D V N ...          3       188   \n12  A S K G E E L F T G V V P I L V E D D G D V N ...          3        17   \n\n   wt_token_str  \n1             A  \n0             G  \n12            L  ",
      "text/html": "<div>\n<style scoped>\n    .dataframe tbody tr th:only-of-type {\n        vertical-align: middle;\n    }\n\n    .dataframe tbody tr th {\n        vertical-align: top;\n    }\n\n    .dataframe thead th {\n        text-align: right;\n    }\n</style>\n<table border=\"1\" class=\"dataframe\">\n  <thead>\n    <tr style=\"text-align: right;\">\n      <th></th>\n      <th>score</th>\n      <th>token</th>\n      <th>token_str</th>\n      <th>sequence</th>\n      <th>model_num</th>\n      <th>mask_pos</th>\n      <th>wt_token_str</th>\n    </tr>\n  </thead>\n  <tbody>\n    <tr>\n      <th>1</th>\n      <td>0.011308</td>\n      <td>4</td>\n      <td>L</td>\n      <td>L S K G E E L F T G V V P I L V E L D G D V N ...</td>\n      <td>4</td>\n      <td>0</td>\n      <td>A</td>\n    </tr>\n    <tr>\n      <th>0</th>\n      <td>0.085240</td>\n      <td>4</td>\n      <td>L</td>\n      <td>A S K G E E L F T G V V P I L V E L D G D V N ...</td>\n      <td>3</td>\n      <td>188</td>\n      <td>G</td>\n    </tr>\n    <tr>\n      <th>12</th>\n      <td>0.032508</td>\n      <td>13</td>\n      <td>D</td>\n      <td>A S K G E E L F T G V V P I L V E D D G D V N ...</td>\n      <td>3</td>\n      <td>17</td>\n      <td>L</td>\n    </tr>\n  </tbody>\n</table>\n</div>"
     },
     "metadata": {}
    }
   ],
   "id": "6cfd674d"
  },
  {
   "cell_type": "markdown",
   "source": [
    "Lastly, make a DF displaying a heatmap of the most probable stabilizing variants from the above _in silico_ deep mutational scan."
   ],
   "metadata": {},
   "id": "e93bd808"
  },
  {
   "cell_type": "code",
   "source": [
    "heatmap_df = []  # Each row represents the full sequence, with a single token_str at each position\n",
    "\n",
    "for residue in results_df.token_str.drop_duplicates().to_list():\n",
    "    tmp_row = []\n",
    "    for pos in range(len(WILDTYPE)):\n",
    "        token_position_score = results_df.query('token_str == @residue & mask_pos == @pos').score.iloc[0]\n",
    "        tmp_row.append(token_position_score)\n",
    "    heatmap_df.append(tmp_row)"
   ],
   "metadata": {
    "trusted": true
   },
   "execution_count": 15,
   "outputs": [],
   "id": "8b15228a"
  },
  {
   "cell_type": "code",
   "source": [
    "heatmap_df = pd.DataFrame(heatmap_df)\n",
    "\n",
    "heatmap_df.shape"
   ],
   "metadata": {
    "trusted": true
   },
   "execution_count": 16,
   "outputs": [
    {
     "execution_count": 16,
     "output_type": "execute_result",
     "data": {
      "text/plain": "(20, 238)"
     },
     "metadata": {}
    }
   ],
   "id": "011b816f"
  },
  {
   "cell_type": "code",
   "source": [
    "heatmap_df.head(1).iloc[0][0]"
   ],
   "metadata": {
    "trusted": true
   },
   "execution_count": 17,
   "outputs": [
    {
     "execution_count": 17,
     "output_type": "execute_result",
     "data": {
      "text/plain": "0.9092302322387695"
     },
     "metadata": {}
    }
   ],
   "id": "b8361a62"
  },
  {
   "cell_type": "code",
   "source": [
    "# FOR IN-BROWSER JUPYTER-LITE ONLY #\n",
    "await micropip.install('matplotlib')\n",
    "await micropip.install('seaborn')"
   ],
   "metadata": {
    "trusted": true
   },
   "execution_count": 18,
   "outputs": [],
   "id": "ed7a2749-f894-4150-8b36-cb550c31a96e"
  },
  {
   "cell_type": "code",
   "source": [
    "from matplotlib import pyplot as plt\n",
    "import seaborn as sns\n",
    "\n",
    "fig = plt.figure(figsize=[15, 4])\n",
    "\n",
    "ax = sns.heatmap(heatmap_df)\n",
    "_ = ax.set_xticklabels(list(WILDTYPE)[::int(len(WILDTYPE)/50)])\n",
    "_ = ax.set_yticklabels(results_df.token_str.drop_duplicates())\n",
    "_ = ax.set(xlabel='Wildtype Residue', ylabel='Variant')"
   ],
   "metadata": {
    "trusted": true
   },
   "execution_count": 19,
   "outputs": [
    {
     "output_type": "display_data",
     "data": {
      "text/plain": "<Figure size 1500x400 with 2 Axes>",
      "image/png": "[encoded data removed]"
     },
     "metadata": {}
    }
   ],
   "id": "29be3449"
  },
  {
   "cell_type": "markdown",
   "source": [
    "This is a quick depiciton of the results. What you want to look for in the DF is mutations where the score is greater than the score of the wild-type residue at the same location. These can be extracted with some quick slicing of `results_df`, which we'll leave up to you to explore. There appear to be several mutations with greater likelihood that the wild-type sequence."
   ],
   "metadata": {},
   "id": "1175530f"
  }
 ]
}
