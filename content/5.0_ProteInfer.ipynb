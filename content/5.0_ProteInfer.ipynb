{
  "metadata": {
    "kernelspec": {
      "name": "python",
      "display_name": "Python (Pyodide)",
      "language": "python"
    },
    "language_info": {
      "codemirror_mode": {
        "name": "python",
        "version": 3
      },
      "file_extension": ".py",
      "mimetype": "text/x-python",
      "name": "python",
      "nbconvert_exporter": "python",
      "pygments_lexer": "ipython3",
      "version": "3.8"
    }
  },
  "nbformat_minor": 5,
  "nbformat": 4,
  "cells": [
    {
      "cell_type": "markdown",
      "source": "<img style=\"float: left; padding-right: 10px; height: 60px\" src=\"https://d31e6ufxekikrt.cloudfront.net/static/ui/images/logo.png\">\n\n<br>\n<br>\n<br>\n\n# **ProteInfer API**\n\nProteInfer uses convolutional neural networks for direct prediction of protein functions from amino acid sequences. It specializes in identifying Enzyme Commission numbers and Gene Ontology terms, enhancing protein functional annotation.\n\n<br>\n\n<table style=\"width: 100%; border-collapse: collapse; background-color: white; float: left;\">\n    <tr>\n        <td style=\"text-align: left; vertical-align: middle; background-color: white;\">\n            <img src=\"https://www.svgrepo.com/show/354202/postman-icon.svg\" style=\"height: 20px; float: left; padding-right: 10px;\"><a href=\"https://api.biolm.ai/#71d8d770-fa3a-43f4-a9c4-d87fc148dff2\">  <h4 style=\"margin: 0;\"><b>Postman API Docs</b></h4></a>\n        </td>\n        <td style=\"text-align: left; vertical-align: middle; background-color: white;\">\n            <img src=\"https://upload.wikimedia.org/wikipedia/commons/thumb/c/c3/Python-logo-notext.svg/1869px-Python-logo-notext.svg.png\" style=\"height: 20px; float: left; padding-right: 10px;\"><a href=\"https://docs.biolm.ai/en/latest/model-docs/ProteInfer_EC.html\"><h4 style=\"margin: 0;\"><b>Python SDK Docs</b></h4></a>\n        </td>\n        <td style=\"text-align: left; vertical-align: middle; background-color: white;\">\n            <img src=\"https://github.githubassets.com/assets/GitHub-Mark-ea2971cee799.png\" style=\"height: 20px; float: left; padding-right: 10px;\"><a href=\"https://github.com/google-research/proteinfer\"><h4 style=\"margin: 0;\"><b>Github Link</b></h4></a>\n        </td>\n        <td style=\"text-align: left; vertical-align: middle; background-color: white;\">\n            <img src=\"https://info.arxiv.org/brand/images/brand-logomark-primary-large.jpg\" style=\"height: 20px; float: left; padding-right: 10px;\"><a href=\"https://google-research.github.io/proteinfer/\"><h4 style=\"margin: 0;\"><b>Paper Link</b></h4></a>\n        </td>\n    </tr>\n</table>\n\n<br>\n\n---",
      "metadata": {},
      "id": "8d1e11b2"
    },
    {
      "cell_type": "markdown",
      "source": "## Get and set your API Token\n\nTo use the BioLM API, you need an API token. You can get one from the [User API Tokens](https://biolm.ai/ui/accounts/user-api-tokens/) page.\n\nPaste the API token in the cell below, as the value of the variable `BIOLMAI_TOKEN`.",
      "metadata": {},
      "id": "6b7a87ff"
    },
    {
      "cell_type": "code",
      "source": "BIOLMAI_TOKEN = \" \"  # !!! YOUR API TOKEN HERE !!!",
      "metadata": {},
      "execution_count": 1,
      "outputs": [],
      "id": "047d4592"
    },
    {
      "cell_type": "markdown",
      "source": "## API Call with Python requests",
      "metadata": {},
      "id": "0e37d82c"
    },
    {
      "cell_type": "code",
      "source": "try:\n    # Install packages to make API requests in JLite\n    import micropip\n    await micropip.install('requests')\n    await micropip.install('pyodide-http')\n    # Patch requests for in-browser support\n    import pyodide_http\n    pyodide_http.patch_all()\nexcept ModuleNotFoundError:\n    pass  # Won't be using micropip outside of JLite",
      "metadata": {},
      "execution_count": null,
      "outputs": [],
      "id": "c456bb4c-c4bb-4634-b271-78c183b5ffb0"
    },
    {
      "cell_type": "markdown",
      "source": "### ProteInfer EC (Enzyme Commission) Prediction",
      "metadata": {},
      "id": "6ad84753"
    },
    {
      "cell_type": "code",
      "source": "import requests\n\nurl = \"https://biolm.ai/api/v1/models/enzyme_function/predict/\"\n\nheaders = {\n    \"Content-Type\": \"application/json\",\n    \"Authorization\": f\"Token {BIOLMAI_TOKEN}\",\n}\n\ndata = {\n    \"instances\": [\n        {\n            \"data\": {\n                \"text\": \"MMQTVLAKIVADKAIWVEARKQQQPLASFQNEVQPSTRHFYDALQGARTAFILECKKASPSKGVIRDDFDPARIAAIYKHYASAISVLTDEKYFQGSFNFLPIVSQIAPQPILCKDFIIDPYQIYLARYYQADACLLMLSVLDDDQYRQLAAVAHSLEMGVLTEVSNEEEQERAIALGAKVVGINNRDLRDLSIDLNRTRELAPKLGHNVTVISESGINTYAQVRELSHFANGFLIGSALMAHDDLHAAVRRVLLGENKVCGLTRGQDAKAAYDAGAIYGGLIFVATSPRCVNVEQAQEVMAAAPLQYVGVFRNHDIADVVDKAKVLSLAAVQLHGNEEQLYIDTLREALPAHVAIWKALSVGETLPAREFQHVDKYVLDNGQGGSGQRFDWSLLNGQSLGNVLLAGGLGADNCVEAAQTGCAGLDFNSAVESQPGIKDARLLASVFQTLRAY\",\n            },\n        },\n    ],\n}\n\nresponse = requests.post(\n    url=url,\n    headers=headers,\n    json=data,\n)\n\nif response.status_code == 200:\n    print(response.json())\n",
      "metadata": {
        "scrolled": true
      },
      "execution_count": 2,
      "outputs": [
        {
          "name": "stdout",
          "output_type": "stream",
          "text": "{'results': [{'sequence_id': '0', 'predictions': [{'label': 'EC:4.-.-.-', 'confidence': 1.0, 'description': 'Lyases.'}, {'label': 'EC:4.1.-.-', 'confidence': 1.0, 'description': 'Carbon-carbon lyases.'}, {'label': 'EC:4.1.1.-', 'confidence': 1.0, 'description': 'Carboxy-lyases.'}, {'label': 'EC:4.1.1.48', 'confidence': 1.0, 'description': 'Indole-3-glycerol-phosphate synthase.'}, {'label': 'EC:5.-.-.-', 'confidence': 1.0, 'description': 'Isomerases.'}, {'label': 'EC:5.3.-.-', 'confidence': 1.0, 'description': 'Intramolecular oxidoreductases.'}, {'label': 'EC:5.3.1.-', 'confidence': 1.0, 'description': 'Interconverting aldoses and ketoses.'}, {'label': 'EC:5.3.1.24', 'confidence': 1.0, 'description': 'Phosphoribosylanthranilate isomerase.'}]}]}\n"
        }
      ],
      "id": "a98e00ce"
    },
    {
      "cell_type": "code",
      "source": "",
      "metadata": {},
      "execution_count": null,
      "outputs": [],
      "id": "400124ff"
    },
    {
      "cell_type": "markdown",
      "source": "### ProteInfer GO (Gene Ontology) Prediction",
      "metadata": {},
      "id": "23e5a81a"
    },
    {
      "cell_type": "code",
      "source": "import requests\n\nurl = \"https://biolm.ai/api/v1/models/protein_go_function/predict/\"\n\nheaders = {\n    \"Content-Type\": \"application/json\",\n    \"Authorization\": f\"Token {BIOLMAI_TOKEN}\",\n}\n\ndata = {\n    \"instances\": [\n        {\n            \"data\": {\n                \"text\": \"MSQCCCRQVLLGVEVSIVVMALVAGGAGQTHDSRAAGSSCYGGFDLYFVLDKSGSVQHYWNEIFYFVHHLAHKFISPQMRMSFIVFSTDGRTLMALTEDRDKIRAGLEELRMVQPGGDTYMDRGLHRASEQIYYAAGDGYRAASVIIALTDGELREDQFDTAQREAGRARQLGASVYCVGLKDFNETQLSTIADSKDHVFPVHDGFEALQSVIDSILKRSCIEILAVQPSSICEGGEDEEQRHPESFQVVVKGNGFLHARDVQKVLCSFRVNDTLTLMKRPLVVRDTYLLCPAPLLEREGTSATLHVSMNNGLSFISSSVTIEAVACSDGTFVAVALLILMLLLTLVLLWWFWPLCCTVVRPPSWISVRKTPVKPPPSFEVWSSFPLFCLQVVHEPPPPVAEDDSDDEEGLPKKKWPTVDASYYGGRGVGGIKRMEVRWGDKGSTEEGAKLEKAKNARVVMPTEEESLARPYHAAHKPVRSHKWYSPIKGKLDALCVFLRKGYDRVSIMRPLPGDKGKCINFTRSRSYPVTRYPVYRPPPTPIYTLPHGHQRRPSDDSNLFQLPPSPTSKLPPLPSLHPSSCATLPVYSRHPDLFSAPPSPTGSLPPPPQAPPLCRAPPPSRPPPRPN\",\n            },\n        },\n    ],\n}\n\nresponse = requests.post(\n    url=url,\n    headers=headers,\n    json=data,\n)\n\nif response.status_code == 200:\n    print(response.json())\n",
      "metadata": {
        "scrolled": true
      },
      "execution_count": 3,
      "outputs": [
        {
          "name": "stdout",
          "output_type": "stream",
          "text": "{'results': [{'sequence_id': '0', 'predictions': [{'label': 'GO:0005488', 'confidence': 1.0, 'description': 'binding'}, {'label': 'GO:0008150', 'confidence': 1.0, 'description': 'biological_process'}, {'label': 'GO:0044464', 'confidence': 1.0, 'description': 'cell part'}, {'label': 'GO:0005575', 'confidence': 1.0, 'description': 'cellular_component'}, {'label': 'GO:0016021', 'confidence': 1.0, 'description': 'integral component of membrane'}, {'label': 'GO:0031224', 'confidence': 1.0, 'description': 'intrinsic component of membrane'}, {'label': 'GO:0044425', 'confidence': 1.0, 'description': 'membrane part'}, {'label': 'GO:0003674', 'confidence': 1.0, 'description': 'molecular_function'}, {'label': 'GO:0065007', 'confidence': 0.9999992847442627, 'description': 'biological regulation'}, {'label': 'GO:0046872', 'confidence': 0.9999992847442627, 'description': 'metal ion binding'}, {'label': 'GO:0043169', 'confidence': 0.9999990463256836, 'description': 'cation binding'}, {'label': 'GO:0016020', 'confidence': 0.9999864101409912, 'description': 'membrane'}, {'label': 'GO:0007165', 'confidence': 0.9999784231185913, 'description': 'signal transduction'}, {'label': 'GO:0043167', 'confidence': 0.9999719858169556, 'description': 'ion binding'}, {'label': 'GO:1901998', 'confidence': 0.9998838901519775, 'description': 'toxin transport'}, {'label': 'GO:0060089', 'confidence': 0.9997674822807312, 'description': 'molecular transducer activity'}, {'label': 'GO:0038023', 'confidence': 0.9996358156204224, 'description': 'signaling receptor activity'}, {'label': 'GO:0004888', 'confidence': 0.9989659786224365, 'description': 'transmembrane signaling receptor activity'}, {'label': 'GO:0050789', 'confidence': 0.9988377690315247, 'description': 'regulation of biological process'}, {'label': 'GO:0004896', 'confidence': 0.9984742999076843, 'description': 'cytokine receptor activity'}]}]}\n"
        }
      ],
      "id": "a573ab13"
    },
    {
      "cell_type": "code",
      "source": "",
      "metadata": {},
      "execution_count": null,
      "outputs": [],
      "id": "d0bedcae"
    },
    {
      "cell_type": "markdown",
      "source": "### See more examples, use-cases, and APIs on your [BioLM Console Catalog](https://biolm.ai/console/catalog/).\n<br>\n\n#### BioLM hosts deep learning models and runs inference at scale. You do the science.\n<br>\n\n#### Let us help model your data. We offers professional services in these domains, and more:\n<br>\n\n#### <img src=\"https://d31e6ufxekikrt.cloudfront.net/static/ui/images/console-overview/enzyme_engineering_icon.png\"  style=\"height: 40px; float: left; padding-right: 10px;\"> Enzyme Engineering\n<br>\n\n#### <img src=\"https://d31e6ufxekikrt.cloudfront.net/static/ui/images/console-overview/antibody_engineering_icon.png\"  style=\"height: 40px; float: left; padding-right: 10px;\"> Antibody Engineering\n<br>\n\n#### <img src=\"https://d31e6ufxekikrt.cloudfront.net/static/ui/images/console-overview/biosecurity_icon.png\"  style=\"height: 40px; float: left; padding-right: 10px;\"> Biosecurity\n<br>\n\n#### <img src=\"https://d31e6ufxekikrt.cloudfront.net/static/ui/images/console-overview/single_cell_genomics_icon.png\"  style=\"height: 40px; float: left; padding-right: 10px;\"> Single-Cell Genomics\n<br>\n\n#### <img src=\"https://d31e6ufxekikrt.cloudfront.net/static/ui/images/console-overview/dna_seq_modeling_icon.png\"  style=\"height: 40px; float: left; padding-right: 10px;\"> DNA Sequence Modelling\n<br>\n\n### [**Contact us**](https://biolm.ai/ui/contact-us/) to learn more.\n",
      "metadata": {},
      "id": "a04f63cb"
    },
    {
      "cell_type": "code",
      "source": "",
      "metadata": {},
      "execution_count": null,
      "outputs": [],
      "id": "48ce8513"
    }
  ]
}