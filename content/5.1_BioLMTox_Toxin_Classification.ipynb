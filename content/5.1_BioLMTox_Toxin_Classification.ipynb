{
  "metadata": {
    "kernelspec": {
      "name": "python",
      "display_name": "Python (Pyodide)",
      "language": "python"
    },
    "language_info": {
      "codemirror_mode": {
        "name": "python",
        "version": 3
      },
      "file_extension": ".py",
      "mimetype": "text/x-python",
      "name": "python",
      "nbconvert_exporter": "python",
      "pygments_lexer": "ipython3",
      "version": "3.8"
    }
  },
  "nbformat_minor": 5,
  "nbformat": 4,
  "cells": [
    {
      "cell_type": "markdown",
      "source": "# BioLMTox:Toxin Classification\n Enhance BioSecurity with the BioLMTox [classification endpoint](https://api.biolm.ai/#8616fff6-33c4-416b-9557-429da180ef92)",
      "metadata": {},
      "id": "d7fee1f3"
    },
    {
      "cell_type": "code",
      "source": "from helpers import api_caller\n\nTOKEN = ''",
      "metadata": {
        "collapsed": false,
        "jupyter": {
          "outputs_hidden": false
        },
        "trusted": true
      },
      "execution_count": 11,
      "outputs": [],
      "id": "aed93493070dd4d7"
    },
    {
      "cell_type": "code",
      "source": "import csv\n\nlines = []\nwith open('data/protein/data/PLA2.csv', newline='') as csvfile:\n    reader = csv.reader(csvfile)\n    for row in reader:\n        lines.append(row)\nprint(lines)",
      "metadata": {
        "trusted": true
      },
      "execution_count": 35,
      "outputs": [
        {
          "name": "stdout",
          "text": "[['label', 'sequence'], ['toxin', 'MHPAHLLVLLAVCVSLLGASDIPPLPLNLAQFGFMIRCANGGSRSPLDYTDYGCYCGKGGRGTPVDDLDRCCQVHDECYGEAEKRLGCSPFVTLYSWKCYGKAPSCNTKTDCQRFVCNCDAKAAECFARSPYQKKNWNINTKARCK'], ['toxin', 'MRTLWIMAVLLVGVEGSLVELGKMILQETGKNPVTSYGAYGCNCGVLGRGKPKDATDRCCYVHKCCYKKLTDCNPKKDRYSYSWKDKTIVCGENNSCLKELCECDKAVAICLRENLDTYNKKYKNNYLKPFCKKADPC']]\n",
          "output_type": "stream"
        }
      ],
      "id": "6e40a461-2b0b-4c4d-9746-ca9c5b1906e0"
    },
    {
      "cell_type": "markdown",
      "source": "Load the example toxin sequences from the CSV file",
      "metadata": {},
      "id": "0c9ae066-e1f1-42a4-99dd-e68675bcf2ba"
    },
    {
      "cell_type": "code",
      "source": "SEQ1 = lines[1][1]\nSEQ2 = lines[2][1]",
      "metadata": {
        "trusted": true
      },
      "execution_count": 36,
      "outputs": [],
      "id": "9bef42ba-55bb-40ea-9cf5-aafba0fc527f"
    },
    {
      "cell_type": "code",
      "source": "print(\"Sequence length 1: {}\".format(len(SEQ1)))\nprint(\"Sequence length 2: {}\".format(len(SEQ2)))",
      "metadata": {
        "trusted": true
      },
      "execution_count": 27,
      "outputs": [
        {
          "name": "stdout",
          "text": "Sequence length 1: 146\nSequence length 2: 138\n",
          "output_type": "stream"
        }
      ],
      "id": "6344e5ff-8256-416b-81c9-3d2415f8db75"
    },
    {
      "cell_type": "markdown",
      "source": "SEQ1 is https://www.uniprot.org/uniprotkb/Q45Z47/entry and SEQ2 is https://www.uniprot.org/uniprotkb/P82114/entry. Both are snake venoms",
      "metadata": {},
      "id": "e097ccf1-3572-473a-95ff-14d6af15b5e3"
    },
    {
      "cell_type": "markdown",
      "source": "## Define Endpoint Params",
      "metadata": {},
      "id": "9eec68c6-2e1d-44b0-a78c-340d597dadba"
    },
    {
      "cell_type": "code",
      "source": "SLUG = 'biolmtox_v1'  # Model endpoint to hit on BioLM.ai\n\n# Follow the link to the docs for the endpoint above to see this definition\ndata = {\n  \"instances\": [{\n    \"data\": {\"text\": SEQ1}\n  }]\n}",
      "metadata": {
        "trusted": true
      },
      "execution_count": 5,
      "outputs": [],
      "id": "b4eca9b3"
    },
    {
      "cell_type": "markdown",
      "source": "Let's make a secure REST API request to BioLM API to quickly make the prediction on GPU.",
      "metadata": {},
      "id": "18087211"
    },
    {
      "cell_type": "code",
      "source": "import time\n\ns = time.time()  # Start time\n\nresult = await api_caller(\n    SLUG,\n    'predict',\n    data,\n    TOKEN\n)\n\ne = time.time()  # End time\nd = e - s  # Duration\n\nprint(f'Response time: {d:.4}s')",
      "metadata": {
        "trusted": true
      },
      "execution_count": 6,
      "outputs": [
        {
          "name": "stdout",
          "text": "Response time: 36.22s\n",
          "output_type": "stream"
        }
      ],
      "id": "85acf0a8-6361-476e-9164-762eba8d895a"
    },
    {
      "cell_type": "code",
      "source": "from IPython.display import JSON\n\nJSON(result)",
      "metadata": {
        "trusted": true
      },
      "execution_count": 7,
      "outputs": [
        {
          "execution_count": 7,
          "output_type": "execute_result",
          "data": {
            "text/plain": "<IPython.core.display.JSON object>",
            "application/json": {
              "predictions": [
                {
                  "label": "toxin",
                  "score": 0.9885618686676025
                }
              ]
            }
          },
          "metadata": {
            "application/json": {
              "expanded": false,
              "root": "root"
            }
          }
        }
      ],
      "id": "9f459b0d-aae1-46b6-8db7-43f828042431"
    },
    {
      "cell_type": "markdown",
      "source": "There are keys for each input instance containing:\n\n * 'label', the predicted class label either 'toxin' or 'not toxin'\n * `score`, the model score for the outputed label, the closer to one the more confident the model is in its predction\n The label is toxin with a high score of 0.989 which matches the true label! This sequence is infact Phospholipase A2 OS2 a venom protein from the taipan snake.",
      "metadata": {},
      "id": "5c3c408b"
    },
    {
      "cell_type": "code",
      "source": "",
      "metadata": {},
      "execution_count": null,
      "outputs": [],
      "id": "80155316-6666-40df-91fb-42fe0974076e"
    }
  ]
}