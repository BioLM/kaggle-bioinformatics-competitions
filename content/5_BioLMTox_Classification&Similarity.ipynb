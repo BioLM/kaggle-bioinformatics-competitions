{
  "metadata": {
    "kernelspec": {
      "name": "python",
      "display_name": "Python (Pyodide)",
      "language": "python"
    },
    "language_info": {
      "codemirror_mode": {
        "name": "python",
        "version": 3
      },
      "file_extension": ".py",
      "mimetype": "text/x-python",
      "name": "python",
      "nbconvert_exporter": "python",
      "pygments_lexer": "ipython3",
      "version": "3.8"
    }
  },
  "nbformat_minor": 5,
  "nbformat": 4,
  "cells": [
    {
      "cell_type": "markdown",
      "source": "# BioLMTox:Toxin Classification and Similarity\n Enhance BioSecurity with the BioLMTox [classification endpoint](https://api.biolm.ai/#8616fff6-33c4-416b-9557-429da180ef92) and [embedding endpoint](https://api.biolm.ai/#723bb851-3fa0-40fa-b4eb-f56b16d954f5)",
      "metadata": {},
      "id": "d7fee1f3"
    },
    {
      "cell_type": "code",
      "source": "from helpers import api_caller\nimport pandas as pd\n\nTOKEN = 'f4352171d6c93b1b1cf8c9ead1d20c60210a8e3e67c383e1f458824381a1d19b'\ndf = pd.read_csv('data/protein/data/PLA2.csv')\nseq_1 = df.sequence.iloc[0]\nseq_2 = df.sequence.iloc[1]",
      "metadata": {
        "collapsed": false,
        "jupyter": {
          "outputs_hidden": false
        },
        "trusted": true
      },
      "execution_count": null,
      "outputs": [],
      "id": "aed93493070dd4d7"
    },
    {
      "cell_type": "code",
      "source": "print(\"Sequence length 1: {}\".format(len(seq_1)))\nprint(\"Sequence length 2: {}\".format(len(seq_2)))",
      "metadata": {
        "trusted": true
      },
      "execution_count": null,
      "outputs": [],
      "id": "593f6b1e"
    },
    {
      "cell_type": "markdown",
      "source": "## Define Endpoint Params",
      "metadata": {},
      "id": "9eec68c6-2e1d-44b0-a78c-340d597dadba"
    },
    {
      "cell_type": "code",
      "source": "SLUG = 'biolmtox_v1'  # Model endpoint to hit on BioLM.ai\n\n# Follow the link to the docs for the endpoint above to see this definition\ndata = {\n  \"instances\": [{\n    \"data\": {\"text\": seq_1}\n  }]\n}",
      "metadata": {
        "trusted": true
      },
      "execution_count": null,
      "outputs": [],
      "id": "b4eca9b3"
    },
    {
      "cell_type": "markdown",
      "source": "Let's make a secure REST API request to BioLM API to quickly make the prediction on GPU.",
      "metadata": {},
      "id": "18087211"
    },
    {
      "cell_type": "code",
      "source": "import time\n\ns = time.time()  # Start time\n\nresult = await api_caller(\n    SLUG,\n    'predict',\n    data,\n    TOKEN\n)\n\ne = time.time()  # End time\nd = e - s  # Duration\n\nprint(f'Response time: {d:.4}s')",
      "metadata": {
        "trusted": true
      },
      "execution_count": null,
      "outputs": [],
      "id": "85acf0a8-6361-476e-9164-762eba8d895a"
    },
    {
      "cell_type": "code",
      "source": "from IPython.display import JSON\n\nJSON(result)",
      "metadata": {
        "trusted": true
      },
      "execution_count": null,
      "outputs": [],
      "id": "9f459b0d-aae1-46b6-8db7-43f828042431"
    },
    {
      "cell_type": "markdown",
      "source": "There are keys for each input instance containing:\n\n * 'label', the predicted class label either 'toxin' or 'not toxin'\n * `score`, the model score for the outputed label, the closer to one the more confident the model is in its predction",
      "metadata": {},
      "id": "5c3c408b"
    },
    {
      "cell_type": "code",
      "source": "# FOR IN-BROWSER JUPYTER-LITE ONLY #\nimport micropip  # Install with `pip install` if running notebook elsewhere\nawait micropip.install('levenshtein')\nawait micropip.install('numpy')",
      "metadata": {
        "trusted": true
      },
      "execution_count": null,
      "outputs": [],
      "id": "e3778be4-0297-4c7b-97de-dac59e97f80b"
    },
    {
      "cell_type": "code",
      "source": "# Define similarity measures\nfrom Levenshtein import ratio as levenshtein_ratio\ndef cos_similarity(a, b):\n    return np.dot(a,b)/(norm(a)*norm(b))",
      "metadata": {
        "trusted": true
      },
      "execution_count": null,
      "outputs": [],
      "id": "8c17eeb1-83ed-4331-9301-e6dc1509d0d8"
    },
    {
      "cell_type": "code",
      "source": "data2 = {\n  \"instances\": [{\n    \"data\": {\"text\": seq_1}\n  },\n  {\n    \"data\": {\"text\": seq_2}\n  }]\n}",
      "metadata": {},
      "execution_count": null,
      "outputs": [],
      "id": "4b8c20bb"
    },
    {
      "cell_type": "code",
      "source": "result = await api_caller(\n    SLUG,\n    'transform',\n    data2,\n    TOKEN\n)",
      "metadata": {},
      "execution_count": null,
      "outputs": [],
      "id": "2f9afdbe-2738-478a-a8f1-08ef1f5ea797"
    },
    {
      "cell_type": "code",
      "source": "# convert sequence embeddings to numpy arrays\nem_1 = np.asarray(result[\"predictions\"][0])\nem_2 = np.asarray(result[\"predictions\"][0])",
      "metadata": {},
      "execution_count": null,
      "outputs": [],
      "id": "deab63de-93c7-4216-8144-4db6a3f5ef48"
    },
    {
      "cell_type": "code",
      "source": "# compute similarity measures\nem_similarity = cos_similarity(em_1, em_2)\nseq_similarity = levenshtein_ratio(seq_1, seq_2)\nprint(f'sequence embedding cosine similarity:\\n{em_similarity}')\nprint(f'sequence Levenshtein ratio:\\n{seq_similarity}')",
      "metadata": {},
      "execution_count": null,
      "outputs": [],
      "id": "d89d7c5d-4e4c-4169-a390-483ef2adde82"
    }
  ]
}