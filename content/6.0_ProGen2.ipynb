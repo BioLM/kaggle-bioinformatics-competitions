{
  "metadata": {
    "kernelspec": {
      "name": "python",
      "display_name": "Python (Pyodide)",
      "language": "python"
    },
    "language_info": {
      "codemirror_mode": {
        "name": "python",
        "version": 3
      },
      "file_extension": ".py",
      "mimetype": "text/x-python",
      "name": "python",
      "nbconvert_exporter": "python",
      "pygments_lexer": "ipython3",
      "version": "3.8"
    }
  },
  "nbformat_minor": 5,
  "nbformat": 4,
  "cells": [
    {
      "cell_type": "markdown",
      "source": "<img style=\"float: left; padding-right: 10px; height: 60px\" src=\"https://d31e6ufxekikrt.cloudfront.net/static/ui/images/logo.png\">\n\n<br>\n<br>\n<br>\n\n# **ProGen2 API**\n\nProGen2, with models up to 6.4B parameters, is adept at generating viable protein sequences and predicting their fitness. It's utilized in protein design, trained on data from genomic and metagenomic sources.\n\n<br>\n\n<table style=\"width: 100%; border-collapse: collapse; background-color: white; float: left;\">\n    <tr>\n        <td style=\"text-align: left; vertical-align: middle; background-color: white;\">\n            <img src=\"https://www.svgrepo.com/show/354202/postman-icon.svg\" style=\"height: 20px; float: left; padding-right: 10px;\"><a href=\"https://api.biolm.ai/#a16537c0-2ff3-4817-9fcd-5439800a05e8\">  <h4 style=\"margin: 0;\"><b>Postman API Docs</b></h4></a>\n        </td>\n        <td style=\"text-align: left; vertical-align: middle; background-color: white;\">\n            <img src=\"https://upload.wikimedia.org/wikipedia/commons/thumb/c/c3/Python-logo-notext.svg/1869px-Python-logo-notext.svg.png\" style=\"height: 20px; float: left; padding-right: 10px;\"><a href=\"https://docs.biolm.ai/en/latest/model-docs/progen2/index.html\"><h4 style=\"margin: 0;\"><b>Python SDK Docs</b></h4></a>\n        </td>\n        <td style=\"text-align: left; vertical-align: middle; background-color: white;\">\n            <img src=\"https://github.githubassets.com/assets/GitHub-Mark-ea2971cee799.png\" style=\"height: 20px; float: left; padding-right: 10px;\"><a href=\"https://github.com/salesforce/progen/tree/main\"><h4 style=\"margin: 0;\"><b>Github Link</b></h4></a>\n        </td>\n        <td style=\"text-align: left; vertical-align: middle; background-color: white;\">\n            <img src=\"https://info.arxiv.org/brand/images/brand-logomark-primary-large.jpg\" style=\"height: 20px; float: left; padding-right: 10px;\"><a href=\"https://arxiv.org/pdf/2206.13517.pdf\"><h4 style=\"margin: 0;\"><b>Paper Link</b></h4></a>\n        </td>\n    </tr>\n</table>\n\n<br>\n\n---",
      "metadata": {},
      "id": "8d1e11b2"
    },
    {
      "cell_type": "markdown",
      "source": "## Get and set your API Token\n\nTo use the BioLM API, you need an API token. You can get one from the [User API Tokens](https://biolm.ai/ui/accounts/user-api-tokens/) page.\n\nPaste the API token in the cell below, as the value of the variable `BIOLMAI_TOKEN`.",
      "metadata": {},
      "id": "6b7a87ff"
    },
    {
      "cell_type": "code",
      "source": "BIOLMAI_TOKEN = \" \"  # !!! YOUR API TOKEN HERE !!!",
      "metadata": {
        "trusted": true
      },
      "execution_count": 1,
      "outputs": [],
      "id": "047d4592"
    },
    {
      "cell_type": "markdown",
      "source": "## API Call with Python requests",
      "metadata": {},
      "id": "0e37d82c"
    },
    {
      "cell_type": "markdown",
      "source": "We need to make sure we have the Python `requests` module loaded first.",
      "metadata": {},
      "id": "71004278-f382-4f69-95b9-d0bbe6a8f63e"
    },
    {
      "cell_type": "code",
      "source": "try:\n    # Install packages to make API requests in JLite\n    import micropip\n    await micropip.install('requests')\n    await micropip.install('pyodide-http')\n    # Patch requests for in-browser support\n    import pyodide_http\n    pyodide_http.patch_all()\nexcept ModuleNotFoundError:\n    pass  # Won't be using micropip outside of JLite\n\nimport requests\nfrom IPython.display import JSON  # Helpful UI for JSON display",
      "metadata": {
        "trusted": true
      },
      "execution_count": 2,
      "outputs": [],
      "id": "1ce5f857-9c39-4d71-8092-0c2caec876e3"
    },
    {
      "cell_type": "markdown",
      "source": "### ProGen2 Medium",
      "metadata": {},
      "id": "460063b7"
    },
    {
      "cell_type": "code",
      "source": "SLUG = 'progen2-medium'\nACTION = 'generate'\n\nurl = f\"https://biolm.ai/api/v1/models/{SLUG}/{ACTION}/\"\n\nheaders = {\n    \"Content-Type\": \"application/json\",\n    \"Authorization\": f\"Token {BIOLMAI_TOKEN.strip()}\",\n}\n\ndata = {\n    \"instances\": [\n        {\n            \"data\": {\n                \"text\": \"MA\",  # Starting amino acids for protein\n                 \"t\": 0.1,  # Temperature\n                 \"p\": 0.6,  # Perplexity\n                 \"max_length\": 175,  # Max length of generated proteins\n                 \"num_samples\": 2,  # Number of proteins to generate\n            }\n        }\n    ]\n}\n\n# Make the request\nresponse = requests.post(\n    url=url,\n    headers=headers,\n    json=data,\n)\n\nresult = response.json()\nresult",
      "metadata": {
        "scrolled": true,
        "trusted": true
      },
      "execution_count": 3,
      "outputs": [
        {
          "execution_count": 3,
          "output_type": "execute_result",
          "data": {
            "text/plain": "{'generated': [{'text': 'MALLAAAAAAAAAAAAAAAAAAAAAAAAAAAAAAAAAAAAAAAAAAAAAAAAAAAAAAAAAAAAAAAAAAAAAAAAAAAAAAAAAAAAAAAAAAAAAAAAAAAAAAAAAAAAAAAAAAAAAAA',\n   'll_sum': -143.3234634399414,\n   'll_mean': -1.1747825220227242},\n  {'text': 'MAALAAAAAAAAAAAAAAAAAAAAAAAAAAAAAAAAAAAAAAAAAAAAAAAAAAAAAAAAAAAAAAAAAAAAAAAAAAAAAAAAAAA',\n   'll_sum': -104.55687046051025,\n   'll_mean': -1.2157775461673737}]}"
          },
          "metadata": {}
        }
      ],
      "id": "a98e00ce"
    },
    {
      "cell_type": "markdown",
      "source": "We can view this a bit more easily below:",
      "metadata": {},
      "id": "6832e468-444e-4b05-bd83-0bcf192a051f"
    },
    {
      "cell_type": "code",
      "source": "JSON(result)",
      "metadata": {
        "trusted": true
      },
      "execution_count": 4,
      "outputs": [
        {
          "execution_count": 4,
          "output_type": "execute_result",
          "data": {
            "text/plain": "<IPython.core.display.JSON object>",
            "application/json": {
              "generated": [
                {
                  "text": "MALLAAAAAAAAAAAAAAAAAAAAAAAAAAAAAAAAAAAAAAAAAAAAAAAAAAAAAAAAAAAAAAAAAAAAAAAAAAAAAAAAAAAAAAAAAAAAAAAAAAAAAAAAAAAAAAAAAAAAAAA",
                  "ll_sum": -143.3234634399414,
                  "ll_mean": -1.1747825220227242
                },
                {
                  "text": "MAALAAAAAAAAAAAAAAAAAAAAAAAAAAAAAAAAAAAAAAAAAAAAAAAAAAAAAAAAAAAAAAAAAAAAAAAAAAAAAAAAAAA",
                  "ll_sum": -104.55687046051025,
                  "ll_mean": -1.2157775461673737
                }
              ]
            }
          },
          "metadata": {
            "application/json": {
              "expanded": false,
              "root": "root"
            }
          }
        }
      ],
      "id": "fa7eb658-e974-4d0c-ae2f-b4277f17984d"
    },
    {
      "cell_type": "markdown",
      "source": "### ProGen2 OAS",
      "metadata": {},
      "id": "c5b7b047"
    },
    {
      "cell_type": "code",
      "source": "import requests\n\nSLUG = 'progen2-oas'\nACTION = 'generate'\n\nurl = f\"https://biolm.ai/api/v1/models/{SLUG}/{ACTION}/\"\n\nheaders = {\n    \"Content-Type\": \"application/json\",\n    \"Authorization\": f\"Token {BIOLMAI_TOKEN.strip()}\",\n}\n\ndata = {\n    \"instances\": [\n        {\n            \"data\": {\n                \"text\": \"EVQ\",  # Starting amino acids for Antibody\n                 \"t\": 0.7,  # Temperature\n                 \"p\": 0.6,  # Perplexity\n                 \"max_length\": 175,  # Max length of generated proteins\n                 \"num_samples\": 2,  # Number of proteins to generate\n            }\n        }\n    ]\n}\n\n# Make the POST request\nresponse = requests.post(\n    url=url,\n    headers=headers,\n    json=data,\n)\n\nresult = response.json()\nresult",
      "metadata": {
        "trusted": true
      },
      "execution_count": 5,
      "outputs": [
        {
          "execution_count": 5,
          "output_type": "execute_result",
          "data": {
            "text/plain": "{'generated': [{'text': 'EVQLVESGGGLVQPGGSLRLSCAASGFTFSSYWMSWVRQAPGKGLEWVANIKQDGSEKYYVDSVKGRFTISRDNAKNSLYLQMNSLRAEDTAVYYCARDSRYYYDSSGYYPDAFDIWGQGTMVTVSS',\n   'll_sum': -27.160505294799805,\n   'll_mean': -0.21555957198143005},\n  {'text': 'EVQLVESGGGLVQPGGSLRLSCAASGFTFSSYAMSWVRQAPGKGLEWVSAISGSGGSTYYADSVKGRFTISRDNSKNTLYLQMNSLRAEDTAVYYCAKDPRSGYYDYWGQGTLVTVSS',\n   'll_sum': -27.64955234527588,\n   'll_mean': -0.23632096499204636}]}"
          },
          "metadata": {}
        }
      ],
      "id": "400124ff"
    },
    {
      "cell_type": "code",
      "source": "JSON(result)",
      "metadata": {
        "trusted": true
      },
      "execution_count": 6,
      "outputs": [
        {
          "execution_count": 6,
          "output_type": "execute_result",
          "data": {
            "text/plain": "<IPython.core.display.JSON object>",
            "application/json": {
              "generated": [
                {
                  "text": "EVQLVESGGGLVQPGGSLRLSCAASGFTFSSYWMSWVRQAPGKGLEWVANIKQDGSEKYYVDSVKGRFTISRDNAKNSLYLQMNSLRAEDTAVYYCARDSRYYYDSSGYYPDAFDIWGQGTMVTVSS",
                  "ll_sum": -27.160505294799805,
                  "ll_mean": -0.21555957198143005
                },
                {
                  "text": "EVQLVESGGGLVQPGGSLRLSCAASGFTFSSYAMSWVRQAPGKGLEWVSAISGSGGSTYYADSVKGRFTISRDNSKNTLYLQMNSLRAEDTAVYYCAKDPRSGYYDYWGQGTLVTVSS",
                  "ll_sum": -27.64955234527588,
                  "ll_mean": -0.23632096499204636
                }
              ]
            }
          },
          "metadata": {
            "application/json": {
              "expanded": false,
              "root": "root"
            }
          }
        }
      ],
      "id": "248da1b1"
    },
    {
      "cell_type": "code",
      "source": "",
      "metadata": {},
      "execution_count": null,
      "outputs": [],
      "id": "79ef9105-4127-44af-94d5-cb97f8c7127a"
    },
    {
      "cell_type": "markdown",
      "source": "### ProGen2 BFD90",
      "metadata": {},
      "id": "e86f6dd0"
    },
    {
      "cell_type": "code",
      "source": "import requests\n\nSLUG = 'progen2-bfd90'\nACTION = 'generate'\n\nurl = f\"https://biolm.ai/api/v1/models/{SLUG}/{ACTION}/\"\n\nheaders = {\n    \"Content-Type\": \"application/json\",\n    \"Authorization\": f\"Token {BIOLMAI_TOKEN.strip()}\",\n}\n\ndata = {\n    \"instances\": [\n        {\n            \"data\": {\n                \"text\": \"M\",  # Starting amino acid(s) for protein\n                 \"t\": 0.7,  # Temperature\n                 \"p\": 0.6,  # Perplexity\n                 \"max_length\": 175,  # Max length of generated proteins\n                 \"num_samples\": 2,  # Number of proteins to generate\n            }\n        }\n    ]\n}\n\n# Make the request\nresponse = requests.post(\n    url=url,\n    headers=headers,\n    json=data,\n)\n\nresult = response.json()\nresult",
      "metadata": {
        "trusted": true
      },
      "execution_count": 7,
      "outputs": [
        {
          "execution_count": 7,
          "output_type": "execute_result",
          "data": {
            "text/plain": "{'generated': [{'text': 'MGSVAAVGLGLLVAGLVLVVAGLVLVVAGLVLVVAGLVLVVAGLVLVVAGLVLVVAGLVLVVAGLVLVVAGLVLVVAGLVLVVAGLVLVVAGLVLVVAGLVLVVAGLVLVVAGLVLVVAGLVLVVAGLVLVVAGLVLVVAGLVLVVAGLVLVVAGLVLVVAGLVLVVAGLVLVVA',\n   'll_sum': -58.729543685913086,\n   'll_mean': -0.3375261127948761},\n  {'text': 'MLVSILLLAALLSSLALAAGPAPAGTPPPAGPAPAGTPPPAGPAPAGTPPPAGPAPAGTPPPAGPAPAGTPPPAGPAPAGTPPPAGPAPAGTPPPAGPAPAGTPPPAGPAPAGTPPPAGPAPAGTPPPAGPAPAGTPPPAGPAPAGTPPPAGPAPAGTPPPAGPAPAGTPPPAGP',\n   'll_sum': -79.74667358398438,\n   'll_mean': -0.4583142101764679}]}"
          },
          "metadata": {}
        }
      ],
      "id": "014fff92"
    },
    {
      "cell_type": "code",
      "source": "JSON(result)",
      "metadata": {
        "trusted": true
      },
      "execution_count": 8,
      "outputs": [
        {
          "execution_count": 8,
          "output_type": "execute_result",
          "data": {
            "text/plain": "<IPython.core.display.JSON object>",
            "application/json": {
              "generated": [
                {
                  "text": "MGSVAAVGLGLLVAGLVLVVAGLVLVVAGLVLVVAGLVLVVAGLVLVVAGLVLVVAGLVLVVAGLVLVVAGLVLVVAGLVLVVAGLVLVVAGLVLVVAGLVLVVAGLVLVVAGLVLVVAGLVLVVAGLVLVVAGLVLVVAGLVLVVAGLVLVVAGLVLVVAGLVLVVAGLVLVVA",
                  "ll_sum": -58.729543685913086,
                  "ll_mean": -0.3375261127948761
                },
                {
                  "text": "MLVSILLLAALLSSLALAAGPAPAGTPPPAGPAPAGTPPPAGPAPAGTPPPAGPAPAGTPPPAGPAPAGTPPPAGPAPAGTPPPAGPAPAGTPPPAGPAPAGTPPPAGPAPAGTPPPAGPAPAGTPPPAGPAPAGTPPPAGPAPAGTPPPAGPAPAGTPPPAGPAPAGTPPPAGP",
                  "ll_sum": -79.74667358398438,
                  "ll_mean": -0.4583142101764679
                }
              ]
            }
          },
          "metadata": {
            "application/json": {
              "expanded": false,
              "root": "root"
            }
          }
        }
      ],
      "id": "20dae312-10fb-4f20-84be-152fb4c79d7a"
    },
    {
      "cell_type": "code",
      "source": "",
      "metadata": {},
      "execution_count": null,
      "outputs": [],
      "id": "6787fc52"
    },
    {
      "cell_type": "markdown",
      "source": "### See more examples, use-cases, and APIs on your [BioLM Console Catalog](https://biolm.ai/console/catalog/).\n<br>\n\n#### BioLM hosts deep learning models and runs inference at scale. You do the science.\n<br>\n\n#### Let us help model your data. We offers professional services in these domains, and more:\n<br>\n\n#### <img src=\"https://d31e6ufxekikrt.cloudfront.net/static/ui/images/console-overview/enzyme_engineering_icon.png\"  style=\"height: 40px; float: left; padding-right: 10px;\"> Enzyme Engineering\n<br>\n\n#### <img src=\"https://d31e6ufxekikrt.cloudfront.net/static/ui/images/console-overview/antibody_engineering_icon.png\"  style=\"height: 40px; float: left; padding-right: 10px;\"> Antibody Engineering\n<br>\n\n#### <img src=\"https://d31e6ufxekikrt.cloudfront.net/static/ui/images/console-overview/biosecurity_icon.png\"  style=\"height: 40px; float: left; padding-right: 10px;\"> Biosecurity\n<br>\n\n#### <img src=\"https://d31e6ufxekikrt.cloudfront.net/static/ui/images/console-overview/single_cell_genomics_icon.png\"  style=\"height: 40px; float: left; padding-right: 10px;\"> Single-Cell Genomics\n<br>\n\n#### <img src=\"https://d31e6ufxekikrt.cloudfront.net/static/ui/images/console-overview/dna_seq_modeling_icon.png\"  style=\"height: 40px; float: left; padding-right: 10px;\"> DNA Sequence Modelling\n<br>\n\n### [**Contact us**](https://biolm.ai/ui/contact-us/) to learn more.\n",
      "metadata": {},
      "id": "a04f63cb"
    },
    {
      "cell_type": "code",
      "source": "",
      "metadata": {},
      "execution_count": null,
      "outputs": [],
      "id": "48ce8513"
    }
  ]
}