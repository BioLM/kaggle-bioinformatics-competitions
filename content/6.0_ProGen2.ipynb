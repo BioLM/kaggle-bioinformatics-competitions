{
  "metadata": {
    "kernelspec": {
      "name": "python",
      "display_name": "Python (Pyodide)",
      "language": "python"
    },
    "language_info": {
      "codemirror_mode": {
        "name": "python",
        "version": 3
      },
      "file_extension": ".py",
      "mimetype": "text/x-python",
      "name": "python",
      "nbconvert_exporter": "python",
      "pygments_lexer": "ipython3",
      "version": "3.8"
    }
  },
  "nbformat_minor": 5,
  "nbformat": 4,
  "cells": [
    {
      "cell_type": "markdown",
      "source": "<div class=\"jupyter-biolm-header\">\n    <img style=\"float: left; padding-right: 10px; height: 60px\" src=\"https://d31e6ufxekikrt.cloudfront.net/static/ui/images/logo.png\">\n    <p>\n    <br>\n    <br>\n    <br>\n    </p>\n</div>\n\n# ProGen2 API\n\nProGen2, with models up to 6.4B parameters, is adept at generating viable protein sequences and predicting their fitness. It's utilized in protein design, trained on data from genomic and metagenomic sources.\n\n<br>\n\n<table  class=\"jupyter-biolm-header-table\"  style=\"width: 100%; border-collapse: collapse; background-color: white; float: left;\">\n    <tr>\n        <td style=\"text-align: left; vertical-align: middle; background-color: white;\">\n            <img src=\"https://www.svgrepo.com/show/354202/postman-icon.svg\" style=\"height: 15px; float: left; padding-right: 10px;\"><a href=\"https://api.biolm.ai/#06aed4bf-34ac-46da-99d7-791a271c2c53\">  <h5 style=\"margin: 0;\"><b>Postman API Docs</b></h5></a>\n        </td>\n        <td style=\"text-align: left; vertical-align: middle; background-color: white;\">\n            <img src=\"https://upload.wikimedia.org/wikipedia/commons/thumb/c/c3/Python-logo-notext.svg/1869px-Python-logo-notext.svg.png\" style=\"height: 15px; float: left; padding-right: 10px;\"><a href=\"https://docs.biolm.ai/en/latest/model-docs/progen2/ProGen2_API.html\"><h5 style=\"margin: 0;\"><b>Python SDK Docs</b></h5></a>\n        </td>\n        <td style=\"text-align: left; vertical-align: middle; background-color: white;\">\n            <img src=\"https://github.githubassets.com/assets/GitHub-Mark-ea2971cee799.png\" style=\"height: 15px; float: left; padding-right: 10px;\"><a href=\"https://github.com/salesforce/progen/tree/main\"><h5 style=\"margin: 0;\"><b>Github Link</b></h5></a>\n        </td>\n        <td style=\"text-align: left; vertical-align: middle; background-color: white;\">\n            <img src=\"https://info.arxiv.org/brand/images/brand-logomark-primary-large.jpg\" style=\"height: 15px; float: left; padding-right: 10px;\"><a href=\"https://arxiv.org/pdf/2206.13517.pdf\"><h5 style=\"margin: 0;\"><b>Paper Link</b></h5></a>\n        </td>\n    </tr>\n</table>\n\n<br>\n\n---",
      "metadata": {},
      "id": "8d1e11b2"
    },
    {
      "cell_type": "markdown",
      "source": "## Set Your API Token\n\nIn order to use the BioLM API, you need to have a token. You can get one from\nthe [User API Tokens](https://biolm.ai/ui/accounts/user-api-tokens/) page.\n\nPaste the API token you generated in the cell below, as the value\nof the variable `BIOLMAI_TOKEN `.",
      "metadata": {},
      "id": "6b7a87ff"
    },
    {
      "cell_type": "code",
      "source": "BIOLMAI_TOKEN = \" \"  # !!! YOUR API TOKEN HERE !!!",
      "metadata": {
        "trusted": true
      },
      "execution_count": 1,
      "outputs": [],
      "id": "047d4592"
    },
    {
      "cell_type": "markdown",
      "source": "## API Call with Python requests",
      "metadata": {},
      "id": "0e37d82c"
    },
    {
      "cell_type": "markdown",
      "source": "We need to make sure we have the Python `requests` module loaded first.",
      "metadata": {},
      "id": "71004278-f382-4f69-95b9-d0bbe6a8f63e"
    },
    {
      "cell_type": "code",
      "source": "try:\n    # Install packages to make API requests in JLite\n    import micropip\n    await micropip.install('requests')\n    await micropip.install('pyodide-http')\n    # Patch requests for in-browser support\n    import pyodide_http\n    pyodide_http.patch_all()\nexcept ModuleNotFoundError:\n    pass  # Won't be using micropip outside of JLite\n\nimport requests\nfrom IPython.display import JSON  # Helpful UI for JSON display",
      "metadata": {
        "tags": [],
        "trusted": true
      },
      "execution_count": 2,
      "outputs": [],
      "id": "1ce5f857-9c39-4d71-8092-0c2caec876e3"
    },
    {
      "cell_type": "markdown",
      "source": "### ProGen2 Medium",
      "metadata": {},
      "id": "460063b7"
    },
    {
      "cell_type": "code",
      "source": "SLUG = 'progen2-medium'\nACTION = 'generate'\n\nurl = f\"https://biolm.ai/api/v2/{SLUG}/{ACTION}/\"\n\nheaders = {\n    \"Content-Type\": \"application/json\",\n    \"Authorization\": f\"Token {BIOLMAI_TOKEN.strip()}\",\n}\n\ndata = {\n    \"params\": {\n        \"temperature\": 0.1,  # Temperature\n        \"top_p\": 0.6,  # Nucleus sampling probability\n        \"num_samples\": 2,  # Number of proteins to generate\n        \"max_length\": 175  # Max length of generated proteins\n    },\n    \"items\": [\n        {\n            \"context\": \"MA\"  # Starting amino acid(s) for protein\n        }\n    ]\n}\n\n# Make the request\nresponse = requests.post(\n    url=url,\n    headers=headers,\n    json=data,\n)\n\nresult = response.json()\nresult",
      "metadata": {
        "scrolled": true,
        "trusted": true
      },
      "execution_count": 3,
      "outputs": [
        {
          "execution_count": 3,
          "output_type": "execute_result",
          "data": {
            "text/plain": "{'results': [[{'sequence': 'MASSSSSSSSSSSSSSSSSSSSSSSSSSSSSSSSSSSSSSSSSSSSSSSSSSSSSSSSSSSSSSSSSSSSSSSSSSSSSSSSSSSSSSSSSSSSSSSSSSSSSSSSSSSSSSSSSSSSSSSSSSSSSSSSSSSSSSSSSSSSSSSSSSSSSSSSSSSSSSSSSSSSSSSSSSSS',\n    'll_sum': -24.980167388916016,\n    'll_mean': -0.14356417953968048},\n   {'sequence': 'MASSSSSSSSSSSSSSSSSSSSSSSSSSSSSSSSSSSSSSSSSSSSSSSSSSSSSSSSSSSSSSSSSSSSSSSSSSSSSSSSSSSSSSSSSSSSSSSSSSSSSSSSSSSSSSSSSSSSSSSSSSSSSSSSSSSSSSSSSSSSSSSSSSSSSSSSSSSSSSSSSSSSSSSSSSSS',\n    'll_sum': -24.980167388916016,\n    'll_mean': -0.14356417953968048}]]}"
          },
          "metadata": {}
        }
      ],
      "id": "a98e00ce"
    },
    {
      "cell_type": "markdown",
      "source": "We can view this a bit more easily below:",
      "metadata": {},
      "id": "6832e468-444e-4b05-bd83-0bcf192a051f"
    },
    {
      "cell_type": "code",
      "source": "JSON(result)",
      "metadata": {
        "trusted": true
      },
      "execution_count": 4,
      "outputs": [
        {
          "execution_count": 4,
          "output_type": "execute_result",
          "data": {
            "text/plain": "<IPython.core.display.JSON object>",
            "application/json": {
              "results": [
                [
                  {
                    "sequence": "MASSSSSSSSSSSSSSSSSSSSSSSSSSSSSSSSSSSSSSSSSSSSSSSSSSSSSSSSSSSSSSSSSSSSSSSSSSSSSSSSSSSSSSSSSSSSSSSSSSSSSSSSSSSSSSSSSSSSSSSSSSSSSSSSSSSSSSSSSSSSSSSSSSSSSSSSSSSSSSSSSSSSSSSSSSSS",
                    "ll_sum": -24.980167388916016,
                    "ll_mean": -0.14356417953968048
                  },
                  {
                    "sequence": "MASSSSSSSSSSSSSSSSSSSSSSSSSSSSSSSSSSSSSSSSSSSSSSSSSSSSSSSSSSSSSSSSSSSSSSSSSSSSSSSSSSSSSSSSSSSSSSSSSSSSSSSSSSSSSSSSSSSSSSSSSSSSSSSSSSSSSSSSSSSSSSSSSSSSSSSSSSSSSSSSSSSSSSSSSSSS",
                    "ll_sum": -24.980167388916016,
                    "ll_mean": -0.14356417953968048
                  }
                ]
              ]
            }
          },
          "metadata": {
            "application/json": {
              "expanded": false,
              "root": "root"
            }
          }
        }
      ],
      "id": "fa7eb658-e974-4d0c-ae2f-b4277f17984d"
    },
    {
      "cell_type": "markdown",
      "source": "### ProGen2 OAS",
      "metadata": {},
      "id": "c5b7b047"
    },
    {
      "cell_type": "code",
      "source": "import requests\n\nSLUG = 'progen2-oas'\nACTION = 'generate'\n\nurl = f\"https://biolm.ai/api/v2/{SLUG}/{ACTION}/\"\n\nheaders = {\n    \"Content-Type\": \"application/json\",\n    \"Authorization\": f\"Token {BIOLMAI_TOKEN.strip()}\",\n}\n\ndata = {\n    \"params\": {\n        \"temperature\": 0.7,  # Temperature\n        \"top_p\": 0.6,  # Nucleus sampling probability\n        \"num_samples\": 2,  # Number of proteins to generate\n        \"max_length\": 175  # Max length of generated proteins\n    },\n    \"items\": [\n        {\n            \"context\": \"EVQ\"  # Starting amino acids for Antibody\n        }\n    ]\n}\n\n# Make the POST request\nresponse = requests.post(\n    url=url,\n    headers=headers,\n    json=data,\n)\n\nresult = response.json()\nresult",
      "metadata": {
        "trusted": true
      },
      "execution_count": 5,
      "outputs": [
        {
          "execution_count": 5,
          "output_type": "execute_result",
          "data": {
            "text/plain": "{'results': [[{'sequence': 'EVQLVESGGGLVQPGGSLRLSCAASGFTFSSYWMSWVRQAPGKGLEWVANIKQDGSEKYYVDSVKGRFTISRDNAKNSLYLQMNSLRAEDTAVYYCARDRYYDFWSGYYTGYYYYYMDVWGKGTTVTVSS',\n    'll_sum': -24.10324001312256,\n    'll_mean': -0.1854095384478569},\n   {'sequence': 'EVQLVESGGGLVQPGGSLRLSCAASGFTFSSYSMNWVRQAPGKGLEWVSYISSSSSTIYYADSVKGRFTISRDNAKNSLYLQMNSLRAEDTAVYYCARDRSSSWYGGGYYYYGMDVWGQGTTVTVSS',\n    'll_sum': -26.63103485107422,\n    'll_mean': -0.20969318598508835}]]}"
          },
          "metadata": {}
        }
      ],
      "id": "400124ff"
    },
    {
      "cell_type": "code",
      "source": "JSON(result)",
      "metadata": {
        "trusted": true
      },
      "execution_count": 6,
      "outputs": [
        {
          "execution_count": 6,
          "output_type": "execute_result",
          "data": {
            "text/plain": "<IPython.core.display.JSON object>",
            "application/json": {
              "results": [
                [
                  {
                    "sequence": "EVQLVESGGGLVQPGGSLRLSCAASGFTFSSYWMSWVRQAPGKGLEWVANIKQDGSEKYYVDSVKGRFTISRDNAKNSLYLQMNSLRAEDTAVYYCARDRYYDFWSGYYTGYYYYYMDVWGKGTTVTVSS",
                    "ll_sum": -24.10324001312256,
                    "ll_mean": -0.1854095384478569
                  },
                  {
                    "sequence": "EVQLVESGGGLVQPGGSLRLSCAASGFTFSSYSMNWVRQAPGKGLEWVSYISSSSSTIYYADSVKGRFTISRDNAKNSLYLQMNSLRAEDTAVYYCARDRSSSWYGGGYYYYGMDVWGQGTTVTVSS",
                    "ll_sum": -26.63103485107422,
                    "ll_mean": -0.20969318598508835
                  }
                ]
              ]
            }
          },
          "metadata": {
            "application/json": {
              "expanded": false,
              "root": "root"
            }
          }
        }
      ],
      "id": "248da1b1"
    },
    {
      "cell_type": "code",
      "source": "",
      "metadata": {},
      "execution_count": null,
      "outputs": [],
      "id": "79ef9105-4127-44af-94d5-cb97f8c7127a"
    },
    {
      "cell_type": "markdown",
      "source": "### ProGen2 BFD90",
      "metadata": {},
      "id": "e86f6dd0"
    },
    {
      "cell_type": "code",
      "source": "import requests\n\nSLUG = 'progen2-bfd90'\nACTION = 'generate'\n\nurl = f\"https://biolm.ai/api/v2/{SLUG}/{ACTION}/\"\n\nheaders = {\n    \"Content-Type\": \"application/json\",\n    \"Authorization\": f\"Token {BIOLMAI_TOKEN.strip()}\",\n}\n\ndata = {\n    \"params\": {\n        \"temperature\": 0.7,  # Temperature\n        \"top_p\": 0.6,  # Nucleus sampling probability\n        \"num_samples\": 2,  # Number of proteins to generate\n        \"max_length\": 175  # Max length of generated proteins\n    },\n    \"items\": [\n        {\n            \"context\": \"M\"  # Starting amino acid(s) for protein\n        }\n    ]\n}\n\n# Make the request\nresponse = requests.post(\n    url=url,\n    headers=headers,\n    json=data,\n)\n\nresult = response.json()\nresult",
      "metadata": {
        "trusted": true
      },
      "execution_count": 9,
      "outputs": [
        {
          "execution_count": 9,
          "output_type": "execute_result",
          "data": {
            "text/plain": "{'results': [[{'sequence': 'MASGASAAAAAAAAAAAAAAAAAAAAAAAAAAAAAAAAAAAAAAAAAAAAAAAAAAAAAAAAAAAAAAAAAAAAAAAAAAAAAAAAAAAAAAAAAAAAAAAAAAAAAAAAAAAAAPAAAAAAAAAAAAAAAAAAAAAAAAAAAAAAAAAAAAAAAAAAAAAPAAAAAAAAAAAA',\n    'll_sum': -84.33449363708496,\n    'll_mean': -0.48468099534511566},\n   {'sequence': 'MADDEEYEEVVEYYTEETVYEEVPGETITEIYETTTTRTSDYEQSETSKPALAQPVPAKPVERKKVIRKKVDSSKFMTPYIEHSQKMQDLFSTNKYKENYEKAKGQPYAITTDTPELRRIKKVQDQLSEVKYRMDGDVAKTICHVDEKAKDIEHAKKVSQQVSKVLYKQNWEDT',\n    'll_sum': -114.54681396484375,\n    'll_mean': -0.6583150252699852}]]}"
          },
          "metadata": {}
        }
      ],
      "id": "014fff92"
    },
    {
      "cell_type": "code",
      "source": "JSON(result)",
      "metadata": {
        "trusted": true
      },
      "execution_count": 10,
      "outputs": [
        {
          "execution_count": 10,
          "output_type": "execute_result",
          "data": {
            "text/plain": "<IPython.core.display.JSON object>",
            "application/json": {
              "results": [
                [
                  {
                    "sequence": "MASGASAAAAAAAAAAAAAAAAAAAAAAAAAAAAAAAAAAAAAAAAAAAAAAAAAAAAAAAAAAAAAAAAAAAAAAAAAAAAAAAAAAAAAAAAAAAAAAAAAAAAAAAAAAAAAPAAAAAAAAAAAAAAAAAAAAAAAAAAAAAAAAAAAAAAAAAAAAAPAAAAAAAAAAAA",
                    "ll_sum": -84.33449363708496,
                    "ll_mean": -0.48468099534511566
                  },
                  {
                    "sequence": "MADDEEYEEVVEYYTEETVYEEVPGETITEIYETTTTRTSDYEQSETSKPALAQPVPAKPVERKKVIRKKVDSSKFMTPYIEHSQKMQDLFSTNKYKENYEKAKGQPYAITTDTPELRRIKKVQDQLSEVKYRMDGDVAKTICHVDEKAKDIEHAKKVSQQVSKVLYKQNWEDT",
                    "ll_sum": -114.54681396484375,
                    "ll_mean": -0.6583150252699852
                  }
                ]
              ]
            }
          },
          "metadata": {
            "application/json": {
              "expanded": false,
              "root": "root"
            }
          }
        }
      ],
      "id": "20dae312-10fb-4f20-84be-152fb4c79d7a"
    },
    {
      "cell_type": "code",
      "source": "",
      "metadata": {},
      "execution_count": null,
      "outputs": [],
      "id": "6787fc52"
    },
    {
      "cell_type": "markdown",
      "source": "## Next Steps\n\nCheck out additional tutorials at [jupyter.biolm.ai](https://jupyter.biolm.ai),\nor head over to our [BioLM Documentation](https://docs.biolm.ai) to explore\nadditional models and functionality.\n\n#### See more use-cases and APIs on your [BioLM Console Catalog](https://biolm.ai/console/catalog/).\n<br>\n\n##### BioLM hosts deep learning models and runs inference at scale. You do the science.\n<br>\n\n<table class=\"jupyter-biolm-header-table\" style=\"width: 100%; border-collapse: collapse; background-color: white; float: left;\">\n    <tr>\n        <td style=\"text-align: left; vertical-align: middle; background-color: white;\">\n            <img src=\"https://d31e6ufxekikrt.cloudfront.net/static/ui/images/console-overview/enzyme_engineering_icon.png\"  style=\"height: 40px; float: left; padding-right: 10px;\"> Enzyme Engineering\n        </td>\n        <td style=\"text-align: left; vertical-align: middle; background-color: white;\">\n            <img src=\"https://d31e6ufxekikrt.cloudfront.net/static/ui/images/console-overview/antibody_engineering_icon.png\"  style=\"height: 40px; float: left; padding-right: 10px;\"> Antibody Engineering\n        </td>\n        <td style=\"text-align: left; vertical-align: middle; background-color: white;\">\n            <img src=\"https://d31e6ufxekikrt.cloudfront.net/static/ui/images/console-overview/biosecurity_icon.png\"  style=\"height: 40px; float: left; padding-right: 10px;\"> Biosecurity\n        </td>\n    </tr>\n    <tr>\n        <td style=\"text-align: left; vertical-align: middle; background-color: white;\">\n            <img src=\"https://d31e6ufxekikrt.cloudfront.net/static/ui/images/console-overview/single_cell_genomics_icon.png\"  style=\"height: 40px; float: left; padding-right: 10px;\"> Single-Cell Genomics\n        </td>\n        <td style=\"text-align: left; vertical-align: middle; background-color: white;\">\n            <img src=\"https://d31e6ufxekikrt.cloudfront.net/static/ui/images/console-overview/dna_seq_modeling_icon.png\"  style=\"height: 40px; float: left; padding-right: 10px;\"> DNA Sequence Modelling\n        </td>\n        <td style=\"text-align: left; vertical-align: middle; background-color: white;\">\n            <img src=\"https://d31e6ufxekikrt.cloudfront.net/static/ui/images/console-overview/finetuning_icon.png\"  style=\"height: 40px; float: left; padding-right: 10px;\"> Finetuning\n        </td>\n    </tr>\n</table>\n\n#### [**Contact us**](https://biolm.ai/ui/contact-us/) to learn more.\n",
      "metadata": {},
      "id": "a04f63cb"
    },
    {
      "cell_type": "code",
      "source": "",
      "metadata": {},
      "execution_count": null,
      "outputs": [],
      "id": "48ce8513"
    }
  ]
}