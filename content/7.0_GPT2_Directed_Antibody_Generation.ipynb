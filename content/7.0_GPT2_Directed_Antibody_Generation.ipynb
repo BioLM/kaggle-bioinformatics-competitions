{
  "metadata": {
    "kernelspec": {
      "name": "python",
      "display_name": "Python (Pyodide)",
      "language": "python"
    },
    "language_info": {
      "codemirror_mode": {
        "name": "python",
        "version": 3
      },
      "file_extension": ".py",
      "mimetype": "text/x-python",
      "name": "python",
      "nbconvert_exporter": "python",
      "pygments_lexer": "ipython3",
      "version": "3.8"
    }
  },
  "nbformat_minor": 5,
  "nbformat": 4,
  "cells": [
    {
      "cell_type": "markdown",
      "source": "<div class=\"jupyter-biolm-header\">\n    <img style=\"float: left; padding-right: 10px; height: 60px\" src=\"https://d31e6ufxekikrt.cloudfront.net/static/ui/images/logo.png\">\n    <p>\n    <br>\n    <br>\n    <br>\n    </p>\n</div>\n\n# **GPT2 for Directed or Undirected Antibody Generation**\n\nGPT models are fantastic for Q&A in English language, but for protein engineering the currently necessitate finetuning for decent molecule generation. For this example, we finetuned a ProtGPT2 model (pretrained on UniRef) on hundreds of thousands of SARS-Cov-19 natural antibodies from the OAS database. Below, we simply prompt our GPT2 model to generated a new molecule, not with a question but a either open-ended generation or by including `EVQL` to more assuredly generated a human heavy chain antibody.\n\n---",
      "metadata": {
        "tags": []
      },
      "id": "eb7c71d2-aaf5-4f59-9bb3-4f1dade6cded"
    },
    {
      "cell_type": "markdown",
      "source": "## **Set Your API Token**\n\nIn order to use the BioLM API, you need to have a token. You can get one from\nthe [User API Tokens](https://biolm.ai/ui/accounts/user-api-tokens/) page.\n\nPaste the API token you generated in the cell below, as the value\nof the variable `BIOLMAI_TOKEN `.",
      "metadata": {},
      "id": "a31959ba-463b-4fdf-9669-fafdc2a467a6"
    },
    {
      "cell_type": "code",
      "source": "BIOLMAI_TOKEN = \" \"  # !!! YOUR API TOKEN HERE !!!",
      "metadata": {
        "trusted": true
      },
      "execution_count": null,
      "outputs": [],
      "id": "9d4df580-1bd0-431a-b803-58fb3ebdb22d"
    },
    {
      "cell_type": "markdown",
      "source": "## API Call with Python Requests",
      "metadata": {},
      "id": "21ebc945-3537-428c-b2f6-23f342f008bd"
    },
    {
      "cell_type": "markdown",
      "source": "We need to make sure we have the Python `requests` module loaded first.",
      "metadata": {},
      "id": "60db29f9-b2ca-4288-8e5c-8f4964360170"
    },
    {
      "cell_type": "code",
      "source": "try:\n    # Install packages to make API requests in JLite\n    import micropip\n    await micropip.install('requests')\n    await micropip.install('pyodide-http')\n    # Patch requests for in-browser support\n    import pyodide_http\n    pyodide_http.patch_all()\nexcept ModuleNotFoundError:\n    pass  # Won't be using micropip outside of JLite\n\nimport requests\nfrom IPython.display import JSON  # Helpful UI for JSON display\n\n\nimport pandas as pd\nimport os, sys\nimport json\nimport datetime\nimport urllib3",
      "metadata": {
        "tags": [],
        "trusted": true
      },
      "execution_count": null,
      "outputs": [],
      "id": "82b2003a-090a-414a-814a-8101140959b2"
    },
    {
      "cell_type": "code",
      "source": "\ndef generate_gpt2_cv2_hchain(seed_seq=None):\n    \"\"\"POST create a new GPT2 antibody from fine-tuned SARS-Cov2 immune responses.\"\"\"\n\n\n    url = \"https://biolm.ai/api/v1/models/gpt2_sarscovd_heavy/generate/\"\n    \n    if not seed_seq:\n        seed_seq = ''\n        \n\n    payload = json.dumps({\n      \"instances\": [\n        {\n          \"data\": {\n            \"text\": seed_seq\n          }\n        }\n      ]\n    })\n    \n    headers = {\n        \"Content-Type\": \"application/json\",\n        \"Authorization\": f\"Token {BIOLMAI_TOKEN.strip()}\",\n    }\n\n    response = requests.request(\"POST\", url, headers=headers, data=payload, timeout=480)\n    \n    resp_json = response.json()\n    \n    return resp_json['predictions']['generated']",
      "metadata": {
        "trusted": true
      },
      "execution_count": null,
      "outputs": [],
      "id": "9f950028"
    },
    {
      "cell_type": "code",
      "source": "resp = generate_gpt2_cv2_hchain('EVQ')\n\nresp",
      "metadata": {
        "trusted": true
      },
      "execution_count": null,
      "outputs": [],
      "id": "e9e2aa5e"
    },
    {
      "cell_type": "code",
      "source": "df = pd.DataFrame(['EVQ' for _ in range(10000)], columns=['seed_seq'])",
      "metadata": {
        "trusted": true
      },
      "execution_count": null,
      "outputs": [],
      "id": "7c96a781"
    },
    {
      "cell_type": "code",
      "source": "def apply_gen_abs(seed_seq):\n    g = generate_gpt2_cv2_hchain(seed_seq)\n    _d = pd.DataFrame.from_dict(g)\n    _d = _d.query('perplexity <= 125.0').reset_index(drop=True)\n    _d = _d.loc[_d.text.str.len() <= 256, :].reset_index(drop=True)\n    return _d",
      "metadata": {
        "trusted": true
      },
      "execution_count": null,
      "outputs": [],
      "id": "abf0f202"
    },
    {
      "cell_type": "code",
      "source": "generated_seq_dfs = df.seed_seq.iloc[:2500].apply(apply_gen_abs)  # use parallel_apply and pandarralel for parallel requests",
      "metadata": {
        "trusted": true
      },
      "execution_count": null,
      "outputs": [],
      "id": "261f6fa2"
    },
    {
      "cell_type": "code",
      "source": "generated_seqs = pd.concat(list(generated_seq_dfs), axis=0)\ngenerated_seqs['len'] = generated_seqs.text.str.len()",
      "metadata": {
        "trusted": true
      },
      "execution_count": null,
      "outputs": [],
      "id": "86de27d8"
    },
    {
      "cell_type": "code",
      "source": "generated_seqs.sort_values('perplexity', ascending=True).head(10)",
      "metadata": {
        "trusted": true
      },
      "execution_count": null,
      "outputs": [],
      "id": "94ae4f6e"
    },
    {
      "cell_type": "code",
      "source": "generated_seqs.sample(10)",
      "metadata": {
        "trusted": true
      },
      "execution_count": null,
      "outputs": [],
      "id": "42439522"
    },
    {
      "cell_type": "code",
      "source": "generated_seqs.to_csv('generated_sars_cov2_ab_seqs.csv', index=False)",
      "metadata": {
        "trusted": true
      },
      "execution_count": null,
      "outputs": [],
      "id": "4106515f"
    },
    {
      "cell_type": "code",
      "source": "generated_seqs.shape",
      "metadata": {
        "trusted": true
      },
      "execution_count": null,
      "outputs": [],
      "id": "f847b0b5"
    },
    {
      "cell_type": "markdown",
      "source": "The `perplexity` measure is correlated with similarity to known molecules - the lower the values, the more likely the sequence folds into something real. There are ~9.5k sequences with a `perplexity <= 125.0`, to be further ranked and selected using _other_ models now.",
      "metadata": {},
      "id": "3978c747"
    },
    {
      "cell_type": "markdown",
      "source": "## Rank with ESM-1v & Other Evaluations\n\nIn order to pull out likely functional sequences, we could also score these with ESM-1v - or any ESM flavor - since those models were trained on functional sequences only. See [In silico Deep Mutational Scan](./3.1_ESM-1v_Deep_Mutational_Scan_Protein.ipynb) for more info.\n\n\nWe could also see how close the low-perplexity generated sequences are to those in the test set. Align or calculate Levenshtein distances from antibodies in the test set. Number the antibodies so we can assess their CDR loops comapred to known SARS-Cov-2 antibodies. And of course many other evaluations we could make, which will be up to you.",
      "metadata": {},
      "id": "74dd5072"
    },
    {
      "cell_type": "markdown",
      "source": "### See more use-cases and APIs on your [BioLM Console Catalog](https://biolm.ai/console/catalog/).\n<br>\n\n#### BioLM hosts deep learning models and runs inference at scale. You do the science.\n<br>\n\n<table class=\"jupyter-biolm-header-table\" style=\"width: 100%; border-collapse: collapse; background-color: white; float: left;\">\n    <tr>\n        <td style=\"text-align: left; vertical-align: middle; background-color: white;\">\n            <img src=\"https://d31e6ufxekikrt.cloudfront.net/static/ui/images/console-overview/enzyme_engineering_icon.png\"  style=\"height: 40px; float: left; padding-right: 10px;\"> Enzyme Engineering\n        </td>\n        <td style=\"text-align: left; vertical-align: middle; background-color: white;\">\n            <img src=\"https://d31e6ufxekikrt.cloudfront.net/static/ui/images/console-overview/antibody_engineering_icon.png\"  style=\"height: 40px; float: left; padding-right: 10px;\"> Antibody Engineering\n        </td>\n        <td style=\"text-align: left; vertical-align: middle; background-color: white;\">\n            <img src=\"https://d31e6ufxekikrt.cloudfront.net/static/ui/images/console-overview/biosecurity_icon.png\"  style=\"height: 40px; float: left; padding-right: 10px;\"> Biosecurity\n        </td>\n    </tr>\n    <tr>\n        <td style=\"text-align: left; vertical-align: middle; background-color: white;\">\n            <img src=\"https://d31e6ufxekikrt.cloudfront.net/static/ui/images/console-overview/single_cell_genomics_icon.png\"  style=\"height: 40px; float: left; padding-right: 10px;\"> Single-Cell Genomics\n        </td>\n        <td style=\"text-align: left; vertical-align: middle; background-color: white;\">\n            <img src=\"https://d31e6ufxekikrt.cloudfront.net/static/ui/images/console-overview/dna_seq_modeling_icon.png\"  style=\"height: 40px; float: left; padding-right: 10px;\"> DNA Sequence Modelling\n        </td>\n        <td style=\"text-align: left; vertical-align: middle; background-color: white;\">\n            <img src=\"https://d31e6ufxekikrt.cloudfront.net/static/ui/images/console-overview/finetuning_icon.png\"  style=\"height: 40px; float: left; padding-right: 10px;\"> Finetuning\n        </td>\n    </tr>\n</table>\n\n### [**Contact us**](https://biolm.ai/ui/contact-us/) to learn more.\n",
      "metadata": {
        "tags": []
      },
      "id": "5fb3f3de-dd8f-4ae7-a387-c2c0be8a7e72"
    },
    {
      "cell_type": "code",
      "source": "",
      "metadata": {},
      "execution_count": null,
      "outputs": [],
      "id": "3a7e2fc8-7fb4-4d0a-bf11-3a372ceafa9f"
    }
  ]
}