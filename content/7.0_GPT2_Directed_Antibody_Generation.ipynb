{
 "cells": [
  {
   "cell_type": "markdown",
   "id": "876b066b",
   "metadata": {},
   "source": [
    "# GPT2 for Directed or Undirected Antibody Generation"
   ]
  },
  {
   "cell_type": "code",
   "execution_count": null,
   "outputs": [],
   "source": [
    "from helpers import api_caller\n",
    "\n",
    "TOKEN = ''"
   ],
   "metadata": {
    "collapsed": false
   },
   "id": "3c65b62b96e93655"
  },
  {
   "cell_type": "code",
   "execution_count": 36,
   "id": "65693128",
   "metadata": {},
   "outputs": [
    {
     "name": "stdout",
     "output_type": "stream",
     "text": [
      "INFO: Pandarallel will run on 4 workers.\n",
      "INFO: Pandarallel will use standard multiprocessing data transfer (pipe) to transfer data between the main process and workers.\n"
     ]
    }
   ],
   "source": [
    "from pandarallel import pandarallel\n",
    "pandarallel.initialize(progress_bar=True, nb_workers=4)\n",
    "\n",
    "import pandas as pd\n",
    "import os, sys\n",
    "import requests\n",
    "import json\n",
    "import datetime\n",
    "import urllib3\n",
    "\n",
    "# Add Python module with utility functions for interacting with BioLM API\n",
    "repo_root = os.path.join(os.getcwd(), '..', '..')\n",
    "src_dir = os.path.join(repo_root, 'src')\n",
    "if src_dir not in sys.path:\n",
    "    sys.path.append(src_dir)\n",
    "    \n",
    "import biolm_util"
   ]
  },
  {
   "cell_type": "code",
   "execution_count": 57,
   "id": "309ba5cd",
   "metadata": {},
   "outputs": [],
   "source": [
    "# Have env vars 'BIOLM_USER' and 'BIOLM_PASS' set for this to work!\n",
    "tok = biolm_util.get_api_token()\n",
    "\n",
    "os.environ['BIOLM_ACCESS'] = tok['access']\n",
    "os.environ['BIOLM_REFRESH'] = tok['refresh']"
   ]
  },
  {
   "cell_type": "code",
   "execution_count": 6,
   "id": "9f950028",
   "metadata": {},
   "outputs": [],
   "source": [
    "M = 10  # Minute delay to refresh token\n",
    "tmp_now = datetime.datetime.now()\n",
    "refresh_in = tmp_now + datetime.timedelta(minutes=M)\n",
    "global refresh_in\n",
    "\n",
    "\n",
    "def generate_gpt2_cv2_hchain(seed_seq=None):\n",
    "    \"\"\"POST create a new GPT2 antibody from fine-tuned SARS-Cov2 immune responses.\"\"\"\n",
    "    global refresh_in\n",
    "\n",
    "    url = \"https://biolm.ai/api/v1/models/gpt2_sarscovd_heavy/generate/\"\n",
    "    \n",
    "    if not seed_seq:\n",
    "        seed_seq = ''\n",
    "        \n",
    "    if datetime.datetime.now() > refresh_in:\n",
    "        tok = biolm_util.get_api_token()\n",
    "        os.environ['BIOLM_ACCESS'] = tok['access']\n",
    "        os.environ['BIOLM_REFRESH'] = tok['refresh']\n",
    "        refresh_in = datetime.datetime.now() + datetime.timedelta(minutes=M)\n",
    "\n",
    "    payload = json.dumps({\n",
    "      \"instances\": [\n",
    "        {\n",
    "          \"data\": {\n",
    "            \"text\": seed_seq\n",
    "          }\n",
    "        }\n",
    "      ]\n",
    "    })\n",
    "    \n",
    "    headers = {\n",
    "      'Cookie': 'access={};refresh={}'.format(os.environ['BIOLM_ACCESS'], os.environ['BIOLM_REFRESH']),\n",
    "      'Content-Type': 'application/json'\n",
    "    }\n",
    "\n",
    "    response = requests.request(\"POST\", url, headers=headers, data=payload, timeout=480)\n",
    "    \n",
    "    resp_json = response.json()\n",
    "    \n",
    "    return resp_json['predictions']['generated']"
   ]
  },
  {
   "cell_type": "code",
   "execution_count": 7,
   "id": "e9e2aa5e",
   "metadata": {},
   "outputs": [
    {
     "data": {
      "text/plain": [
       "[{'text': 'EVQMELSSLRSEDTAVYYCARLPPTAMANYFDYWGQGTLVTVSS',\n",
       "  'perplexity': 546.3818136109178},\n",
       " {'text': 'EVQISGYAQGGSSLWIWGGFSVDKATLTRLISSLGHYYSLKASMERPWVFSRDHP',\n",
       "  'perplexity': 359.5568987430205},\n",
       " {'text': 'EVQTFSGMTRGYFQHWGQGTLVTVSS', 'perplexity': 10547.178905954976},\n",
       " {'text': 'EVQVDTSEDTAVYYCARAKYDSSGYYDFDLWGQGTQVTVSS',\n",
       "  'perplexity': 794.4173610839085},\n",
       " {'text': 'EVQMDPSLKSRVTISADKSKNQFSLRLTSVTAADTAVYYCARPHPYCYSYGSGEYNWFDPWGQGTLVTVSS',\n",
       "  'perplexity': 153.0960441547317},\n",
       " {'text': 'EVQMELSCAASGFAFTNSAMHWVRQAPGKGLEWVSGIRYVGKSGTYYADSVKGRFTISRDNAKDSGYLFLQVNSLRAEDTAVYYCARVSGYYDILTGNSLFDYWGQGTLVTVSS',\n",
       "  'perplexity': 80.10001054464183},\n",
       " {'text': 'EVQTLSLTCTVSGGSISSSSYYWGWIRQPPGKGLEWIGSIYYSGSTYYNPSLKSRVTMSVDTSKNQFSLKLSSVTAADTAVYFCVRSDSSGWNAFDIWGLGRGTVVTVSS',\n",
       "  'perplexity': 28.18934858102672},\n",
       " {'text': 'EVQIIPVSCKASGYTFTGYYMHWVRQAPGQGLEWMGWINPNSGGTNYAQKFQGWVTMTRDTSTMTLQMNNMDPVDTATYYCARNYGYYFDTYWGQGTLVTVSS',\n",
       "  'perplexity': 26.263950567275604},\n",
       " {'text': 'EVQVSSSDSLVVISVDTSKAHEIRAFDIWGQGTMVTVSS',\n",
       "  'perplexity': 545.6215803528547},\n",
       " {'text': 'EVQMELISTAYMELSSLRSEDTAVYYCARLHGWSTSMWIGYWGQGTLVTVSS',\n",
       "  'perplexity': 419.3893659366275}]"
      ]
     },
     "execution_count": 7,
     "metadata": {},
     "output_type": "execute_result"
    }
   ],
   "source": [
    "resp = generate_gpt2_cv2_hchain('EVQ')\n",
    "\n",
    "resp"
   ]
  },
  {
   "cell_type": "code",
   "execution_count": 8,
   "id": "7c96a781",
   "metadata": {},
   "outputs": [],
   "source": [
    "df = pd.DataFrame(['EVQ' for _ in range(10000)], columns=['seed_seq'])"
   ]
  },
  {
   "cell_type": "code",
   "execution_count": 9,
   "id": "abf0f202",
   "metadata": {},
   "outputs": [],
   "source": [
    "def apply_gen_abs(seed_seq):\n",
    "    g = generate_gpt2_cv2_hchain(seed_seq)\n",
    "    _d = pd.DataFrame.from_dict(g)\n",
    "    _d = _d.query('perplexity <= 125.0').reset_index(drop=True)\n",
    "    _d = _d.loc[_d.text.str.len() <= 256, :].reset_index(drop=True)\n",
    "    return _d"
   ]
  },
  {
   "cell_type": "code",
   "execution_count": 10,
   "id": "261f6fa2",
   "metadata": {},
   "outputs": [
    {
     "data": {
      "application/vnd.jupyter.widget-view+json": {
       "model_id": "02f9827c06004d69b26727b36464fa99",
       "version_major": 2,
       "version_minor": 0
      },
      "text/plain": [
       "VBox(children=(HBox(children=(IntProgress(value=0, description='0.00%', max=625), Label(value='0 / 625'))), HB…"
      ]
     },
     "metadata": {},
     "output_type": "display_data"
    }
   ],
   "source": [
    "generated_seq_dfs = df.seed_seq.iloc[:2500].parallel_apply(apply_gen_abs)"
   ]
  },
  {
   "cell_type": "code",
   "execution_count": 11,
   "id": "86de27d8",
   "metadata": {},
   "outputs": [],
   "source": [
    "generated_seqs = pd.concat(list(generated_seq_dfs), axis=0)\n",
    "generated_seqs['len'] = generated_seqs.text.str.len()"
   ]
  },
  {
   "cell_type": "code",
   "execution_count": 12,
   "id": "94ae4f6e",
   "metadata": {},
   "outputs": [
    {
     "data": {
      "text/html": [
       "<div>\n",
       "<style scoped>\n",
       "    .dataframe tbody tr th:only-of-type {\n",
       "        vertical-align: middle;\n",
       "    }\n",
       "\n",
       "    .dataframe tbody tr th {\n",
       "        vertical-align: top;\n",
       "    }\n",
       "\n",
       "    .dataframe thead th {\n",
       "        text-align: right;\n",
       "    }\n",
       "</style>\n",
       "<table border=\"1\" class=\"dataframe\">\n",
       "  <thead>\n",
       "    <tr style=\"text-align: right;\">\n",
       "      <th></th>\n",
       "      <th>text</th>\n",
       "      <th>perplexity</th>\n",
       "      <th>len</th>\n",
       "    </tr>\n",
       "  </thead>\n",
       "  <tbody>\n",
       "    <tr>\n",
       "      <th>0</th>\n",
       "      <td>EVQTLSLTCTVSGGSISSSSYYWGWIRQPPGKGLEWIGSIYYSGST...</td>\n",
       "      <td>10.494190</td>\n",
       "      <td>113</td>\n",
       "    </tr>\n",
       "    <tr>\n",
       "      <th>0</th>\n",
       "      <td>EVQVSSSGPTLVKPTQTLTLTCTFSGFSLSTSGMCVSWIRQPPGKA...</td>\n",
       "      <td>10.755682</td>\n",
       "      <td>119</td>\n",
       "    </tr>\n",
       "    <tr>\n",
       "      <th>1</th>\n",
       "      <td>EVQVSSPALVKPTQTLTLTCTFSGFSLSTSGMCVSWIRQPPGKALE...</td>\n",
       "      <td>10.948971</td>\n",
       "      <td>121</td>\n",
       "    </tr>\n",
       "    <tr>\n",
       "      <th>1</th>\n",
       "      <td>EVQVSSASVKVSCKASGYTFTSYGISWVRQAPGQGLEWMGWISAYN...</td>\n",
       "      <td>11.023180</td>\n",
       "      <td>119</td>\n",
       "    </tr>\n",
       "    <tr>\n",
       "      <th>0</th>\n",
       "      <td>EVQVSSPALVKPTQTLTLTCTFSGFSLSTSGMCVSWIRQPPGKALE...</td>\n",
       "      <td>11.135759</td>\n",
       "      <td>116</td>\n",
       "    </tr>\n",
       "    <tr>\n",
       "      <th>2</th>\n",
       "      <td>EVQVSSPALVKPTQTLTLTCTFSGFSLSTSGMCVSWIRQPPGKALE...</td>\n",
       "      <td>11.754165</td>\n",
       "      <td>122</td>\n",
       "    </tr>\n",
       "    <tr>\n",
       "      <th>1</th>\n",
       "      <td>EVQVSSPALVKPTQTLTLTCTFSGFSLSTSGMCVSWIRQPPGKALE...</td>\n",
       "      <td>11.781453</td>\n",
       "      <td>120</td>\n",
       "    </tr>\n",
       "    <tr>\n",
       "      <th>3</th>\n",
       "      <td>EVQTVSRDNSKPALVKPTQTLTLTCTFSGFSLSTSGMCVSWIRQPP...</td>\n",
       "      <td>11.869919</td>\n",
       "      <td>128</td>\n",
       "    </tr>\n",
       "    <tr>\n",
       "      <th>3</th>\n",
       "      <td>EVQFDPWGQGTLVTVSSASVKVSCKASGYTFTGYYMHWVRQAPGQG...</td>\n",
       "      <td>11.978776</td>\n",
       "      <td>120</td>\n",
       "    </tr>\n",
       "    <tr>\n",
       "      <th>4</th>\n",
       "      <td>EVQVSSKNVAPNWTRPAYFSVPLDKSFRKYTAFTIPSTNNETPGIR...</td>\n",
       "      <td>12.084831</td>\n",
       "      <td>141</td>\n",
       "    </tr>\n",
       "  </tbody>\n",
       "</table>\n",
       "</div>"
      ],
      "text/plain": [
       "                                                text  perplexity  len\n",
       "0  EVQTLSLTCTVSGGSISSSSYYWGWIRQPPGKGLEWIGSIYYSGST...   10.494190  113\n",
       "0  EVQVSSSGPTLVKPTQTLTLTCTFSGFSLSTSGMCVSWIRQPPGKA...   10.755682  119\n",
       "1  EVQVSSPALVKPTQTLTLTCTFSGFSLSTSGMCVSWIRQPPGKALE...   10.948971  121\n",
       "1  EVQVSSASVKVSCKASGYTFTSYGISWVRQAPGQGLEWMGWISAYN...   11.023180  119\n",
       "0  EVQVSSPALVKPTQTLTLTCTFSGFSLSTSGMCVSWIRQPPGKALE...   11.135759  116\n",
       "2  EVQVSSPALVKPTQTLTLTCTFSGFSLSTSGMCVSWIRQPPGKALE...   11.754165  122\n",
       "1  EVQVSSPALVKPTQTLTLTCTFSGFSLSTSGMCVSWIRQPPGKALE...   11.781453  120\n",
       "3  EVQTVSRDNSKPALVKPTQTLTLTCTFSGFSLSTSGMCVSWIRQPP...   11.869919  128\n",
       "3  EVQFDPWGQGTLVTVSSASVKVSCKASGYTFTGYYMHWVRQAPGQG...   11.978776  120\n",
       "4  EVQVSSKNVAPNWTRPAYFSVPLDKSFRKYTAFTIPSTNNETPGIR...   12.084831  141"
      ]
     },
     "execution_count": 12,
     "metadata": {},
     "output_type": "execute_result"
    }
   ],
   "source": [
    "generated_seqs.sort_values('perplexity', ascending=True).head(10)"
   ]
  },
  {
   "cell_type": "code",
   "execution_count": 13,
   "id": "42439522",
   "metadata": {},
   "outputs": [
    {
     "data": {
      "text/html": [
       "<div>\n",
       "<style scoped>\n",
       "    .dataframe tbody tr th:only-of-type {\n",
       "        vertical-align: middle;\n",
       "    }\n",
       "\n",
       "    .dataframe tbody tr th {\n",
       "        vertical-align: top;\n",
       "    }\n",
       "\n",
       "    .dataframe thead th {\n",
       "        text-align: right;\n",
       "    }\n",
       "</style>\n",
       "<table border=\"1\" class=\"dataframe\">\n",
       "  <thead>\n",
       "    <tr style=\"text-align: right;\">\n",
       "      <th></th>\n",
       "      <th>text</th>\n",
       "      <th>perplexity</th>\n",
       "      <th>len</th>\n",
       "    </tr>\n",
       "  </thead>\n",
       "  <tbody>\n",
       "    <tr>\n",
       "      <th>1</th>\n",
       "      <td>EVQVSSPALVKPTQTLTLTCTFSGFSLSTSGMCVSWIRRPPGKALE...</td>\n",
       "      <td>45.633365</td>\n",
       "      <td>117</td>\n",
       "    </tr>\n",
       "    <tr>\n",
       "      <th>0</th>\n",
       "      <td>EVQTLSLTCTVSGGSISSSSYYWGWIRQPPGKGLEWIGSIYYSGST...</td>\n",
       "      <td>29.093350</td>\n",
       "      <td>112</td>\n",
       "    </tr>\n",
       "    <tr>\n",
       "      <th>5</th>\n",
       "      <td>EVQMELSCAASGFTFSSYWMSWIRQAPGQGLEWVSVIYSGGDTYYA...</td>\n",
       "      <td>28.239773</td>\n",
       "      <td>100</td>\n",
       "    </tr>\n",
       "    <tr>\n",
       "      <th>3</th>\n",
       "      <td>EVQTLSLTCTVSGGSISSSSYYWGWIRQPPGKGLEWIGSIYYSGST...</td>\n",
       "      <td>20.990061</td>\n",
       "      <td>108</td>\n",
       "    </tr>\n",
       "    <tr>\n",
       "      <th>0</th>\n",
       "      <td>EVQTLSLTCTVSGGSISSSSYYWGWIRQPPGKGLEWIGSIYYSGST...</td>\n",
       "      <td>17.170283</td>\n",
       "      <td>109</td>\n",
       "    </tr>\n",
       "    <tr>\n",
       "      <th>3</th>\n",
       "      <td>EVQTLTLTCTVSGGSISSSNWWSWVRQPPGKGLEWIGEIGHSGSTN...</td>\n",
       "      <td>31.193839</td>\n",
       "      <td>103</td>\n",
       "    </tr>\n",
       "    <tr>\n",
       "      <th>1</th>\n",
       "      <td>EVQTLSLTCTVSGGSISSYYWSWIRQPPGKGLEWIGYIYYSGSTNY...</td>\n",
       "      <td>28.300893</td>\n",
       "      <td>116</td>\n",
       "    </tr>\n",
       "    <tr>\n",
       "      <th>0</th>\n",
       "      <td>EVQTLSLTCTVSGGSISSSSYYWGWIRQPPGKGLEWIGEIYHSGST...</td>\n",
       "      <td>17.034665</td>\n",
       "      <td>103</td>\n",
       "    </tr>\n",
       "    <tr>\n",
       "      <th>5</th>\n",
       "      <td>EVQMSSDSLRLSCAASGFIFSNSAIHWVRQAPGKGLEWVSTVYAST...</td>\n",
       "      <td>74.415393</td>\n",
       "      <td>109</td>\n",
       "    </tr>\n",
       "    <tr>\n",
       "      <th>3</th>\n",
       "      <td>EVQVSSASVKVSCKASGYTFTDNWIGWVRQAPGQGLEWVGWINPNT...</td>\n",
       "      <td>20.603018</td>\n",
       "      <td>111</td>\n",
       "    </tr>\n",
       "  </tbody>\n",
       "</table>\n",
       "</div>"
      ],
      "text/plain": [
       "                                                text  perplexity  len\n",
       "1  EVQVSSPALVKPTQTLTLTCTFSGFSLSTSGMCVSWIRRPPGKALE...   45.633365  117\n",
       "0  EVQTLSLTCTVSGGSISSSSYYWGWIRQPPGKGLEWIGSIYYSGST...   29.093350  112\n",
       "5  EVQMELSCAASGFTFSSYWMSWIRQAPGQGLEWVSVIYSGGDTYYA...   28.239773  100\n",
       "3  EVQTLSLTCTVSGGSISSSSYYWGWIRQPPGKGLEWIGSIYYSGST...   20.990061  108\n",
       "0  EVQTLSLTCTVSGGSISSSSYYWGWIRQPPGKGLEWIGSIYYSGST...   17.170283  109\n",
       "3  EVQTLTLTCTVSGGSISSSNWWSWVRQPPGKGLEWIGEIGHSGSTN...   31.193839  103\n",
       "1  EVQTLSLTCTVSGGSISSYYWSWIRQPPGKGLEWIGYIYYSGSTNY...   28.300893  116\n",
       "0  EVQTLSLTCTVSGGSISSSSYYWGWIRQPPGKGLEWIGEIYHSGST...   17.034665  103\n",
       "5  EVQMSSDSLRLSCAASGFIFSNSAIHWVRQAPGKGLEWVSTVYAST...   74.415393  109\n",
       "3  EVQVSSASVKVSCKASGYTFTDNWIGWVRQAPGQGLEWVGWINPNT...   20.603018  111"
      ]
     },
     "execution_count": 13,
     "metadata": {},
     "output_type": "execute_result"
    }
   ],
   "source": [
    "generated_seqs.sample(10)"
   ]
  },
  {
   "cell_type": "code",
   "execution_count": 14,
   "id": "4106515f",
   "metadata": {},
   "outputs": [],
   "source": [
    "generated_seqs.to_csv('generated_sars_cov2_ab_seqs.csv', index=False)"
   ]
  },
  {
   "cell_type": "code",
   "execution_count": 62,
   "id": "f847b0b5",
   "metadata": {},
   "outputs": [
    {
     "data": {
      "text/plain": [
       "(9506, 3)"
      ]
     },
     "execution_count": 62,
     "metadata": {},
     "output_type": "execute_result"
    }
   ],
   "source": [
    "generated_seqs.shape"
   ]
  },
  {
   "cell_type": "markdown",
   "id": "3978c747",
   "metadata": {},
   "source": [
    "The `perplexity` measure is correlated with similarity to known molecules - the lower the values, the more likely the sequence folds into something real. There are ~9.5k sequences with a `perplexity <= 125.0`, to be further ranked and selected using _other_ models now."
   ]
  },
  {
   "cell_type": "markdown",
   "id": "74dd5072",
   "metadata": {},
   "source": [
    "## Rank with ESM-1v & Other Evaluations\n",
    "\n",
    "In order to pull out likely functional sequences, we could also score these with ESM-1v - or any ESM flavor - since those models were trained on functional sequences only. See [In silico Deep Mutational Scan](../inference/Deep_Mutational_Scan_Proteins.ipynb) for more info.\n",
    "\n",
    "\n",
    "We could also see how close the low-perplexity generated sequences are to those in the test set. Align or calculate Levenshtein distances from antibodies in the test set. Number the antibodies so we can assess their CDR loops comapred to known SARS-Cov-2 antibodies. And of course many other evaluations we could make, which will be up to you."
   ]
  }
 ],
 "metadata": {
  "kernelspec": {
   "display_name": "Python 3 (ipykernel)",
   "language": "python",
   "name": "python3"
  },
  "language_info": {
   "codemirror_mode": {
    "name": "ipython",
    "version": 3
   },
   "file_extension": ".py",
   "mimetype": "text/x-python",
   "name": "python",
   "nbconvert_exporter": "python",
   "pygments_lexer": "ipython3",
   "version": "3.10.9"
  }
 },
 "nbformat": 4,
 "nbformat_minor": 5
}
