{
  "metadata": {
    "kernelspec": {
      "name": "python",
      "display_name": "Python (Pyodide)",
      "language": "python"
    },
    "language_info": {
      "codemirror_mode": {
        "name": "python",
        "version": 3
      },
      "file_extension": ".py",
      "mimetype": "text/x-python",
      "name": "python",
      "nbconvert_exporter": "python",
      "pygments_lexer": "ipython3",
      "version": "3.8"
    }
  },
  "nbformat_minor": 5,
  "nbformat": 4,
  "cells": [
    {
      "cell_type": "markdown",
      "source": "<div class=\"jupyter-biolm-header\">\n    <img style=\"float: left; padding-right: 10px; height: 60px\" src=\"https://d31e6ufxekikrt.cloudfront.net/static/ui/images/logo.png\">\n    <p>\n    <br>\n    <br>\n    <br>\n    </p>\n</div>\n\n# BioLMTox API\n\nEnhance biosecurity with the BioLMTox [classification endpoint](https://api.biolm.ai/#8616fff6-33c4-416b-9557-429da180ef92).\n\n<br>\n\n<table  class=\"jupyter-biolm-header-table\"  style=\"width: 100%; border-collapse: collapse; background-color: white; float: left;\">\n    <tr>\n        <td style=\"text-align: left; vertical-align: middle; background-color: white;\">\n            <img src=\"https://www.svgrepo.com/show/354202/postman-icon.svg\" style=\"height: 15px; float: left; padding-right: 10px;\"><a href=\"https://api.biolm.ai/#8616fff6-33c4-416b-9557-429da180ef92\">  <h5 style=\"margin: 0;\"><b>Postman API Docs</b></h5></a>\n        </td>\n        <td style=\"text-align: left; vertical-align: middle; background-color: white;\">\n            <img src=\"https://upload.wikimedia.org/wikipedia/commons/thumb/c/c3/Python-logo-notext.svg/1869px-Python-logo-notext.svg.png\" style=\"height: 15px; float: left; padding-right: 10px;\"><a href=\"https://docs.biolm.ai/en/latest/model-docs/biolmtox/BioLMTox_API.html\"><h5 style=\"margin: 0;\"><b>Python SDK Docs</b></h5></a>\n        </td>\n        <td style=\"text-align: left; vertical-align: middle; background-color: white;\">\n        </td>\n        <td style=\"text-align: left; vertical-align: middle; background-color: white;\">\n        </td>\n    </tr>\n</table>\n\n<br>\n\n---",
      "metadata": {
        "tags": []
      },
      "id": "08330ac2-9a4c-4354-be54-15c087819cfe"
    },
    {
      "cell_type": "markdown",
      "source": "## Set Your API Token\n\nIn order to use the BioLM API, you need to have a token. You can get one from\nthe [User API Tokens](https://biolm.ai/ui/accounts/user-api-tokens/) page.\n\nPaste the API token you generated in the cell below, as the value\nof the variable `BIOLMAI_TOKEN `.",
      "metadata": {
        "tags": []
      },
      "id": "5ba8f05f-9d99-4c3c-9444-b8c67a3bcfd6"
    },
    {
      "cell_type": "code",
      "source": "BIOLMAI_TOKEN = \" \"  # !!! YOUR API TOKEN HERE !!!",
      "metadata": {
        "trusted": true
      },
      "execution_count": 1,
      "outputs": [],
      "id": "02ad9f70-47e7-4513-a755-a9ee6dd3c140"
    },
    {
      "cell_type": "markdown",
      "source": "## Make API Request\n\nThere is already a server on BioLM with ESMFold loaded into memory, so predictions should be fast. Let's import the `requests` library.",
      "metadata": {},
      "id": "05373641-f5c8-4cb5-8f54-cdd19abb46f6"
    },
    {
      "cell_type": "code",
      "source": "from IPython.display import JSON  # Helpful UI for JSON display\n\ntry:\n    # Install packages to make API requests in JLite\n    import micropip\n    await micropip.install('requests')\n    await micropip.install('pyodide-http')\n    # Patch requests for in-browser support\n    import pyodide_http\n    pyodide_http.patch_all()\nexcept ModuleNotFoundError:\n    pass  # Won't be using micropip outside of JLite\n\nimport requests  # Will use to make calls to BioLM.ai\nimport csv  # To read example data",
      "metadata": {
        "trusted": true
      },
      "execution_count": 2,
      "outputs": [],
      "id": "d52c9bbd-dda1-46a5-827e-17d3ab24d934"
    },
    {
      "cell_type": "code",
      "source": "lines = []\nwith open('data/protein/data/PLA2.csv', newline='') as csvfile:\n    reader = csv.reader(csvfile)\n    for row in reader:\n        lines.append(row)\nprint(lines)",
      "metadata": {
        "trusted": true
      },
      "execution_count": 6,
      "outputs": [
        {
          "name": "stdout",
          "text": "[['label', 'sequence'], ['toxin', 'MHPAHLLVLLAVCVSLLGASDIPPLPLNLAQFGFMIRCANGGSRSPLDYTDYGCYCGKGGRGTPVDDLDRCCQVHDECYGEAEKRLGCSPFVTLYSWKCYGKAPSCNTKTDCQRFVCNCDAKAAECFARSPYQKKNWNINTKARCK'], ['toxin', 'MRTLWIMAVLLVGVEGSLVELGKMILQETGKNPVTSYGAYGCNCGVLGRGKPKDATDRCCYVHKCCYKKLTDCNPKKDRYSYSWKDKTIVCGENNSCLKELCECDKAVAICLRENLDTYNKKYKNNYLKPFCKKADPC']]\n",
          "output_type": "stream"
        }
      ],
      "id": "6e40a461-2b0b-4c4d-9746-ca9c5b1906e0"
    },
    {
      "cell_type": "markdown",
      "source": "Load the example toxin sequences from the CSV file",
      "metadata": {},
      "id": "0c9ae066-e1f1-42a4-99dd-e68675bcf2ba"
    },
    {
      "cell_type": "code",
      "source": "SEQ1 = lines[1][1]\nSEQ2 = lines[2][1]",
      "metadata": {
        "trusted": true
      },
      "execution_count": 7,
      "outputs": [],
      "id": "9bef42ba-55bb-40ea-9cf5-aafba0fc527f"
    },
    {
      "cell_type": "code",
      "source": "print(\"Sequence length 1: {}\".format(len(SEQ1)))\nprint(\"Sequence length 2: {}\".format(len(SEQ2)))",
      "metadata": {
        "trusted": true
      },
      "execution_count": 8,
      "outputs": [
        {
          "name": "stdout",
          "text": "Sequence length 1: 146\nSequence length 2: 138\n",
          "output_type": "stream"
        }
      ],
      "id": "6344e5ff-8256-416b-81c9-3d2415f8db75"
    },
    {
      "cell_type": "markdown",
      "source": "SEQ1 is https://www.uniprot.org/uniprotkb/Q45Z47/entry and SEQ2 is https://www.uniprot.org/uniprotkb/P82114/entry. Both are snake venoms",
      "metadata": {},
      "id": "e097ccf1-3572-473a-95ff-14d6af15b5e3"
    },
    {
      "cell_type": "markdown",
      "source": "## Define Endpoint Params",
      "metadata": {},
      "id": "9eec68c6-2e1d-44b0-a78c-340d597dadba"
    },
    {
      "cell_type": "code",
      "source": "SLUG = \"biolmtox_v1\"  # Model endpoint to hit on BioLM.ai\nACTION = \"predict\"\n# Follow the link to the docs for the endpoint above to see this definition\ndata = {\n  \"instances\": [{\n    \"data\": {\"text\": SEQ1}\n  }]\n}",
      "metadata": {
        "trusted": true
      },
      "execution_count": 9,
      "outputs": [],
      "id": "b4eca9b3"
    },
    {
      "cell_type": "code",
      "source": "url = f\"https://biolm.ai/api/v1/models/{SLUG}/{ACTION}/\"\n\nheaders = {\n    \"Content-Type\": \"application/json\",\n    \"Authorization\": f\"Token {BIOLMAI_TOKEN.strip()}\",\n}",
      "metadata": {
        "trusted": true
      },
      "execution_count": 10,
      "outputs": [],
      "id": "ffdf0b23-f755-4ba5-a2ce-5b192b603bb7"
    },
    {
      "cell_type": "markdown",
      "source": "Let's make a secure REST API request to BioLM API to quickly make the prediction on GPU.",
      "metadata": {},
      "id": "18087211"
    },
    {
      "cell_type": "code",
      "source": "# Make the request - let's time it!\nimport time\n\ns = time.time()  # Start time\nresponse = requests.post(\n    url=url,\n    headers=headers,\n    json=data,\n)\n\ne = time.time()  # End time\nd = e - s  # Duration\n\nprint(f'Response time: {d:.4}s')\n\nresult = response.json()\n\n# If you wish to view the full result, you can expand the tree in the cell below\nJSON(result)",
      "metadata": {
        "trusted": true
      },
      "execution_count": 11,
      "outputs": [
        {
          "name": "stdout",
          "text": "Response time: 0.242s\n",
          "output_type": "stream"
        },
        {
          "execution_count": 11,
          "output_type": "execute_result",
          "data": {
            "text/plain": "<IPython.core.display.JSON object>",
            "application/json": {
              "predictions": [
                {
                  "label": "toxin",
                  "score": 0.9885618686676025
                }
              ]
            }
          },
          "metadata": {
            "application/json": {
              "expanded": false,
              "root": "root"
            }
          }
        }
      ],
      "id": "78fb4413-4360-4439-b60e-7a6bd84ecbed"
    },
    {
      "cell_type": "markdown",
      "source": "There are keys for each input instance containing:\n\n * `label`, the predicted class label either 'toxin' or 'not toxin'\n * `score`, the model score for the outputed label, the closer to one the more confident the model is in its predction\n\nThe label is toxin with a high score of `0.989` which matches the true label! This sequence is infact Phospholipase A2 OS2 a venom protein from the taipan snake.",
      "metadata": {},
      "id": "5c3c408b"
    },
    {
      "cell_type": "markdown",
      "source": "## Next Steps\n\nCheck out additional tutorials at [jupyter.biolm.ai](https://jupyter.biolm.ai),\nor head over to our [BioLM Documentation](https://docs.biolm.ai) to explore\nadditional models and functionality.\n\n#### See more use-cases and APIs on your [BioLM Console Catalog](https://biolm.ai/console/catalog/).\n<br>\n\n##### BioLM hosts deep learning models and runs inference at scale. You do the science.\n<br>\n\n<table class=\"jupyter-biolm-header-table\" style=\"width: 100%; border-collapse: collapse; background-color: white; float: left;\">\n    <tr>\n        <td style=\"text-align: left; vertical-align: middle; background-color: white;\">\n            <img src=\"https://d31e6ufxekikrt.cloudfront.net/static/ui/images/console-overview/enzyme_engineering_icon.png\"  style=\"height: 40px; float: left; padding-right: 10px;\"> Enzyme Engineering\n        </td>\n        <td style=\"text-align: left; vertical-align: middle; background-color: white;\">\n            <img src=\"https://d31e6ufxekikrt.cloudfront.net/static/ui/images/console-overview/antibody_engineering_icon.png\"  style=\"height: 40px; float: left; padding-right: 10px;\"> Antibody Engineering\n        </td>\n        <td style=\"text-align: left; vertical-align: middle; background-color: white;\">\n            <img src=\"https://d31e6ufxekikrt.cloudfront.net/static/ui/images/console-overview/biosecurity_icon.png\"  style=\"height: 40px; float: left; padding-right: 10px;\"> Biosecurity\n        </td>\n    </tr>\n    <tr>\n        <td style=\"text-align: left; vertical-align: middle; background-color: white;\">\n            <img src=\"https://d31e6ufxekikrt.cloudfront.net/static/ui/images/console-overview/single_cell_genomics_icon.png\"  style=\"height: 40px; float: left; padding-right: 10px;\"> Single-Cell Genomics\n        </td>\n        <td style=\"text-align: left; vertical-align: middle; background-color: white;\">\n            <img src=\"https://d31e6ufxekikrt.cloudfront.net/static/ui/images/console-overview/dna_seq_modeling_icon.png\"  style=\"height: 40px; float: left; padding-right: 10px;\"> DNA Sequence Modelling\n        </td>\n        <td style=\"text-align: left; vertical-align: middle; background-color: white;\">\n            <img src=\"https://d31e6ufxekikrt.cloudfront.net/static/ui/images/console-overview/finetuning_icon.png\"  style=\"height: 40px; float: left; padding-right: 10px;\"> Finetuning\n        </td>\n    </tr>\n</table>\n\n#### [**Contact us**](https://biolm.ai/ui/contact-us/) to learn more.\n",
      "metadata": {
        "tags": []
      },
      "id": "b023d9d8-f6c0-4b10-b12d-a4ca9ac1b3c7"
    },
    {
      "cell_type": "code",
      "source": "",
      "metadata": {},
      "execution_count": null,
      "outputs": [],
      "id": "7836fc7f-b12c-4fe8-a066-d83be93896e4"
    }
  ]
}