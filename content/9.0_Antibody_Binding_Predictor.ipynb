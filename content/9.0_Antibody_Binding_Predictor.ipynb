{
 "cells": [
  {
   "cell_type": "code",
   "execution_count": 1,
   "id": "ce929749",
   "metadata": {},
   "outputs": [],
   "source": [
    "import json\n",
    "import os\n",
    "import requests\n",
    "\n",
    "import numpy as np \n",
    "import pandas as pd\n",
    "import xgboost as xgb\n",
    "\n",
    "from matplotlib import pyplot as plt\n",
    "\n",
    "from sklearn.model_selection import train_test_split \n",
    "from sklearn.metrics import mean_squared_error as MSE \n",
    "from sklearn.model_selection import GridSearchCV\n",
    "from sklearn.metrics import mean_squared_log_error"
   ]
  },
  {
   "cell_type": "code",
   "execution_count": 2,
   "id": "eef1762d",
   "metadata": {},
   "outputs": [],
   "source": [
    "import ablang\n",
    "\n",
    "heavy_ablang = ablang.pretrained(\"heavy\") # Use \"light\" if you are working with light chains\n",
    "heavy_ablang.freeze()\n",
    "\n",
    "\n",
    "seqs = [\n",
    "    'EV*LVESGPGLVQPGKSLRLSCVASGFTFSxGYGMHWVRQAPGKGLEWIALIIYDESNKYYADSVKGRFTISRDNSKNTLYLQMSSLRAEDTAVFYCAKVKFYDPTAPNDYWGQGTLVTVSS',\n",
    "    '*************PGKSLRLSCVASGFTFSGYGMHWVRQAPGKGLEWIALIIYDESNK*YADSVKGRFTISRDNSKNTLYLQMSSLRAEDTAVFYCAKVKFYDPTAPNDYWGQGTL*****',\n",
    "]\n",
    "\n",
    "#heavy_ablang(seqs, mode='restore')"
   ]
  },
  {
   "cell_type": "code",
   "execution_count": null,
   "id": "b058052a",
   "metadata": {},
   "outputs": [],
   "source": [
    "    "
   ]
  },
  {
   "cell_type": "code",
   "execution_count": null,
   "id": "d014af75",
   "metadata": {},
   "outputs": [],
   "source": []
  },
  {
   "cell_type": "code",
   "execution_count": null,
   "id": "39ee9f9f",
   "metadata": {},
   "outputs": [],
   "source": []
  },
  {
   "cell_type": "markdown",
   "id": "7015d6c2",
   "metadata": {},
   "source": [
    "## Set Your API Token\n",
    "\n",
    "In order to use the BioLM API, you need to have a token. You can get one from\n",
    "the [User API Tokens](https://biolm.ai/ui/accounts/user-api-tokens/) page.\n",
    "\n",
    "Paste the API token you generated in the cell below, as the value\n",
    "of the variable `BIOLMAI_TOKEN `."
   ]
  },
  {
   "cell_type": "code",
   "execution_count": 3,
   "id": "ef252251",
   "metadata": {},
   "outputs": [],
   "source": [
    "BIOLMAI_TOKEN = \"0beb982aeb14387f2efb953220b09a12e7329676ad752fb0ab8e6d067bfd1acd\" # !!! YOUR API TOKEN HERE !!!"
   ]
  },
  {
   "cell_type": "markdown",
   "id": "92a7f10b",
   "metadata": {},
   "source": [
    "## Zero-Shot Data"
   ]
  },
  {
   "cell_type": "code",
   "execution_count": 4,
   "id": "08a1ae8e",
   "metadata": {},
   "outputs": [
    {
     "name": "stdout",
     "output_type": "stream",
     "text": [
      "(422, 11)\n"
     ]
    },
    {
     "data": {
      "text/html": [
       "<div>\n",
       "<style scoped>\n",
       "    .dataframe tbody tr th:only-of-type {\n",
       "        vertical-align: middle;\n",
       "    }\n",
       "\n",
       "    .dataframe tbody tr th {\n",
       "        vertical-align: top;\n",
       "    }\n",
       "\n",
       "    .dataframe thead th {\n",
       "        text-align: right;\n",
       "    }\n",
       "</style>\n",
       "<table border=\"1\" class=\"dataframe\">\n",
       "  <thead>\n",
       "    <tr style=\"text-align: right;\">\n",
       "      <th></th>\n",
       "      <th>sequence</th>\n",
       "      <th>KD (M)</th>\n",
       "      <th>KD (nM)</th>\n",
       "      <th>-log(KD (M))</th>\n",
       "      <th>label</th>\n",
       "      <th>random</th>\n",
       "      <th>set</th>\n",
       "      <th>HCDR3 Edit Distance to Trastuzumab</th>\n",
       "      <th>Minimum HCDR3 Edit Distance to SAbDab</th>\n",
       "      <th>Minimum HCDR3 Edit Distance to OAS</th>\n",
       "      <th>Minimum HCDR123 Edit Distance to OAS</th>\n",
       "    </tr>\n",
       "  </thead>\n",
       "  <tbody>\n",
       "    <tr>\n",
       "      <th>12</th>\n",
       "      <td>ARYVGLGGYPLGY</td>\n",
       "      <td>1.321000e-10</td>\n",
       "      <td>13.21</td>\n",
       "      <td>7.88</td>\n",
       "      <td>_weak</td>\n",
       "      <td>5894</td>\n",
       "      <td>validation</td>\n",
       "      <td>8</td>\n",
       "      <td>6</td>\n",
       "      <td>2</td>\n",
       "      <td>7</td>\n",
       "    </tr>\n",
       "    <tr>\n",
       "      <th>197</th>\n",
       "      <td>ARYGYAPGFYYMDV</td>\n",
       "      <td>9.720000e-10</td>\n",
       "      <td>9.72</td>\n",
       "      <td>8.01</td>\n",
       "      <td>best</td>\n",
       "      <td>9217</td>\n",
       "      <td>train</td>\n",
       "      <td>7</td>\n",
       "      <td>6</td>\n",
       "      <td>2</td>\n",
       "      <td>7</td>\n",
       "    </tr>\n",
       "    <tr>\n",
       "      <th>289</th>\n",
       "      <td>ATWPHINTRIYAFDP</td>\n",
       "      <td>1.173000e-10</td>\n",
       "      <td>117.30</td>\n",
       "      <td>6.93</td>\n",
       "      <td>_weak</td>\n",
       "      <td>2306</td>\n",
       "      <td>train</td>\n",
       "      <td>11</td>\n",
       "      <td>8</td>\n",
       "      <td>5</td>\n",
       "      <td>9</td>\n",
       "    </tr>\n",
       "    <tr>\n",
       "      <th>113</th>\n",
       "      <td>ARWGSEAFYWFDY</td>\n",
       "      <td>3.284000e-10</td>\n",
       "      <td>32.84</td>\n",
       "      <td>7.48</td>\n",
       "      <td>_weak</td>\n",
       "      <td>8912</td>\n",
       "      <td>train</td>\n",
       "      <td>6</td>\n",
       "      <td>5</td>\n",
       "      <td>2</td>\n",
       "      <td>6</td>\n",
       "    </tr>\n",
       "    <tr>\n",
       "      <th>283</th>\n",
       "      <td>ARYYYGFYYFDY</td>\n",
       "      <td>1.210000e-10</td>\n",
       "      <td>1.21</td>\n",
       "      <td>8.92</td>\n",
       "      <td>best</td>\n",
       "      <td>7113</td>\n",
       "      <td>train</td>\n",
       "      <td>7</td>\n",
       "      <td>3</td>\n",
       "      <td>0</td>\n",
       "      <td>3</td>\n",
       "    </tr>\n",
       "  </tbody>\n",
       "</table>\n",
       "</div>"
      ],
      "text/plain": [
       "            sequence        KD (M)  KD (nM)  -log(KD (M))  label  random  \\\n",
       "12     ARYVGLGGYPLGY  1.321000e-10    13.21          7.88  _weak    5894   \n",
       "197   ARYGYAPGFYYMDV  9.720000e-10     9.72          8.01   best    9217   \n",
       "289  ATWPHINTRIYAFDP  1.173000e-10   117.30          6.93  _weak    2306   \n",
       "113    ARWGSEAFYWFDY  3.284000e-10    32.84          7.48  _weak    8912   \n",
       "283     ARYYYGFYYFDY  1.210000e-10     1.21          8.92   best    7113   \n",
       "\n",
       "            set  HCDR3 Edit Distance to Trastuzumab  \\\n",
       "12   validation                                   8   \n",
       "197       train                                   7   \n",
       "289       train                                  11   \n",
       "113       train                                   6   \n",
       "283       train                                   7   \n",
       "\n",
       "     Minimum HCDR3 Edit Distance to SAbDab  \\\n",
       "12                                       6   \n",
       "197                                      6   \n",
       "289                                      8   \n",
       "113                                      5   \n",
       "283                                      3   \n",
       "\n",
       "     Minimum HCDR3 Edit Distance to OAS  Minimum HCDR123 Edit Distance to OAS  \n",
       "12                                    2                                     7  \n",
       "197                                   2                                     7  \n",
       "289                                   5                                     9  \n",
       "113                                   2                                     6  \n",
       "283                                   0                                     3  "
      ]
     },
     "execution_count": 4,
     "metadata": {},
     "output_type": "execute_result"
    }
   ],
   "source": [
    "data_path = os.path.join('data', 'protein', 'data', 'her2_binders_kd.csv')\n",
    "\n",
    "assay_data = pd.read_csv(data_path)\n",
    "\n",
    "print(assay_data.shape)\n",
    "\n",
    "assay_data.sample(5)"
   ]
  },
  {
   "cell_type": "code",
   "execution_count": 5,
   "id": "0eec983d",
   "metadata": {},
   "outputs": [],
   "source": [
    "assay_data.rename(columns={'KD (nM)': 'binding_metric'}, inplace=True)"
   ]
  },
  {
   "cell_type": "code",
   "execution_count": 6,
   "id": "8d0a0bb5",
   "metadata": {},
   "outputs": [
    {
     "data": {
      "text/html": [
       "<div>\n",
       "<style scoped>\n",
       "    .dataframe tbody tr th:only-of-type {\n",
       "        vertical-align: middle;\n",
       "    }\n",
       "\n",
       "    .dataframe tbody tr th {\n",
       "        vertical-align: top;\n",
       "    }\n",
       "\n",
       "    .dataframe thead th {\n",
       "        text-align: right;\n",
       "    }\n",
       "</style>\n",
       "<table border=\"1\" class=\"dataframe\">\n",
       "  <thead>\n",
       "    <tr style=\"text-align: right;\">\n",
       "      <th></th>\n",
       "      <th>KD (M)</th>\n",
       "      <th>binding_metric</th>\n",
       "      <th>-log(KD (M))</th>\n",
       "      <th>random</th>\n",
       "      <th>HCDR3 Edit Distance to Trastuzumab</th>\n",
       "      <th>Minimum HCDR3 Edit Distance to SAbDab</th>\n",
       "      <th>Minimum HCDR3 Edit Distance to OAS</th>\n",
       "      <th>Minimum HCDR123 Edit Distance to OAS</th>\n",
       "    </tr>\n",
       "  </thead>\n",
       "  <tbody>\n",
       "    <tr>\n",
       "      <th>count</th>\n",
       "      <td>4.220000e+02</td>\n",
       "      <td>422.000000</td>\n",
       "      <td>422.000000</td>\n",
       "      <td>422.000000</td>\n",
       "      <td>422.000000</td>\n",
       "      <td>422.000000</td>\n",
       "      <td>422.000000</td>\n",
       "      <td>422.000000</td>\n",
       "    </tr>\n",
       "    <tr>\n",
       "      <th>mean</th>\n",
       "      <td>3.692192e-10</td>\n",
       "      <td>70.818957</td>\n",
       "      <td>7.493341</td>\n",
       "      <td>4996.090047</td>\n",
       "      <td>8.132701</td>\n",
       "      <td>4.447867</td>\n",
       "      <td>1.902844</td>\n",
       "      <td>5.853081</td>\n",
       "    </tr>\n",
       "    <tr>\n",
       "      <th>std</th>\n",
       "      <td>2.456662e-10</td>\n",
       "      <td>118.561895</td>\n",
       "      <td>0.546926</td>\n",
       "      <td>2890.534307</td>\n",
       "      <td>1.899224</td>\n",
       "      <td>1.387382</td>\n",
       "      <td>1.082156</td>\n",
       "      <td>1.408231</td>\n",
       "    </tr>\n",
       "    <tr>\n",
       "      <th>min</th>\n",
       "      <td>9.400000e-11</td>\n",
       "      <td>0.940000</td>\n",
       "      <td>5.840000</td>\n",
       "      <td>47.000000</td>\n",
       "      <td>0.000000</td>\n",
       "      <td>0.000000</td>\n",
       "      <td>0.000000</td>\n",
       "      <td>0.000000</td>\n",
       "    </tr>\n",
       "    <tr>\n",
       "      <th>25%</th>\n",
       "      <td>1.663750e-10</td>\n",
       "      <td>13.442500</td>\n",
       "      <td>7.112500</td>\n",
       "      <td>2487.500000</td>\n",
       "      <td>7.000000</td>\n",
       "      <td>3.000000</td>\n",
       "      <td>1.000000</td>\n",
       "      <td>5.000000</td>\n",
       "    </tr>\n",
       "    <tr>\n",
       "      <th>50%</th>\n",
       "      <td>2.798000e-10</td>\n",
       "      <td>29.925000</td>\n",
       "      <td>7.525000</td>\n",
       "      <td>4978.000000</td>\n",
       "      <td>8.000000</td>\n",
       "      <td>4.000000</td>\n",
       "      <td>2.000000</td>\n",
       "      <td>6.000000</td>\n",
       "    </tr>\n",
       "    <tr>\n",
       "      <th>75%</th>\n",
       "      <td>5.113750e-10</td>\n",
       "      <td>77.365000</td>\n",
       "      <td>7.870000</td>\n",
       "      <td>7560.000000</td>\n",
       "      <td>10.000000</td>\n",
       "      <td>5.000000</td>\n",
       "      <td>3.000000</td>\n",
       "      <td>7.000000</td>\n",
       "    </tr>\n",
       "    <tr>\n",
       "      <th>max</th>\n",
       "      <td>9.910000e-10</td>\n",
       "      <td>1461.560000</td>\n",
       "      <td>9.030000</td>\n",
       "      <td>9994.000000</td>\n",
       "      <td>12.000000</td>\n",
       "      <td>8.000000</td>\n",
       "      <td>5.000000</td>\n",
       "      <td>10.000000</td>\n",
       "    </tr>\n",
       "  </tbody>\n",
       "</table>\n",
       "</div>"
      ],
      "text/plain": [
       "             KD (M)  binding_metric  -log(KD (M))       random  \\\n",
       "count  4.220000e+02      422.000000    422.000000   422.000000   \n",
       "mean   3.692192e-10       70.818957      7.493341  4996.090047   \n",
       "std    2.456662e-10      118.561895      0.546926  2890.534307   \n",
       "min    9.400000e-11        0.940000      5.840000    47.000000   \n",
       "25%    1.663750e-10       13.442500      7.112500  2487.500000   \n",
       "50%    2.798000e-10       29.925000      7.525000  4978.000000   \n",
       "75%    5.113750e-10       77.365000      7.870000  7560.000000   \n",
       "max    9.910000e-10     1461.560000      9.030000  9994.000000   \n",
       "\n",
       "       HCDR3 Edit Distance to Trastuzumab  \\\n",
       "count                          422.000000   \n",
       "mean                             8.132701   \n",
       "std                              1.899224   \n",
       "min                              0.000000   \n",
       "25%                              7.000000   \n",
       "50%                              8.000000   \n",
       "75%                             10.000000   \n",
       "max                             12.000000   \n",
       "\n",
       "       Minimum HCDR3 Edit Distance to SAbDab  \\\n",
       "count                             422.000000   \n",
       "mean                                4.447867   \n",
       "std                                 1.387382   \n",
       "min                                 0.000000   \n",
       "25%                                 3.000000   \n",
       "50%                                 4.000000   \n",
       "75%                                 5.000000   \n",
       "max                                 8.000000   \n",
       "\n",
       "       Minimum HCDR3 Edit Distance to OAS  \\\n",
       "count                          422.000000   \n",
       "mean                             1.902844   \n",
       "std                              1.082156   \n",
       "min                              0.000000   \n",
       "25%                              1.000000   \n",
       "50%                              2.000000   \n",
       "75%                              3.000000   \n",
       "max                              5.000000   \n",
       "\n",
       "       Minimum HCDR123 Edit Distance to OAS  \n",
       "count                            422.000000  \n",
       "mean                               5.853081  \n",
       "std                                1.408231  \n",
       "min                                0.000000  \n",
       "25%                                5.000000  \n",
       "50%                                6.000000  \n",
       "75%                                7.000000  \n",
       "max                               10.000000  "
      ]
     },
     "execution_count": 6,
     "metadata": {},
     "output_type": "execute_result"
    }
   ],
   "source": [
    "assay_data.describe()"
   ]
  },
  {
   "cell_type": "markdown",
   "id": "5458c423",
   "metadata": {},
   "source": [
    "## Controls Data"
   ]
  },
  {
   "cell_type": "code",
   "execution_count": 7,
   "id": "7ec6bedd",
   "metadata": {},
   "outputs": [
    {
     "name": "stdout",
     "output_type": "stream",
     "text": [
      "(1855, 5)\n"
     ]
    },
    {
     "data": {
      "text/html": [
       "<div>\n",
       "<style scoped>\n",
       "    .dataframe tbody tr th:only-of-type {\n",
       "        vertical-align: middle;\n",
       "    }\n",
       "\n",
       "    .dataframe tbody tr th {\n",
       "        vertical-align: top;\n",
       "    }\n",
       "\n",
       "    .dataframe thead th {\n",
       "        text-align: right;\n",
       "    }\n",
       "</style>\n",
       "<table border=\"1\" class=\"dataframe\">\n",
       "  <thead>\n",
       "    <tr style=\"text-align: right;\">\n",
       "      <th></th>\n",
       "      <th>HCDR1</th>\n",
       "      <th>HCDR2</th>\n",
       "      <th>HCDR3</th>\n",
       "      <th>KD (nM)</th>\n",
       "      <th>Binder</th>\n",
       "    </tr>\n",
       "  </thead>\n",
       "  <tbody>\n",
       "    <tr>\n",
       "      <th>877</th>\n",
       "      <td>GFNIKDTY</td>\n",
       "      <td>IYPTNGYT</td>\n",
       "      <td>YYSGGGGRWWDKY</td>\n",
       "      <td>NaN</td>\n",
       "      <td>False</td>\n",
       "    </tr>\n",
       "    <tr>\n",
       "      <th>787</th>\n",
       "      <td>GFNIKDTY</td>\n",
       "      <td>IYPTNGYT</td>\n",
       "      <td>AYRPVDGGGPP</td>\n",
       "      <td>NaN</td>\n",
       "      <td>False</td>\n",
       "    </tr>\n",
       "    <tr>\n",
       "      <th>1382</th>\n",
       "      <td>GFNIKDTY</td>\n",
       "      <td>IYPTNGYT</td>\n",
       "      <td>ARDGGYGSNTMDV</td>\n",
       "      <td>NaN</td>\n",
       "      <td>False</td>\n",
       "    </tr>\n",
       "    <tr>\n",
       "      <th>1094</th>\n",
       "      <td>GFNIKDTY</td>\n",
       "      <td>IYPTNGYT</td>\n",
       "      <td>ARRGEYSYDYGYG</td>\n",
       "      <td>NaN</td>\n",
       "      <td>False</td>\n",
       "    </tr>\n",
       "    <tr>\n",
       "      <th>341</th>\n",
       "      <td>GFNIKDTY</td>\n",
       "      <td>IYPTNGYT</td>\n",
       "      <td>VRYGNSYYYDY</td>\n",
       "      <td>26.88</td>\n",
       "      <td>True</td>\n",
       "    </tr>\n",
       "  </tbody>\n",
       "</table>\n",
       "</div>"
      ],
      "text/plain": [
       "         HCDR1     HCDR2          HCDR3  KD (nM)  Binder\n",
       "877   GFNIKDTY  IYPTNGYT  YYSGGGGRWWDKY      NaN   False\n",
       "787   GFNIKDTY  IYPTNGYT    AYRPVDGGGPP      NaN   False\n",
       "1382  GFNIKDTY  IYPTNGYT  ARDGGYGSNTMDV      NaN   False\n",
       "1094  GFNIKDTY  IYPTNGYT  ARRGEYSYDYGYG      NaN   False\n",
       "341   GFNIKDTY  IYPTNGYT    VRYGNSYYYDY    26.88    True"
      ]
     },
     "execution_count": 7,
     "metadata": {},
     "output_type": "execute_result"
    }
   ],
   "source": [
    "controls_data_path = os.path.join('data', 'protein', 'data', 'spr-controls.csv')\n",
    "\n",
    "controls_data = pd.read_csv(controls_data_path)\n",
    "\n",
    "print(controls_data.shape)\n",
    "\n",
    "controls_data.sample(5)"
   ]
  },
  {
   "cell_type": "markdown",
   "id": "d8482e09",
   "metadata": {},
   "source": [
    "We'll look for sequences with greater `log(KD)`, indicating greater binding. For our model, we'll ensemble several embeddings, from:\n",
    "\n",
    "  * ESM2\n",
    "  * ProstT5\n",
    "  * AbLang"
   ]
  },
  {
   "cell_type": "code",
   "execution_count": 8,
   "id": "4bbf0e99",
   "metadata": {},
   "outputs": [],
   "source": [
    "controls_data.rename(columns={'KD (nM)': 'binding_metric'}, inplace=True)"
   ]
  },
  {
   "cell_type": "code",
   "execution_count": 9,
   "id": "3db2cb5b",
   "metadata": {},
   "outputs": [
    {
     "data": {
      "text/html": [
       "<div>\n",
       "<style scoped>\n",
       "    .dataframe tbody tr th:only-of-type {\n",
       "        vertical-align: middle;\n",
       "    }\n",
       "\n",
       "    .dataframe tbody tr th {\n",
       "        vertical-align: top;\n",
       "    }\n",
       "\n",
       "    .dataframe thead th {\n",
       "        text-align: right;\n",
       "    }\n",
       "</style>\n",
       "<table border=\"1\" class=\"dataframe\">\n",
       "  <thead>\n",
       "    <tr style=\"text-align: right;\">\n",
       "      <th></th>\n",
       "      <th>binding_metric</th>\n",
       "    </tr>\n",
       "  </thead>\n",
       "  <tbody>\n",
       "    <tr>\n",
       "      <th>count</th>\n",
       "      <td>758.000000</td>\n",
       "    </tr>\n",
       "    <tr>\n",
       "      <th>mean</th>\n",
       "      <td>124.399406</td>\n",
       "    </tr>\n",
       "    <tr>\n",
       "      <th>std</th>\n",
       "      <td>274.815973</td>\n",
       "    </tr>\n",
       "    <tr>\n",
       "      <th>min</th>\n",
       "      <td>0.560000</td>\n",
       "    </tr>\n",
       "    <tr>\n",
       "      <th>25%</th>\n",
       "      <td>13.625000</td>\n",
       "    </tr>\n",
       "    <tr>\n",
       "      <th>50%</th>\n",
       "      <td>33.050000</td>\n",
       "    </tr>\n",
       "    <tr>\n",
       "      <th>75%</th>\n",
       "      <td>112.142500</td>\n",
       "    </tr>\n",
       "    <tr>\n",
       "      <th>max</th>\n",
       "      <td>2523.900000</td>\n",
       "    </tr>\n",
       "  </tbody>\n",
       "</table>\n",
       "</div>"
      ],
      "text/plain": [
       "       binding_metric\n",
       "count      758.000000\n",
       "mean       124.399406\n",
       "std        274.815973\n",
       "min          0.560000\n",
       "25%         13.625000\n",
       "50%         33.050000\n",
       "75%        112.142500\n",
       "max       2523.900000"
      ]
     },
     "execution_count": 9,
     "metadata": {},
     "output_type": "execute_result"
    }
   ],
   "source": [
    "controls_data.describe()"
   ]
  },
  {
   "cell_type": "code",
   "execution_count": 10,
   "id": "99e94928",
   "metadata": {},
   "outputs": [
    {
     "data": {
      "text/plain": [
       "GFNIKDTY    1706\n",
       "GFNISDYY      15\n",
       "GFNIKDSY      14\n",
       "GFNISDYW      11\n",
       "GFNIKDTW      10\n",
       "GFNVKDTY       9\n",
       "GFNIKDYY       8\n",
       "GFNIKDTS       8\n",
       "GFNISDTY       7\n",
       "GFNIKYTY       5\n",
       "GFNIKDYW       5\n",
       "GFNISSYW       4\n",
       "GFNISDYS       3\n",
       "GFNIKYSY       3\n",
       "GFNIKSTW       2\n",
       "GFNIKYYW       2\n",
       "GFNIKDYS       2\n",
       "GFNIKGSW       2\n",
       "GFNIKDNY       2\n",
       "GFNLKDTY       2\n",
       "GFNFKDTS       2\n",
       "GFNISSTY       2\n",
       "GFNIKDHS       2\n",
       "GFNIKSTY       2\n",
       "GFNISYYW       2\n",
       "GFNISDNW       1\n",
       "GFNISDNY       1\n",
       "GFNIKYSS       1\n",
       "GFNIKDHY       1\n",
       "GFNVSSSY       1\n",
       "GFNISYYS       1\n",
       "GFNIKSNY       1\n",
       "GFNVKDSY       1\n",
       "GFNFKDTY       1\n",
       "GFNVSDYW       1\n",
       "GFNIKDSS       1\n",
       "GFNIKDIY       1\n",
       "GFNIKDSW       1\n",
       "GFNVKGSY       1\n",
       "GFNISSYY       1\n",
       "GFNIKDFY       1\n",
       "GFNIKDTH       1\n",
       "GFNIYDTY       1\n",
       "GFNFSDTY       1\n",
       "GFNISDTW       1\n",
       "GFNIKGTY       1\n",
       "GFNIKDYA       1\n",
       "GFSIKDTY       1\n",
       "GFNISYYY       1\n",
       "GFNISDTS       1\n",
       "Name: HCDR1, dtype: int64"
      ]
     },
     "execution_count": 10,
     "metadata": {},
     "output_type": "execute_result"
    }
   ],
   "source": [
    "controls_data.HCDR1.value_counts()"
   ]
  },
  {
   "cell_type": "code",
   "execution_count": 11,
   "id": "a58c848d",
   "metadata": {},
   "outputs": [
    {
     "data": {
      "text/plain": [
       "IYPTNGYT    1615\n",
       "IYPANGYT      25\n",
       "IDPANGYT      22\n",
       "IYPSNGYT      19\n",
       "IYPTSGYT       8\n",
       "            ... \n",
       "IYPRYGNT       1\n",
       "ISPNSGST       1\n",
       "ISPASGTT       1\n",
       "IYSSNGST       1\n",
       "IYSSSGST       1\n",
       "Name: HCDR2, Length: 106, dtype: int64"
      ]
     },
     "execution_count": 11,
     "metadata": {},
     "output_type": "execute_result"
    }
   ],
   "source": [
    "controls_data.HCDR2.value_counts()"
   ]
  },
  {
   "cell_type": "code",
   "execution_count": 12,
   "id": "3b70420d",
   "metadata": {},
   "outputs": [
    {
     "data": {
      "text/plain": [
       "(758, 5)"
      ]
     },
     "execution_count": 12,
     "metadata": {},
     "output_type": "execute_result"
    }
   ],
   "source": [
    "controls_data.dropna().shape"
   ]
  },
  {
   "cell_type": "code",
   "execution_count": 13,
   "id": "742dfc67",
   "metadata": {},
   "outputs": [],
   "source": [
    "controls_data.dropna(inplace=True)"
   ]
  },
  {
   "cell_type": "markdown",
   "id": "ef5b8d09",
   "metadata": {},
   "source": [
    "# Create Full Sequences from Parent"
   ]
  },
  {
   "cell_type": "code",
   "execution_count": 14,
   "id": "b32bdbdf",
   "metadata": {},
   "outputs": [
    {
     "name": "stdout",
     "output_type": "stream",
     "text": [
      "96\n",
      "50\n",
      "25\n"
     ]
    },
    {
     "data": {
      "text/plain": [
       "120"
      ]
     },
     "execution_count": 14,
     "metadata": {},
     "output_type": "execute_result"
    }
   ],
   "source": [
    "trastuzumab = \"EVQLVESGGGLVQPGGSLRLSCAASGFNIKDTYIHWVRQAPGKGLEWVARIYPTNGYTRYADSVKGRFTISADTSKNTAYLQMNSLRAEDTAVYYCSRWGGDGFYAMDYWGQGTLVTVSS\"\n",
    "\n",
    "hcdr3 = \"SRWGGDGFYAMDY\"\n",
    "hcdr2 = \"IYPTNGYT\"\n",
    "hcdr1 = \"GFNIKDTY\"\n",
    "\n",
    "print(trastuzumab.find(hcdr3))\n",
    "print(trastuzumab.find(hcdr2))\n",
    "print(trastuzumab.find(hcdr1))\n",
    "\n",
    "len(trastuzumab)"
   ]
  },
  {
   "cell_type": "code",
   "execution_count": 15,
   "id": "c383b2d2",
   "metadata": {},
   "outputs": [
    {
     "data": {
      "text/plain": [
       "0      118\n",
       "1      118\n",
       "2      119\n",
       "3      120\n",
       "4      119\n",
       "      ... \n",
       "417    119\n",
       "418    120\n",
       "419    120\n",
       "420    119\n",
       "421    120\n",
       "Name: full_sequence, Length: 422, dtype: int64"
      ]
     },
     "execution_count": 15,
     "metadata": {},
     "output_type": "execute_result"
    }
   ],
   "source": [
    "replace_cdr3 = lambda x: trastuzumab.replace(hcdr3, x)\n",
    "\n",
    "assay_data['full_sequence'] = assay_data['sequence'].apply(replace_cdr3)\n",
    "\n",
    "assay_data.full_sequence.apply(len)"
   ]
  },
  {
   "cell_type": "code",
   "execution_count": 16,
   "id": "54480840",
   "metadata": {},
   "outputs": [
    {
     "data": {
      "text/html": [
       "<div>\n",
       "<style scoped>\n",
       "    .dataframe tbody tr th:only-of-type {\n",
       "        vertical-align: middle;\n",
       "    }\n",
       "\n",
       "    .dataframe tbody tr th {\n",
       "        vertical-align: top;\n",
       "    }\n",
       "\n",
       "    .dataframe thead th {\n",
       "        text-align: right;\n",
       "    }\n",
       "</style>\n",
       "<table border=\"1\" class=\"dataframe\">\n",
       "  <thead>\n",
       "    <tr style=\"text-align: right;\">\n",
       "      <th></th>\n",
       "      <th>sequence</th>\n",
       "      <th>KD (M)</th>\n",
       "      <th>binding_metric</th>\n",
       "      <th>-log(KD (M))</th>\n",
       "      <th>label</th>\n",
       "      <th>random</th>\n",
       "      <th>set</th>\n",
       "      <th>HCDR3 Edit Distance to Trastuzumab</th>\n",
       "      <th>Minimum HCDR3 Edit Distance to SAbDab</th>\n",
       "      <th>Minimum HCDR3 Edit Distance to OAS</th>\n",
       "      <th>Minimum HCDR123 Edit Distance to OAS</th>\n",
       "      <th>full_sequence</th>\n",
       "    </tr>\n",
       "  </thead>\n",
       "  <tbody>\n",
       "    <tr>\n",
       "      <th>348</th>\n",
       "      <td>ARYGDSYYYYFDY</td>\n",
       "      <td>4.060000e-10</td>\n",
       "      <td>40.60</td>\n",
       "      <td>7.39</td>\n",
       "      <td>_weak</td>\n",
       "      <td>7770</td>\n",
       "      <td>train</td>\n",
       "      <td>8</td>\n",
       "      <td>3</td>\n",
       "      <td>1</td>\n",
       "      <td>5</td>\n",
       "      <td>EVQLVESGGGLVQPGGSLRLSCAASGFNIKDTYIHWVRQAPGKGLE...</td>\n",
       "    </tr>\n",
       "    <tr>\n",
       "      <th>110</th>\n",
       "      <td>ARYPDYYYAMDY</td>\n",
       "      <td>1.172600e-10</td>\n",
       "      <td>117.26</td>\n",
       "      <td>6.93</td>\n",
       "      <td>_weak</td>\n",
       "      <td>1732</td>\n",
       "      <td>train</td>\n",
       "      <td>6</td>\n",
       "      <td>2</td>\n",
       "      <td>0</td>\n",
       "      <td>4</td>\n",
       "      <td>EVQLVESGGGLVQPGGSLRLSCAASGFNIKDTYIHWVRQAPGKGLE...</td>\n",
       "    </tr>\n",
       "    <tr>\n",
       "      <th>4</th>\n",
       "      <td>ARYGYGYYYMDY</td>\n",
       "      <td>1.222000e-10</td>\n",
       "      <td>12.22</td>\n",
       "      <td>7.91</td>\n",
       "      <td>_weak</td>\n",
       "      <td>4016</td>\n",
       "      <td>validation</td>\n",
       "      <td>6</td>\n",
       "      <td>3</td>\n",
       "      <td>1</td>\n",
       "      <td>4</td>\n",
       "      <td>EVQLVESGGGLVQPGGSLRLSCAASGFNIKDTYIHWVRQAPGKGLE...</td>\n",
       "    </tr>\n",
       "  </tbody>\n",
       "</table>\n",
       "</div>"
      ],
      "text/plain": [
       "          sequence        KD (M)  binding_metric  -log(KD (M))  label  random  \\\n",
       "348  ARYGDSYYYYFDY  4.060000e-10           40.60          7.39  _weak    7770   \n",
       "110   ARYPDYYYAMDY  1.172600e-10          117.26          6.93  _weak    1732   \n",
       "4     ARYGYGYYYMDY  1.222000e-10           12.22          7.91  _weak    4016   \n",
       "\n",
       "            set  HCDR3 Edit Distance to Trastuzumab  \\\n",
       "348       train                                   8   \n",
       "110       train                                   6   \n",
       "4    validation                                   6   \n",
       "\n",
       "     Minimum HCDR3 Edit Distance to SAbDab  \\\n",
       "348                                      3   \n",
       "110                                      2   \n",
       "4                                        3   \n",
       "\n",
       "     Minimum HCDR3 Edit Distance to OAS  Minimum HCDR123 Edit Distance to OAS  \\\n",
       "348                                   1                                     5   \n",
       "110                                   0                                     4   \n",
       "4                                     1                                     4   \n",
       "\n",
       "                                         full_sequence  \n",
       "348  EVQLVESGGGLVQPGGSLRLSCAASGFNIKDTYIHWVRQAPGKGLE...  \n",
       "110  EVQLVESGGGLVQPGGSLRLSCAASGFNIKDTYIHWVRQAPGKGLE...  \n",
       "4    EVQLVESGGGLVQPGGSLRLSCAASGFNIKDTYIHWVRQAPGKGLE...  "
      ]
     },
     "execution_count": 16,
     "metadata": {},
     "output_type": "execute_result"
    }
   ],
   "source": [
    "assay_data.sample(3)"
   ]
  },
  {
   "cell_type": "code",
   "execution_count": 17,
   "id": "82b39c9c",
   "metadata": {},
   "outputs": [],
   "source": [
    "replace_cdr123 = lambda x, y, z: trastuzumab.replace(hcdr3, x).replace(hcdr2, y).replace(hcdr3, z)\n",
    "\n",
    "controls_data['full_sequence'] = [replace_cdr123(r.HCDR3, r.HCDR2, r.HCDR1) for r in controls_data.itertuples()]"
   ]
  },
  {
   "cell_type": "code",
   "execution_count": 18,
   "id": "db31bd01",
   "metadata": {},
   "outputs": [
    {
     "data": {
      "text/html": [
       "<div>\n",
       "<style scoped>\n",
       "    .dataframe tbody tr th:only-of-type {\n",
       "        vertical-align: middle;\n",
       "    }\n",
       "\n",
       "    .dataframe tbody tr th {\n",
       "        vertical-align: top;\n",
       "    }\n",
       "\n",
       "    .dataframe thead th {\n",
       "        text-align: right;\n",
       "    }\n",
       "</style>\n",
       "<table border=\"1\" class=\"dataframe\">\n",
       "  <thead>\n",
       "    <tr style=\"text-align: right;\">\n",
       "      <th></th>\n",
       "      <th>HCDR1</th>\n",
       "      <th>HCDR2</th>\n",
       "      <th>HCDR3</th>\n",
       "      <th>binding_metric</th>\n",
       "      <th>Binder</th>\n",
       "      <th>full_sequence</th>\n",
       "    </tr>\n",
       "  </thead>\n",
       "  <tbody>\n",
       "    <tr>\n",
       "      <th>279</th>\n",
       "      <td>GFNIKDTY</td>\n",
       "      <td>IYPTNGYT</td>\n",
       "      <td>ARWGYGYSYYFDV</td>\n",
       "      <td>21.10</td>\n",
       "      <td>True</td>\n",
       "      <td>EVQLVESGGGLVQPGGSLRLSCAASGFNIKDTYIHWVRQAPGKGLE...</td>\n",
       "    </tr>\n",
       "    <tr>\n",
       "      <th>327</th>\n",
       "      <td>GFNIKDTY</td>\n",
       "      <td>IYPTNGYT</td>\n",
       "      <td>ARYSAYGLYDFAY</td>\n",
       "      <td>25.50</td>\n",
       "      <td>True</td>\n",
       "      <td>EVQLVESGGGLVQPGGSLRLSCAASGFNIKDTYIHWVRQAPGKGLE...</td>\n",
       "    </tr>\n",
       "    <tr>\n",
       "      <th>636</th>\n",
       "      <td>GFNIKDTY</td>\n",
       "      <td>IYPTNGYT</td>\n",
       "      <td>AQYGRGGYWYFDY</td>\n",
       "      <td>188.46</td>\n",
       "      <td>True</td>\n",
       "      <td>EVQLVESGGGLVQPGGSLRLSCAASGFNIKDTYIHWVRQAPGKGLE...</td>\n",
       "    </tr>\n",
       "  </tbody>\n",
       "</table>\n",
       "</div>"
      ],
      "text/plain": [
       "        HCDR1     HCDR2          HCDR3  binding_metric  Binder  \\\n",
       "279  GFNIKDTY  IYPTNGYT  ARWGYGYSYYFDV           21.10    True   \n",
       "327  GFNIKDTY  IYPTNGYT  ARYSAYGLYDFAY           25.50    True   \n",
       "636  GFNIKDTY  IYPTNGYT  AQYGRGGYWYFDY          188.46    True   \n",
       "\n",
       "                                         full_sequence  \n",
       "279  EVQLVESGGGLVQPGGSLRLSCAASGFNIKDTYIHWVRQAPGKGLE...  \n",
       "327  EVQLVESGGGLVQPGGSLRLSCAASGFNIKDTYIHWVRQAPGKGLE...  \n",
       "636  EVQLVESGGGLVQPGGSLRLSCAASGFNIKDTYIHWVRQAPGKGLE...  "
      ]
     },
     "execution_count": 18,
     "metadata": {},
     "output_type": "execute_result"
    }
   ],
   "source": [
    "controls_data.sample(3)"
   ]
  },
  {
   "cell_type": "code",
   "execution_count": 19,
   "id": "4e717fb0",
   "metadata": {},
   "outputs": [
    {
     "data": {
      "text/plain": [
       "0      120\n",
       "1      119\n",
       "2      119\n",
       "3      120\n",
       "4      120\n",
       "      ... \n",
       "753    120\n",
       "754    120\n",
       "755    120\n",
       "756    120\n",
       "757    120\n",
       "Name: full_sequence, Length: 758, dtype: int64"
      ]
     },
     "execution_count": 19,
     "metadata": {},
     "output_type": "execute_result"
    }
   ],
   "source": [
    "controls_data.full_sequence.apply(len)"
   ]
  },
  {
   "cell_type": "markdown",
   "id": "d131e133",
   "metadata": {},
   "source": [
    "Let's get our embeddings with a function. We'll use the BioLM APIs to quickly get these metrics."
   ]
  },
  {
   "cell_type": "code",
   "execution_count": 20,
   "id": "643704ab",
   "metadata": {},
   "outputs": [],
   "source": [
    "def get_esm2_embeddings(seq):\n",
    "    url = \"https://biolm.ai/api/v2/esm2-650m/encode/\"\n",
    "\n",
    "    payload = json.dumps({\n",
    "      \"items\": [\n",
    "        {\n",
    "          \"sequence\": seq\n",
    "        }\n",
    "      ]\n",
    "    })\n",
    "    headers = {\n",
    "      'Authorization': f'Token {BIOLMAI_TOKEN}',\n",
    "      'Content-Type': 'application/json'\n",
    "    }\n",
    "\n",
    "    response = requests.request(\"POST\", url, headers=headers, data=payload)\n",
    "\n",
    "    return response.json()\n",
    "\n",
    "\n",
    "def get_prostt5_embeddings(seq):\n",
    "    url = \"https://biolm.ai/api/v2/prostt5-aa2fold/encode/\"\n",
    "\n",
    "    payload = json.dumps({\n",
    "        \"items\": [\n",
    "            {\n",
    "                \"sequence\": seq\n",
    "            }\n",
    "        ]\n",
    "    })\n",
    "    headers = {\n",
    "      'Authorization': f'Token {BIOLMAI_TOKEN}',\n",
    "      'Content-Type': 'application/json'\n",
    "    }\n",
    "\n",
    "    response = requests.request(\"POST\", url, headers=headers, data=payload)\n",
    "\n",
    "    return response.json()\n",
    "\n",
    "\n",
    "def get_ablang_embeddings(seq):\n",
    "    url = \"https://biolm.ai/api/v2/ablang-heavy/encode/\"\n",
    "\n",
    "    payload = json.dumps({\n",
    "        \"items\": [\n",
    "            {\n",
    "                \"sequence\": seq\n",
    "            }\n",
    "        ],\n",
    "        \"params\": {\n",
    "            \"include\": \"seqcoding\",\n",
    "            \"align\": False\n",
    "        }\n",
    "    })\n",
    "    headers = {\n",
    "      'Authorization': f'Token {BIOLMAI_TOKEN}',\n",
    "      'Content-Type': 'application/json'\n",
    "    }\n",
    "\n",
    "    response = requests.request(\"POST\", url, headers=headers, data=payload)\n",
    "\n",
    "    return response.json()\n",
    "\n",
    "\n",
    "def get_ablang_embeddings_from_package(seq):\n",
    "    res = heavy_ablang([seq, ], mode='restore')\n",
    "    return res[0]"
   ]
  },
  {
   "cell_type": "code",
   "execution_count": 21,
   "id": "c1b89ef7",
   "metadata": {},
   "outputs": [],
   "source": [
    "esm2_embeddings = assay_data.full_sequence.apply(get_esm2_embeddings)"
   ]
  },
  {
   "cell_type": "code",
   "execution_count": 22,
   "id": "2955b452",
   "metadata": {},
   "outputs": [],
   "source": [
    "prostt5_embeddings = assay_data.full_sequence.apply(get_prostt5_embeddings)"
   ]
  },
  {
   "cell_type": "code",
   "execution_count": 23,
   "id": "bde29f3d",
   "metadata": {},
   "outputs": [],
   "source": [
    "ablang_embeddings = assay_data.full_sequence.apply(get_ablang_embeddings)"
   ]
  },
  {
   "cell_type": "code",
   "execution_count": 24,
   "id": "0f684d99",
   "metadata": {},
   "outputs": [
    {
     "data": {
      "text/plain": [
       "0    {'results': [{'seqcoding': [-0.439630721970974...\n",
       "1    {'results': [{'seqcoding': [-0.204390575734393...\n",
       "2    {'results': [{'seqcoding': [-0.209940960307942...\n",
       "3    {'results': [{'seqcoding': [-0.297012925993961...\n",
       "4    {'results': [{'seqcoding': [-0.423595381223698...\n",
       "Name: full_sequence, dtype: object"
      ]
     },
     "execution_count": 24,
     "metadata": {},
     "output_type": "execute_result"
    }
   ],
   "source": [
    "ablang_embeddings.iloc[0:5]"
   ]
  },
  {
   "cell_type": "markdown",
   "id": "05726875",
   "metadata": {},
   "source": [
    "Also do this for the control sequences:"
   ]
  },
  {
   "cell_type": "code",
   "execution_count": null,
   "id": "9a6cb756",
   "metadata": {},
   "outputs": [],
   "source": [
    "controls_esm2_embeddings = controls_data.full_sequence.apply(get_esm2_embeddings)"
   ]
  },
  {
   "cell_type": "code",
   "execution_count": null,
   "id": "da6407d5",
   "metadata": {},
   "outputs": [],
   "source": [
    "controls_prostt5_embeddings = controls_data.full_sequence.apply(get_prostt5_embeddings)"
   ]
  },
  {
   "cell_type": "code",
   "execution_count": null,
   "id": "e1aad1df",
   "metadata": {},
   "outputs": [],
   "source": [
    "ablang_embeddings_temp = controls_data.full_sequence.apply(get_ablang_embeddings)"
   ]
  },
  {
   "cell_type": "code",
   "execution_count": null,
   "id": "0eea8652",
   "metadata": {},
   "outputs": [],
   "source": [
    "controls_ablang_embeddings = ablang_embeddings_temp"
   ]
  },
  {
   "cell_type": "markdown",
   "id": "fa429856",
   "metadata": {},
   "source": [
    "Let's double check the results:"
   ]
  },
  {
   "cell_type": "code",
   "execution_count": null,
   "id": "3c89c9cb",
   "metadata": {},
   "outputs": [],
   "source": [
    "esm2_embeddings[0]"
   ]
  },
  {
   "cell_type": "code",
   "execution_count": null,
   "id": "7a328648",
   "metadata": {},
   "outputs": [],
   "source": [
    "prostt5_embeddings[0]"
   ]
  },
  {
   "cell_type": "code",
   "execution_count": null,
   "id": "95fa5089",
   "metadata": {},
   "outputs": [],
   "source": [
    "ablang_embeddings[0]"
   ]
  },
  {
   "cell_type": "markdown",
   "id": "24439969",
   "metadata": {},
   "source": [
    "Concatente the results:"
   ]
  },
  {
   "cell_type": "code",
   "execution_count": null,
   "id": "7bbf75e2",
   "metadata": {},
   "outputs": [],
   "source": [
    "concat_esm2_embeddings = esm2_embeddings.to_list() + controls_esm2_embeddings.to_list()\n",
    "concat_prostt5_embeddings = prostt5_embeddings.to_list() + controls_prostt5_embeddings.to_list()\n",
    "concat_ablang_embeddings = ablang_embeddings.to_list() + controls_ablang_embeddings.to_list()"
   ]
  },
  {
   "cell_type": "code",
   "execution_count": null,
   "id": "c62b89a7",
   "metadata": {},
   "outputs": [],
   "source": [
    "print(len(concat_esm2_embeddings))\n",
    "print(len(concat_prostt5_embeddings))\n",
    "print(len(concat_ablang_embeddings))"
   ]
  },
  {
   "cell_type": "code",
   "execution_count": null,
   "id": "88ea5134",
   "metadata": {},
   "outputs": [],
   "source": [
    "seqs_df = pd.concat([\n",
    "    assay_data.reindex(['full_sequence'], axis=1),\n",
    "    controls_data.reindex(['full_sequence'], axis=1)],\n",
    "    axis=0\n",
    ")"
   ]
  },
  {
   "cell_type": "code",
   "execution_count": null,
   "id": "f2f67f7c",
   "metadata": {},
   "outputs": [],
   "source": [
    "seqs_df"
   ]
  },
  {
   "cell_type": "code",
   "execution_count": null,
   "id": "3dcd7ebe",
   "metadata": {},
   "outputs": [],
   "source": [
    "ml_df = pd.concat([\n",
    "    pd.DataFrame({'esm2_embeddings': [\n",
    "        r['results'][0]['mean_representations']['33'] for r in concat_esm2_embeddings\n",
    "        ]}\n",
    "    ),\n",
    "    pd.DataFrame({'prostt5_embeddings': [\n",
    "        r['results'][0]['mean_representation'] for r in concat_prostt5_embeddings\n",
    "        ]}\n",
    "    ),\n",
    "        pd.DataFrame({'ablang_embeddings': [\n",
    "        r['results'][0]['seqcoding'] for r in concat_ablang_embeddings\n",
    "    ]})],\n",
    "    axis=1\n",
    ")"
   ]
  },
  {
   "cell_type": "code",
   "execution_count": null,
   "id": "48a7918f",
   "metadata": {},
   "outputs": [],
   "source": [
    "df = pd.concat([seqs_df.reset_index(drop=True), ml_df.reset_index(drop=True)], axis=1)\n",
    "\n",
    "df"
   ]
  },
  {
   "cell_type": "code",
   "execution_count": null,
   "id": "725bc9a2",
   "metadata": {},
   "outputs": [],
   "source": [
    "df['binding_metric'] = assay_data['binding_metric'].to_list() + controls_data['binding_metric'].to_list()"
   ]
  },
  {
   "cell_type": "markdown",
   "id": "2e9061f6",
   "metadata": {},
   "source": [
    "Unpack the embeddings to columns:"
   ]
  },
  {
   "cell_type": "code",
   "execution_count": null,
   "id": "d0fa26a9",
   "metadata": {},
   "outputs": [],
   "source": [
    "df[[f'ESM{i}' for i in range(len(df.esm2_embeddings[0]))]] = pd.DataFrame(df.esm2_embeddings.tolist(), index=df.index)"
   ]
  },
  {
   "cell_type": "code",
   "execution_count": null,
   "id": "9577abb3",
   "metadata": {},
   "outputs": [],
   "source": [
    "df[[f'PT5{i}' for i in range(len(df.prostt5_embeddings[0]))]] = pd.DataFrame(df.prostt5_embeddings.tolist(), index=df.index)"
   ]
  },
  {
   "cell_type": "code",
   "execution_count": null,
   "id": "29f772fe",
   "metadata": {},
   "outputs": [],
   "source": [
    "df[[f'AB{i}' for i in range(len(df.ablang_embeddings[0]))]] = pd.DataFrame(df.ablang_embeddings.tolist(), index=df.index)"
   ]
  },
  {
   "cell_type": "code",
   "execution_count": null,
   "id": "2b024b47",
   "metadata": {},
   "outputs": [],
   "source": [
    "df"
   ]
  },
  {
   "cell_type": "code",
   "execution_count": null,
   "id": "9cf7074c",
   "metadata": {},
   "outputs": [],
   "source": [
    "df = df.sample(df.shape[0], replace=False)"
   ]
  },
  {
   "cell_type": "code",
   "execution_count": null,
   "id": "e3c4fdba",
   "metadata": {},
   "outputs": [],
   "source": [
    "X, y = df.iloc[:, 5:], df.iloc[:, 4] \n",
    "\n",
    "X"
   ]
  },
  {
   "cell_type": "code",
   "execution_count": null,
   "id": "e9a56c93",
   "metadata": {},
   "outputs": [],
   "source": [
    "y"
   ]
  },
  {
   "cell_type": "code",
   "execution_count": null,
   "id": "82f6d3b3",
   "metadata": {},
   "outputs": [],
   "source": [
    "# Splitting \n",
    "train_X, test_X, train_y, test_y = train_test_split(X, y, \n",
    "                      test_size=0.18, random_state=40)\n"
   ]
  },
  {
   "cell_type": "code",
   "execution_count": null,
   "id": "29d284d4",
   "metadata": {},
   "outputs": [],
   "source": [
    "print(train_X.shape)\n",
    "print(test_X.shape)"
   ]
  },
  {
   "cell_type": "code",
   "execution_count": null,
   "id": "b264d766",
   "metadata": {},
   "outputs": [],
   "source": [
    "# Instantiation \n",
    "xgb_r = xgb.XGBRegressor(objective ='reg:squarederror', \n",
    "                  n_estimators=10, seed=123)"
   ]
  },
  {
   "cell_type": "code",
   "execution_count": null,
   "id": "42b9db0d",
   "metadata": {},
   "outputs": [],
   "source": [
    "# Fitting the model \n",
    "xgb_r.fit(train_X, train_y) \n",
    "  \n",
    "# Predict the model \n",
    "pred = xgb_r.predict(test_X) \n",
    "  \n",
    "# RMSE Computation \n",
    "RMSLE = np.sqrt( mean_squared_log_error(test_y, pred) )\n",
    "print(\"The RMSLE is %.5f\" % RMSLE )\n",
    "\n",
    "# RMSLE Computation \n",
    "rmse = np.sqrt(MSE(test_y, pred)) \n",
    "print(\"RMSE : % f\" %(rmse)) "
   ]
  },
  {
   "cell_type": "code",
   "execution_count": null,
   "id": "ffefd576",
   "metadata": {},
   "outputs": [],
   "source": [
    "regressor=xgb.XGBRegressor(objective='reg:squarederror', subsample=0.95,\n",
    "                           colsample_bytree=0.95)\n",
    "\n",
    "#=========================================================================\n",
    "# exhaustively search for the optimal hyperparameters\n",
    "#=========================================================================\n",
    "\n",
    "\n",
    "# set up our search grid\n",
    "\n",
    "param_grid = {\"max_depth\":    [8, 32, 48, 96],\n",
    "              \"n_estimators\": [100, 200, 300, 500],\n",
    "              \"learning_rate\": [0.2, 0.35, 0.5, 0.65],\n",
    "              \"lambda\": [1, 10, 100, 250],\n",
    "              \"alpha\": [0, 1, 50, 150]}\n",
    "\n",
    "# try out every combination of the above values\n",
    "search = GridSearchCV(regressor, param_grid, cv=3, verbose=3, scoring='neg_root_mean_squared_error').fit(train_X, train_y)\n",
    "\n",
    "print(\"The best hyperparameters are \", search.best_params_)"
   ]
  },
  {
   "cell_type": "code",
   "execution_count": null,
   "id": "15e4a3dc",
   "metadata": {},
   "outputs": [],
   "source": [
    "regressor=xgb.XGBRegressor(learning_rate = search.best_params_[\"learning_rate\"],\n",
    "                           n_estimators  = search.best_params_[\"n_estimators\"],\n",
    "                           max_depth     = search.best_params_[\"max_depth\"],\n",
    "                           eval_metric='rmsle',\n",
    "                           subsample=0.90,\n",
    "                           colsample_bytree=0.70)\n",
    "\n",
    "regressor.fit(train_X, train_y)\n",
    "\n",
    "#=========================================================================\n",
    "# To use early_stopping_rounds: \n",
    "# \"Validation metric needs to improve at least once in every \n",
    "# early_stopping_rounds round(s) to continue training.\"\n",
    "#=========================================================================\n",
    "# first perform a test/train split \n",
    "#from sklearn.model_selection import train_test_split\n",
    "\n",
    "#X_train,X_test,y_train,y_test = train_test_split(X_train,y_train, test_size = 0.2)\n",
    "#regressor.fit(X_train, y_train, early_stopping_rounds=6, eval_set=[(X_test, y_test)], verbose=False)\n",
    "\n",
    "#=========================================================================\n",
    "# use the model to predict the prices for the test data\n",
    "#=========================================================================\n",
    "\n",
    "predictions = regressor.predict(test_X)"
   ]
  },
  {
   "cell_type": "code",
   "execution_count": null,
   "id": "2242211a",
   "metadata": {},
   "outputs": [],
   "source": [
    "y_true = test_y\n",
    "\n",
    "try:\n",
    "    RMSLE = np.sqrt(mean_squared_log_error(y_true, predictions) )\n",
    "    print(\"The RMSLE is %.5f\" % RMSLE )\n",
    "except Exception as e:\n",
    "    if 'targets contain negative values' in str(e):\n",
    "        pass\n",
    "    else:\n",
    "        raise e\n",
    "\n",
    "# RMSLE Computation \n",
    "rmse = np.sqrt(MSE(test_y, pred)) \n",
    "print(\"RMSE : % f\" %(rmse)) "
   ]
  },
  {
   "cell_type": "markdown",
   "id": "b3dcfc97",
   "metadata": {},
   "source": [
    "## Plot Predicted vs. Actual"
   ]
  },
  {
   "cell_type": "code",
   "execution_count": null,
   "id": "f74be35c",
   "metadata": {},
   "outputs": [],
   "source": [
    "plt.figure(figsize=(10,10))\n",
    "plt.scatter(test_y, predictions, c='crimson')\n",
    "plt.yscale('log')\n",
    "plt.xscale('log')\n",
    "\n",
    "p1 = max(max(predictions), max(test_y))\n",
    "p2 = min(min(predictions), min(test_y))\n",
    "plt.plot([p1, p2], [p1, p2], 'b-')\n",
    "plt.xlabel('True Values', fontsize=15)\n",
    "plt.ylabel('Predictions', fontsize=15)\n",
    "plt.axis('equal')\n",
    "plt.show()"
   ]
  },
  {
   "cell_type": "code",
   "execution_count": null,
   "id": "8666c540",
   "metadata": {},
   "outputs": [],
   "source": [
    "train_X"
   ]
  },
  {
   "cell_type": "code",
   "execution_count": null,
   "id": "2efca621",
   "metadata": {},
   "outputs": [],
   "source": [
    "pd.DataFrame({'test_y': test_y, 'pred_y': predictions})"
   ]
  },
  {
   "cell_type": "code",
   "execution_count": null,
   "id": "11fa865a",
   "metadata": {},
   "outputs": [],
   "source": [
    "plt.figure(figsize=(10,10))\n",
    "plt.scatter(test_y, predictions, c='crimson')\n",
    "#plt.yscale('log')\n",
    "#plt.xscale('log')\n",
    "\n",
    "p1 = max(max(predictions), max(test_y))\n",
    "p2 = min(min(predictions), min(test_y))\n",
    "plt.plot([p1, p2], [p1, p2], 'b-')\n",
    "plt.xlabel('True Values', fontsize=15)\n",
    "plt.ylabel('Predictions', fontsize=15)\n",
    "plt.axis('equal')\n",
    "plt.show()"
   ]
  },
  {
   "cell_type": "code",
   "execution_count": null,
   "id": "66220f09",
   "metadata": {},
   "outputs": [],
   "source": []
  }
 ],
 "metadata": {
  "kernelspec": {
   "display_name": "Python 3 (ipykernel)",
   "language": "python",
   "name": "python3"
  },
  "language_info": {
   "codemirror_mode": {
    "name": "ipython",
    "version": 3
   },
   "file_extension": ".py",
   "mimetype": "text/x-python",
   "name": "python",
   "nbconvert_exporter": "python",
   "pygments_lexer": "ipython3",
   "version": "3.10.13"
  }
 },
 "nbformat": 4,
 "nbformat_minor": 5
}
