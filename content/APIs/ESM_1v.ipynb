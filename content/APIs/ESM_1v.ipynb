{
 "cells": [
  {
   "cell_type": "markdown",
   "id": "8d1e11b2",
   "metadata": {},
   "source": [
    "<img style=\"float: left; padding-right: 10px; height: 60px\" src=\"https://d31e6ufxekikrt.cloudfront.net/static/ui/images/logo.png\">\n",
    "\n",
    "<br>\n",
    "<br>\n",
    "<br>\n",
    "\n",
    "# **ESM-1v API**\n",
    "\n",
    "Language model specialized for prediction of variant effects. Enables SOTA zero-shot prediction of the functional effects of sequence variations.<sup>*</sup>\n",
    "\n",
    "<br>\n",
    "\n",
    "<table style=\"width: 100%; border-collapse: collapse; background-color: white; float: left;\">\n",
    "    <tr>\n",
    "        <td style=\"text-align: left; vertical-align: middle; background-color: white;\">\n",
    "            <img src=\"https://www.svgrepo.com/show/354202/postman-icon.svg\" style=\"height: 20px; float: left; padding-right: 10px;\"><a href=\"https://api.biolm.ai/#54d3367a-b5d1-4f18-aa44-23ae3914a446\">  <h4 style=\"margin: 0;\"><b>Postman API Docs</b></h4></a>\n",
    "        </td>\n",
    "        <td style=\"text-align: left; vertical-align: middle; background-color: white;\">\n",
    "            <img src=\"https://upload.wikimedia.org/wikipedia/commons/thumb/c/c3/Python-logo-notext.svg/1869px-Python-logo-notext.svg.png\" style=\"height: 20px; float: left; padding-right: 10px;\"><a href=\"https://docs.biolm.ai/en/latest/model-docs/ESM-1v.html\"><h4 style=\"margin: 0;\"><b>Python SDK Docs</b></h4></a>\n",
    "        </td>\n",
    "        <td style=\"text-align: left; vertical-align: middle; background-color: white;\">\n",
    "            <img src=\"https://github.githubassets.com/assets/GitHub-Mark-ea2971cee799.png\" style=\"height: 20px; float: left; padding-right: 10px;\"><a href=\"https://github.com/facebookresearch/esm?tab=readme-ov-file#zs_variant\"><h4 style=\"margin: 0;\"><b><sup>*</sup>Github Link</b></h4></a>\n",
    "        </td>\n",
    "        <td style=\"text-align: left; vertical-align: middle; background-color: white;\">\n",
    "            <img src=\"https://info.arxiv.org/brand/images/brand-logomark-primary-large.jpg\" style=\"height: 20px; float: left; padding-right: 10px;\"><a href=\"https://www.biorxiv.org/content/10.1101/2021.07.09.450648v2.full.pdf\"><h4 style=\"margin: 0;\"><b>Paper Link</b></h4></a>\n",
    "        </td>\n",
    "    </tr>\n",
    "</table>\n",
    "\n",
    "<br>\n",
    "\n",
    "---"
   ]
  },
  {
   "cell_type": "markdown",
   "id": "6b7a87ff",
   "metadata": {},
   "source": [
    "## Get and set your API Token\n",
    "\n",
    "To use the BioLM API, you need an API token. You can get one from the [User API Tokens](https://biolm.ai/ui/accounts/user-api-tokens/) page.\n",
    "\n",
    "Paste the API token in the cell below, as the value of the variable `BIOLMAI_TOKEN`."
   ]
  },
  {
   "cell_type": "code",
   "execution_count": 1,
   "id": "047d4592",
   "metadata": {},
   "outputs": [],
   "source": [
    "BIOLMAI_TOKEN = \" \"  # !!! YOUR API TOKEN HERE !!!"
   ]
  },
  {
   "cell_type": "markdown",
   "id": "a2221bb3",
   "metadata": {},
   "source": [
    "."
   ]
  },
  {
   "cell_type": "markdown",
   "id": "0e37d82c",
   "metadata": {},
   "source": [
    "## API Call with Python requests"
   ]
  },
  {
   "cell_type": "code",
   "execution_count": 2,
   "id": "a98e00ce",
   "metadata": {
    "scrolled": true
   },
   "outputs": [
    {
     "name": "stdout",
     "output_type": "stream",
     "text": [
      "{'predictions': [[{'score': 0.10017549991607666, 'token': 4, 'token_str': 'L', 'sequence': 'Q E R L E U T G R L S L Y N I V A T'}, {'score': 0.0792141705751419, 'token': 8, 'token_str': 'S', 'sequence': 'Q E R L E U T G R S S L Y N I V A T'}, {'score': 0.0782080739736557, 'token': 10, 'token_str': 'R', 'sequence': 'Q E R L E U T G R R S L Y N I V A T'}, {'score': 0.06559190899133682, 'token': 12, 'token_str': 'I', 'sequence': 'Q E R L E U T G R I S L Y N I V A T'}, {'score': 0.06312490254640579, 'token': 15, 'token_str': 'K', 'sequence': 'Q E R L E U T G R K S L Y N I V A T'}, {'score': 0.06205378845334053, 'token': 7, 'token_str': 'V', 'sequence': 'Q E R L E U T G R V S L Y N I V A T'}, {'score': 0.05733203515410423, 'token': 5, 'token_str': 'A', 'sequence': 'Q E R L E U T G R A S L Y N I V A T'}, {'score': 0.056465033441782, 'token': 6, 'token_str': 'G', 'sequence': 'Q E R L E U T G R G S L Y N I V A T'}, {'score': 0.05609249323606491, 'token': 11, 'token_str': 'T', 'sequence': 'Q E R L E U T G R T S L Y N I V A T'}, {'score': 0.05099004507064819, 'token': 9, 'token_str': 'E', 'sequence': 'Q E R L E U T G R E S L Y N I V A T'}, {'score': 0.04619293287396431, 'token': 18, 'token_str': 'F', 'sequence': 'Q E R L E U T G R F S L Y N I V A T'}, {'score': 0.04433560371398926, 'token': 17, 'token_str': 'N', 'sequence': 'Q E R L E U T G R N S L Y N I V A T'}, {'score': 0.04093833640217781, 'token': 13, 'token_str': 'D', 'sequence': 'Q E R L E U T G R D S L Y N I V A T'}, {'score': 0.03970066457986832, 'token': 16, 'token_str': 'Q', 'sequence': 'Q E R L E U T G R Q S L Y N I V A T'}, {'score': 0.037681400775909424, 'token': 14, 'token_str': 'P', 'sequence': 'Q E R L E U T G R P S L Y N I V A T'}, {'score': 0.034206926822662354, 'token': 19, 'token_str': 'Y', 'sequence': 'Q E R L E U T G R Y S L Y N I V A T'}, {'score': 0.027757391333580017, 'token': 21, 'token_str': 'H', 'sequence': 'Q E R L E U T G R H S L Y N I V A T'}, {'score': 0.022717339918017387, 'token': 23, 'token_str': 'C', 'sequence': 'Q E R L E U T G R C S L Y N I V A T'}, {'score': 0.020967165008187294, 'token': 20, 'token_str': 'M', 'sequence': 'Q E R L E U T G R M S L Y N I V A T'}, {'score': 0.01537598017603159, 'token': 22, 'token_str': 'W', 'sequence': 'Q E R L E U T G R W S L Y N I V A T'}]]}\n"
     ]
    }
   ],
   "source": [
    "import requests\n",
    "\n",
    "url = \"https://biolm.ai/api/v1/models/esm1v_t33_650M_UR90S_1/predict/\"\n",
    "\n",
    "headers = {\n",
    "    \"Content-Type\": \"application/json\",\n",
    "    \"Authorization\": f\"Token {BIOLMAI_TOKEN}\",\n",
    "}\n",
    "\n",
    "data = {\n",
    "    \"instances\": [\n",
    "        {\n",
    "            \"data\": {\n",
    "                \"text\": \"QERLEUTGR<mask>SLYNIVAT\",\n",
    "            },\n",
    "        },\n",
    "    ],\n",
    "}\n",
    "\n",
    "response = requests.post(\n",
    "    url=url,\n",
    "    headers=headers,\n",
    "    json=data,\n",
    ")\n",
    "\n",
    "if response.status_code == 200:\n",
    "    print(response.json())\n"
   ]
  },
  {
   "cell_type": "code",
   "execution_count": null,
   "id": "400124ff",
   "metadata": {},
   "outputs": [],
   "source": []
  },
  {
   "cell_type": "markdown",
   "id": "a04f63cb",
   "metadata": {},
   "source": [
    "### See more examples, use-cases, and APIs on your [BioLM Console Catalog](https://biolm.ai/console/catalog/).\n",
    "<br>\n",
    "\n",
    "#### BioLM hosts deep learning models and runs inference at scale. You do the science.\n",
    "<br>\n",
    "\n",
    "#### Let us help model your data. We offers professional services in these domains, and more:\n",
    "<br>\n",
    "\n",
    "#### <img src=\"https://d31e6ufxekikrt.cloudfront.net/static/ui/images/console-overview/enzyme_engineering_icon.png\"  style=\"height: 40px; float: left; padding-right: 10px;\"> Enzyme Engineering\n",
    "<br>\n",
    "\n",
    "#### <img src=\"https://d31e6ufxekikrt.cloudfront.net/static/ui/images/console-overview/antibody_engineering_icon.png\"  style=\"height: 40px; float: left; padding-right: 10px;\"> Antibody Engineering\n",
    "<br>\n",
    "\n",
    "#### <img src=\"https://d31e6ufxekikrt.cloudfront.net/static/ui/images/console-overview/biosecurity_icon.png\"  style=\"height: 40px; float: left; padding-right: 10px;\"> Biosecurity\n",
    "<br>\n",
    "\n",
    "#### <img src=\"https://d31e6ufxekikrt.cloudfront.net/static/ui/images/console-overview/single_cell_genomics_icon.png\"  style=\"height: 40px; float: left; padding-right: 10px;\"> Single-Cell Genomics\n",
    "<br>\n",
    "\n",
    "#### <img src=\"https://d31e6ufxekikrt.cloudfront.net/static/ui/images/console-overview/dna_seq_modeling_icon.png\"  style=\"height: 40px; float: left; padding-right: 10px;\"> DNA Sequence Modelling\n",
    "<br>\n",
    "\n",
    "### [**Contact us**](https://biolm.ai/console/support/) to learn more.\n"
   ]
  },
  {
   "cell_type": "code",
   "execution_count": null,
   "id": "48ce8513",
   "metadata": {},
   "outputs": [],
   "source": []
  }
 ],
 "metadata": {
  "kernelspec": {
   "display_name": "Python 3 (ipykernel)",
   "language": "python",
   "name": "python3"
  },
  "language_info": {
   "codemirror_mode": {
    "name": "ipython",
    "version": 3
   },
   "file_extension": ".py",
   "mimetype": "text/x-python",
   "name": "python",
   "nbconvert_exporter": "python",
   "pygments_lexer": "ipython3",
   "version": "3.10.8"
  }
 },
 "nbformat": 4,
 "nbformat_minor": 5
}
