{
 "cells": [
  {
   "cell_type": "markdown",
   "id": "8d1e11b2",
   "metadata": {},
   "source": [
    "<img style=\"float: left; padding-right: 10px; height: 60px\" src=\"https://d31e6ufxekikrt.cloudfront.net/static/ui/images/logo.png\">\n",
    "\n",
    "<br>\n",
    "<br>\n",
    "<br>\n",
    "\n",
    "# **ProteInfer API**\n",
    "\n",
    "ProteInfer uses convolutional neural networks for direct prediction of protein functions from amino acid sequences. It specializes in identifying Enzyme Commission numbers and Gene Ontology terms, enhancing protein functional annotation.\n",
    "\n",
    "<br>\n",
    "\n",
    "<table style=\"width: 100%; border-collapse: collapse; background-color: white; float: left;\">\n",
    "    <tr>\n",
    "        <td style=\"text-align: left; vertical-align: middle; background-color: white;\">\n",
    "            <img src=\"https://www.svgrepo.com/show/354202/postman-icon.svg\" style=\"height: 20px; float: left; padding-right: 10px;\"><a href=\"https://api.biolm.ai/#71d8d770-fa3a-43f4-a9c4-d87fc148dff2\">  <h4 style=\"margin: 0;\"><b>Postman API Docs</b></h4></a>\n",
    "        </td>\n",
    "        <td style=\"text-align: left; vertical-align: middle; background-color: white;\">\n",
    "            <img src=\"https://upload.wikimedia.org/wikipedia/commons/thumb/c/c3/Python-logo-notext.svg/1869px-Python-logo-notext.svg.png\" style=\"height: 20px; float: left; padding-right: 10px;\"><a href=\"https://docs.biolm.ai/en/latest/model-docs/ProteInfer_EC.html\"><h4 style=\"margin: 0;\"><b>Python SDK Docs</b></h4></a>\n",
    "        </td>\n",
    "        <td style=\"text-align: left; vertical-align: middle; background-color: white;\">\n",
    "            <img src=\"https://github.githubassets.com/assets/GitHub-Mark-ea2971cee799.png\" style=\"height: 20px; float: left; padding-right: 10px;\"><a href=\"https://github.com/google-research/proteinfer\"><h4 style=\"margin: 0;\"><b>Github Link</b></h4></a>\n",
    "        </td>\n",
    "        <td style=\"text-align: left; vertical-align: middle; background-color: white;\">\n",
    "            <img src=\"https://info.arxiv.org/brand/images/brand-logomark-primary-large.jpg\" style=\"height: 20px; float: left; padding-right: 10px;\"><a href=\"https://google-research.github.io/proteinfer/\"><h4 style=\"margin: 0;\"><b>Paper Link</b></h4></a>\n",
    "        </td>\n",
    "    </tr>\n",
    "</table>\n",
    "\n",
    "<br>\n",
    "\n",
    "---"
   ]
  },
  {
   "cell_type": "markdown",
   "id": "6b7a87ff",
   "metadata": {},
   "source": [
    "## Get and set your API Token\n",
    "\n",
    "To use the BioLM API, you need an API token. You can get one from the [User API Tokens](https://biolm.ai/ui/accounts/user-api-tokens/) page.\n",
    "\n",
    "Paste the API token in the cell below, as the value of the variable `BIOLMAI_TOKEN`."
   ]
  },
  {
   "cell_type": "code",
   "execution_count": 1,
   "id": "047d4592",
   "metadata": {},
   "outputs": [],
   "source": [
    "BIOLMAI_TOKEN = \" \"  # !!! YOUR API TOKEN HERE !!!"
   ]
  },
  {
   "cell_type": "markdown",
   "id": "a2221bb3",
   "metadata": {},
   "source": [
    "."
   ]
  },
  {
   "cell_type": "markdown",
   "id": "0e37d82c",
   "metadata": {},
   "source": [
    "## API Call with Python requests"
   ]
  },
  {
   "cell_type": "markdown",
   "id": "6ad84753",
   "metadata": {},
   "source": [
    "### ProteInfer EC (Enzyme Commission) Prediction"
   ]
  },
  {
   "cell_type": "code",
   "execution_count": 2,
   "id": "a98e00ce",
   "metadata": {
    "scrolled": true
   },
   "outputs": [
    {
     "name": "stdout",
     "output_type": "stream",
     "text": [
      "{'results': [{'sequence_id': '0', 'predictions': [{'label': 'EC:4.-.-.-', 'confidence': 1.0, 'description': 'Lyases.'}, {'label': 'EC:4.1.-.-', 'confidence': 1.0, 'description': 'Carbon-carbon lyases.'}, {'label': 'EC:4.1.1.-', 'confidence': 1.0, 'description': 'Carboxy-lyases.'}, {'label': 'EC:4.1.1.48', 'confidence': 1.0, 'description': 'Indole-3-glycerol-phosphate synthase.'}, {'label': 'EC:5.-.-.-', 'confidence': 1.0, 'description': 'Isomerases.'}, {'label': 'EC:5.3.-.-', 'confidence': 1.0, 'description': 'Intramolecular oxidoreductases.'}, {'label': 'EC:5.3.1.-', 'confidence': 1.0, 'description': 'Interconverting aldoses and ketoses.'}, {'label': 'EC:5.3.1.24', 'confidence': 1.0, 'description': 'Phosphoribosylanthranilate isomerase.'}]}]}\n"
     ]
    }
   ],
   "source": [
    "import requests\n",
    "\n",
    "url = \"https://biolm.ai/api/v1/models/enzyme_function/predict/\"\n",
    "\n",
    "headers = {\n",
    "    \"Content-Type\": \"application/json\",\n",
    "    \"Authorization\": f\"Token {BIOLMAI_TOKEN}\",\n",
    "}\n",
    "\n",
    "data = {\n",
    "    \"instances\": [\n",
    "        {\n",
    "            \"data\": {\n",
    "                \"text\": \"MMQTVLAKIVADKAIWVEARKQQQPLASFQNEVQPSTRHFYDALQGARTAFILECKKASPSKGVIRDDFDPARIAAIYKHYASAISVLTDEKYFQGSFNFLPIVSQIAPQPILCKDFIIDPYQIYLARYYQADACLLMLSVLDDDQYRQLAAVAHSLEMGVLTEVSNEEEQERAIALGAKVVGINNRDLRDLSIDLNRTRELAPKLGHNVTVISESGINTYAQVRELSHFANGFLIGSALMAHDDLHAAVRRVLLGENKVCGLTRGQDAKAAYDAGAIYGGLIFVATSPRCVNVEQAQEVMAAAPLQYVGVFRNHDIADVVDKAKVLSLAAVQLHGNEEQLYIDTLREALPAHVAIWKALSVGETLPAREFQHVDKYVLDNGQGGSGQRFDWSLLNGQSLGNVLLAGGLGADNCVEAAQTGCAGLDFNSAVESQPGIKDARLLASVFQTLRAY\",\n",
    "            },\n",
    "        },\n",
    "    ],\n",
    "}\n",
    "\n",
    "response = requests.post(\n",
    "    url=url,\n",
    "    headers=headers,\n",
    "    json=data,\n",
    ")\n",
    "\n",
    "if response.status_code == 200:\n",
    "    print(response.json())\n"
   ]
  },
  {
   "cell_type": "code",
   "execution_count": null,
   "id": "400124ff",
   "metadata": {},
   "outputs": [],
   "source": []
  },
  {
   "cell_type": "markdown",
   "id": "23e5a81a",
   "metadata": {},
   "source": [
    "### ProteInfer GO (Gene Ontology) Prediction"
   ]
  },
  {
   "cell_type": "code",
   "execution_count": 3,
   "id": "a573ab13",
   "metadata": {
    "scrolled": true
   },
   "outputs": [
    {
     "name": "stdout",
     "output_type": "stream",
     "text": [
      "{'results': [{'sequence_id': '0', 'predictions': [{'label': 'GO:0005488', 'confidence': 1.0, 'description': 'binding'}, {'label': 'GO:0008150', 'confidence': 1.0, 'description': 'biological_process'}, {'label': 'GO:0044464', 'confidence': 1.0, 'description': 'cell part'}, {'label': 'GO:0005575', 'confidence': 1.0, 'description': 'cellular_component'}, {'label': 'GO:0016021', 'confidence': 1.0, 'description': 'integral component of membrane'}, {'label': 'GO:0031224', 'confidence': 1.0, 'description': 'intrinsic component of membrane'}, {'label': 'GO:0044425', 'confidence': 1.0, 'description': 'membrane part'}, {'label': 'GO:0003674', 'confidence': 1.0, 'description': 'molecular_function'}, {'label': 'GO:0065007', 'confidence': 0.9999992847442627, 'description': 'biological regulation'}, {'label': 'GO:0046872', 'confidence': 0.9999992847442627, 'description': 'metal ion binding'}, {'label': 'GO:0043169', 'confidence': 0.9999990463256836, 'description': 'cation binding'}, {'label': 'GO:0016020', 'confidence': 0.9999864101409912, 'description': 'membrane'}, {'label': 'GO:0007165', 'confidence': 0.9999784231185913, 'description': 'signal transduction'}, {'label': 'GO:0043167', 'confidence': 0.9999719858169556, 'description': 'ion binding'}, {'label': 'GO:1901998', 'confidence': 0.9998838901519775, 'description': 'toxin transport'}, {'label': 'GO:0060089', 'confidence': 0.9997674822807312, 'description': 'molecular transducer activity'}, {'label': 'GO:0038023', 'confidence': 0.9996358156204224, 'description': 'signaling receptor activity'}, {'label': 'GO:0004888', 'confidence': 0.9989659786224365, 'description': 'transmembrane signaling receptor activity'}, {'label': 'GO:0050789', 'confidence': 0.9988377690315247, 'description': 'regulation of biological process'}, {'label': 'GO:0004896', 'confidence': 0.9984742999076843, 'description': 'cytokine receptor activity'}]}]}\n"
     ]
    }
   ],
   "source": [
    "import requests\n",
    "\n",
    "url = \"https://biolm.ai/api/v1/models/protein_go_function/predict/\"\n",
    "\n",
    "headers = {\n",
    "    \"Content-Type\": \"application/json\",\n",
    "    \"Authorization\": f\"Token {BIOLMAI_TOKEN}\",\n",
    "}\n",
    "\n",
    "data = {\n",
    "    \"instances\": [\n",
    "        {\n",
    "            \"data\": {\n",
    "                \"text\": \"MSQCCCRQVLLGVEVSIVVMALVAGGAGQTHDSRAAGSSCYGGFDLYFVLDKSGSVQHYWNEIFYFVHHLAHKFISPQMRMSFIVFSTDGRTLMALTEDRDKIRAGLEELRMVQPGGDTYMDRGLHRASEQIYYAAGDGYRAASVIIALTDGELREDQFDTAQREAGRARQLGASVYCVGLKDFNETQLSTIADSKDHVFPVHDGFEALQSVIDSILKRSCIEILAVQPSSICEGGEDEEQRHPESFQVVVKGNGFLHARDVQKVLCSFRVNDTLTLMKRPLVVRDTYLLCPAPLLEREGTSATLHVSMNNGLSFISSSVTIEAVACSDGTFVAVALLILMLLLTLVLLWWFWPLCCTVVRPPSWISVRKTPVKPPPSFEVWSSFPLFCLQVVHEPPPPVAEDDSDDEEGLPKKKWPTVDASYYGGRGVGGIKRMEVRWGDKGSTEEGAKLEKAKNARVVMPTEEESLARPYHAAHKPVRSHKWYSPIKGKLDALCVFLRKGYDRVSIMRPLPGDKGKCINFTRSRSYPVTRYPVYRPPPTPIYTLPHGHQRRPSDDSNLFQLPPSPTSKLPPLPSLHPSSCATLPVYSRHPDLFSAPPSPTGSLPPPPQAPPLCRAPPPSRPPPRPN\",\n",
    "            },\n",
    "        },\n",
    "    ],\n",
    "}\n",
    "\n",
    "response = requests.post(\n",
    "    url=url,\n",
    "    headers=headers,\n",
    "    json=data,\n",
    ")\n",
    "\n",
    "if response.status_code == 200:\n",
    "    print(response.json())\n"
   ]
  },
  {
   "cell_type": "code",
   "execution_count": null,
   "id": "d0bedcae",
   "metadata": {},
   "outputs": [],
   "source": []
  },
  {
   "cell_type": "markdown",
   "id": "a04f63cb",
   "metadata": {},
   "source": [
    "### See more examples, use-cases, and APIs on your [BioLM Console Catalog](https://biolm.ai/console/catalog/).\n",
    "<br>\n",
    "\n",
    "#### BioLM hosts deep learning models and runs inference at scale. You do the science.\n",
    "<br>\n",
    "\n",
    "#### Let us help model your data. We offers professional services in these domains, and more:\n",
    "<br>\n",
    "\n",
    "#### <img src=\"https://d31e6ufxekikrt.cloudfront.net/static/ui/images/console-overview/enzyme_engineering_icon.png\"  style=\"height: 40px; float: left; padding-right: 10px;\"> Enzyme Engineering\n",
    "<br>\n",
    "\n",
    "#### <img src=\"https://d31e6ufxekikrt.cloudfront.net/static/ui/images/console-overview/antibody_engineering_icon.png\"  style=\"height: 40px; float: left; padding-right: 10px;\"> Antibody Engineering\n",
    "<br>\n",
    "\n",
    "#### <img src=\"https://d31e6ufxekikrt.cloudfront.net/static/ui/images/console-overview/biosecurity_icon.png\"  style=\"height: 40px; float: left; padding-right: 10px;\"> Biosecurity\n",
    "<br>\n",
    "\n",
    "#### <img src=\"https://d31e6ufxekikrt.cloudfront.net/static/ui/images/console-overview/single_cell_genomics_icon.png\"  style=\"height: 40px; float: left; padding-right: 10px;\"> Single-Cell Genomics\n",
    "<br>\n",
    "\n",
    "#### <img src=\"https://d31e6ufxekikrt.cloudfront.net/static/ui/images/console-overview/dna_seq_modeling_icon.png\"  style=\"height: 40px; float: left; padding-right: 10px;\"> DNA Sequence Modelling\n",
    "<br>\n",
    "\n",
    "### [**Contact us**](https://biolm.ai/console/support/) to learn more.\n"
   ]
  },
  {
   "cell_type": "code",
   "execution_count": null,
   "id": "48ce8513",
   "metadata": {},
   "outputs": [],
   "source": []
  }
 ],
 "metadata": {
  "kernelspec": {
   "display_name": "Python 3 (ipykernel)",
   "language": "python",
   "name": "python3"
  },
  "language_info": {
   "codemirror_mode": {
    "name": "ipython",
    "version": 3
   },
   "file_extension": ".py",
   "mimetype": "text/x-python",
   "name": "python",
   "nbconvert_exporter": "python",
   "pygments_lexer": "ipython3",
   "version": "3.10.8"
  }
 },
 "nbformat": 4,
 "nbformat_minor": 5
}
