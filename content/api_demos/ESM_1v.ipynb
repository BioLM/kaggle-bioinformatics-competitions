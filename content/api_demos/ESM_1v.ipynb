{
  "metadata": {
    "kernelspec": {
      "name": "python",
      "display_name": "Python (Pyodide)",
      "language": "python"
    },
    "language_info": {
      "codemirror_mode": {
        "name": "python",
        "version": 3
      },
      "file_extension": ".py",
      "mimetype": "text/x-python",
      "name": "python",
      "nbconvert_exporter": "python",
      "pygments_lexer": "ipython3",
      "version": "3.8"
    }
  },
  "nbformat_minor": 5,
  "nbformat": 4,
  "cells": [
    {
      "cell_type": "markdown",
      "source": "<img style=\"float: left; padding-right: 10px; height: 60px\" src=\"https://d31e6ufxekikrt.cloudfront.net/static/ui/images/logo.png\">\n\n<br>\n<br>\n<br>\n\n# **ESM-1v API**\n\nLanguage model specialized for prediction of variant effects. Enables SOTA zero-shot prediction of the functional effects of sequence variations.<sup>*</sup>\n\n<br>\n\n<table style=\"width: 100%; border-collapse: collapse; background-color: white; float: left;\">\n    <tr>\n        <td style=\"text-align: left; vertical-align: middle; background-color: white;\">\n            <img src=\"https://www.svgrepo.com/show/354202/postman-icon.svg\" style=\"height: 20px; float: left; padding-right: 10px;\"><a href=\"https://api.biolm.ai/#54d3367a-b5d1-4f18-aa44-23ae3914a446\">  <h4 style=\"margin: 0;\"><b>Postman API Docs</b></h4></a>\n        </td>\n        <td style=\"text-align: left; vertical-align: middle; background-color: white;\">\n            <img src=\"https://upload.wikimedia.org/wikipedia/commons/thumb/c/c3/Python-logo-notext.svg/1869px-Python-logo-notext.svg.png\" style=\"height: 20px; float: left; padding-right: 10px;\"><a href=\"https://docs.biolm.ai/en/latest/model-docs/ESM-1v.html\"><h4 style=\"margin: 0;\"><b>Python SDK Docs</b></h4></a>\n        </td>\n        <td style=\"text-align: left; vertical-align: middle; background-color: white;\">\n            <img src=\"https://github.githubassets.com/assets/GitHub-Mark-ea2971cee799.png\" style=\"height: 20px; float: left; padding-right: 10px;\"><a href=\"https://github.com/facebookresearch/esm?tab=readme-ov-file#zs_variant\"><h4 style=\"margin: 0;\"><b><sup>*</sup>Github Link</b></h4></a>\n        </td>\n        <td style=\"text-align: left; vertical-align: middle; background-color: white;\">\n            <img src=\"https://info.arxiv.org/brand/images/brand-logomark-primary-large.jpg\" style=\"height: 20px; float: left; padding-right: 10px;\"><a href=\"https://www.biorxiv.org/content/10.1101/2021.07.09.450648v2.full.pdf\"><h4 style=\"margin: 0;\"><b>Paper Link</b></h4></a>\n        </td>\n    </tr>\n</table>\n\n<br>\n\n---",
      "metadata": {},
      "id": "8d1e11b2"
    },
    {
      "cell_type": "markdown",
      "source": "## Get and set your API Token\n\nTo use the BioLM API, you need an API token. You can get one from the [User API Tokens](https://biolm.ai/ui/accounts/user-api-tokens/) page.\n\nPaste the API token in the cell below, as the value of the variable `BIOLMAI_TOKEN`.",
      "metadata": {},
      "id": "6b7a87ff"
    },
    {
      "cell_type": "code",
      "source": "BIOLMAI_TOKEN = \" \"  # !!! YOUR API TOKEN HERE !!!",
      "metadata": {
        "trusted": true
      },
      "execution_count": 1,
      "outputs": [],
      "id": "047d4592"
    },
    {
      "cell_type": "markdown",
      "source": "## API Call with Python requests",
      "metadata": {},
      "id": "0e37d82c"
    },
    {
      "cell_type": "code",
      "source": "try:\n    # Install packages to make API requests in JLite\n    import micropip\n    await micropip.install('requests')\n    await micropip.install('pyodide-http')\n    # Patch requests for in-browser support\n    import pyodide_http\n    pyodide_http.patch_all()\nexcept ModuleNotFoundError:\n    pass  # Won't be using micropip outside of JLite",
      "metadata": {
        "trusted": true
      },
      "execution_count": 2,
      "outputs": [],
      "id": "25723de0-fa6b-4d41-9ab3-439a36ec5c33"
    },
    {
      "cell_type": "code",
      "source": "import requests\n\nurl = \"https://biolm.ai/api/v1/models/esm1v_t33_650M_UR90S_1/predict/\"\n\nheaders = {\n    \"Content-Type\": \"application/json\",\n    \"Authorization\": f\"Token {BIOLMAI_TOKEN}\",\n}\n\ndata = {\n    \"instances\": [\n        {\n            \"data\": {\n                \"text\": \"QERLEUTGR<mask>SLYNIVAT\",\n            },\n        },\n    ],\n}\n\nresponse = requests.post(\n    url=url,\n    headers=headers,\n    json=data,\n)\n\nif response.status_code == 200:\n    print(response.json())\n",
      "metadata": {
        "scrolled": true,
        "trusted": true
      },
      "execution_count": 3,
      "outputs": [
        {
          "name": "stdout",
          "text": "{'predictions': [[{'score': 0.10017549991607666, 'token': 4, 'token_str': 'L', 'sequence': 'Q E R L E U T G R L S L Y N I V A T'}, {'score': 0.0792141705751419, 'token': 8, 'token_str': 'S', 'sequence': 'Q E R L E U T G R S S L Y N I V A T'}, {'score': 0.0782080739736557, 'token': 10, 'token_str': 'R', 'sequence': 'Q E R L E U T G R R S L Y N I V A T'}, {'score': 0.06559190899133682, 'token': 12, 'token_str': 'I', 'sequence': 'Q E R L E U T G R I S L Y N I V A T'}, {'score': 0.06312490254640579, 'token': 15, 'token_str': 'K', 'sequence': 'Q E R L E U T G R K S L Y N I V A T'}, {'score': 0.06205378845334053, 'token': 7, 'token_str': 'V', 'sequence': 'Q E R L E U T G R V S L Y N I V A T'}, {'score': 0.05733203515410423, 'token': 5, 'token_str': 'A', 'sequence': 'Q E R L E U T G R A S L Y N I V A T'}, {'score': 0.056465033441782, 'token': 6, 'token_str': 'G', 'sequence': 'Q E R L E U T G R G S L Y N I V A T'}, {'score': 0.05609249323606491, 'token': 11, 'token_str': 'T', 'sequence': 'Q E R L E U T G R T S L Y N I V A T'}, {'score': 0.05099004507064819, 'token': 9, 'token_str': 'E', 'sequence': 'Q E R L E U T G R E S L Y N I V A T'}, {'score': 0.04619293287396431, 'token': 18, 'token_str': 'F', 'sequence': 'Q E R L E U T G R F S L Y N I V A T'}, {'score': 0.04433560371398926, 'token': 17, 'token_str': 'N', 'sequence': 'Q E R L E U T G R N S L Y N I V A T'}, {'score': 0.04093833640217781, 'token': 13, 'token_str': 'D', 'sequence': 'Q E R L E U T G R D S L Y N I V A T'}, {'score': 0.03970066457986832, 'token': 16, 'token_str': 'Q', 'sequence': 'Q E R L E U T G R Q S L Y N I V A T'}, {'score': 0.037681400775909424, 'token': 14, 'token_str': 'P', 'sequence': 'Q E R L E U T G R P S L Y N I V A T'}, {'score': 0.034206926822662354, 'token': 19, 'token_str': 'Y', 'sequence': 'Q E R L E U T G R Y S L Y N I V A T'}, {'score': 0.027757391333580017, 'token': 21, 'token_str': 'H', 'sequence': 'Q E R L E U T G R H S L Y N I V A T'}, {'score': 0.022717339918017387, 'token': 23, 'token_str': 'C', 'sequence': 'Q E R L E U T G R C S L Y N I V A T'}, {'score': 0.020967165008187294, 'token': 20, 'token_str': 'M', 'sequence': 'Q E R L E U T G R M S L Y N I V A T'}, {'score': 0.01537598017603159, 'token': 22, 'token_str': 'W', 'sequence': 'Q E R L E U T G R W S L Y N I V A T'}]]}\n",
          "output_type": "stream"
        }
      ],
      "id": "a98e00ce"
    },
    {
      "cell_type": "markdown",
      "source": "### See more examples, use-cases, and APIs on your [BioLM Console Catalog](https://biolm.ai/console/catalog/).\n<br>\n\n#### BioLM hosts deep learning models and runs inference at scale. You do the science.\n<br>\n\n#### Let us help model your data. We offers professional services in these domains, and more:\n<br>\n\n#### <img src=\"https://d31e6ufxekikrt.cloudfront.net/static/ui/images/console-overview/enzyme_engineering_icon.png\"  style=\"height: 40px; float: left; padding-right: 10px;\"> Enzyme Engineering\n<br>\n\n#### <img src=\"https://d31e6ufxekikrt.cloudfront.net/static/ui/images/console-overview/antibody_engineering_icon.png\"  style=\"height: 40px; float: left; padding-right: 10px;\"> Antibody Engineering\n<br>\n\n#### <img src=\"https://d31e6ufxekikrt.cloudfront.net/static/ui/images/console-overview/biosecurity_icon.png\"  style=\"height: 40px; float: left; padding-right: 10px;\"> Biosecurity\n<br>\n\n#### <img src=\"https://d31e6ufxekikrt.cloudfront.net/static/ui/images/console-overview/single_cell_genomics_icon.png\"  style=\"height: 40px; float: left; padding-right: 10px;\"> Single-Cell Genomics\n<br>\n\n#### <img src=\"https://d31e6ufxekikrt.cloudfront.net/static/ui/images/console-overview/dna_seq_modeling_icon.png\"  style=\"height: 40px; float: left; padding-right: 10px;\"> DNA Sequence Modelling\n<br>\n\n### [**Contact us**](https://biolm.ai/ui/contact-us/) to learn more.\n",
      "metadata": {},
      "id": "a04f63cb"
    },
    {
      "cell_type": "code",
      "source": "",
      "metadata": {},
      "execution_count": null,
      "outputs": [],
      "id": "8a88fa58-290c-4e96-bfdd-4869285c0e1a"
    }
  ]
}