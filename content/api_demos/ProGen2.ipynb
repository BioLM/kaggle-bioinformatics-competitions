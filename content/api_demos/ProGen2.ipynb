{
 "cells": [
  {
   "cell_type": "markdown",
   "id": "8d1e11b2",
   "metadata": {},
   "source": [
    "<img style=\"float: left; padding-right: 10px; height: 60px\" src=\"https://d31e6ufxekikrt.cloudfront.net/static/ui/images/logo.png\">\n",
    "\n",
    "<br>\n",
    "<br>\n",
    "<br>\n",
    "\n",
    "# **ProGen2 API**\n",
    "\n",
    "ProGen2, with models up to 6.4B parameters, is adept at generating viable protein sequences and predicting their fitness. It's utilized in protein design, trained on data from genomic and metagenomic sources.\n",
    "\n",
    "<br>\n",
    "\n",
    "<table style=\"width: 100%; border-collapse: collapse; background-color: white; float: left;\">\n",
    "    <tr>\n",
    "        <td style=\"text-align: left; vertical-align: middle; background-color: white;\">\n",
    "            <img src=\"https://www.svgrepo.com/show/354202/postman-icon.svg\" style=\"height: 20px; float: left; padding-right: 10px;\"><a href=\"https://api.biolm.ai/#a16537c0-2ff3-4817-9fcd-5439800a05e8\">  <h4 style=\"margin: 0;\"><b>Postman API Docs</b></h4></a>\n",
    "        </td>\n",
    "        <td style=\"text-align: left; vertical-align: middle; background-color: white;\">\n",
    "            <img src=\"https://upload.wikimedia.org/wikipedia/commons/thumb/c/c3/Python-logo-notext.svg/1869px-Python-logo-notext.svg.png\" style=\"height: 20px; float: left; padding-right: 10px;\"><a href=\"https://docs.biolm.ai/en/latest/model-docs/progen2/index.html\"><h4 style=\"margin: 0;\"><b>Python SDK Docs</b></h4></a>\n",
    "        </td>\n",
    "        <td style=\"text-align: left; vertical-align: middle; background-color: white;\">\n",
    "            <img src=\"https://github.githubassets.com/assets/GitHub-Mark-ea2971cee799.png\" style=\"height: 20px; float: left; padding-right: 10px;\"><a href=\"https://github.com/salesforce/progen/tree/main\"><h4 style=\"margin: 0;\"><b>Github Link</b></h4></a>\n",
    "        </td>\n",
    "        <td style=\"text-align: left; vertical-align: middle; background-color: white;\">\n",
    "            <img src=\"https://info.arxiv.org/brand/images/brand-logomark-primary-large.jpg\" style=\"height: 20px; float: left; padding-right: 10px;\"><a href=\"https://arxiv.org/pdf/2206.13517.pdf\"><h4 style=\"margin: 0;\"><b>Paper Link</b></h4></a>\n",
    "        </td>\n",
    "    </tr>\n",
    "</table>\n",
    "\n",
    "<br>\n",
    "\n",
    "---"
   ]
  },
  {
   "cell_type": "markdown",
   "id": "6b7a87ff",
   "metadata": {},
   "source": [
    "## Get and set your API Token\n",
    "\n",
    "To use the BioLM API, you need an API token. You can get one from the [User API Tokens](https://biolm.ai/ui/accounts/user-api-tokens/) page.\n",
    "\n",
    "Paste the API token in the cell below, as the value of the variable `BIOLMAI_TOKEN`."
   ]
  },
  {
   "cell_type": "code",
   "execution_count": 1,
   "id": "047d4592",
   "metadata": {},
   "outputs": [],
   "source": [
    "BIOLMAI_TOKEN = \" \"  # !!! YOUR API TOKEN HERE !!!"
   ]
  },
  {
   "cell_type": "markdown",
   "id": "a2221bb3",
   "metadata": {},
   "source": [
    "."
   ]
  },
  {
   "cell_type": "markdown",
   "id": "0e37d82c",
   "metadata": {},
   "source": [
    "## API Call with Python requests"
   ]
  },
  {
   "cell_type": "markdown",
   "id": "460063b7",
   "metadata": {},
   "source": [
    "### ProGen2 Medium"
   ]
  },
  {
   "cell_type": "code",
   "execution_count": 2,
   "id": "a98e00ce",
   "metadata": {
    "scrolled": true
   },
   "outputs": [
    {
     "name": "stdout",
     "output_type": "stream",
     "text": [
      "{'generated': [{'text': 'MASGGAASLGLAVGAGVALAALLGGALLARRRRRAPRRPPPPAPAAPPPPPAPPAPPPPPPPPPPPPPPPPPPPPPPPPPPPPPPPPPPPPPPPPPPPPPPPPPPPPPPPPPPPPPPPPPPPPPPPPPPPPPPPPPPPPPPPPPPPPPPPPPPPPPPPPPPPPPPPPPPPPPPPP', 'll_sum': -255.36235427856445, 'll_mean': -1.4675997197628021}, {'text': 'MASVILLAVALAAGLGLAAVALLLRRRRRRRAPDAALRALLRARLAPPAAPLAAAAAAPPAAAPAPAAAAPAAAAPAAAAPAAAAPAAAAPAAAAPAAAAPAAAAPAAAAPAAAAPAAAAPAAAAPAAAAPAAAAPAAAAPAAAAPAAAAPAAAAPAAAAPAAAAPAAAAPAAAA', 'll_sum': -138.2222442626953, 'll_mean': -0.7943807244300842}]}\n"
     ]
    }
   ],
   "source": [
    "import requests\n",
    "\n",
    "url = \"https://biolm.ai/api/v1/models/progen2-medium/generate/\"\n",
    "\n",
    "headers = {\n",
    "    \"Content-Type\": \"application/json\",\n",
    "    \"Authorization\": f\"Token {BIOLMAI_TOKEN}\",\n",
    "}\n",
    "\n",
    "data = {\n",
    "    \"instances\": [\n",
    "        {\n",
    "            \"data\": {\n",
    "                \"text\": \"MA\",\n",
    "                 \"t\": 0.7,\n",
    "                 \"p\": 0.6,\n",
    "                 \"max_length\": 175,\n",
    "                 \"num_samples\": 2,\n",
    "            }\n",
    "        }\n",
    "    ]\n",
    "}\n",
    "\n",
    "response = requests.post(\n",
    "    url=url,\n",
    "    headers=headers,\n",
    "    json=data,\n",
    ")\n",
    "\n",
    "if response.status_code == 200:\n",
    "    print(response.json())\n"
   ]
  },
  {
   "cell_type": "code",
   "execution_count": null,
   "id": "967ac458",
   "metadata": {},
   "outputs": [],
   "source": []
  },
  {
   "cell_type": "markdown",
   "id": "c5b7b047",
   "metadata": {},
   "source": [
    "### ProGen2 OAS"
   ]
  },
  {
   "cell_type": "code",
   "execution_count": 3,
   "id": "400124ff",
   "metadata": {},
   "outputs": [
    {
     "name": "stdout",
     "output_type": "stream",
     "text": [
      "{'generated': [{'text': 'EVQLVESGGGLVQPGGSLRLSCAASGFTFSSYWMSWVRQAPGKGLEWVANIKQDGSEKYYVDSVKGRFTISRDNAKNSLYLQMNSLRAEDTAVYYCARDGVVVVPAAMGYYYYGMDVWGQGTTVTVSS', 'll_sum': -27.75531578063965, 'll_mean': -0.2185457944869995}, {'text': 'EVQLVESGGGLVQPGGSLRLSCAASGFTFSSYWMSWVRQAPGKGLEWVANIKQDGSEKYYVDSVKGRFTISRDNAKNSLYLQMNSLRAEDTAVYYCARDSGYYDSSGYYYWGQGTLVTVSS', 'll_sum': -25.86807632446289, 'll_mean': -0.21556730568408966}]}\n"
     ]
    }
   ],
   "source": [
    "import requests\n",
    "\n",
    "url = \"https://biolm.ai/api/v1/models/progen2-oas/generate/\"\n",
    "\n",
    "headers = {\n",
    "    \"Content-Type\": \"application/json\",\n",
    "    \"Authorization\": f\"Token {BIOLMAI_TOKEN}\",\n",
    "}\n",
    "\n",
    "data = {\n",
    "    \"instances\": [\n",
    "        {\n",
    "            \"data\": {\n",
    "                \"text\": \"EVQ\",\n",
    "                 \"t\": 0.7,\n",
    "                 \"p\": 0.6,\n",
    "                 \"max_length\": 175,\n",
    "                 \"num_samples\": 2,\n",
    "            }\n",
    "        }\n",
    "    ]\n",
    "}\n",
    "\n",
    "response = requests.post(\n",
    "    url=url,\n",
    "    headers=headers,\n",
    "    json=data,\n",
    ")\n",
    "\n",
    "if response.status_code == 200:\n",
    "    print(response.json())\n"
   ]
  },
  {
   "cell_type": "code",
   "execution_count": null,
   "id": "248da1b1",
   "metadata": {},
   "outputs": [],
   "source": []
  },
  {
   "cell_type": "markdown",
   "id": "e86f6dd0",
   "metadata": {},
   "source": [
    "### ProGen2 BFD90"
   ]
  },
  {
   "cell_type": "code",
   "execution_count": 4,
   "id": "014fff92",
   "metadata": {},
   "outputs": [
    {
     "name": "stdout",
     "output_type": "stream",
     "text": [
      "{'generated': [{'text': 'MVVALVVLLVAAVLAALVALRLLRRRRGAPRPRPAPAPAPAPAPAPAPAPAPAPAPAPAPAPAPAPAPAPAPAPAPAPAPAPAPAPAPAPAPAPAPAPAPAPAPAPAPAPAPAPAPAPAPAPAPAPAPAPAPAPAPAPAPAPAPAPAPAPAPAPAPAPAPAPAPAPAPAPAPAPA', 'll_sum': -86.1581802368164, 'll_mean': -0.4951619654893875}, {'text': 'MAEEVLREREAAAAAAAAAAAAAAAAAAAAAAAAAAAAAAAAAAAAAAAAAAAAAAAAAAAAAAAAAAAAAAAAAAAAAAAAAAAAAAAAAAAAAAAAAAAAAAAAAAAAAAAAAAEAAAAAAAAAAAAAAAAAAAAAAAAAAAAAAAAPAAAAAAAAAAAAAAAAAAAAAAAAA', 'll_sum': -160.6978759765625, 'll_mean': -0.923551008105278}]}\n"
     ]
    }
   ],
   "source": [
    "import requests\n",
    "\n",
    "url = \"https://biolm.ai/api/v1/models/progen2-bfd90/generate/\"\n",
    "\n",
    "headers = {\n",
    "    \"Content-Type\": \"application/json\",\n",
    "    \"Authorization\": f\"Token {BIOLMAI_TOKEN}\",\n",
    "}\n",
    "\n",
    "data = {\n",
    "    \"instances\": [\n",
    "        {\n",
    "            \"data\": {\n",
    "                \"text\": \"M\",\n",
    "                 \"t\": 0.7,\n",
    "                 \"p\": 0.6,\n",
    "                 \"max_length\": 175,\n",
    "                 \"num_samples\": 2,\n",
    "            }\n",
    "        }\n",
    "    ]\n",
    "}\n",
    "\n",
    "response = requests.post(\n",
    "    url=url,\n",
    "    headers=headers,\n",
    "    json=data,\n",
    ")\n",
    "\n",
    "if response.status_code == 200:\n",
    "    print(response.json())\n"
   ]
  },
  {
   "cell_type": "code",
   "execution_count": null,
   "id": "6787fc52",
   "metadata": {},
   "outputs": [],
   "source": []
  },
  {
   "cell_type": "markdown",
   "id": "a04f63cb",
   "metadata": {},
   "source": [
    "### See more examples, use-cases, and APIs on your [BioLM Console Catalog](https://biolm.ai/console/catalog/).\n",
    "<br>\n",
    "\n",
    "#### BioLM hosts deep learning models and runs inference at scale. You do the science.\n",
    "<br>\n",
    "\n",
    "#### Let us help model your data. We offers professional services in these domains, and more:\n",
    "<br>\n",
    "\n",
    "#### <img src=\"https://d31e6ufxekikrt.cloudfront.net/static/ui/images/console-overview/enzyme_engineering_icon.png\"  style=\"height: 40px; float: left; padding-right: 10px;\"> Enzyme Engineering\n",
    "<br>\n",
    "\n",
    "#### <img src=\"https://d31e6ufxekikrt.cloudfront.net/static/ui/images/console-overview/antibody_engineering_icon.png\"  style=\"height: 40px; float: left; padding-right: 10px;\"> Antibody Engineering\n",
    "<br>\n",
    "\n",
    "#### <img src=\"https://d31e6ufxekikrt.cloudfront.net/static/ui/images/console-overview/biosecurity_icon.png\"  style=\"height: 40px; float: left; padding-right: 10px;\"> Biosecurity\n",
    "<br>\n",
    "\n",
    "#### <img src=\"https://d31e6ufxekikrt.cloudfront.net/static/ui/images/console-overview/single_cell_genomics_icon.png\"  style=\"height: 40px; float: left; padding-right: 10px;\"> Single-Cell Genomics\n",
    "<br>\n",
    "\n",
    "#### <img src=\"https://d31e6ufxekikrt.cloudfront.net/static/ui/images/console-overview/dna_seq_modeling_icon.png\"  style=\"height: 40px; float: left; padding-right: 10px;\"> DNA Sequence Modelling\n",
    "<br>\n",
    "\n",
    "### [**Contact us**](https://biolm.ai/console/support/) to learn more.\n"
   ]
  },
  {
   "cell_type": "code",
   "execution_count": null,
   "id": "48ce8513",
   "metadata": {},
   "outputs": [],
   "source": []
  }
 ],
 "metadata": {
  "kernelspec": {
   "display_name": "Python 3 (ipykernel)",
   "language": "python",
   "name": "python3"
  },
  "language_info": {
   "codemirror_mode": {
    "name": "ipython",
    "version": 3
   },
   "file_extension": ".py",
   "mimetype": "text/x-python",
   "name": "python",
   "nbconvert_exporter": "python",
   "pygments_lexer": "ipython3",
   "version": "3.10.8"
  }
 },
 "nbformat": 4,
 "nbformat_minor": 5
}
