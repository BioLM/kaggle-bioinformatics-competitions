{
  "metadata": {
    "kernelspec": {
      "name": "python",
      "display_name": "Python (Pyodide)",
      "language": "python"
    },
    "language_info": {
      "codemirror_mode": {
        "name": "python",
        "version": 3
      },
      "file_extension": ".py",
      "mimetype": "text/x-python",
      "name": "python",
      "nbconvert_exporter": "python",
      "pygments_lexer": "ipython3",
      "version": "3.8"
    }
  },
  "nbformat_minor": 5,
  "nbformat": 4,
  "cells": [
    {
      "cell_type": "markdown",
      "source": "<img style=\"float: left; padding-right: 10px; height: 60px\" src=\"https://d31e6ufxekikrt.cloudfront.net/static/ui/images/logo.png\">\n\n<br>\n<br>\n<br>\n\n# **ProGen2 API**\n\nProGen2, with models up to 6.4B parameters, is adept at generating viable protein sequences and predicting their fitness. It's utilized in protein design, trained on data from genomic and metagenomic sources.\n\n<br>\n\n<table style=\"width: 100%; border-collapse: collapse; background-color: white; float: left;\">\n    <tr>\n        <td style=\"text-align: left; vertical-align: middle; background-color: white;\">\n            <img src=\"https://www.svgrepo.com/show/354202/postman-icon.svg\" style=\"height: 20px; float: left; padding-right: 10px;\"><a href=\"https://api.biolm.ai/#a16537c0-2ff3-4817-9fcd-5439800a05e8\">  <h4 style=\"margin: 0;\"><b>Postman API Docs</b></h4></a>\n        </td>\n        <td style=\"text-align: left; vertical-align: middle; background-color: white;\">\n            <img src=\"https://upload.wikimedia.org/wikipedia/commons/thumb/c/c3/Python-logo-notext.svg/1869px-Python-logo-notext.svg.png\" style=\"height: 20px; float: left; padding-right: 10px;\"><a href=\"https://docs.biolm.ai/en/latest/model-docs/progen2/index.html\"><h4 style=\"margin: 0;\"><b>Python SDK Docs</b></h4></a>\n        </td>\n        <td style=\"text-align: left; vertical-align: middle; background-color: white;\">\n            <img src=\"https://github.githubassets.com/assets/GitHub-Mark-ea2971cee799.png\" style=\"height: 20px; float: left; padding-right: 10px;\"><a href=\"https://github.com/salesforce/progen/tree/main\"><h4 style=\"margin: 0;\"><b>Github Link</b></h4></a>\n        </td>\n        <td style=\"text-align: left; vertical-align: middle; background-color: white;\">\n            <img src=\"https://info.arxiv.org/brand/images/brand-logomark-primary-large.jpg\" style=\"height: 20px; float: left; padding-right: 10px;\"><a href=\"https://arxiv.org/pdf/2206.13517.pdf\"><h4 style=\"margin: 0;\"><b>Paper Link</b></h4></a>\n        </td>\n    </tr>\n</table>\n\n<br>\n\n---",
      "metadata": {},
      "id": "8d1e11b2"
    },
    {
      "cell_type": "markdown",
      "source": "## Get and set your API Token\n\nTo use the BioLM API, you need an API token. You can get one from the [User API Tokens](https://biolm.ai/ui/accounts/user-api-tokens/) page.\n\nPaste the API token in the cell below, as the value of the variable `BIOLMAI_TOKEN`.",
      "metadata": {},
      "id": "6b7a87ff"
    },
    {
      "cell_type": "code",
      "source": "BIOLMAI_TOKEN = \" \"  # !!! YOUR API TOKEN HERE !!!",
      "metadata": {
        "trusted": true
      },
      "execution_count": 1,
      "outputs": [],
      "id": "047d4592"
    },
    {
      "cell_type": "markdown",
      "source": "## API Call with Python requests",
      "metadata": {},
      "id": "0e37d82c"
    },
    {
      "cell_type": "code",
      "source": "try:\n    # Install packages to make API requests in JLite\n    import micropip\n    await micropip.install('requests')\n    await micropip.install('pyodide-http')\n    # Patch requests for in-browser support\n    import pyodide_http\n    pyodide_http.patch_all()\nexcept ModuleNotFoundError:\n    pass  # Won't be using micropip outside of JLite",
      "metadata": {
        "trusted": true
      },
      "execution_count": 2,
      "outputs": [],
      "id": "1ce5f857-9c39-4d71-8092-0c2caec876e3"
    },
    {
      "cell_type": "markdown",
      "source": "### ProGen2 Medium",
      "metadata": {},
      "id": "460063b7"
    },
    {
      "cell_type": "code",
      "source": "import requests\n\nurl = \"https://biolm.ai/api/v1/models/progen2-medium/generate/\"\n\nheaders = {\n    \"Content-Type\": \"application/json\",\n    \"Authorization\": f\"Token {BIOLMAI_TOKEN}\",\n}\n\ndata = {\n    \"instances\": [\n        {\n            \"data\": {\n                \"text\": \"MA\",\n                 \"t\": 0.7,\n                 \"p\": 0.6,\n                 \"max_length\": 175,\n                 \"num_samples\": 2,\n            }\n        }\n    ]\n}\n\nresponse = requests.post(\n    url=url,\n    headers=headers,\n    json=data,\n)\n\nif response.status_code == 200:\n    print(response.json())\n",
      "metadata": {
        "scrolled": true,
        "trusted": true
      },
      "execution_count": 3,
      "outputs": [
        {
          "name": "stdout",
          "text": "{'generated': [{'text': 'MAEGELEKIRERLEKIYAVADALLSAKDMKSVNPVVARLAYFRHNLKERRQREAEVHNLPTERGNAPKRGRKRPRKEPEVVQSSEVELESSESEEGSASSGGGGGGGGGGGGGGGGGGGGGGGGGGGGGGGGGGGGGGGGGGGGGGGGGGGGGGGGGGGGGGGGGGGGGGGGGGG', 'll_sum': -216.54276275634766, 'll_mean': -1.2444986402988434}, {'text': 'MALVALALLLVLVLLVALALLLVLVLLVALALLLVLVLLVALALLLVLVLLVALALLLVLVLLVALALLLVLVLLVALALLLVLVLLVALALLLVLVLLVALALLLVLVLLVALALLLVLVLLVALALLLVLVLLVALALLLVLVLLVALALLLVLVLLVALALLLVLVLLVALA', 'll_sum': -46.221323013305664, 'll_mean': -0.2656397819519043}]}\n",
          "output_type": "stream"
        }
      ],
      "id": "a98e00ce"
    },
    {
      "cell_type": "code",
      "source": "",
      "metadata": {},
      "execution_count": null,
      "outputs": [],
      "id": "c8a53146-07e6-4582-ae17-bda608c2bf9f"
    },
    {
      "cell_type": "markdown",
      "source": "### ProGen2 OAS",
      "metadata": {},
      "id": "c5b7b047"
    },
    {
      "cell_type": "code",
      "source": "import requests\n\nurl = \"https://biolm.ai/api/v1/models/progen2-oas/generate/\"\n\nheaders = {\n    \"Content-Type\": \"application/json\",\n    \"Authorization\": f\"Token {BIOLMAI_TOKEN}\",\n}\n\ndata = {\n    \"instances\": [\n        {\n            \"data\": {\n                \"text\": \"EVQ\",\n                 \"t\": 0.7,\n                 \"p\": 0.6,\n                 \"max_length\": 175,\n                 \"num_samples\": 2,\n            }\n        }\n    ]\n}\n\nresponse = requests.post(\n    url=url,\n    headers=headers,\n    json=data,\n)\n\nif response.status_code == 200:\n    print(response.json())\n",
      "metadata": {},
      "execution_count": 3,
      "outputs": [
        {
          "name": "stdout",
          "output_type": "stream",
          "text": "{'generated': [{'text': 'EVQLVESGGGLVQPGGSLRLSCAASGFTFSSYWMSWVRQAPGKGLEWVANIKQDGSEKYYVDSVKGRFTISRDNAKNSLYLQMNSLRAEDTAVYYCARDGVVVVPAAMGYYYYGMDVWGQGTTVTVSS', 'll_sum': -27.75531578063965, 'll_mean': -0.2185457944869995}, {'text': 'EVQLVESGGGLVQPGGSLRLSCAASGFTFSSYWMSWVRQAPGKGLEWVANIKQDGSEKYYVDSVKGRFTISRDNAKNSLYLQMNSLRAEDTAVYYCARDSGYYDSSGYYYWGQGTLVTVSS', 'll_sum': -25.86807632446289, 'll_mean': -0.21556730568408966}]}\n"
        }
      ],
      "id": "400124ff"
    },
    {
      "cell_type": "code",
      "source": "",
      "metadata": {},
      "execution_count": null,
      "outputs": [],
      "id": "248da1b1"
    },
    {
      "cell_type": "markdown",
      "source": "### ProGen2 BFD90",
      "metadata": {},
      "id": "e86f6dd0"
    },
    {
      "cell_type": "code",
      "source": "import requests\n\nurl = \"https://biolm.ai/api/v1/models/progen2-bfd90/generate/\"\n\nheaders = {\n    \"Content-Type\": \"application/json\",\n    \"Authorization\": f\"Token {BIOLMAI_TOKEN}\",\n}\n\ndata = {\n    \"instances\": [\n        {\n            \"data\": {\n                \"text\": \"M\",\n                 \"t\": 0.7,\n                 \"p\": 0.6,\n                 \"max_length\": 175,\n                 \"num_samples\": 2,\n            }\n        }\n    ]\n}\n\nresponse = requests.post(\n    url=url,\n    headers=headers,\n    json=data,\n)\n\nif response.status_code == 200:\n    print(response.json())\n",
      "metadata": {},
      "execution_count": 4,
      "outputs": [
        {
          "name": "stdout",
          "output_type": "stream",
          "text": "{'generated': [{'text': 'MVVALVVLLVAAVLAALVALRLLRRRRGAPRPRPAPAPAPAPAPAPAPAPAPAPAPAPAPAPAPAPAPAPAPAPAPAPAPAPAPAPAPAPAPAPAPAPAPAPAPAPAPAPAPAPAPAPAPAPAPAPAPAPAPAPAPAPAPAPAPAPAPAPAPAPAPAPAPAPAPAPAPAPAPAPA', 'll_sum': -86.1581802368164, 'll_mean': -0.4951619654893875}, {'text': 'MAEEVLREREAAAAAAAAAAAAAAAAAAAAAAAAAAAAAAAAAAAAAAAAAAAAAAAAAAAAAAAAAAAAAAAAAAAAAAAAAAAAAAAAAAAAAAAAAAAAAAAAAAAAAAAAAAEAAAAAAAAAAAAAAAAAAAAAAAAAAAAAAAAPAAAAAAAAAAAAAAAAAAAAAAAAA', 'll_sum': -160.6978759765625, 'll_mean': -0.923551008105278}]}\n"
        }
      ],
      "id": "014fff92"
    },
    {
      "cell_type": "code",
      "source": "",
      "metadata": {},
      "execution_count": null,
      "outputs": [],
      "id": "6787fc52"
    },
    {
      "cell_type": "markdown",
      "source": "### See more examples, use-cases, and APIs on your [BioLM Console Catalog](https://biolm.ai/console/catalog/).\n<br>\n\n#### BioLM hosts deep learning models and runs inference at scale. You do the science.\n<br>\n\n#### Let us help model your data. We offers professional services in these domains, and more:\n<br>\n\n#### <img src=\"https://d31e6ufxekikrt.cloudfront.net/static/ui/images/console-overview/enzyme_engineering_icon.png\"  style=\"height: 40px; float: left; padding-right: 10px;\"> Enzyme Engineering\n<br>\n\n#### <img src=\"https://d31e6ufxekikrt.cloudfront.net/static/ui/images/console-overview/antibody_engineering_icon.png\"  style=\"height: 40px; float: left; padding-right: 10px;\"> Antibody Engineering\n<br>\n\n#### <img src=\"https://d31e6ufxekikrt.cloudfront.net/static/ui/images/console-overview/biosecurity_icon.png\"  style=\"height: 40px; float: left; padding-right: 10px;\"> Biosecurity\n<br>\n\n#### <img src=\"https://d31e6ufxekikrt.cloudfront.net/static/ui/images/console-overview/single_cell_genomics_icon.png\"  style=\"height: 40px; float: left; padding-right: 10px;\"> Single-Cell Genomics\n<br>\n\n#### <img src=\"https://d31e6ufxekikrt.cloudfront.net/static/ui/images/console-overview/dna_seq_modeling_icon.png\"  style=\"height: 40px; float: left; padding-right: 10px;\"> DNA Sequence Modelling\n<br>\n\n### [**Contact us**](https://biolm.ai/ui/contact-us/) to learn more.\n",
      "metadata": {},
      "id": "a04f63cb"
    },
    {
      "cell_type": "code",
      "source": "",
      "metadata": {},
      "execution_count": null,
      "outputs": [],
      "id": "48ce8513"
    }
  ]
}